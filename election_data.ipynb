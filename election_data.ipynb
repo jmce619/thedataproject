{
 "cells": [
  {
   "cell_type": "code",
   "execution_count": 18,
   "id": "c9d36a25-974a-4e54-b1b3-9fc18279a246",
   "metadata": {},
   "outputs": [
    {
     "name": "stderr",
     "output_type": "stream",
     "text": [
      "C:\\Users\\LSEng\\AppData\\Local\\Temp\\ipykernel_27152\\599841136.py:15: DeprecationWarning: The 'text' argument to find()-type methods is deprecated. Use 'string' instead.\n",
      "  table = soup.find(\"h4\", text=\"General election\").find_next(\"table\")\n",
      "C:\\Users\\LSEng\\AppData\\Local\\Temp\\ipykernel_27152\\599841136.py:16: FutureWarning: Passing literal html to 'read_html' is deprecated and will be removed in a future version. To read from a literal string, wrap it in a 'StringIO' object.\n",
      "  df = pd.read_html(str(table), header=0)[0]\n",
      "C:\\Users\\LSEng\\AppData\\Local\\Temp\\ipykernel_27152\\599841136.py:15: DeprecationWarning: The 'text' argument to find()-type methods is deprecated. Use 'string' instead.\n",
      "  table = soup.find(\"h4\", text=\"General election\").find_next(\"table\")\n",
      "C:\\Users\\LSEng\\AppData\\Local\\Temp\\ipykernel_27152\\599841136.py:16: FutureWarning: Passing literal html to 'read_html' is deprecated and will be removed in a future version. To read from a literal string, wrap it in a 'StringIO' object.\n",
      "  df = pd.read_html(str(table), header=0)[0]\n",
      "C:\\Users\\LSEng\\AppData\\Local\\Temp\\ipykernel_27152\\599841136.py:15: DeprecationWarning: The 'text' argument to find()-type methods is deprecated. Use 'string' instead.\n",
      "  table = soup.find(\"h4\", text=\"General election\").find_next(\"table\")\n",
      "C:\\Users\\LSEng\\AppData\\Local\\Temp\\ipykernel_27152\\599841136.py:16: FutureWarning: Passing literal html to 'read_html' is deprecated and will be removed in a future version. To read from a literal string, wrap it in a 'StringIO' object.\n",
      "  df = pd.read_html(str(table), header=0)[0]\n",
      "C:\\Users\\LSEng\\AppData\\Local\\Temp\\ipykernel_27152\\599841136.py:15: DeprecationWarning: The 'text' argument to find()-type methods is deprecated. Use 'string' instead.\n",
      "  table = soup.find(\"h4\", text=\"General election\").find_next(\"table\")\n",
      "C:\\Users\\LSEng\\AppData\\Local\\Temp\\ipykernel_27152\\599841136.py:16: FutureWarning: Passing literal html to 'read_html' is deprecated and will be removed in a future version. To read from a literal string, wrap it in a 'StringIO' object.\n",
      "  df = pd.read_html(str(table), header=0)[0]\n",
      "C:\\Users\\LSEng\\AppData\\Local\\Temp\\ipykernel_27152\\599841136.py:15: DeprecationWarning: The 'text' argument to find()-type methods is deprecated. Use 'string' instead.\n",
      "  table = soup.find(\"h4\", text=\"General election\").find_next(\"table\")\n",
      "C:\\Users\\LSEng\\AppData\\Local\\Temp\\ipykernel_27152\\599841136.py:16: FutureWarning: Passing literal html to 'read_html' is deprecated and will be removed in a future version. To read from a literal string, wrap it in a 'StringIO' object.\n",
      "  df = pd.read_html(str(table), header=0)[0]\n",
      "C:\\Users\\LSEng\\AppData\\Local\\Temp\\ipykernel_27152\\599841136.py:15: DeprecationWarning: The 'text' argument to find()-type methods is deprecated. Use 'string' instead.\n",
      "  table = soup.find(\"h4\", text=\"General election\").find_next(\"table\")\n",
      "C:\\Users\\LSEng\\AppData\\Local\\Temp\\ipykernel_27152\\599841136.py:16: FutureWarning: Passing literal html to 'read_html' is deprecated and will be removed in a future version. To read from a literal string, wrap it in a 'StringIO' object.\n",
      "  df = pd.read_html(str(table), header=0)[0]\n",
      "C:\\Users\\LSEng\\AppData\\Local\\Temp\\ipykernel_27152\\599841136.py:15: DeprecationWarning: The 'text' argument to find()-type methods is deprecated. Use 'string' instead.\n",
      "  table = soup.find(\"h4\", text=\"General election\").find_next(\"table\")\n",
      "C:\\Users\\LSEng\\AppData\\Local\\Temp\\ipykernel_27152\\599841136.py:16: FutureWarning: Passing literal html to 'read_html' is deprecated and will be removed in a future version. To read from a literal string, wrap it in a 'StringIO' object.\n",
      "  df = pd.read_html(str(table), header=0)[0]\n"
     ]
    },
    {
     "data": {
      "text/html": [
       "<div>\n",
       "<style scoped>\n",
       "    .dataframe tbody tr th:only-of-type {\n",
       "        vertical-align: middle;\n",
       "    }\n",
       "\n",
       "    .dataframe tbody tr th {\n",
       "        vertical-align: top;\n",
       "    }\n",
       "\n",
       "    .dataframe thead th {\n",
       "        text-align: right;\n",
       "    }\n",
       "</style>\n",
       "<table border=\"1\" class=\"dataframe\">\n",
       "  <thead>\n",
       "    <tr style=\"text-align: right;\">\n",
       "      <th></th>\n",
       "      <th>Unnamed: 0</th>\n",
       "      <th>Unnamed: 1</th>\n",
       "      <th>Candidate</th>\n",
       "      <th>%</th>\n",
       "      <th>Votes</th>\n",
       "      <th>District</th>\n",
       "    </tr>\n",
       "  </thead>\n",
       "  <tbody>\n",
       "    <tr>\n",
       "      <th>0</th>\n",
       "      <td>✔</td>\n",
       "      <td>NaN</td>\n",
       "      <td>Barry Moore (R)</td>\n",
       "      <td>78.4</td>\n",
       "      <td>258619</td>\n",
       "      <td>1st</td>\n",
       "    </tr>\n",
       "    <tr>\n",
       "      <th>1</th>\n",
       "      <td>NaN</td>\n",
       "      <td>NaN</td>\n",
       "      <td>Tom Holmes (D)</td>\n",
       "      <td>21.5</td>\n",
       "      <td>70929</td>\n",
       "      <td>1st</td>\n",
       "    </tr>\n",
       "    <tr>\n",
       "      <th>2</th>\n",
       "      <td>NaN</td>\n",
       "      <td>NaN</td>\n",
       "      <td>Other/Write-in votes</td>\n",
       "      <td>0.1</td>\n",
       "      <td>306</td>\n",
       "      <td>1st</td>\n",
       "    </tr>\n",
       "    <tr>\n",
       "      <th>3</th>\n",
       "      <td>✔</td>\n",
       "      <td>NaN</td>\n",
       "      <td>Shomari Figures (D)</td>\n",
       "      <td>54.6</td>\n",
       "      <td>158041</td>\n",
       "      <td>2nd</td>\n",
       "    </tr>\n",
       "    <tr>\n",
       "      <th>4</th>\n",
       "      <td>NaN</td>\n",
       "      <td>NaN</td>\n",
       "      <td>Caroleene Dobson (R)</td>\n",
       "      <td>45.4</td>\n",
       "      <td>131414</td>\n",
       "      <td>2nd</td>\n",
       "    </tr>\n",
       "    <tr>\n",
       "      <th>5</th>\n",
       "      <td>NaN</td>\n",
       "      <td>NaN</td>\n",
       "      <td>Other/Write-in votes</td>\n",
       "      <td>0.1</td>\n",
       "      <td>219</td>\n",
       "      <td>2nd</td>\n",
       "    </tr>\n",
       "    <tr>\n",
       "      <th>6</th>\n",
       "      <td>✔</td>\n",
       "      <td>NaN</td>\n",
       "      <td>Mike Rogers (R)</td>\n",
       "      <td>97.9</td>\n",
       "      <td>243848</td>\n",
       "      <td>3rd</td>\n",
       "    </tr>\n",
       "    <tr>\n",
       "      <th>7</th>\n",
       "      <td>NaN</td>\n",
       "      <td>NaN</td>\n",
       "      <td>Other/Write-in votes</td>\n",
       "      <td>2.1</td>\n",
       "      <td>5160</td>\n",
       "      <td>3rd</td>\n",
       "    </tr>\n",
       "    <tr>\n",
       "      <th>8</th>\n",
       "      <td>✔</td>\n",
       "      <td>NaN</td>\n",
       "      <td>Robert Aderholt (R)</td>\n",
       "      <td>98.8</td>\n",
       "      <td>274498</td>\n",
       "      <td>4th</td>\n",
       "    </tr>\n",
       "    <tr>\n",
       "      <th>9</th>\n",
       "      <td>NaN</td>\n",
       "      <td>NaN</td>\n",
       "      <td>Other/Write-in votes</td>\n",
       "      <td>1.2</td>\n",
       "      <td>3374</td>\n",
       "      <td>4th</td>\n",
       "    </tr>\n",
       "    <tr>\n",
       "      <th>10</th>\n",
       "      <td>✔</td>\n",
       "      <td>NaN</td>\n",
       "      <td>Dale Strong (R)</td>\n",
       "      <td>95.4</td>\n",
       "      <td>250322</td>\n",
       "      <td>5th</td>\n",
       "    </tr>\n",
       "    <tr>\n",
       "      <th>11</th>\n",
       "      <td>NaN</td>\n",
       "      <td>NaN</td>\n",
       "      <td>Other/Write-in votes</td>\n",
       "      <td>4.6</td>\n",
       "      <td>12088</td>\n",
       "      <td>5th</td>\n",
       "    </tr>\n",
       "    <tr>\n",
       "      <th>12</th>\n",
       "      <td>✔</td>\n",
       "      <td>NaN</td>\n",
       "      <td>Gary Palmer (R)</td>\n",
       "      <td>70.3</td>\n",
       "      <td>243741</td>\n",
       "      <td>6th</td>\n",
       "    </tr>\n",
       "    <tr>\n",
       "      <th>13</th>\n",
       "      <td>NaN</td>\n",
       "      <td>NaN</td>\n",
       "      <td>Elizabeth Anderson (D)</td>\n",
       "      <td>29.6</td>\n",
       "      <td>102504</td>\n",
       "      <td>6th</td>\n",
       "    </tr>\n",
       "    <tr>\n",
       "      <th>14</th>\n",
       "      <td>NaN</td>\n",
       "      <td>NaN</td>\n",
       "      <td>Other/Write-in votes</td>\n",
       "      <td>0.1</td>\n",
       "      <td>380</td>\n",
       "      <td>6th</td>\n",
       "    </tr>\n",
       "    <tr>\n",
       "      <th>15</th>\n",
       "      <td>✔</td>\n",
       "      <td>NaN</td>\n",
       "      <td>Terri Sewell (D)</td>\n",
       "      <td>63.7</td>\n",
       "      <td>186723</td>\n",
       "      <td>7th</td>\n",
       "    </tr>\n",
       "    <tr>\n",
       "      <th>16</th>\n",
       "      <td>NaN</td>\n",
       "      <td>NaN</td>\n",
       "      <td>Robin Litaker (R)</td>\n",
       "      <td>36.3</td>\n",
       "      <td>106312</td>\n",
       "      <td>7th</td>\n",
       "    </tr>\n",
       "    <tr>\n",
       "      <th>17</th>\n",
       "      <td>NaN</td>\n",
       "      <td>NaN</td>\n",
       "      <td>Other/Write-in votes</td>\n",
       "      <td>0.1</td>\n",
       "      <td>185</td>\n",
       "      <td>7th</td>\n",
       "    </tr>\n",
       "  </tbody>\n",
       "</table>\n",
       "</div>"
      ],
      "text/plain": [
       "   Unnamed: 0  Unnamed: 1               Candidate     %   Votes District\n",
       "0           ✔         NaN         Barry Moore (R)  78.4  258619      1st\n",
       "1         NaN         NaN          Tom Holmes (D)  21.5   70929      1st\n",
       "2         NaN         NaN    Other/Write-in votes   0.1     306      1st\n",
       "3           ✔         NaN     Shomari Figures (D)  54.6  158041      2nd\n",
       "4         NaN         NaN    Caroleene Dobson (R)  45.4  131414      2nd\n",
       "5         NaN         NaN    Other/Write-in votes   0.1     219      2nd\n",
       "6           ✔         NaN         Mike Rogers (R)  97.9  243848      3rd\n",
       "7         NaN         NaN    Other/Write-in votes   2.1    5160      3rd\n",
       "8           ✔         NaN     Robert Aderholt (R)  98.8  274498      4th\n",
       "9         NaN         NaN    Other/Write-in votes   1.2    3374      4th\n",
       "10          ✔         NaN         Dale Strong (R)  95.4  250322      5th\n",
       "11        NaN         NaN    Other/Write-in votes   4.6   12088      5th\n",
       "12          ✔         NaN         Gary Palmer (R)  70.3  243741      6th\n",
       "13        NaN         NaN  Elizabeth Anderson (D)  29.6  102504      6th\n",
       "14        NaN         NaN    Other/Write-in votes   0.1     380      6th\n",
       "15          ✔         NaN        Terri Sewell (D)  63.7  186723      7th\n",
       "16        NaN         NaN       Robin Litaker (R)  36.3  106312      7th\n",
       "17        NaN         NaN    Other/Write-in votes   0.1     185      7th"
      ]
     },
     "execution_count": 18,
     "metadata": {},
     "output_type": "execute_result"
    }
   ],
   "source": [
    "import requests\n",
    "import pandas as pd\n",
    "from bs4 import BeautifulSoup\n",
    "\n",
    "def scrape_alabama():\n",
    "    districts = [\"1st\",\"2nd\",\"3rd\",\"4th\",\"5th\",\"6th\",\"7th\"]\n",
    "    results = []\n",
    "\n",
    "    for d in districts:\n",
    "        url = f\"https://ballotpedia.org/Alabama%27s_{d}_Congressional_District_election,_2024\"\n",
    "        resp = requests.get(url, timeout=10)\n",
    "        resp.raise_for_status()\n",
    "\n",
    "        soup = BeautifulSoup(resp.text, \"html.parser\")\n",
    "        table = soup.find(\"h4\", text=\"General election\").find_next(\"table\")\n",
    "        df = pd.read_html(str(table), header=0)[0]\n",
    "\n",
    "        # tag with district and collect\n",
    "        df[\"District\"] = d\n",
    "        results.append(df)\n",
    "\n",
    "    # concatenate into one DataFrame\n",
    "    return pd.concat(results, ignore_index=True)\n",
    "\n",
    "# In your Jupyter notebook cell:\n",
    "all_alabama_results = scrape_alabama()\n",
    "all_alabama_results\n"
   ]
  },
  {
   "cell_type": "code",
   "execution_count": 17,
   "id": "cd3c9ed1-b33d-42cd-9968-b31cd3ed0918",
   "metadata": {},
   "outputs": [
    {
     "name": "stderr",
     "output_type": "stream",
     "text": [
      "C:\\Users\\LSEng\\AppData\\Local\\Temp\\ipykernel_27152\\1265306408.py:15: DeprecationWarning: The 'text' argument to find()-type methods is deprecated. Use 'string' instead.\n",
      "  table = soup.find(\"h4\", text=\"General election\").find_next(\"table\")\n",
      "C:\\Users\\LSEng\\AppData\\Local\\Temp\\ipykernel_27152\\1265306408.py:16: FutureWarning: Passing literal html to 'read_html' is deprecated and will be removed in a future version. To read from a literal string, wrap it in a 'StringIO' object.\n",
      "  df = pd.read_html(str(table),header=0)[0]\n"
     ]
    },
    {
     "name": "stdout",
     "output_type": "stream",
     "text": [
      "  Unnamed: 0  Unnamed: 1             Candidate     %   Votes\n",
      "0          ✔         NaN       Barry Moore (R)  78.4  258619\n",
      "1        NaN         NaN        Tom Holmes (D)  21.5   70929\n",
      "2        NaN         NaN  Other/Write-in votes   0.1     306\n"
     ]
    },
    {
     "name": "stderr",
     "output_type": "stream",
     "text": [
      "C:\\Users\\LSEng\\AppData\\Local\\Temp\\ipykernel_27152\\1265306408.py:15: DeprecationWarning: The 'text' argument to find()-type methods is deprecated. Use 'string' instead.\n",
      "  table = soup.find(\"h4\", text=\"General election\").find_next(\"table\")\n",
      "C:\\Users\\LSEng\\AppData\\Local\\Temp\\ipykernel_27152\\1265306408.py:16: FutureWarning: Passing literal html to 'read_html' is deprecated and will be removed in a future version. To read from a literal string, wrap it in a 'StringIO' object.\n",
      "  df = pd.read_html(str(table),header=0)[0]\n"
     ]
    },
    {
     "name": "stdout",
     "output_type": "stream",
     "text": [
      "  Unnamed: 0  Unnamed: 1             Candidate     %   Votes\n",
      "0          ✔         NaN   Shomari Figures (D)  54.6  158041\n",
      "1        NaN         NaN  Caroleene Dobson (R)  45.4  131414\n",
      "2        NaN         NaN  Other/Write-in votes   0.1     219\n"
     ]
    },
    {
     "name": "stderr",
     "output_type": "stream",
     "text": [
      "C:\\Users\\LSEng\\AppData\\Local\\Temp\\ipykernel_27152\\1265306408.py:15: DeprecationWarning: The 'text' argument to find()-type methods is deprecated. Use 'string' instead.\n",
      "  table = soup.find(\"h4\", text=\"General election\").find_next(\"table\")\n",
      "C:\\Users\\LSEng\\AppData\\Local\\Temp\\ipykernel_27152\\1265306408.py:16: FutureWarning: Passing literal html to 'read_html' is deprecated and will be removed in a future version. To read from a literal string, wrap it in a 'StringIO' object.\n",
      "  df = pd.read_html(str(table),header=0)[0]\n"
     ]
    },
    {
     "name": "stdout",
     "output_type": "stream",
     "text": [
      "  Unnamed: 0  Unnamed: 1             Candidate     %   Votes\n",
      "0          ✔         NaN       Mike Rogers (R)  97.9  243848\n",
      "1        NaN         NaN  Other/Write-in votes   2.1    5160\n"
     ]
    },
    {
     "name": "stderr",
     "output_type": "stream",
     "text": [
      "C:\\Users\\LSEng\\AppData\\Local\\Temp\\ipykernel_27152\\1265306408.py:15: DeprecationWarning: The 'text' argument to find()-type methods is deprecated. Use 'string' instead.\n",
      "  table = soup.find(\"h4\", text=\"General election\").find_next(\"table\")\n",
      "C:\\Users\\LSEng\\AppData\\Local\\Temp\\ipykernel_27152\\1265306408.py:16: FutureWarning: Passing literal html to 'read_html' is deprecated and will be removed in a future version. To read from a literal string, wrap it in a 'StringIO' object.\n",
      "  df = pd.read_html(str(table),header=0)[0]\n"
     ]
    },
    {
     "name": "stdout",
     "output_type": "stream",
     "text": [
      "  Unnamed: 0  Unnamed: 1             Candidate     %   Votes\n",
      "0          ✔         NaN   Robert Aderholt (R)  98.8  274498\n",
      "1        NaN         NaN  Other/Write-in votes   1.2    3374\n"
     ]
    },
    {
     "name": "stderr",
     "output_type": "stream",
     "text": [
      "C:\\Users\\LSEng\\AppData\\Local\\Temp\\ipykernel_27152\\1265306408.py:15: DeprecationWarning: The 'text' argument to find()-type methods is deprecated. Use 'string' instead.\n",
      "  table = soup.find(\"h4\", text=\"General election\").find_next(\"table\")\n",
      "C:\\Users\\LSEng\\AppData\\Local\\Temp\\ipykernel_27152\\1265306408.py:16: FutureWarning: Passing literal html to 'read_html' is deprecated and will be removed in a future version. To read from a literal string, wrap it in a 'StringIO' object.\n",
      "  df = pd.read_html(str(table),header=0)[0]\n"
     ]
    },
    {
     "name": "stdout",
     "output_type": "stream",
     "text": [
      "  Unnamed: 0  Unnamed: 1             Candidate     %   Votes\n",
      "0          ✔         NaN       Dale Strong (R)  95.4  250322\n",
      "1        NaN         NaN  Other/Write-in votes   4.6   12088\n"
     ]
    },
    {
     "name": "stderr",
     "output_type": "stream",
     "text": [
      "C:\\Users\\LSEng\\AppData\\Local\\Temp\\ipykernel_27152\\1265306408.py:15: DeprecationWarning: The 'text' argument to find()-type methods is deprecated. Use 'string' instead.\n",
      "  table = soup.find(\"h4\", text=\"General election\").find_next(\"table\")\n",
      "C:\\Users\\LSEng\\AppData\\Local\\Temp\\ipykernel_27152\\1265306408.py:16: FutureWarning: Passing literal html to 'read_html' is deprecated and will be removed in a future version. To read from a literal string, wrap it in a 'StringIO' object.\n",
      "  df = pd.read_html(str(table),header=0)[0]\n"
     ]
    },
    {
     "name": "stdout",
     "output_type": "stream",
     "text": [
      "  Unnamed: 0  Unnamed: 1               Candidate     %   Votes\n",
      "0          ✔         NaN         Gary Palmer (R)  70.3  243741\n",
      "1        NaN         NaN  Elizabeth Anderson (D)  29.6  102504\n",
      "2        NaN         NaN    Other/Write-in votes   0.1     380\n",
      "  Unnamed: 0  Unnamed: 1             Candidate     %   Votes\n",
      "0          ✔         NaN      Terri Sewell (D)  63.7  186723\n",
      "1        NaN         NaN     Robin Litaker (R)  36.3  106312\n",
      "2        NaN         NaN  Other/Write-in votes   0.1     185\n"
     ]
    },
    {
     "name": "stderr",
     "output_type": "stream",
     "text": [
      "C:\\Users\\LSEng\\AppData\\Local\\Temp\\ipykernel_27152\\1265306408.py:15: DeprecationWarning: The 'text' argument to find()-type methods is deprecated. Use 'string' instead.\n",
      "  table = soup.find(\"h4\", text=\"General election\").find_next(\"table\")\n",
      "C:\\Users\\LSEng\\AppData\\Local\\Temp\\ipykernel_27152\\1265306408.py:16: FutureWarning: Passing literal html to 'read_html' is deprecated and will be removed in a future version. To read from a literal string, wrap it in a 'StringIO' object.\n",
      "  df = pd.read_html(str(table),header=0)[0]\n"
     ]
    },
    {
     "data": {
      "text/html": [
       "<div>\n",
       "<style scoped>\n",
       "    .dataframe tbody tr th:only-of-type {\n",
       "        vertical-align: middle;\n",
       "    }\n",
       "\n",
       "    .dataframe tbody tr th {\n",
       "        vertical-align: top;\n",
       "    }\n",
       "\n",
       "    .dataframe thead th {\n",
       "        text-align: right;\n",
       "    }\n",
       "</style>\n",
       "<table border=\"1\" class=\"dataframe\">\n",
       "  <thead>\n",
       "    <tr style=\"text-align: right;\">\n",
       "      <th></th>\n",
       "      <th>Unnamed: 0</th>\n",
       "      <th>Unnamed: 1</th>\n",
       "      <th>Candidate</th>\n",
       "      <th>%</th>\n",
       "      <th>Votes</th>\n",
       "    </tr>\n",
       "  </thead>\n",
       "  <tbody>\n",
       "    <tr>\n",
       "      <th>0</th>\n",
       "      <td>✔</td>\n",
       "      <td>NaN</td>\n",
       "      <td>Terri Sewell (D)</td>\n",
       "      <td>63.7</td>\n",
       "      <td>186723</td>\n",
       "    </tr>\n",
       "    <tr>\n",
       "      <th>1</th>\n",
       "      <td>NaN</td>\n",
       "      <td>NaN</td>\n",
       "      <td>Robin Litaker (R)</td>\n",
       "      <td>36.3</td>\n",
       "      <td>106312</td>\n",
       "    </tr>\n",
       "    <tr>\n",
       "      <th>2</th>\n",
       "      <td>NaN</td>\n",
       "      <td>NaN</td>\n",
       "      <td>Other/Write-in votes</td>\n",
       "      <td>0.1</td>\n",
       "      <td>185</td>\n",
       "    </tr>\n",
       "  </tbody>\n",
       "</table>\n",
       "</div>"
      ],
      "text/plain": [
       "  Unnamed: 0  Unnamed: 1             Candidate     %   Votes\n",
       "0          ✔         NaN      Terri Sewell (D)  63.7  186723\n",
       "1        NaN         NaN     Robin Litaker (R)  36.3  106312\n",
       "2        NaN         NaN  Other/Write-in votes   0.1     185"
      ]
     },
     "execution_count": 17,
     "metadata": {},
     "output_type": "execute_result"
    }
   ],
   "source": [
    "scrape_alabama()\n"
   ]
  },
  {
   "cell_type": "code",
   "execution_count": 29,
   "id": "8e027c1f-9dcf-49a3-9a5f-5759ebbceaf6",
   "metadata": {},
   "outputs": [
    {
     "name": "stdout",
     "output_type": "stream",
     "text": [
      "→ Scraping Alabama 1st: https://ballotpedia.org/Alabama's_1st_Congressional_District_election,_2024\n"
     ]
    },
    {
     "name": "stderr",
     "output_type": "stream",
     "text": [
      "C:\\Users\\LSEng\\AppData\\Local\\Temp\\ipykernel_27152\\1995762019.py:82: DeprecationWarning: The 'text' argument to find()-type methods is deprecated. Use 'string' instead.\n",
      "  header = soup.find(\"h4\", text=\"General election\")\n",
      "C:\\Users\\LSEng\\AppData\\Local\\Temp\\ipykernel_27152\\1995762019.py:87: FutureWarning: Passing literal html to 'read_html' is deprecated and will be removed in a future version. To read from a literal string, wrap it in a 'StringIO' object.\n",
      "  df = pd.read_html(str(table), header=0)[0]\n"
     ]
    },
    {
     "name": "stdout",
     "output_type": "stream",
     "text": [
      "✔ Schema initialized: ('Unnamed: 0', 'Unnamed: 1', 'Candidate', '%', 'Votes')\n",
      "✔ Added Alabama 1st (shape: (3, 9))\n",
      "→ Scraping Alabama 2nd: https://ballotpedia.org/Alabama's_2nd_Congressional_District_election,_2024\n"
     ]
    },
    {
     "name": "stderr",
     "output_type": "stream",
     "text": [
      "C:\\Users\\LSEng\\AppData\\Local\\Temp\\ipykernel_27152\\1995762019.py:82: DeprecationWarning: The 'text' argument to find()-type methods is deprecated. Use 'string' instead.\n",
      "  header = soup.find(\"h4\", text=\"General election\")\n",
      "C:\\Users\\LSEng\\AppData\\Local\\Temp\\ipykernel_27152\\1995762019.py:87: FutureWarning: Passing literal html to 'read_html' is deprecated and will be removed in a future version. To read from a literal string, wrap it in a 'StringIO' object.\n",
      "  df = pd.read_html(str(table), header=0)[0]\n"
     ]
    },
    {
     "name": "stdout",
     "output_type": "stream",
     "text": [
      "✔ Added Alabama 2nd (shape: (3, 9))\n",
      "→ Scraping Alabama 3rd: https://ballotpedia.org/Alabama's_3rd_Congressional_District_election,_2024\n"
     ]
    },
    {
     "name": "stderr",
     "output_type": "stream",
     "text": [
      "C:\\Users\\LSEng\\AppData\\Local\\Temp\\ipykernel_27152\\1995762019.py:82: DeprecationWarning: The 'text' argument to find()-type methods is deprecated. Use 'string' instead.\n",
      "  header = soup.find(\"h4\", text=\"General election\")\n",
      "C:\\Users\\LSEng\\AppData\\Local\\Temp\\ipykernel_27152\\1995762019.py:87: FutureWarning: Passing literal html to 'read_html' is deprecated and will be removed in a future version. To read from a literal string, wrap it in a 'StringIO' object.\n",
      "  df = pd.read_html(str(table), header=0)[0]\n"
     ]
    },
    {
     "name": "stdout",
     "output_type": "stream",
     "text": [
      "✔ Added Alabama 3rd (shape: (2, 9))\n",
      "→ Scraping Alabama 4th: https://ballotpedia.org/Alabama's_4th_Congressional_District_election,_2024\n"
     ]
    },
    {
     "name": "stderr",
     "output_type": "stream",
     "text": [
      "C:\\Users\\LSEng\\AppData\\Local\\Temp\\ipykernel_27152\\1995762019.py:82: DeprecationWarning: The 'text' argument to find()-type methods is deprecated. Use 'string' instead.\n",
      "  header = soup.find(\"h4\", text=\"General election\")\n",
      "C:\\Users\\LSEng\\AppData\\Local\\Temp\\ipykernel_27152\\1995762019.py:87: FutureWarning: Passing literal html to 'read_html' is deprecated and will be removed in a future version. To read from a literal string, wrap it in a 'StringIO' object.\n",
      "  df = pd.read_html(str(table), header=0)[0]\n"
     ]
    },
    {
     "name": "stdout",
     "output_type": "stream",
     "text": [
      "✔ Added Alabama 4th (shape: (2, 9))\n",
      "→ Scraping Alabama 5th: https://ballotpedia.org/Alabama's_5th_Congressional_District_election,_2024\n"
     ]
    },
    {
     "name": "stderr",
     "output_type": "stream",
     "text": [
      "C:\\Users\\LSEng\\AppData\\Local\\Temp\\ipykernel_27152\\1995762019.py:82: DeprecationWarning: The 'text' argument to find()-type methods is deprecated. Use 'string' instead.\n",
      "  header = soup.find(\"h4\", text=\"General election\")\n",
      "C:\\Users\\LSEng\\AppData\\Local\\Temp\\ipykernel_27152\\1995762019.py:87: FutureWarning: Passing literal html to 'read_html' is deprecated and will be removed in a future version. To read from a literal string, wrap it in a 'StringIO' object.\n",
      "  df = pd.read_html(str(table), header=0)[0]\n"
     ]
    },
    {
     "name": "stdout",
     "output_type": "stream",
     "text": [
      "✔ Added Alabama 5th (shape: (2, 9))\n",
      "→ Scraping Alabama 6th: https://ballotpedia.org/Alabama's_6th_Congressional_District_election,_2024\n"
     ]
    },
    {
     "name": "stderr",
     "output_type": "stream",
     "text": [
      "C:\\Users\\LSEng\\AppData\\Local\\Temp\\ipykernel_27152\\1995762019.py:82: DeprecationWarning: The 'text' argument to find()-type methods is deprecated. Use 'string' instead.\n",
      "  header = soup.find(\"h4\", text=\"General election\")\n",
      "C:\\Users\\LSEng\\AppData\\Local\\Temp\\ipykernel_27152\\1995762019.py:87: FutureWarning: Passing literal html to 'read_html' is deprecated and will be removed in a future version. To read from a literal string, wrap it in a 'StringIO' object.\n",
      "  df = pd.read_html(str(table), header=0)[0]\n"
     ]
    },
    {
     "name": "stdout",
     "output_type": "stream",
     "text": [
      "✔ Added Alabama 6th (shape: (3, 9))\n",
      "→ Scraping Alabama 7th: https://ballotpedia.org/Alabama's_7th_Congressional_District_election,_2024\n"
     ]
    },
    {
     "name": "stderr",
     "output_type": "stream",
     "text": [
      "C:\\Users\\LSEng\\AppData\\Local\\Temp\\ipykernel_27152\\1995762019.py:82: DeprecationWarning: The 'text' argument to find()-type methods is deprecated. Use 'string' instead.\n",
      "  header = soup.find(\"h4\", text=\"General election\")\n",
      "C:\\Users\\LSEng\\AppData\\Local\\Temp\\ipykernel_27152\\1995762019.py:87: FutureWarning: Passing literal html to 'read_html' is deprecated and will be removed in a future version. To read from a literal string, wrap it in a 'StringIO' object.\n",
      "  df = pd.read_html(str(table), header=0)[0]\n"
     ]
    },
    {
     "name": "stdout",
     "output_type": "stream",
     "text": [
      "✔ Added Alabama 7th (shape: (3, 9))\n",
      "→ Scraping Alaska At-large: https://ballotpedia.org/Alaska's_At-large_Congressional_District_election,_2024\n"
     ]
    },
    {
     "name": "stderr",
     "output_type": "stream",
     "text": [
      "C:\\Users\\LSEng\\AppData\\Local\\Temp\\ipykernel_27152\\1995762019.py:82: DeprecationWarning: The 'text' argument to find()-type methods is deprecated. Use 'string' instead.\n",
      "  header = soup.find(\"h4\", text=\"General election\")\n",
      "C:\\Users\\LSEng\\AppData\\Local\\Temp\\ipykernel_27152\\1995762019.py:87: FutureWarning: Passing literal html to 'read_html' is deprecated and will be removed in a future version. To read from a literal string, wrap it in a 'StringIO' object.\n",
      "  df = pd.read_html(str(table), header=0)[0]\n"
     ]
    },
    {
     "name": "stdout",
     "output_type": "stream",
     "text": [
      "⚠ Skipped Alaska At-large: No tables found matching pattern '.+'\n",
      "→ Scraping Arizona 1st: https://ballotpedia.org/Arizona's_1st_Congressional_District_election,_2024\n",
      "✔ Added Arizona 1st (shape: (2, 9))\n",
      "→ Scraping Arizona 2nd: https://ballotpedia.org/Arizona's_2nd_Congressional_District_election,_2024\n"
     ]
    },
    {
     "name": "stderr",
     "output_type": "stream",
     "text": [
      "C:\\Users\\LSEng\\AppData\\Local\\Temp\\ipykernel_27152\\1995762019.py:82: DeprecationWarning: The 'text' argument to find()-type methods is deprecated. Use 'string' instead.\n",
      "  header = soup.find(\"h4\", text=\"General election\")\n",
      "C:\\Users\\LSEng\\AppData\\Local\\Temp\\ipykernel_27152\\1995762019.py:87: FutureWarning: Passing literal html to 'read_html' is deprecated and will be removed in a future version. To read from a literal string, wrap it in a 'StringIO' object.\n",
      "  df = pd.read_html(str(table), header=0)[0]\n"
     ]
    },
    {
     "name": "stdout",
     "output_type": "stream",
     "text": [
      "✔ Added Arizona 2nd (shape: (5, 9))\n",
      "→ Scraping Arizona 3rd: https://ballotpedia.org/Arizona's_3rd_Congressional_District_election,_2024\n"
     ]
    },
    {
     "name": "stderr",
     "output_type": "stream",
     "text": [
      "C:\\Users\\LSEng\\AppData\\Local\\Temp\\ipykernel_27152\\1995762019.py:82: DeprecationWarning: The 'text' argument to find()-type methods is deprecated. Use 'string' instead.\n",
      "  header = soup.find(\"h4\", text=\"General election\")\n",
      "C:\\Users\\LSEng\\AppData\\Local\\Temp\\ipykernel_27152\\1995762019.py:87: FutureWarning: Passing literal html to 'read_html' is deprecated and will be removed in a future version. To read from a literal string, wrap it in a 'StringIO' object.\n",
      "  df = pd.read_html(str(table), header=0)[0]\n"
     ]
    },
    {
     "name": "stdout",
     "output_type": "stream",
     "text": [
      "✔ Added Arizona 3rd (shape: (4, 9))\n",
      "→ Scraping Arizona 4th: https://ballotpedia.org/Arizona's_4th_Congressional_District_election,_2024\n"
     ]
    },
    {
     "name": "stderr",
     "output_type": "stream",
     "text": [
      "C:\\Users\\LSEng\\AppData\\Local\\Temp\\ipykernel_27152\\1995762019.py:82: DeprecationWarning: The 'text' argument to find()-type methods is deprecated. Use 'string' instead.\n",
      "  header = soup.find(\"h4\", text=\"General election\")\n",
      "C:\\Users\\LSEng\\AppData\\Local\\Temp\\ipykernel_27152\\1995762019.py:87: FutureWarning: Passing literal html to 'read_html' is deprecated and will be removed in a future version. To read from a literal string, wrap it in a 'StringIO' object.\n",
      "  df = pd.read_html(str(table), header=0)[0]\n"
     ]
    },
    {
     "name": "stdout",
     "output_type": "stream",
     "text": [
      "✔ Added Arizona 4th (shape: (3, 9))\n",
      "→ Scraping Arizona 5th: https://ballotpedia.org/Arizona's_5th_Congressional_District_election,_2024\n"
     ]
    },
    {
     "name": "stderr",
     "output_type": "stream",
     "text": [
      "C:\\Users\\LSEng\\AppData\\Local\\Temp\\ipykernel_27152\\1995762019.py:82: DeprecationWarning: The 'text' argument to find()-type methods is deprecated. Use 'string' instead.\n",
      "  header = soup.find(\"h4\", text=\"General election\")\n",
      "C:\\Users\\LSEng\\AppData\\Local\\Temp\\ipykernel_27152\\1995762019.py:87: FutureWarning: Passing literal html to 'read_html' is deprecated and will be removed in a future version. To read from a literal string, wrap it in a 'StringIO' object.\n",
      "  df = pd.read_html(str(table), header=0)[0]\n"
     ]
    },
    {
     "name": "stdout",
     "output_type": "stream",
     "text": [
      "✔ Added Arizona 5th (shape: (2, 9))\n",
      "→ Scraping Arizona 6th: https://ballotpedia.org/Arizona's_6th_Congressional_District_election,_2024\n"
     ]
    },
    {
     "name": "stderr",
     "output_type": "stream",
     "text": [
      "C:\\Users\\LSEng\\AppData\\Local\\Temp\\ipykernel_27152\\1995762019.py:82: DeprecationWarning: The 'text' argument to find()-type methods is deprecated. Use 'string' instead.\n",
      "  header = soup.find(\"h4\", text=\"General election\")\n",
      "C:\\Users\\LSEng\\AppData\\Local\\Temp\\ipykernel_27152\\1995762019.py:87: FutureWarning: Passing literal html to 'read_html' is deprecated and will be removed in a future version. To read from a literal string, wrap it in a 'StringIO' object.\n",
      "  df = pd.read_html(str(table), header=0)[0]\n"
     ]
    },
    {
     "name": "stdout",
     "output_type": "stream",
     "text": [
      "✔ Added Arizona 6th (shape: (4, 9))\n",
      "→ Scraping Arizona 7th: https://ballotpedia.org/Arizona's_7th_Congressional_District_election,_2024\n"
     ]
    },
    {
     "name": "stderr",
     "output_type": "stream",
     "text": [
      "C:\\Users\\LSEng\\AppData\\Local\\Temp\\ipykernel_27152\\1995762019.py:82: DeprecationWarning: The 'text' argument to find()-type methods is deprecated. Use 'string' instead.\n",
      "  header = soup.find(\"h4\", text=\"General election\")\n",
      "C:\\Users\\LSEng\\AppData\\Local\\Temp\\ipykernel_27152\\1995762019.py:87: FutureWarning: Passing literal html to 'read_html' is deprecated and will be removed in a future version. To read from a literal string, wrap it in a 'StringIO' object.\n",
      "  df = pd.read_html(str(table), header=0)[0]\n"
     ]
    },
    {
     "name": "stdout",
     "output_type": "stream",
     "text": [
      "✔ Added Arizona 7th (shape: (2, 9))\n",
      "→ Scraping Arizona 8th: https://ballotpedia.org/Arizona's_8th_Congressional_District_election,_2024\n"
     ]
    },
    {
     "name": "stderr",
     "output_type": "stream",
     "text": [
      "C:\\Users\\LSEng\\AppData\\Local\\Temp\\ipykernel_27152\\1995762019.py:82: DeprecationWarning: The 'text' argument to find()-type methods is deprecated. Use 'string' instead.\n",
      "  header = soup.find(\"h4\", text=\"General election\")\n",
      "C:\\Users\\LSEng\\AppData\\Local\\Temp\\ipykernel_27152\\1995762019.py:87: FutureWarning: Passing literal html to 'read_html' is deprecated and will be removed in a future version. To read from a literal string, wrap it in a 'StringIO' object.\n",
      "  df = pd.read_html(str(table), header=0)[0]\n"
     ]
    },
    {
     "name": "stdout",
     "output_type": "stream",
     "text": [
      "✔ Added Arizona 8th (shape: (2, 9))\n",
      "→ Scraping Arizona 9th: https://ballotpedia.org/Arizona's_9th_Congressional_District_election,_2024\n"
     ]
    },
    {
     "name": "stderr",
     "output_type": "stream",
     "text": [
      "C:\\Users\\LSEng\\AppData\\Local\\Temp\\ipykernel_27152\\1995762019.py:82: DeprecationWarning: The 'text' argument to find()-type methods is deprecated. Use 'string' instead.\n",
      "  header = soup.find(\"h4\", text=\"General election\")\n",
      "C:\\Users\\LSEng\\AppData\\Local\\Temp\\ipykernel_27152\\1995762019.py:87: FutureWarning: Passing literal html to 'read_html' is deprecated and will be removed in a future version. To read from a literal string, wrap it in a 'StringIO' object.\n",
      "  df = pd.read_html(str(table), header=0)[0]\n"
     ]
    },
    {
     "name": "stdout",
     "output_type": "stream",
     "text": [
      "✔ Added Arizona 9th (shape: (2, 9))\n",
      "→ Scraping Arkansas 1st: https://ballotpedia.org/Arkansas'_1st_Congressional_District_election,_2024\n"
     ]
    },
    {
     "name": "stderr",
     "output_type": "stream",
     "text": [
      "C:\\Users\\LSEng\\AppData\\Local\\Temp\\ipykernel_27152\\1995762019.py:82: DeprecationWarning: The 'text' argument to find()-type methods is deprecated. Use 'string' instead.\n",
      "  header = soup.find(\"h4\", text=\"General election\")\n",
      "C:\\Users\\LSEng\\AppData\\Local\\Temp\\ipykernel_27152\\1995762019.py:87: FutureWarning: Passing literal html to 'read_html' is deprecated and will be removed in a future version. To read from a literal string, wrap it in a 'StringIO' object.\n",
      "  df = pd.read_html(str(table), header=0)[0]\n"
     ]
    },
    {
     "name": "stdout",
     "output_type": "stream",
     "text": [
      "✔ Added Arkansas 1st (shape: (3, 9))\n",
      "→ Scraping Arkansas 2nd: https://ballotpedia.org/Arkansas'_2nd_Congressional_District_election,_2024\n"
     ]
    },
    {
     "name": "stderr",
     "output_type": "stream",
     "text": [
      "C:\\Users\\LSEng\\AppData\\Local\\Temp\\ipykernel_27152\\1995762019.py:82: DeprecationWarning: The 'text' argument to find()-type methods is deprecated. Use 'string' instead.\n",
      "  header = soup.find(\"h4\", text=\"General election\")\n",
      "C:\\Users\\LSEng\\AppData\\Local\\Temp\\ipykernel_27152\\1995762019.py:87: FutureWarning: Passing literal html to 'read_html' is deprecated and will be removed in a future version. To read from a literal string, wrap it in a 'StringIO' object.\n",
      "  df = pd.read_html(str(table), header=0)[0]\n"
     ]
    },
    {
     "name": "stdout",
     "output_type": "stream",
     "text": [
      "✔ Added Arkansas 2nd (shape: (2, 9))\n",
      "→ Scraping Arkansas 3rd: https://ballotpedia.org/Arkansas'_3rd_Congressional_District_election,_2024\n"
     ]
    },
    {
     "name": "stderr",
     "output_type": "stream",
     "text": [
      "C:\\Users\\LSEng\\AppData\\Local\\Temp\\ipykernel_27152\\1995762019.py:82: DeprecationWarning: The 'text' argument to find()-type methods is deprecated. Use 'string' instead.\n",
      "  header = soup.find(\"h4\", text=\"General election\")\n",
      "C:\\Users\\LSEng\\AppData\\Local\\Temp\\ipykernel_27152\\1995762019.py:87: FutureWarning: Passing literal html to 'read_html' is deprecated and will be removed in a future version. To read from a literal string, wrap it in a 'StringIO' object.\n",
      "  df = pd.read_html(str(table), header=0)[0]\n"
     ]
    },
    {
     "name": "stdout",
     "output_type": "stream",
     "text": [
      "✔ Added Arkansas 3rd (shape: (3, 9))\n",
      "→ Scraping Arkansas 4th: https://ballotpedia.org/Arkansas'_4th_Congressional_District_election,_2024\n"
     ]
    },
    {
     "name": "stderr",
     "output_type": "stream",
     "text": [
      "C:\\Users\\LSEng\\AppData\\Local\\Temp\\ipykernel_27152\\1995762019.py:82: DeprecationWarning: The 'text' argument to find()-type methods is deprecated. Use 'string' instead.\n",
      "  header = soup.find(\"h4\", text=\"General election\")\n",
      "C:\\Users\\LSEng\\AppData\\Local\\Temp\\ipykernel_27152\\1995762019.py:87: FutureWarning: Passing literal html to 'read_html' is deprecated and will be removed in a future version. To read from a literal string, wrap it in a 'StringIO' object.\n",
      "  df = pd.read_html(str(table), header=0)[0]\n"
     ]
    },
    {
     "name": "stdout",
     "output_type": "stream",
     "text": [
      "✔ Added Arkansas 4th (shape: (2, 9))\n",
      "→ Scraping California 1st: https://ballotpedia.org/California's_1st_Congressional_District_election,_2024\n"
     ]
    },
    {
     "name": "stderr",
     "output_type": "stream",
     "text": [
      "C:\\Users\\LSEng\\AppData\\Local\\Temp\\ipykernel_27152\\1995762019.py:82: DeprecationWarning: The 'text' argument to find()-type methods is deprecated. Use 'string' instead.\n",
      "  header = soup.find(\"h4\", text=\"General election\")\n",
      "C:\\Users\\LSEng\\AppData\\Local\\Temp\\ipykernel_27152\\1995762019.py:87: FutureWarning: Passing literal html to 'read_html' is deprecated and will be removed in a future version. To read from a literal string, wrap it in a 'StringIO' object.\n",
      "  df = pd.read_html(str(table), header=0)[0]\n"
     ]
    },
    {
     "name": "stdout",
     "output_type": "stream",
     "text": [
      "✔ Added California 1st (shape: (2, 9))\n",
      "→ Scraping California 2nd: https://ballotpedia.org/California's_2nd_Congressional_District_election,_2024\n"
     ]
    },
    {
     "name": "stderr",
     "output_type": "stream",
     "text": [
      "C:\\Users\\LSEng\\AppData\\Local\\Temp\\ipykernel_27152\\1995762019.py:82: DeprecationWarning: The 'text' argument to find()-type methods is deprecated. Use 'string' instead.\n",
      "  header = soup.find(\"h4\", text=\"General election\")\n",
      "C:\\Users\\LSEng\\AppData\\Local\\Temp\\ipykernel_27152\\1995762019.py:87: FutureWarning: Passing literal html to 'read_html' is deprecated and will be removed in a future version. To read from a literal string, wrap it in a 'StringIO' object.\n",
      "  df = pd.read_html(str(table), header=0)[0]\n"
     ]
    },
    {
     "name": "stdout",
     "output_type": "stream",
     "text": [
      "✔ Added California 2nd (shape: (2, 9))\n",
      "→ Scraping California 3rd: https://ballotpedia.org/California's_3rd_Congressional_District_election,_2024\n"
     ]
    },
    {
     "name": "stderr",
     "output_type": "stream",
     "text": [
      "C:\\Users\\LSEng\\AppData\\Local\\Temp\\ipykernel_27152\\1995762019.py:82: DeprecationWarning: The 'text' argument to find()-type methods is deprecated. Use 'string' instead.\n",
      "  header = soup.find(\"h4\", text=\"General election\")\n",
      "C:\\Users\\LSEng\\AppData\\Local\\Temp\\ipykernel_27152\\1995762019.py:87: FutureWarning: Passing literal html to 'read_html' is deprecated and will be removed in a future version. To read from a literal string, wrap it in a 'StringIO' object.\n",
      "  df = pd.read_html(str(table), header=0)[0]\n"
     ]
    },
    {
     "name": "stdout",
     "output_type": "stream",
     "text": [
      "✔ Added California 3rd (shape: (2, 9))\n",
      "→ Scraping California 4th: https://ballotpedia.org/California's_4th_Congressional_District_election,_2024\n"
     ]
    },
    {
     "name": "stderr",
     "output_type": "stream",
     "text": [
      "C:\\Users\\LSEng\\AppData\\Local\\Temp\\ipykernel_27152\\1995762019.py:82: DeprecationWarning: The 'text' argument to find()-type methods is deprecated. Use 'string' instead.\n",
      "  header = soup.find(\"h4\", text=\"General election\")\n",
      "C:\\Users\\LSEng\\AppData\\Local\\Temp\\ipykernel_27152\\1995762019.py:87: FutureWarning: Passing literal html to 'read_html' is deprecated and will be removed in a future version. To read from a literal string, wrap it in a 'StringIO' object.\n",
      "  df = pd.read_html(str(table), header=0)[0]\n"
     ]
    },
    {
     "name": "stdout",
     "output_type": "stream",
     "text": [
      "✔ Added California 4th (shape: (2, 9))\n",
      "→ Scraping California 5th: https://ballotpedia.org/California's_5th_Congressional_District_election,_2024\n"
     ]
    },
    {
     "name": "stderr",
     "output_type": "stream",
     "text": [
      "C:\\Users\\LSEng\\AppData\\Local\\Temp\\ipykernel_27152\\1995762019.py:82: DeprecationWarning: The 'text' argument to find()-type methods is deprecated. Use 'string' instead.\n",
      "  header = soup.find(\"h4\", text=\"General election\")\n",
      "C:\\Users\\LSEng\\AppData\\Local\\Temp\\ipykernel_27152\\1995762019.py:87: FutureWarning: Passing literal html to 'read_html' is deprecated and will be removed in a future version. To read from a literal string, wrap it in a 'StringIO' object.\n",
      "  df = pd.read_html(str(table), header=0)[0]\n"
     ]
    },
    {
     "name": "stdout",
     "output_type": "stream",
     "text": [
      "✔ Added California 5th (shape: (2, 9))\n",
      "→ Scraping California 6th: https://ballotpedia.org/California's_6th_Congressional_District_election,_2024\n"
     ]
    },
    {
     "name": "stderr",
     "output_type": "stream",
     "text": [
      "C:\\Users\\LSEng\\AppData\\Local\\Temp\\ipykernel_27152\\1995762019.py:82: DeprecationWarning: The 'text' argument to find()-type methods is deprecated. Use 'string' instead.\n",
      "  header = soup.find(\"h4\", text=\"General election\")\n",
      "C:\\Users\\LSEng\\AppData\\Local\\Temp\\ipykernel_27152\\1995762019.py:87: FutureWarning: Passing literal html to 'read_html' is deprecated and will be removed in a future version. To read from a literal string, wrap it in a 'StringIO' object.\n",
      "  df = pd.read_html(str(table), header=0)[0]\n"
     ]
    },
    {
     "name": "stdout",
     "output_type": "stream",
     "text": [
      "✔ Added California 6th (shape: (2, 9))\n",
      "→ Scraping California 7th: https://ballotpedia.org/California's_7th_Congressional_District_election,_2024\n"
     ]
    },
    {
     "name": "stderr",
     "output_type": "stream",
     "text": [
      "C:\\Users\\LSEng\\AppData\\Local\\Temp\\ipykernel_27152\\1995762019.py:82: DeprecationWarning: The 'text' argument to find()-type methods is deprecated. Use 'string' instead.\n",
      "  header = soup.find(\"h4\", text=\"General election\")\n",
      "C:\\Users\\LSEng\\AppData\\Local\\Temp\\ipykernel_27152\\1995762019.py:87: FutureWarning: Passing literal html to 'read_html' is deprecated and will be removed in a future version. To read from a literal string, wrap it in a 'StringIO' object.\n",
      "  df = pd.read_html(str(table), header=0)[0]\n"
     ]
    },
    {
     "name": "stdout",
     "output_type": "stream",
     "text": [
      "✔ Added California 7th (shape: (2, 9))\n",
      "→ Scraping California 8th: https://ballotpedia.org/California's_8th_Congressional_District_election,_2024\n"
     ]
    },
    {
     "name": "stderr",
     "output_type": "stream",
     "text": [
      "C:\\Users\\LSEng\\AppData\\Local\\Temp\\ipykernel_27152\\1995762019.py:82: DeprecationWarning: The 'text' argument to find()-type methods is deprecated. Use 'string' instead.\n",
      "  header = soup.find(\"h4\", text=\"General election\")\n",
      "C:\\Users\\LSEng\\AppData\\Local\\Temp\\ipykernel_27152\\1995762019.py:87: FutureWarning: Passing literal html to 'read_html' is deprecated and will be removed in a future version. To read from a literal string, wrap it in a 'StringIO' object.\n",
      "  df = pd.read_html(str(table), header=0)[0]\n"
     ]
    },
    {
     "name": "stdout",
     "output_type": "stream",
     "text": [
      "✔ Added California 8th (shape: (2, 9))\n",
      "→ Scraping California 9th: https://ballotpedia.org/California's_9th_Congressional_District_election,_2024\n"
     ]
    },
    {
     "name": "stderr",
     "output_type": "stream",
     "text": [
      "C:\\Users\\LSEng\\AppData\\Local\\Temp\\ipykernel_27152\\1995762019.py:82: DeprecationWarning: The 'text' argument to find()-type methods is deprecated. Use 'string' instead.\n",
      "  header = soup.find(\"h4\", text=\"General election\")\n",
      "C:\\Users\\LSEng\\AppData\\Local\\Temp\\ipykernel_27152\\1995762019.py:87: FutureWarning: Passing literal html to 'read_html' is deprecated and will be removed in a future version. To read from a literal string, wrap it in a 'StringIO' object.\n",
      "  df = pd.read_html(str(table), header=0)[0]\n"
     ]
    },
    {
     "name": "stdout",
     "output_type": "stream",
     "text": [
      "✔ Added California 9th (shape: (2, 9))\n",
      "→ Scraping California 10th: https://ballotpedia.org/California's_10th_Congressional_District_election,_2024\n"
     ]
    },
    {
     "name": "stderr",
     "output_type": "stream",
     "text": [
      "C:\\Users\\LSEng\\AppData\\Local\\Temp\\ipykernel_27152\\1995762019.py:82: DeprecationWarning: The 'text' argument to find()-type methods is deprecated. Use 'string' instead.\n",
      "  header = soup.find(\"h4\", text=\"General election\")\n",
      "C:\\Users\\LSEng\\AppData\\Local\\Temp\\ipykernel_27152\\1995762019.py:87: FutureWarning: Passing literal html to 'read_html' is deprecated and will be removed in a future version. To read from a literal string, wrap it in a 'StringIO' object.\n",
      "  df = pd.read_html(str(table), header=0)[0]\n"
     ]
    },
    {
     "name": "stdout",
     "output_type": "stream",
     "text": [
      "✔ Added California 10th (shape: (2, 9))\n",
      "→ Scraping California 11th: https://ballotpedia.org/California's_11th_Congressional_District_election,_2024\n"
     ]
    },
    {
     "name": "stderr",
     "output_type": "stream",
     "text": [
      "C:\\Users\\LSEng\\AppData\\Local\\Temp\\ipykernel_27152\\1995762019.py:82: DeprecationWarning: The 'text' argument to find()-type methods is deprecated. Use 'string' instead.\n",
      "  header = soup.find(\"h4\", text=\"General election\")\n",
      "C:\\Users\\LSEng\\AppData\\Local\\Temp\\ipykernel_27152\\1995762019.py:87: FutureWarning: Passing literal html to 'read_html' is deprecated and will be removed in a future version. To read from a literal string, wrap it in a 'StringIO' object.\n",
      "  df = pd.read_html(str(table), header=0)[0]\n"
     ]
    },
    {
     "name": "stdout",
     "output_type": "stream",
     "text": [
      "✔ Added California 11th (shape: (2, 9))\n",
      "→ Scraping California 12th: https://ballotpedia.org/California's_12th_Congressional_District_election,_2024\n"
     ]
    },
    {
     "name": "stderr",
     "output_type": "stream",
     "text": [
      "C:\\Users\\LSEng\\AppData\\Local\\Temp\\ipykernel_27152\\1995762019.py:82: DeprecationWarning: The 'text' argument to find()-type methods is deprecated. Use 'string' instead.\n",
      "  header = soup.find(\"h4\", text=\"General election\")\n",
      "C:\\Users\\LSEng\\AppData\\Local\\Temp\\ipykernel_27152\\1995762019.py:87: FutureWarning: Passing literal html to 'read_html' is deprecated and will be removed in a future version. To read from a literal string, wrap it in a 'StringIO' object.\n",
      "  df = pd.read_html(str(table), header=0)[0]\n"
     ]
    },
    {
     "name": "stdout",
     "output_type": "stream",
     "text": [
      "✔ Added California 12th (shape: (2, 9))\n",
      "→ Scraping California 13th: https://ballotpedia.org/California's_13th_Congressional_District_election,_2024\n"
     ]
    },
    {
     "name": "stderr",
     "output_type": "stream",
     "text": [
      "C:\\Users\\LSEng\\AppData\\Local\\Temp\\ipykernel_27152\\1995762019.py:82: DeprecationWarning: The 'text' argument to find()-type methods is deprecated. Use 'string' instead.\n",
      "  header = soup.find(\"h4\", text=\"General election\")\n",
      "C:\\Users\\LSEng\\AppData\\Local\\Temp\\ipykernel_27152\\1995762019.py:87: FutureWarning: Passing literal html to 'read_html' is deprecated and will be removed in a future version. To read from a literal string, wrap it in a 'StringIO' object.\n",
      "  df = pd.read_html(str(table), header=0)[0]\n"
     ]
    },
    {
     "name": "stdout",
     "output_type": "stream",
     "text": [
      "✔ Added California 13th (shape: (2, 9))\n",
      "→ Scraping California 14th: https://ballotpedia.org/California's_14th_Congressional_District_election,_2024\n"
     ]
    },
    {
     "name": "stderr",
     "output_type": "stream",
     "text": [
      "C:\\Users\\LSEng\\AppData\\Local\\Temp\\ipykernel_27152\\1995762019.py:82: DeprecationWarning: The 'text' argument to find()-type methods is deprecated. Use 'string' instead.\n",
      "  header = soup.find(\"h4\", text=\"General election\")\n",
      "C:\\Users\\LSEng\\AppData\\Local\\Temp\\ipykernel_27152\\1995762019.py:87: FutureWarning: Passing literal html to 'read_html' is deprecated and will be removed in a future version. To read from a literal string, wrap it in a 'StringIO' object.\n",
      "  df = pd.read_html(str(table), header=0)[0]\n"
     ]
    },
    {
     "name": "stdout",
     "output_type": "stream",
     "text": [
      "✔ Added California 14th (shape: (2, 9))\n",
      "→ Scraping California 15th: https://ballotpedia.org/California's_15th_Congressional_District_election,_2024\n"
     ]
    },
    {
     "name": "stderr",
     "output_type": "stream",
     "text": [
      "C:\\Users\\LSEng\\AppData\\Local\\Temp\\ipykernel_27152\\1995762019.py:82: DeprecationWarning: The 'text' argument to find()-type methods is deprecated. Use 'string' instead.\n",
      "  header = soup.find(\"h4\", text=\"General election\")\n",
      "C:\\Users\\LSEng\\AppData\\Local\\Temp\\ipykernel_27152\\1995762019.py:87: FutureWarning: Passing literal html to 'read_html' is deprecated and will be removed in a future version. To read from a literal string, wrap it in a 'StringIO' object.\n",
      "  df = pd.read_html(str(table), header=0)[0]\n"
     ]
    },
    {
     "name": "stdout",
     "output_type": "stream",
     "text": [
      "✔ Added California 15th (shape: (2, 9))\n",
      "→ Scraping California 16th: https://ballotpedia.org/California's_16th_Congressional_District_election,_2024\n"
     ]
    },
    {
     "name": "stderr",
     "output_type": "stream",
     "text": [
      "C:\\Users\\LSEng\\AppData\\Local\\Temp\\ipykernel_27152\\1995762019.py:82: DeprecationWarning: The 'text' argument to find()-type methods is deprecated. Use 'string' instead.\n",
      "  header = soup.find(\"h4\", text=\"General election\")\n",
      "C:\\Users\\LSEng\\AppData\\Local\\Temp\\ipykernel_27152\\1995762019.py:87: FutureWarning: Passing literal html to 'read_html' is deprecated and will be removed in a future version. To read from a literal string, wrap it in a 'StringIO' object.\n",
      "  df = pd.read_html(str(table), header=0)[0]\n"
     ]
    },
    {
     "name": "stdout",
     "output_type": "stream",
     "text": [
      "✔ Added California 16th (shape: (2, 9))\n",
      "→ Scraping California 17th: https://ballotpedia.org/California's_17th_Congressional_District_election,_2024\n"
     ]
    },
    {
     "name": "stderr",
     "output_type": "stream",
     "text": [
      "C:\\Users\\LSEng\\AppData\\Local\\Temp\\ipykernel_27152\\1995762019.py:82: DeprecationWarning: The 'text' argument to find()-type methods is deprecated. Use 'string' instead.\n",
      "  header = soup.find(\"h4\", text=\"General election\")\n",
      "C:\\Users\\LSEng\\AppData\\Local\\Temp\\ipykernel_27152\\1995762019.py:87: FutureWarning: Passing literal html to 'read_html' is deprecated and will be removed in a future version. To read from a literal string, wrap it in a 'StringIO' object.\n",
      "  df = pd.read_html(str(table), header=0)[0]\n"
     ]
    },
    {
     "name": "stdout",
     "output_type": "stream",
     "text": [
      "✔ Added California 17th (shape: (2, 9))\n",
      "→ Scraping California 18th: https://ballotpedia.org/California's_18th_Congressional_District_election,_2024\n"
     ]
    },
    {
     "name": "stderr",
     "output_type": "stream",
     "text": [
      "C:\\Users\\LSEng\\AppData\\Local\\Temp\\ipykernel_27152\\1995762019.py:82: DeprecationWarning: The 'text' argument to find()-type methods is deprecated. Use 'string' instead.\n",
      "  header = soup.find(\"h4\", text=\"General election\")\n",
      "C:\\Users\\LSEng\\AppData\\Local\\Temp\\ipykernel_27152\\1995762019.py:87: FutureWarning: Passing literal html to 'read_html' is deprecated and will be removed in a future version. To read from a literal string, wrap it in a 'StringIO' object.\n",
      "  df = pd.read_html(str(table), header=0)[0]\n"
     ]
    },
    {
     "name": "stdout",
     "output_type": "stream",
     "text": [
      "✔ Added California 18th (shape: (2, 9))\n",
      "→ Scraping California 19th: https://ballotpedia.org/California's_19th_Congressional_District_election,_2024\n"
     ]
    },
    {
     "name": "stderr",
     "output_type": "stream",
     "text": [
      "C:\\Users\\LSEng\\AppData\\Local\\Temp\\ipykernel_27152\\1995762019.py:82: DeprecationWarning: The 'text' argument to find()-type methods is deprecated. Use 'string' instead.\n",
      "  header = soup.find(\"h4\", text=\"General election\")\n",
      "C:\\Users\\LSEng\\AppData\\Local\\Temp\\ipykernel_27152\\1995762019.py:87: FutureWarning: Passing literal html to 'read_html' is deprecated and will be removed in a future version. To read from a literal string, wrap it in a 'StringIO' object.\n",
      "  df = pd.read_html(str(table), header=0)[0]\n"
     ]
    },
    {
     "name": "stdout",
     "output_type": "stream",
     "text": [
      "✔ Added California 19th (shape: (2, 9))\n",
      "→ Scraping California 20th: https://ballotpedia.org/California's_20th_Congressional_District_election,_2024\n"
     ]
    },
    {
     "name": "stderr",
     "output_type": "stream",
     "text": [
      "C:\\Users\\LSEng\\AppData\\Local\\Temp\\ipykernel_27152\\1995762019.py:82: DeprecationWarning: The 'text' argument to find()-type methods is deprecated. Use 'string' instead.\n",
      "  header = soup.find(\"h4\", text=\"General election\")\n",
      "C:\\Users\\LSEng\\AppData\\Local\\Temp\\ipykernel_27152\\1995762019.py:87: FutureWarning: Passing literal html to 'read_html' is deprecated and will be removed in a future version. To read from a literal string, wrap it in a 'StringIO' object.\n",
      "  df = pd.read_html(str(table), header=0)[0]\n"
     ]
    },
    {
     "name": "stdout",
     "output_type": "stream",
     "text": [
      "✔ Added California 20th (shape: (2, 9))\n",
      "→ Scraping California 21st: https://ballotpedia.org/California's_21st_Congressional_District_election,_2024\n"
     ]
    },
    {
     "name": "stderr",
     "output_type": "stream",
     "text": [
      "C:\\Users\\LSEng\\AppData\\Local\\Temp\\ipykernel_27152\\1995762019.py:82: DeprecationWarning: The 'text' argument to find()-type methods is deprecated. Use 'string' instead.\n",
      "  header = soup.find(\"h4\", text=\"General election\")\n",
      "C:\\Users\\LSEng\\AppData\\Local\\Temp\\ipykernel_27152\\1995762019.py:87: FutureWarning: Passing literal html to 'read_html' is deprecated and will be removed in a future version. To read from a literal string, wrap it in a 'StringIO' object.\n",
      "  df = pd.read_html(str(table), header=0)[0]\n"
     ]
    },
    {
     "name": "stdout",
     "output_type": "stream",
     "text": [
      "✔ Added California 21st (shape: (2, 9))\n",
      "→ Scraping California 22nd: https://ballotpedia.org/California's_22nd_Congressional_District_election,_2024\n",
      "⚠ Skipped California 22nd: HTTPSConnectionPool(host='ballotpedia.org', port=443): Read timed out. (read timeout=10)\n",
      "→ Scraping California 23rd: https://ballotpedia.org/California's_23rd_Congressional_District_election,_2024\n"
     ]
    },
    {
     "name": "stderr",
     "output_type": "stream",
     "text": [
      "C:\\Users\\LSEng\\AppData\\Local\\Temp\\ipykernel_27152\\1995762019.py:82: DeprecationWarning: The 'text' argument to find()-type methods is deprecated. Use 'string' instead.\n",
      "  header = soup.find(\"h4\", text=\"General election\")\n",
      "C:\\Users\\LSEng\\AppData\\Local\\Temp\\ipykernel_27152\\1995762019.py:87: FutureWarning: Passing literal html to 'read_html' is deprecated and will be removed in a future version. To read from a literal string, wrap it in a 'StringIO' object.\n",
      "  df = pd.read_html(str(table), header=0)[0]\n"
     ]
    },
    {
     "name": "stdout",
     "output_type": "stream",
     "text": [
      "✔ Added California 23rd (shape: (2, 9))\n",
      "→ Scraping California 24th: https://ballotpedia.org/California's_24th_Congressional_District_election,_2024\n"
     ]
    },
    {
     "name": "stderr",
     "output_type": "stream",
     "text": [
      "C:\\Users\\LSEng\\AppData\\Local\\Temp\\ipykernel_27152\\1995762019.py:82: DeprecationWarning: The 'text' argument to find()-type methods is deprecated. Use 'string' instead.\n",
      "  header = soup.find(\"h4\", text=\"General election\")\n",
      "C:\\Users\\LSEng\\AppData\\Local\\Temp\\ipykernel_27152\\1995762019.py:87: FutureWarning: Passing literal html to 'read_html' is deprecated and will be removed in a future version. To read from a literal string, wrap it in a 'StringIO' object.\n",
      "  df = pd.read_html(str(table), header=0)[0]\n"
     ]
    },
    {
     "name": "stdout",
     "output_type": "stream",
     "text": [
      "✔ Added California 24th (shape: (2, 9))\n",
      "→ Scraping California 25th: https://ballotpedia.org/California's_25th_Congressional_District_election,_2024\n"
     ]
    },
    {
     "name": "stderr",
     "output_type": "stream",
     "text": [
      "C:\\Users\\LSEng\\AppData\\Local\\Temp\\ipykernel_27152\\1995762019.py:82: DeprecationWarning: The 'text' argument to find()-type methods is deprecated. Use 'string' instead.\n",
      "  header = soup.find(\"h4\", text=\"General election\")\n",
      "C:\\Users\\LSEng\\AppData\\Local\\Temp\\ipykernel_27152\\1995762019.py:87: FutureWarning: Passing literal html to 'read_html' is deprecated and will be removed in a future version. To read from a literal string, wrap it in a 'StringIO' object.\n",
      "  df = pd.read_html(str(table), header=0)[0]\n"
     ]
    },
    {
     "name": "stdout",
     "output_type": "stream",
     "text": [
      "✔ Added California 25th (shape: (2, 9))\n",
      "→ Scraping California 26th: https://ballotpedia.org/California's_26th_Congressional_District_election,_2024\n"
     ]
    },
    {
     "name": "stderr",
     "output_type": "stream",
     "text": [
      "C:\\Users\\LSEng\\AppData\\Local\\Temp\\ipykernel_27152\\1995762019.py:82: DeprecationWarning: The 'text' argument to find()-type methods is deprecated. Use 'string' instead.\n",
      "  header = soup.find(\"h4\", text=\"General election\")\n",
      "C:\\Users\\LSEng\\AppData\\Local\\Temp\\ipykernel_27152\\1995762019.py:87: FutureWarning: Passing literal html to 'read_html' is deprecated and will be removed in a future version. To read from a literal string, wrap it in a 'StringIO' object.\n",
      "  df = pd.read_html(str(table), header=0)[0]\n"
     ]
    },
    {
     "name": "stdout",
     "output_type": "stream",
     "text": [
      "✔ Added California 26th (shape: (2, 9))\n",
      "→ Scraping California 27th: https://ballotpedia.org/California's_27th_Congressional_District_election,_2024\n"
     ]
    },
    {
     "name": "stderr",
     "output_type": "stream",
     "text": [
      "C:\\Users\\LSEng\\AppData\\Local\\Temp\\ipykernel_27152\\1995762019.py:82: DeprecationWarning: The 'text' argument to find()-type methods is deprecated. Use 'string' instead.\n",
      "  header = soup.find(\"h4\", text=\"General election\")\n",
      "C:\\Users\\LSEng\\AppData\\Local\\Temp\\ipykernel_27152\\1995762019.py:87: FutureWarning: Passing literal html to 'read_html' is deprecated and will be removed in a future version. To read from a literal string, wrap it in a 'StringIO' object.\n",
      "  df = pd.read_html(str(table), header=0)[0]\n"
     ]
    },
    {
     "name": "stdout",
     "output_type": "stream",
     "text": [
      "✔ Added California 27th (shape: (2, 9))\n",
      "→ Scraping California 28th: https://ballotpedia.org/California's_28th_Congressional_District_election,_2024\n"
     ]
    },
    {
     "name": "stderr",
     "output_type": "stream",
     "text": [
      "C:\\Users\\LSEng\\AppData\\Local\\Temp\\ipykernel_27152\\1995762019.py:82: DeprecationWarning: The 'text' argument to find()-type methods is deprecated. Use 'string' instead.\n",
      "  header = soup.find(\"h4\", text=\"General election\")\n",
      "C:\\Users\\LSEng\\AppData\\Local\\Temp\\ipykernel_27152\\1995762019.py:87: FutureWarning: Passing literal html to 'read_html' is deprecated and will be removed in a future version. To read from a literal string, wrap it in a 'StringIO' object.\n",
      "  df = pd.read_html(str(table), header=0)[0]\n"
     ]
    },
    {
     "name": "stdout",
     "output_type": "stream",
     "text": [
      "✔ Added California 28th (shape: (2, 9))\n",
      "→ Scraping California 29th: https://ballotpedia.org/California's_29th_Congressional_District_election,_2024\n"
     ]
    },
    {
     "name": "stderr",
     "output_type": "stream",
     "text": [
      "C:\\Users\\LSEng\\AppData\\Local\\Temp\\ipykernel_27152\\1995762019.py:82: DeprecationWarning: The 'text' argument to find()-type methods is deprecated. Use 'string' instead.\n",
      "  header = soup.find(\"h4\", text=\"General election\")\n",
      "C:\\Users\\LSEng\\AppData\\Local\\Temp\\ipykernel_27152\\1995762019.py:87: FutureWarning: Passing literal html to 'read_html' is deprecated and will be removed in a future version. To read from a literal string, wrap it in a 'StringIO' object.\n",
      "  df = pd.read_html(str(table), header=0)[0]\n"
     ]
    },
    {
     "name": "stdout",
     "output_type": "stream",
     "text": [
      "✔ Added California 29th (shape: (2, 9))\n",
      "→ Scraping California 30th: https://ballotpedia.org/California's_30th_Congressional_District_election,_2024\n"
     ]
    },
    {
     "name": "stderr",
     "output_type": "stream",
     "text": [
      "C:\\Users\\LSEng\\AppData\\Local\\Temp\\ipykernel_27152\\1995762019.py:82: DeprecationWarning: The 'text' argument to find()-type methods is deprecated. Use 'string' instead.\n",
      "  header = soup.find(\"h4\", text=\"General election\")\n",
      "C:\\Users\\LSEng\\AppData\\Local\\Temp\\ipykernel_27152\\1995762019.py:87: FutureWarning: Passing literal html to 'read_html' is deprecated and will be removed in a future version. To read from a literal string, wrap it in a 'StringIO' object.\n",
      "  df = pd.read_html(str(table), header=0)[0]\n"
     ]
    },
    {
     "name": "stdout",
     "output_type": "stream",
     "text": [
      "✔ Added California 30th (shape: (2, 9))\n",
      "→ Scraping California 31st: https://ballotpedia.org/California's_31st_Congressional_District_election,_2024\n"
     ]
    },
    {
     "name": "stderr",
     "output_type": "stream",
     "text": [
      "C:\\Users\\LSEng\\AppData\\Local\\Temp\\ipykernel_27152\\1995762019.py:82: DeprecationWarning: The 'text' argument to find()-type methods is deprecated. Use 'string' instead.\n",
      "  header = soup.find(\"h4\", text=\"General election\")\n",
      "C:\\Users\\LSEng\\AppData\\Local\\Temp\\ipykernel_27152\\1995762019.py:87: FutureWarning: Passing literal html to 'read_html' is deprecated and will be removed in a future version. To read from a literal string, wrap it in a 'StringIO' object.\n",
      "  df = pd.read_html(str(table), header=0)[0]\n"
     ]
    },
    {
     "name": "stdout",
     "output_type": "stream",
     "text": [
      "✔ Added California 31st (shape: (2, 9))\n",
      "→ Scraping California 32nd: https://ballotpedia.org/California's_32nd_Congressional_District_election,_2024\n"
     ]
    },
    {
     "name": "stderr",
     "output_type": "stream",
     "text": [
      "C:\\Users\\LSEng\\AppData\\Local\\Temp\\ipykernel_27152\\1995762019.py:82: DeprecationWarning: The 'text' argument to find()-type methods is deprecated. Use 'string' instead.\n",
      "  header = soup.find(\"h4\", text=\"General election\")\n",
      "C:\\Users\\LSEng\\AppData\\Local\\Temp\\ipykernel_27152\\1995762019.py:87: FutureWarning: Passing literal html to 'read_html' is deprecated and will be removed in a future version. To read from a literal string, wrap it in a 'StringIO' object.\n",
      "  df = pd.read_html(str(table), header=0)[0]\n"
     ]
    },
    {
     "name": "stdout",
     "output_type": "stream",
     "text": [
      "✔ Added California 32nd (shape: (2, 9))\n",
      "→ Scraping California 33rd: https://ballotpedia.org/California's_33rd_Congressional_District_election,_2024\n"
     ]
    },
    {
     "name": "stderr",
     "output_type": "stream",
     "text": [
      "C:\\Users\\LSEng\\AppData\\Local\\Temp\\ipykernel_27152\\1995762019.py:82: DeprecationWarning: The 'text' argument to find()-type methods is deprecated. Use 'string' instead.\n",
      "  header = soup.find(\"h4\", text=\"General election\")\n",
      "C:\\Users\\LSEng\\AppData\\Local\\Temp\\ipykernel_27152\\1995762019.py:87: FutureWarning: Passing literal html to 'read_html' is deprecated and will be removed in a future version. To read from a literal string, wrap it in a 'StringIO' object.\n",
      "  df = pd.read_html(str(table), header=0)[0]\n"
     ]
    },
    {
     "name": "stdout",
     "output_type": "stream",
     "text": [
      "✔ Added California 33rd (shape: (2, 9))\n",
      "→ Scraping California 34th: https://ballotpedia.org/California's_34th_Congressional_District_election,_2024\n"
     ]
    },
    {
     "name": "stderr",
     "output_type": "stream",
     "text": [
      "C:\\Users\\LSEng\\AppData\\Local\\Temp\\ipykernel_27152\\1995762019.py:82: DeprecationWarning: The 'text' argument to find()-type methods is deprecated. Use 'string' instead.\n",
      "  header = soup.find(\"h4\", text=\"General election\")\n",
      "C:\\Users\\LSEng\\AppData\\Local\\Temp\\ipykernel_27152\\1995762019.py:87: FutureWarning: Passing literal html to 'read_html' is deprecated and will be removed in a future version. To read from a literal string, wrap it in a 'StringIO' object.\n",
      "  df = pd.read_html(str(table), header=0)[0]\n"
     ]
    },
    {
     "name": "stdout",
     "output_type": "stream",
     "text": [
      "✔ Added California 34th (shape: (2, 9))\n",
      "→ Scraping California 35th: https://ballotpedia.org/California's_35th_Congressional_District_election,_2024\n"
     ]
    },
    {
     "name": "stderr",
     "output_type": "stream",
     "text": [
      "C:\\Users\\LSEng\\AppData\\Local\\Temp\\ipykernel_27152\\1995762019.py:82: DeprecationWarning: The 'text' argument to find()-type methods is deprecated. Use 'string' instead.\n",
      "  header = soup.find(\"h4\", text=\"General election\")\n",
      "C:\\Users\\LSEng\\AppData\\Local\\Temp\\ipykernel_27152\\1995762019.py:87: FutureWarning: Passing literal html to 'read_html' is deprecated and will be removed in a future version. To read from a literal string, wrap it in a 'StringIO' object.\n",
      "  df = pd.read_html(str(table), header=0)[0]\n"
     ]
    },
    {
     "name": "stdout",
     "output_type": "stream",
     "text": [
      "✔ Added California 35th (shape: (2, 9))\n",
      "→ Scraping California 36th: https://ballotpedia.org/California's_36th_Congressional_District_election,_2024\n"
     ]
    },
    {
     "name": "stderr",
     "output_type": "stream",
     "text": [
      "C:\\Users\\LSEng\\AppData\\Local\\Temp\\ipykernel_27152\\1995762019.py:82: DeprecationWarning: The 'text' argument to find()-type methods is deprecated. Use 'string' instead.\n",
      "  header = soup.find(\"h4\", text=\"General election\")\n",
      "C:\\Users\\LSEng\\AppData\\Local\\Temp\\ipykernel_27152\\1995762019.py:87: FutureWarning: Passing literal html to 'read_html' is deprecated and will be removed in a future version. To read from a literal string, wrap it in a 'StringIO' object.\n",
      "  df = pd.read_html(str(table), header=0)[0]\n"
     ]
    },
    {
     "name": "stdout",
     "output_type": "stream",
     "text": [
      "✔ Added California 36th (shape: (2, 9))\n",
      "→ Scraping California 37th: https://ballotpedia.org/California's_37th_Congressional_District_election,_2024\n"
     ]
    },
    {
     "name": "stderr",
     "output_type": "stream",
     "text": [
      "C:\\Users\\LSEng\\AppData\\Local\\Temp\\ipykernel_27152\\1995762019.py:82: DeprecationWarning: The 'text' argument to find()-type methods is deprecated. Use 'string' instead.\n",
      "  header = soup.find(\"h4\", text=\"General election\")\n",
      "C:\\Users\\LSEng\\AppData\\Local\\Temp\\ipykernel_27152\\1995762019.py:87: FutureWarning: Passing literal html to 'read_html' is deprecated and will be removed in a future version. To read from a literal string, wrap it in a 'StringIO' object.\n",
      "  df = pd.read_html(str(table), header=0)[0]\n"
     ]
    },
    {
     "name": "stdout",
     "output_type": "stream",
     "text": [
      "✔ Added California 37th (shape: (2, 9))\n",
      "→ Scraping California 38th: https://ballotpedia.org/California's_38th_Congressional_District_election,_2024\n"
     ]
    },
    {
     "name": "stderr",
     "output_type": "stream",
     "text": [
      "C:\\Users\\LSEng\\AppData\\Local\\Temp\\ipykernel_27152\\1995762019.py:82: DeprecationWarning: The 'text' argument to find()-type methods is deprecated. Use 'string' instead.\n",
      "  header = soup.find(\"h4\", text=\"General election\")\n",
      "C:\\Users\\LSEng\\AppData\\Local\\Temp\\ipykernel_27152\\1995762019.py:87: FutureWarning: Passing literal html to 'read_html' is deprecated and will be removed in a future version. To read from a literal string, wrap it in a 'StringIO' object.\n",
      "  df = pd.read_html(str(table), header=0)[0]\n"
     ]
    },
    {
     "name": "stdout",
     "output_type": "stream",
     "text": [
      "✔ Added California 38th (shape: (2, 9))\n",
      "→ Scraping California 39th: https://ballotpedia.org/California's_39th_Congressional_District_election,_2024\n"
     ]
    },
    {
     "name": "stderr",
     "output_type": "stream",
     "text": [
      "C:\\Users\\LSEng\\AppData\\Local\\Temp\\ipykernel_27152\\1995762019.py:82: DeprecationWarning: The 'text' argument to find()-type methods is deprecated. Use 'string' instead.\n",
      "  header = soup.find(\"h4\", text=\"General election\")\n",
      "C:\\Users\\LSEng\\AppData\\Local\\Temp\\ipykernel_27152\\1995762019.py:87: FutureWarning: Passing literal html to 'read_html' is deprecated and will be removed in a future version. To read from a literal string, wrap it in a 'StringIO' object.\n",
      "  df = pd.read_html(str(table), header=0)[0]\n"
     ]
    },
    {
     "name": "stdout",
     "output_type": "stream",
     "text": [
      "✔ Added California 39th (shape: (2, 9))\n",
      "→ Scraping California 40th: https://ballotpedia.org/California's_40th_Congressional_District_election,_2024\n"
     ]
    },
    {
     "name": "stderr",
     "output_type": "stream",
     "text": [
      "C:\\Users\\LSEng\\AppData\\Local\\Temp\\ipykernel_27152\\1995762019.py:82: DeprecationWarning: The 'text' argument to find()-type methods is deprecated. Use 'string' instead.\n",
      "  header = soup.find(\"h4\", text=\"General election\")\n",
      "C:\\Users\\LSEng\\AppData\\Local\\Temp\\ipykernel_27152\\1995762019.py:87: FutureWarning: Passing literal html to 'read_html' is deprecated and will be removed in a future version. To read from a literal string, wrap it in a 'StringIO' object.\n",
      "  df = pd.read_html(str(table), header=0)[0]\n"
     ]
    },
    {
     "name": "stdout",
     "output_type": "stream",
     "text": [
      "✔ Added California 40th (shape: (2, 9))\n",
      "→ Scraping California 41st: https://ballotpedia.org/California's_41st_Congressional_District_election,_2024\n",
      "⚠ Skipped California 41st: HTTPSConnectionPool(host='ballotpedia.org', port=443): Read timed out. (read timeout=10)\n",
      "→ Scraping California 42nd: https://ballotpedia.org/California's_42nd_Congressional_District_election,_2024\n"
     ]
    },
    {
     "name": "stderr",
     "output_type": "stream",
     "text": [
      "C:\\Users\\LSEng\\AppData\\Local\\Temp\\ipykernel_27152\\1995762019.py:82: DeprecationWarning: The 'text' argument to find()-type methods is deprecated. Use 'string' instead.\n",
      "  header = soup.find(\"h4\", text=\"General election\")\n",
      "C:\\Users\\LSEng\\AppData\\Local\\Temp\\ipykernel_27152\\1995762019.py:87: FutureWarning: Passing literal html to 'read_html' is deprecated and will be removed in a future version. To read from a literal string, wrap it in a 'StringIO' object.\n",
      "  df = pd.read_html(str(table), header=0)[0]\n"
     ]
    },
    {
     "name": "stdout",
     "output_type": "stream",
     "text": [
      "✔ Added California 42nd (shape: (2, 9))\n",
      "→ Scraping California 43rd: https://ballotpedia.org/California's_43rd_Congressional_District_election,_2024\n"
     ]
    },
    {
     "name": "stderr",
     "output_type": "stream",
     "text": [
      "C:\\Users\\LSEng\\AppData\\Local\\Temp\\ipykernel_27152\\1995762019.py:82: DeprecationWarning: The 'text' argument to find()-type methods is deprecated. Use 'string' instead.\n",
      "  header = soup.find(\"h4\", text=\"General election\")\n",
      "C:\\Users\\LSEng\\AppData\\Local\\Temp\\ipykernel_27152\\1995762019.py:87: FutureWarning: Passing literal html to 'read_html' is deprecated and will be removed in a future version. To read from a literal string, wrap it in a 'StringIO' object.\n",
      "  df = pd.read_html(str(table), header=0)[0]\n"
     ]
    },
    {
     "name": "stdout",
     "output_type": "stream",
     "text": [
      "✔ Added California 43rd (shape: (2, 9))\n",
      "→ Scraping California 44th: https://ballotpedia.org/California's_44th_Congressional_District_election,_2024\n"
     ]
    },
    {
     "name": "stderr",
     "output_type": "stream",
     "text": [
      "C:\\Users\\LSEng\\AppData\\Local\\Temp\\ipykernel_27152\\1995762019.py:82: DeprecationWarning: The 'text' argument to find()-type methods is deprecated. Use 'string' instead.\n",
      "  header = soup.find(\"h4\", text=\"General election\")\n",
      "C:\\Users\\LSEng\\AppData\\Local\\Temp\\ipykernel_27152\\1995762019.py:87: FutureWarning: Passing literal html to 'read_html' is deprecated and will be removed in a future version. To read from a literal string, wrap it in a 'StringIO' object.\n",
      "  df = pd.read_html(str(table), header=0)[0]\n"
     ]
    },
    {
     "name": "stdout",
     "output_type": "stream",
     "text": [
      "✔ Added California 44th (shape: (2, 9))\n",
      "→ Scraping California 45th: https://ballotpedia.org/California's_45th_Congressional_District_election,_2024\n"
     ]
    },
    {
     "name": "stderr",
     "output_type": "stream",
     "text": [
      "C:\\Users\\LSEng\\AppData\\Local\\Temp\\ipykernel_27152\\1995762019.py:82: DeprecationWarning: The 'text' argument to find()-type methods is deprecated. Use 'string' instead.\n",
      "  header = soup.find(\"h4\", text=\"General election\")\n",
      "C:\\Users\\LSEng\\AppData\\Local\\Temp\\ipykernel_27152\\1995762019.py:87: FutureWarning: Passing literal html to 'read_html' is deprecated and will be removed in a future version. To read from a literal string, wrap it in a 'StringIO' object.\n",
      "  df = pd.read_html(str(table), header=0)[0]\n"
     ]
    },
    {
     "name": "stdout",
     "output_type": "stream",
     "text": [
      "✔ Added California 45th (shape: (2, 9))\n",
      "→ Scraping California 46th: https://ballotpedia.org/California's_46th_Congressional_District_election,_2024\n"
     ]
    },
    {
     "name": "stderr",
     "output_type": "stream",
     "text": [
      "C:\\Users\\LSEng\\AppData\\Local\\Temp\\ipykernel_27152\\1995762019.py:82: DeprecationWarning: The 'text' argument to find()-type methods is deprecated. Use 'string' instead.\n",
      "  header = soup.find(\"h4\", text=\"General election\")\n",
      "C:\\Users\\LSEng\\AppData\\Local\\Temp\\ipykernel_27152\\1995762019.py:87: FutureWarning: Passing literal html to 'read_html' is deprecated and will be removed in a future version. To read from a literal string, wrap it in a 'StringIO' object.\n",
      "  df = pd.read_html(str(table), header=0)[0]\n"
     ]
    },
    {
     "name": "stdout",
     "output_type": "stream",
     "text": [
      "✔ Added California 46th (shape: (2, 9))\n",
      "→ Scraping California 47th: https://ballotpedia.org/California's_47th_Congressional_District_election,_2024\n"
     ]
    },
    {
     "name": "stderr",
     "output_type": "stream",
     "text": [
      "C:\\Users\\LSEng\\AppData\\Local\\Temp\\ipykernel_27152\\1995762019.py:82: DeprecationWarning: The 'text' argument to find()-type methods is deprecated. Use 'string' instead.\n",
      "  header = soup.find(\"h4\", text=\"General election\")\n",
      "C:\\Users\\LSEng\\AppData\\Local\\Temp\\ipykernel_27152\\1995762019.py:87: FutureWarning: Passing literal html to 'read_html' is deprecated and will be removed in a future version. To read from a literal string, wrap it in a 'StringIO' object.\n",
      "  df = pd.read_html(str(table), header=0)[0]\n"
     ]
    },
    {
     "name": "stdout",
     "output_type": "stream",
     "text": [
      "✔ Added California 47th (shape: (2, 9))\n",
      "→ Scraping California 48th: https://ballotpedia.org/California's_48th_Congressional_District_election,_2024\n"
     ]
    },
    {
     "name": "stderr",
     "output_type": "stream",
     "text": [
      "C:\\Users\\LSEng\\AppData\\Local\\Temp\\ipykernel_27152\\1995762019.py:82: DeprecationWarning: The 'text' argument to find()-type methods is deprecated. Use 'string' instead.\n",
      "  header = soup.find(\"h4\", text=\"General election\")\n",
      "C:\\Users\\LSEng\\AppData\\Local\\Temp\\ipykernel_27152\\1995762019.py:87: FutureWarning: Passing literal html to 'read_html' is deprecated and will be removed in a future version. To read from a literal string, wrap it in a 'StringIO' object.\n",
      "  df = pd.read_html(str(table), header=0)[0]\n"
     ]
    },
    {
     "name": "stdout",
     "output_type": "stream",
     "text": [
      "✔ Added California 48th (shape: (2, 9))\n",
      "→ Scraping California 49th: https://ballotpedia.org/California's_49th_Congressional_District_election,_2024\n"
     ]
    },
    {
     "name": "stderr",
     "output_type": "stream",
     "text": [
      "C:\\Users\\LSEng\\AppData\\Local\\Temp\\ipykernel_27152\\1995762019.py:82: DeprecationWarning: The 'text' argument to find()-type methods is deprecated. Use 'string' instead.\n",
      "  header = soup.find(\"h4\", text=\"General election\")\n",
      "C:\\Users\\LSEng\\AppData\\Local\\Temp\\ipykernel_27152\\1995762019.py:87: FutureWarning: Passing literal html to 'read_html' is deprecated and will be removed in a future version. To read from a literal string, wrap it in a 'StringIO' object.\n",
      "  df = pd.read_html(str(table), header=0)[0]\n"
     ]
    },
    {
     "name": "stdout",
     "output_type": "stream",
     "text": [
      "✔ Added California 49th (shape: (2, 9))\n",
      "→ Scraping California 50th: https://ballotpedia.org/California's_50th_Congressional_District_election,_2024\n"
     ]
    },
    {
     "name": "stderr",
     "output_type": "stream",
     "text": [
      "C:\\Users\\LSEng\\AppData\\Local\\Temp\\ipykernel_27152\\1995762019.py:82: DeprecationWarning: The 'text' argument to find()-type methods is deprecated. Use 'string' instead.\n",
      "  header = soup.find(\"h4\", text=\"General election\")\n",
      "C:\\Users\\LSEng\\AppData\\Local\\Temp\\ipykernel_27152\\1995762019.py:87: FutureWarning: Passing literal html to 'read_html' is deprecated and will be removed in a future version. To read from a literal string, wrap it in a 'StringIO' object.\n",
      "  df = pd.read_html(str(table), header=0)[0]\n"
     ]
    },
    {
     "name": "stdout",
     "output_type": "stream",
     "text": [
      "✔ Added California 50th (shape: (2, 9))\n",
      "→ Scraping California 51st: https://ballotpedia.org/California's_51st_Congressional_District_election,_2024\n"
     ]
    },
    {
     "name": "stderr",
     "output_type": "stream",
     "text": [
      "C:\\Users\\LSEng\\AppData\\Local\\Temp\\ipykernel_27152\\1995762019.py:82: DeprecationWarning: The 'text' argument to find()-type methods is deprecated. Use 'string' instead.\n",
      "  header = soup.find(\"h4\", text=\"General election\")\n",
      "C:\\Users\\LSEng\\AppData\\Local\\Temp\\ipykernel_27152\\1995762019.py:87: FutureWarning: Passing literal html to 'read_html' is deprecated and will be removed in a future version. To read from a literal string, wrap it in a 'StringIO' object.\n",
      "  df = pd.read_html(str(table), header=0)[0]\n"
     ]
    },
    {
     "name": "stdout",
     "output_type": "stream",
     "text": [
      "✔ Added California 51st (shape: (2, 9))\n",
      "→ Scraping California 52nd: https://ballotpedia.org/California's_52nd_Congressional_District_election,_2024\n"
     ]
    },
    {
     "name": "stderr",
     "output_type": "stream",
     "text": [
      "C:\\Users\\LSEng\\AppData\\Local\\Temp\\ipykernel_27152\\1995762019.py:82: DeprecationWarning: The 'text' argument to find()-type methods is deprecated. Use 'string' instead.\n",
      "  header = soup.find(\"h4\", text=\"General election\")\n",
      "C:\\Users\\LSEng\\AppData\\Local\\Temp\\ipykernel_27152\\1995762019.py:87: FutureWarning: Passing literal html to 'read_html' is deprecated and will be removed in a future version. To read from a literal string, wrap it in a 'StringIO' object.\n",
      "  df = pd.read_html(str(table), header=0)[0]\n"
     ]
    },
    {
     "name": "stdout",
     "output_type": "stream",
     "text": [
      "✔ Added California 52nd (shape: (2, 9))\n",
      "→ Scraping Colorado 1st: https://ballotpedia.org/Colorado's_1st_Congressional_District_election,_2024\n"
     ]
    },
    {
     "name": "stderr",
     "output_type": "stream",
     "text": [
      "C:\\Users\\LSEng\\AppData\\Local\\Temp\\ipykernel_27152\\1995762019.py:82: DeprecationWarning: The 'text' argument to find()-type methods is deprecated. Use 'string' instead.\n",
      "  header = soup.find(\"h4\", text=\"General election\")\n",
      "C:\\Users\\LSEng\\AppData\\Local\\Temp\\ipykernel_27152\\1995762019.py:87: FutureWarning: Passing literal html to 'read_html' is deprecated and will be removed in a future version. To read from a literal string, wrap it in a 'StringIO' object.\n",
      "  df = pd.read_html(str(table), header=0)[0]\n"
     ]
    },
    {
     "name": "stdout",
     "output_type": "stream",
     "text": [
      "✔ Added Colorado 1st (shape: (6, 9))\n",
      "→ Scraping Colorado 2nd: https://ballotpedia.org/Colorado's_2nd_Congressional_District_election,_2024\n"
     ]
    },
    {
     "name": "stderr",
     "output_type": "stream",
     "text": [
      "C:\\Users\\LSEng\\AppData\\Local\\Temp\\ipykernel_27152\\1995762019.py:82: DeprecationWarning: The 'text' argument to find()-type methods is deprecated. Use 'string' instead.\n",
      "  header = soup.find(\"h4\", text=\"General election\")\n",
      "C:\\Users\\LSEng\\AppData\\Local\\Temp\\ipykernel_27152\\1995762019.py:87: FutureWarning: Passing literal html to 'read_html' is deprecated and will be removed in a future version. To read from a literal string, wrap it in a 'StringIO' object.\n",
      "  df = pd.read_html(str(table), header=0)[0]\n"
     ]
    },
    {
     "name": "stdout",
     "output_type": "stream",
     "text": [
      "✔ Added Colorado 2nd (shape: (6, 9))\n",
      "→ Scraping Colorado 3rd: https://ballotpedia.org/Colorado's_3rd_Congressional_District_election,_2024\n"
     ]
    },
    {
     "name": "stderr",
     "output_type": "stream",
     "text": [
      "C:\\Users\\LSEng\\AppData\\Local\\Temp\\ipykernel_27152\\1995762019.py:82: DeprecationWarning: The 'text' argument to find()-type methods is deprecated. Use 'string' instead.\n",
      "  header = soup.find(\"h4\", text=\"General election\")\n",
      "C:\\Users\\LSEng\\AppData\\Local\\Temp\\ipykernel_27152\\1995762019.py:87: FutureWarning: Passing literal html to 'read_html' is deprecated and will be removed in a future version. To read from a literal string, wrap it in a 'StringIO' object.\n",
      "  df = pd.read_html(str(table), header=0)[0]\n"
     ]
    },
    {
     "name": "stdout",
     "output_type": "stream",
     "text": [
      "✔ Added Colorado 3rd (shape: (4, 9))\n",
      "→ Scraping Colorado 4th: https://ballotpedia.org/Colorado's_4th_Congressional_District_election,_2024\n"
     ]
    },
    {
     "name": "stderr",
     "output_type": "stream",
     "text": [
      "C:\\Users\\LSEng\\AppData\\Local\\Temp\\ipykernel_27152\\1995762019.py:82: DeprecationWarning: The 'text' argument to find()-type methods is deprecated. Use 'string' instead.\n",
      "  header = soup.find(\"h4\", text=\"General election\")\n",
      "C:\\Users\\LSEng\\AppData\\Local\\Temp\\ipykernel_27152\\1995762019.py:87: FutureWarning: Passing literal html to 'read_html' is deprecated and will be removed in a future version. To read from a literal string, wrap it in a 'StringIO' object.\n",
      "  df = pd.read_html(str(table), header=0)[0]\n"
     ]
    },
    {
     "name": "stdout",
     "output_type": "stream",
     "text": [
      "✔ Added Colorado 4th (shape: (5, 9))\n",
      "→ Scraping Colorado 5th: https://ballotpedia.org/Colorado's_5th_Congressional_District_election,_2024\n"
     ]
    },
    {
     "name": "stderr",
     "output_type": "stream",
     "text": [
      "C:\\Users\\LSEng\\AppData\\Local\\Temp\\ipykernel_27152\\1995762019.py:82: DeprecationWarning: The 'text' argument to find()-type methods is deprecated. Use 'string' instead.\n",
      "  header = soup.find(\"h4\", text=\"General election\")\n",
      "C:\\Users\\LSEng\\AppData\\Local\\Temp\\ipykernel_27152\\1995762019.py:87: FutureWarning: Passing literal html to 'read_html' is deprecated and will be removed in a future version. To read from a literal string, wrap it in a 'StringIO' object.\n",
      "  df = pd.read_html(str(table), header=0)[0]\n"
     ]
    },
    {
     "name": "stdout",
     "output_type": "stream",
     "text": [
      "✔ Added Colorado 5th (shape: (7, 9))\n",
      "→ Scraping Colorado 6th: https://ballotpedia.org/Colorado's_6th_Congressional_District_election,_2024\n"
     ]
    },
    {
     "name": "stderr",
     "output_type": "stream",
     "text": [
      "C:\\Users\\LSEng\\AppData\\Local\\Temp\\ipykernel_27152\\1995762019.py:82: DeprecationWarning: The 'text' argument to find()-type methods is deprecated. Use 'string' instead.\n",
      "  header = soup.find(\"h4\", text=\"General election\")\n",
      "C:\\Users\\LSEng\\AppData\\Local\\Temp\\ipykernel_27152\\1995762019.py:87: FutureWarning: Passing literal html to 'read_html' is deprecated and will be removed in a future version. To read from a literal string, wrap it in a 'StringIO' object.\n",
      "  df = pd.read_html(str(table), header=0)[0]\n"
     ]
    },
    {
     "name": "stdout",
     "output_type": "stream",
     "text": [
      "✔ Added Colorado 6th (shape: (5, 9))\n",
      "→ Scraping Colorado 7th: https://ballotpedia.org/Colorado's_7th_Congressional_District_election,_2024\n"
     ]
    },
    {
     "name": "stderr",
     "output_type": "stream",
     "text": [
      "C:\\Users\\LSEng\\AppData\\Local\\Temp\\ipykernel_27152\\1995762019.py:82: DeprecationWarning: The 'text' argument to find()-type methods is deprecated. Use 'string' instead.\n",
      "  header = soup.find(\"h4\", text=\"General election\")\n",
      "C:\\Users\\LSEng\\AppData\\Local\\Temp\\ipykernel_27152\\1995762019.py:87: FutureWarning: Passing literal html to 'read_html' is deprecated and will be removed in a future version. To read from a literal string, wrap it in a 'StringIO' object.\n",
      "  df = pd.read_html(str(table), header=0)[0]\n"
     ]
    },
    {
     "name": "stdout",
     "output_type": "stream",
     "text": [
      "✔ Added Colorado 7th (shape: (5, 9))\n",
      "→ Scraping Colorado 8th: https://ballotpedia.org/Colorado's_8th_Congressional_District_election,_2024\n"
     ]
    },
    {
     "name": "stderr",
     "output_type": "stream",
     "text": [
      "C:\\Users\\LSEng\\AppData\\Local\\Temp\\ipykernel_27152\\1995762019.py:82: DeprecationWarning: The 'text' argument to find()-type methods is deprecated. Use 'string' instead.\n",
      "  header = soup.find(\"h4\", text=\"General election\")\n",
      "C:\\Users\\LSEng\\AppData\\Local\\Temp\\ipykernel_27152\\1995762019.py:87: FutureWarning: Passing literal html to 'read_html' is deprecated and will be removed in a future version. To read from a literal string, wrap it in a 'StringIO' object.\n",
      "  df = pd.read_html(str(table), header=0)[0]\n"
     ]
    },
    {
     "name": "stdout",
     "output_type": "stream",
     "text": [
      "✔ Added Colorado 8th (shape: (5, 9))\n",
      "→ Scraping Connecticut 1st: https://ballotpedia.org/Connecticut's_1st_Congressional_District_election,_2024\n"
     ]
    },
    {
     "name": "stderr",
     "output_type": "stream",
     "text": [
      "C:\\Users\\LSEng\\AppData\\Local\\Temp\\ipykernel_27152\\1995762019.py:82: DeprecationWarning: The 'text' argument to find()-type methods is deprecated. Use 'string' instead.\n",
      "  header = soup.find(\"h4\", text=\"General election\")\n",
      "C:\\Users\\LSEng\\AppData\\Local\\Temp\\ipykernel_27152\\1995762019.py:87: FutureWarning: Passing literal html to 'read_html' is deprecated and will be removed in a future version. To read from a literal string, wrap it in a 'StringIO' object.\n",
      "  df = pd.read_html(str(table), header=0)[0]\n"
     ]
    },
    {
     "name": "stdout",
     "output_type": "stream",
     "text": [
      "✔ Added Connecticut 1st (shape: (3, 9))\n",
      "→ Scraping Connecticut 2nd: https://ballotpedia.org/Connecticut's_2nd_Congressional_District_election,_2024\n"
     ]
    },
    {
     "name": "stderr",
     "output_type": "stream",
     "text": [
      "C:\\Users\\LSEng\\AppData\\Local\\Temp\\ipykernel_27152\\1995762019.py:82: DeprecationWarning: The 'text' argument to find()-type methods is deprecated. Use 'string' instead.\n",
      "  header = soup.find(\"h4\", text=\"General election\")\n",
      "C:\\Users\\LSEng\\AppData\\Local\\Temp\\ipykernel_27152\\1995762019.py:87: FutureWarning: Passing literal html to 'read_html' is deprecated and will be removed in a future version. To read from a literal string, wrap it in a 'StringIO' object.\n",
      "  df = pd.read_html(str(table), header=0)[0]\n"
     ]
    },
    {
     "name": "stdout",
     "output_type": "stream",
     "text": [
      "✔ Added Connecticut 2nd (shape: (3, 9))\n",
      "→ Scraping Connecticut 3rd: https://ballotpedia.org/Connecticut's_3rd_Congressional_District_election,_2024\n"
     ]
    },
    {
     "name": "stderr",
     "output_type": "stream",
     "text": [
      "C:\\Users\\LSEng\\AppData\\Local\\Temp\\ipykernel_27152\\1995762019.py:82: DeprecationWarning: The 'text' argument to find()-type methods is deprecated. Use 'string' instead.\n",
      "  header = soup.find(\"h4\", text=\"General election\")\n",
      "C:\\Users\\LSEng\\AppData\\Local\\Temp\\ipykernel_27152\\1995762019.py:87: FutureWarning: Passing literal html to 'read_html' is deprecated and will be removed in a future version. To read from a literal string, wrap it in a 'StringIO' object.\n",
      "  df = pd.read_html(str(table), header=0)[0]\n"
     ]
    },
    {
     "name": "stdout",
     "output_type": "stream",
     "text": [
      "✔ Added Connecticut 3rd (shape: (3, 9))\n",
      "→ Scraping Connecticut 4th: https://ballotpedia.org/Connecticut's_4th_Congressional_District_election,_2024\n"
     ]
    },
    {
     "name": "stderr",
     "output_type": "stream",
     "text": [
      "C:\\Users\\LSEng\\AppData\\Local\\Temp\\ipykernel_27152\\1995762019.py:82: DeprecationWarning: The 'text' argument to find()-type methods is deprecated. Use 'string' instead.\n",
      "  header = soup.find(\"h4\", text=\"General election\")\n",
      "C:\\Users\\LSEng\\AppData\\Local\\Temp\\ipykernel_27152\\1995762019.py:87: FutureWarning: Passing literal html to 'read_html' is deprecated and will be removed in a future version. To read from a literal string, wrap it in a 'StringIO' object.\n",
      "  df = pd.read_html(str(table), header=0)[0]\n"
     ]
    },
    {
     "name": "stdout",
     "output_type": "stream",
     "text": [
      "✔ Added Connecticut 4th (shape: (3, 9))\n",
      "→ Scraping Connecticut 5th: https://ballotpedia.org/Connecticut's_5th_Congressional_District_election,_2024\n"
     ]
    },
    {
     "name": "stderr",
     "output_type": "stream",
     "text": [
      "C:\\Users\\LSEng\\AppData\\Local\\Temp\\ipykernel_27152\\1995762019.py:82: DeprecationWarning: The 'text' argument to find()-type methods is deprecated. Use 'string' instead.\n",
      "  header = soup.find(\"h4\", text=\"General election\")\n",
      "C:\\Users\\LSEng\\AppData\\Local\\Temp\\ipykernel_27152\\1995762019.py:87: FutureWarning: Passing literal html to 'read_html' is deprecated and will be removed in a future version. To read from a literal string, wrap it in a 'StringIO' object.\n",
      "  df = pd.read_html(str(table), header=0)[0]\n"
     ]
    },
    {
     "name": "stdout",
     "output_type": "stream",
     "text": [
      "✔ Added Connecticut 5th (shape: (3, 9))\n",
      "→ Scraping Delaware At-large: https://ballotpedia.org/Delaware's_At-large_Congressional_District_election,_2024\n"
     ]
    },
    {
     "name": "stderr",
     "output_type": "stream",
     "text": [
      "C:\\Users\\LSEng\\AppData\\Local\\Temp\\ipykernel_27152\\1995762019.py:82: DeprecationWarning: The 'text' argument to find()-type methods is deprecated. Use 'string' instead.\n",
      "  header = soup.find(\"h4\", text=\"General election\")\n",
      "C:\\Users\\LSEng\\AppData\\Local\\Temp\\ipykernel_27152\\1995762019.py:87: FutureWarning: Passing literal html to 'read_html' is deprecated and will be removed in a future version. To read from a literal string, wrap it in a 'StringIO' object.\n",
      "  df = pd.read_html(str(table), header=0)[0]\n"
     ]
    },
    {
     "name": "stdout",
     "output_type": "stream",
     "text": [
      "✔ Added Delaware At-large (shape: (2, 9))\n",
      "→ Scraping Florida 1st: https://ballotpedia.org/Florida's_1st_Congressional_District_election,_2024\n"
     ]
    },
    {
     "name": "stderr",
     "output_type": "stream",
     "text": [
      "C:\\Users\\LSEng\\AppData\\Local\\Temp\\ipykernel_27152\\1995762019.py:82: DeprecationWarning: The 'text' argument to find()-type methods is deprecated. Use 'string' instead.\n",
      "  header = soup.find(\"h4\", text=\"General election\")\n",
      "C:\\Users\\LSEng\\AppData\\Local\\Temp\\ipykernel_27152\\1995762019.py:87: FutureWarning: Passing literal html to 'read_html' is deprecated and will be removed in a future version. To read from a literal string, wrap it in a 'StringIO' object.\n",
      "  df = pd.read_html(str(table), header=0)[0]\n"
     ]
    },
    {
     "name": "stdout",
     "output_type": "stream",
     "text": [
      "✔ Added Florida 1st (shape: (2, 9))\n",
      "→ Scraping Florida 2nd: https://ballotpedia.org/Florida's_2nd_Congressional_District_election,_2024\n"
     ]
    },
    {
     "name": "stderr",
     "output_type": "stream",
     "text": [
      "C:\\Users\\LSEng\\AppData\\Local\\Temp\\ipykernel_27152\\1995762019.py:82: DeprecationWarning: The 'text' argument to find()-type methods is deprecated. Use 'string' instead.\n",
      "  header = soup.find(\"h4\", text=\"General election\")\n",
      "C:\\Users\\LSEng\\AppData\\Local\\Temp\\ipykernel_27152\\1995762019.py:87: FutureWarning: Passing literal html to 'read_html' is deprecated and will be removed in a future version. To read from a literal string, wrap it in a 'StringIO' object.\n",
      "  df = pd.read_html(str(table), header=0)[0]\n"
     ]
    },
    {
     "name": "stdout",
     "output_type": "stream",
     "text": [
      "✔ Added Florida 2nd (shape: (2, 9))\n",
      "→ Scraping Florida 3rd: https://ballotpedia.org/Florida's_3rd_Congressional_District_election,_2024\n"
     ]
    },
    {
     "name": "stderr",
     "output_type": "stream",
     "text": [
      "C:\\Users\\LSEng\\AppData\\Local\\Temp\\ipykernel_27152\\1995762019.py:82: DeprecationWarning: The 'text' argument to find()-type methods is deprecated. Use 'string' instead.\n",
      "  header = soup.find(\"h4\", text=\"General election\")\n",
      "C:\\Users\\LSEng\\AppData\\Local\\Temp\\ipykernel_27152\\1995762019.py:87: FutureWarning: Passing literal html to 'read_html' is deprecated and will be removed in a future version. To read from a literal string, wrap it in a 'StringIO' object.\n",
      "  df = pd.read_html(str(table), header=0)[0]\n"
     ]
    },
    {
     "name": "stdout",
     "output_type": "stream",
     "text": [
      "✔ Added Florida 3rd (shape: (2, 9))\n",
      "→ Scraping Florida 4th: https://ballotpedia.org/Florida's_4th_Congressional_District_election,_2024\n"
     ]
    },
    {
     "name": "stderr",
     "output_type": "stream",
     "text": [
      "C:\\Users\\LSEng\\AppData\\Local\\Temp\\ipykernel_27152\\1995762019.py:82: DeprecationWarning: The 'text' argument to find()-type methods is deprecated. Use 'string' instead.\n",
      "  header = soup.find(\"h4\", text=\"General election\")\n",
      "C:\\Users\\LSEng\\AppData\\Local\\Temp\\ipykernel_27152\\1995762019.py:87: FutureWarning: Passing literal html to 'read_html' is deprecated and will be removed in a future version. To read from a literal string, wrap it in a 'StringIO' object.\n",
      "  df = pd.read_html(str(table), header=0)[0]\n"
     ]
    },
    {
     "name": "stdout",
     "output_type": "stream",
     "text": [
      "✔ Added Florida 4th (shape: (3, 9))\n",
      "→ Scraping Florida 5th: https://ballotpedia.org/Florida's_5th_Congressional_District_election,_2024\n"
     ]
    },
    {
     "name": "stderr",
     "output_type": "stream",
     "text": [
      "C:\\Users\\LSEng\\AppData\\Local\\Temp\\ipykernel_27152\\1995762019.py:82: DeprecationWarning: The 'text' argument to find()-type methods is deprecated. Use 'string' instead.\n",
      "  header = soup.find(\"h4\", text=\"General election\")\n",
      "C:\\Users\\LSEng\\AppData\\Local\\Temp\\ipykernel_27152\\1995762019.py:87: FutureWarning: Passing literal html to 'read_html' is deprecated and will be removed in a future version. To read from a literal string, wrap it in a 'StringIO' object.\n",
      "  df = pd.read_html(str(table), header=0)[0]\n"
     ]
    },
    {
     "name": "stdout",
     "output_type": "stream",
     "text": [
      "✔ Added Florida 5th (shape: (3, 9))\n",
      "→ Scraping Florida 6th: https://ballotpedia.org/Florida's_6th_Congressional_District_election,_2024\n"
     ]
    },
    {
     "name": "stderr",
     "output_type": "stream",
     "text": [
      "C:\\Users\\LSEng\\AppData\\Local\\Temp\\ipykernel_27152\\1995762019.py:82: DeprecationWarning: The 'text' argument to find()-type methods is deprecated. Use 'string' instead.\n",
      "  header = soup.find(\"h4\", text=\"General election\")\n",
      "C:\\Users\\LSEng\\AppData\\Local\\Temp\\ipykernel_27152\\1995762019.py:87: FutureWarning: Passing literal html to 'read_html' is deprecated and will be removed in a future version. To read from a literal string, wrap it in a 'StringIO' object.\n",
      "  df = pd.read_html(str(table), header=0)[0]\n"
     ]
    },
    {
     "name": "stdout",
     "output_type": "stream",
     "text": [
      "✔ Added Florida 6th (shape: (3, 9))\n",
      "→ Scraping Florida 7th: https://ballotpedia.org/Florida's_7th_Congressional_District_election,_2024\n"
     ]
    },
    {
     "name": "stderr",
     "output_type": "stream",
     "text": [
      "C:\\Users\\LSEng\\AppData\\Local\\Temp\\ipykernel_27152\\1995762019.py:82: DeprecationWarning: The 'text' argument to find()-type methods is deprecated. Use 'string' instead.\n",
      "  header = soup.find(\"h4\", text=\"General election\")\n",
      "C:\\Users\\LSEng\\AppData\\Local\\Temp\\ipykernel_27152\\1995762019.py:87: FutureWarning: Passing literal html to 'read_html' is deprecated and will be removed in a future version. To read from a literal string, wrap it in a 'StringIO' object.\n",
      "  df = pd.read_html(str(table), header=0)[0]\n"
     ]
    },
    {
     "name": "stdout",
     "output_type": "stream",
     "text": [
      "✔ Added Florida 7th (shape: (2, 9))\n",
      "→ Scraping Florida 8th: https://ballotpedia.org/Florida's_8th_Congressional_District_election,_2024\n"
     ]
    },
    {
     "name": "stderr",
     "output_type": "stream",
     "text": [
      "C:\\Users\\LSEng\\AppData\\Local\\Temp\\ipykernel_27152\\1995762019.py:82: DeprecationWarning: The 'text' argument to find()-type methods is deprecated. Use 'string' instead.\n",
      "  header = soup.find(\"h4\", text=\"General election\")\n",
      "C:\\Users\\LSEng\\AppData\\Local\\Temp\\ipykernel_27152\\1995762019.py:87: FutureWarning: Passing literal html to 'read_html' is deprecated and will be removed in a future version. To read from a literal string, wrap it in a 'StringIO' object.\n",
      "  df = pd.read_html(str(table), header=0)[0]\n"
     ]
    },
    {
     "name": "stdout",
     "output_type": "stream",
     "text": [
      "✔ Added Florida 8th (shape: (2, 9))\n",
      "→ Scraping Florida 9th: https://ballotpedia.org/Florida's_9th_Congressional_District_election,_2024\n"
     ]
    },
    {
     "name": "stderr",
     "output_type": "stream",
     "text": [
      "C:\\Users\\LSEng\\AppData\\Local\\Temp\\ipykernel_27152\\1995762019.py:82: DeprecationWarning: The 'text' argument to find()-type methods is deprecated. Use 'string' instead.\n",
      "  header = soup.find(\"h4\", text=\"General election\")\n",
      "C:\\Users\\LSEng\\AppData\\Local\\Temp\\ipykernel_27152\\1995762019.py:87: FutureWarning: Passing literal html to 'read_html' is deprecated and will be removed in a future version. To read from a literal string, wrap it in a 'StringIO' object.\n",
      "  df = pd.read_html(str(table), header=0)[0]\n"
     ]
    },
    {
     "name": "stdout",
     "output_type": "stream",
     "text": [
      "✔ Added Florida 9th (shape: (3, 9))\n",
      "→ Scraping Florida 10th: https://ballotpedia.org/Florida's_10th_Congressional_District_election,_2024\n"
     ]
    },
    {
     "name": "stderr",
     "output_type": "stream",
     "text": [
      "C:\\Users\\LSEng\\AppData\\Local\\Temp\\ipykernel_27152\\1995762019.py:82: DeprecationWarning: The 'text' argument to find()-type methods is deprecated. Use 'string' instead.\n",
      "  header = soup.find(\"h4\", text=\"General election\")\n",
      "C:\\Users\\LSEng\\AppData\\Local\\Temp\\ipykernel_27152\\1995762019.py:87: FutureWarning: Passing literal html to 'read_html' is deprecated and will be removed in a future version. To read from a literal string, wrap it in a 'StringIO' object.\n",
      "  df = pd.read_html(str(table), header=0)[0]\n"
     ]
    },
    {
     "name": "stdout",
     "output_type": "stream",
     "text": [
      "✔ Added Florida 10th (shape: (2, 9))\n",
      "→ Scraping Florida 11th: https://ballotpedia.org/Florida's_11th_Congressional_District_election,_2024\n"
     ]
    },
    {
     "name": "stderr",
     "output_type": "stream",
     "text": [
      "C:\\Users\\LSEng\\AppData\\Local\\Temp\\ipykernel_27152\\1995762019.py:82: DeprecationWarning: The 'text' argument to find()-type methods is deprecated. Use 'string' instead.\n",
      "  header = soup.find(\"h4\", text=\"General election\")\n",
      "C:\\Users\\LSEng\\AppData\\Local\\Temp\\ipykernel_27152\\1995762019.py:87: FutureWarning: Passing literal html to 'read_html' is deprecated and will be removed in a future version. To read from a literal string, wrap it in a 'StringIO' object.\n",
      "  df = pd.read_html(str(table), header=0)[0]\n"
     ]
    },
    {
     "name": "stdout",
     "output_type": "stream",
     "text": [
      "✔ Added Florida 11th (shape: (2, 9))\n",
      "→ Scraping Florida 12th: https://ballotpedia.org/Florida's_12th_Congressional_District_election,_2024\n"
     ]
    },
    {
     "name": "stderr",
     "output_type": "stream",
     "text": [
      "C:\\Users\\LSEng\\AppData\\Local\\Temp\\ipykernel_27152\\1995762019.py:82: DeprecationWarning: The 'text' argument to find()-type methods is deprecated. Use 'string' instead.\n",
      "  header = soup.find(\"h4\", text=\"General election\")\n",
      "C:\\Users\\LSEng\\AppData\\Local\\Temp\\ipykernel_27152\\1995762019.py:87: FutureWarning: Passing literal html to 'read_html' is deprecated and will be removed in a future version. To read from a literal string, wrap it in a 'StringIO' object.\n",
      "  df = pd.read_html(str(table), header=0)[0]\n"
     ]
    },
    {
     "name": "stdout",
     "output_type": "stream",
     "text": [
      "✔ Added Florida 12th (shape: (2, 9))\n",
      "→ Scraping Florida 13th: https://ballotpedia.org/Florida's_13th_Congressional_District_election,_2024\n"
     ]
    },
    {
     "name": "stderr",
     "output_type": "stream",
     "text": [
      "C:\\Users\\LSEng\\AppData\\Local\\Temp\\ipykernel_27152\\1995762019.py:82: DeprecationWarning: The 'text' argument to find()-type methods is deprecated. Use 'string' instead.\n",
      "  header = soup.find(\"h4\", text=\"General election\")\n",
      "C:\\Users\\LSEng\\AppData\\Local\\Temp\\ipykernel_27152\\1995762019.py:87: FutureWarning: Passing literal html to 'read_html' is deprecated and will be removed in a future version. To read from a literal string, wrap it in a 'StringIO' object.\n",
      "  df = pd.read_html(str(table), header=0)[0]\n"
     ]
    },
    {
     "name": "stdout",
     "output_type": "stream",
     "text": [
      "✔ Added Florida 13th (shape: (3, 9))\n",
      "→ Scraping Florida 14th: https://ballotpedia.org/Florida's_14th_Congressional_District_election,_2024\n"
     ]
    },
    {
     "name": "stderr",
     "output_type": "stream",
     "text": [
      "C:\\Users\\LSEng\\AppData\\Local\\Temp\\ipykernel_27152\\1995762019.py:82: DeprecationWarning: The 'text' argument to find()-type methods is deprecated. Use 'string' instead.\n",
      "  header = soup.find(\"h4\", text=\"General election\")\n",
      "C:\\Users\\LSEng\\AppData\\Local\\Temp\\ipykernel_27152\\1995762019.py:87: FutureWarning: Passing literal html to 'read_html' is deprecated and will be removed in a future version. To read from a literal string, wrap it in a 'StringIO' object.\n",
      "  df = pd.read_html(str(table), header=0)[0]\n"
     ]
    },
    {
     "name": "stdout",
     "output_type": "stream",
     "text": [
      "✔ Added Florida 14th (shape: (4, 9))\n",
      "→ Scraping Florida 15th: https://ballotpedia.org/Florida's_15th_Congressional_District_election,_2024\n"
     ]
    },
    {
     "name": "stderr",
     "output_type": "stream",
     "text": [
      "C:\\Users\\LSEng\\AppData\\Local\\Temp\\ipykernel_27152\\1995762019.py:82: DeprecationWarning: The 'text' argument to find()-type methods is deprecated. Use 'string' instead.\n",
      "  header = soup.find(\"h4\", text=\"General election\")\n",
      "C:\\Users\\LSEng\\AppData\\Local\\Temp\\ipykernel_27152\\1995762019.py:87: FutureWarning: Passing literal html to 'read_html' is deprecated and will be removed in a future version. To read from a literal string, wrap it in a 'StringIO' object.\n",
      "  df = pd.read_html(str(table), header=0)[0]\n"
     ]
    },
    {
     "name": "stdout",
     "output_type": "stream",
     "text": [
      "✔ Added Florida 15th (shape: (2, 9))\n",
      "→ Scraping Florida 16th: https://ballotpedia.org/Florida's_16th_Congressional_District_election,_2024\n"
     ]
    },
    {
     "name": "stderr",
     "output_type": "stream",
     "text": [
      "C:\\Users\\LSEng\\AppData\\Local\\Temp\\ipykernel_27152\\1995762019.py:82: DeprecationWarning: The 'text' argument to find()-type methods is deprecated. Use 'string' instead.\n",
      "  header = soup.find(\"h4\", text=\"General election\")\n",
      "C:\\Users\\LSEng\\AppData\\Local\\Temp\\ipykernel_27152\\1995762019.py:87: FutureWarning: Passing literal html to 'read_html' is deprecated and will be removed in a future version. To read from a literal string, wrap it in a 'StringIO' object.\n",
      "  df = pd.read_html(str(table), header=0)[0]\n"
     ]
    },
    {
     "name": "stdout",
     "output_type": "stream",
     "text": [
      "✔ Added Florida 16th (shape: (2, 9))\n",
      "→ Scraping Florida 17th: https://ballotpedia.org/Florida's_17th_Congressional_District_election,_2024\n"
     ]
    },
    {
     "name": "stderr",
     "output_type": "stream",
     "text": [
      "C:\\Users\\LSEng\\AppData\\Local\\Temp\\ipykernel_27152\\1995762019.py:82: DeprecationWarning: The 'text' argument to find()-type methods is deprecated. Use 'string' instead.\n",
      "  header = soup.find(\"h4\", text=\"General election\")\n",
      "C:\\Users\\LSEng\\AppData\\Local\\Temp\\ipykernel_27152\\1995762019.py:87: FutureWarning: Passing literal html to 'read_html' is deprecated and will be removed in a future version. To read from a literal string, wrap it in a 'StringIO' object.\n",
      "  df = pd.read_html(str(table), header=0)[0]\n"
     ]
    },
    {
     "name": "stdout",
     "output_type": "stream",
     "text": [
      "✔ Added Florida 17th (shape: (3, 9))\n",
      "→ Scraping Florida 18th: https://ballotpedia.org/Florida's_18th_Congressional_District_election,_2024\n"
     ]
    },
    {
     "name": "stderr",
     "output_type": "stream",
     "text": [
      "C:\\Users\\LSEng\\AppData\\Local\\Temp\\ipykernel_27152\\1995762019.py:82: DeprecationWarning: The 'text' argument to find()-type methods is deprecated. Use 'string' instead.\n",
      "  header = soup.find(\"h4\", text=\"General election\")\n",
      "C:\\Users\\LSEng\\AppData\\Local\\Temp\\ipykernel_27152\\1995762019.py:87: FutureWarning: Passing literal html to 'read_html' is deprecated and will be removed in a future version. To read from a literal string, wrap it in a 'StringIO' object.\n",
      "  df = pd.read_html(str(table), header=0)[0]\n"
     ]
    },
    {
     "name": "stdout",
     "output_type": "stream",
     "text": [
      "✔ Added Florida 18th (shape: (2, 9))\n",
      "→ Scraping Florida 19th: https://ballotpedia.org/Florida's_19th_Congressional_District_election,_2024\n"
     ]
    },
    {
     "name": "stderr",
     "output_type": "stream",
     "text": [
      "C:\\Users\\LSEng\\AppData\\Local\\Temp\\ipykernel_27152\\1995762019.py:82: DeprecationWarning: The 'text' argument to find()-type methods is deprecated. Use 'string' instead.\n",
      "  header = soup.find(\"h4\", text=\"General election\")\n",
      "C:\\Users\\LSEng\\AppData\\Local\\Temp\\ipykernel_27152\\1995762019.py:87: FutureWarning: Passing literal html to 'read_html' is deprecated and will be removed in a future version. To read from a literal string, wrap it in a 'StringIO' object.\n",
      "  df = pd.read_html(str(table), header=0)[0]\n"
     ]
    },
    {
     "name": "stdout",
     "output_type": "stream",
     "text": [
      "✔ Added Florida 19th (shape: (2, 9))\n",
      "→ Scraping Florida 20th: https://ballotpedia.org/Florida's_20th_Congressional_District_election,_2024\n"
     ]
    },
    {
     "name": "stderr",
     "output_type": "stream",
     "text": [
      "C:\\Users\\LSEng\\AppData\\Local\\Temp\\ipykernel_27152\\1995762019.py:82: DeprecationWarning: The 'text' argument to find()-type methods is deprecated. Use 'string' instead.\n",
      "  header = soup.find(\"h4\", text=\"General election\")\n",
      "C:\\Users\\LSEng\\AppData\\Local\\Temp\\ipykernel_27152\\1995762019.py:87: FutureWarning: Passing literal html to 'read_html' is deprecated and will be removed in a future version. To read from a literal string, wrap it in a 'StringIO' object.\n",
      "  df = pd.read_html(str(table), header=0)[0]\n"
     ]
    },
    {
     "name": "stdout",
     "output_type": "stream",
     "text": [
      "⚠ Skipped Florida 20th: schema mismatch (got ('Name', 'Party', 'Receipts*', 'Disbursements**', 'Cash on hand', 'Date'))\n",
      "→ Scraping Florida 21st: https://ballotpedia.org/Florida's_21st_Congressional_District_election,_2024\n"
     ]
    },
    {
     "name": "stderr",
     "output_type": "stream",
     "text": [
      "C:\\Users\\LSEng\\AppData\\Local\\Temp\\ipykernel_27152\\1995762019.py:82: DeprecationWarning: The 'text' argument to find()-type methods is deprecated. Use 'string' instead.\n",
      "  header = soup.find(\"h4\", text=\"General election\")\n",
      "C:\\Users\\LSEng\\AppData\\Local\\Temp\\ipykernel_27152\\1995762019.py:87: FutureWarning: Passing literal html to 'read_html' is deprecated and will be removed in a future version. To read from a literal string, wrap it in a 'StringIO' object.\n",
      "  df = pd.read_html(str(table), header=0)[0]\n"
     ]
    },
    {
     "name": "stdout",
     "output_type": "stream",
     "text": [
      "✔ Added Florida 21st (shape: (3, 9))\n",
      "→ Scraping Florida 22nd: https://ballotpedia.org/Florida's_22nd_Congressional_District_election,_2024\n"
     ]
    },
    {
     "name": "stderr",
     "output_type": "stream",
     "text": [
      "C:\\Users\\LSEng\\AppData\\Local\\Temp\\ipykernel_27152\\1995762019.py:82: DeprecationWarning: The 'text' argument to find()-type methods is deprecated. Use 'string' instead.\n",
      "  header = soup.find(\"h4\", text=\"General election\")\n",
      "C:\\Users\\LSEng\\AppData\\Local\\Temp\\ipykernel_27152\\1995762019.py:87: FutureWarning: Passing literal html to 'read_html' is deprecated and will be removed in a future version. To read from a literal string, wrap it in a 'StringIO' object.\n",
      "  df = pd.read_html(str(table), header=0)[0]\n"
     ]
    },
    {
     "name": "stdout",
     "output_type": "stream",
     "text": [
      "✔ Added Florida 22nd (shape: (2, 9))\n",
      "→ Scraping Florida 23rd: https://ballotpedia.org/Florida's_23rd_Congressional_District_election,_2024\n"
     ]
    },
    {
     "name": "stderr",
     "output_type": "stream",
     "text": [
      "C:\\Users\\LSEng\\AppData\\Local\\Temp\\ipykernel_27152\\1995762019.py:82: DeprecationWarning: The 'text' argument to find()-type methods is deprecated. Use 'string' instead.\n",
      "  header = soup.find(\"h4\", text=\"General election\")\n",
      "C:\\Users\\LSEng\\AppData\\Local\\Temp\\ipykernel_27152\\1995762019.py:87: FutureWarning: Passing literal html to 'read_html' is deprecated and will be removed in a future version. To read from a literal string, wrap it in a 'StringIO' object.\n",
      "  df = pd.read_html(str(table), header=0)[0]\n"
     ]
    },
    {
     "name": "stdout",
     "output_type": "stream",
     "text": [
      "✔ Added Florida 23rd (shape: (2, 9))\n",
      "→ Scraping Florida 24th: https://ballotpedia.org/Florida's_24th_Congressional_District_election,_2024\n"
     ]
    },
    {
     "name": "stderr",
     "output_type": "stream",
     "text": [
      "C:\\Users\\LSEng\\AppData\\Local\\Temp\\ipykernel_27152\\1995762019.py:82: DeprecationWarning: The 'text' argument to find()-type methods is deprecated. Use 'string' instead.\n",
      "  header = soup.find(\"h4\", text=\"General election\")\n",
      "C:\\Users\\LSEng\\AppData\\Local\\Temp\\ipykernel_27152\\1995762019.py:87: FutureWarning: Passing literal html to 'read_html' is deprecated and will be removed in a future version. To read from a literal string, wrap it in a 'StringIO' object.\n",
      "  df = pd.read_html(str(table), header=0)[0]\n"
     ]
    },
    {
     "name": "stdout",
     "output_type": "stream",
     "text": [
      "✔ Added Florida 24th (shape: (3, 9))\n",
      "→ Scraping Florida 25th: https://ballotpedia.org/Florida's_25th_Congressional_District_election,_2024\n"
     ]
    },
    {
     "name": "stderr",
     "output_type": "stream",
     "text": [
      "C:\\Users\\LSEng\\AppData\\Local\\Temp\\ipykernel_27152\\1995762019.py:82: DeprecationWarning: The 'text' argument to find()-type methods is deprecated. Use 'string' instead.\n",
      "  header = soup.find(\"h4\", text=\"General election\")\n",
      "C:\\Users\\LSEng\\AppData\\Local\\Temp\\ipykernel_27152\\1995762019.py:87: FutureWarning: Passing literal html to 'read_html' is deprecated and will be removed in a future version. To read from a literal string, wrap it in a 'StringIO' object.\n",
      "  df = pd.read_html(str(table), header=0)[0]\n"
     ]
    },
    {
     "name": "stdout",
     "output_type": "stream",
     "text": [
      "✔ Added Florida 25th (shape: (3, 9))\n",
      "→ Scraping Florida 26th: https://ballotpedia.org/Florida's_26th_Congressional_District_election,_2024\n"
     ]
    },
    {
     "name": "stderr",
     "output_type": "stream",
     "text": [
      "C:\\Users\\LSEng\\AppData\\Local\\Temp\\ipykernel_27152\\1995762019.py:82: DeprecationWarning: The 'text' argument to find()-type methods is deprecated. Use 'string' instead.\n",
      "  header = soup.find(\"h4\", text=\"General election\")\n",
      "C:\\Users\\LSEng\\AppData\\Local\\Temp\\ipykernel_27152\\1995762019.py:87: FutureWarning: Passing literal html to 'read_html' is deprecated and will be removed in a future version. To read from a literal string, wrap it in a 'StringIO' object.\n",
      "  df = pd.read_html(str(table), header=0)[0]\n"
     ]
    },
    {
     "name": "stdout",
     "output_type": "stream",
     "text": [
      "✔ Added Florida 26th (shape: (2, 9))\n",
      "→ Scraping Florida 27th: https://ballotpedia.org/Florida's_27th_Congressional_District_election,_2024\n"
     ]
    },
    {
     "name": "stderr",
     "output_type": "stream",
     "text": [
      "C:\\Users\\LSEng\\AppData\\Local\\Temp\\ipykernel_27152\\1995762019.py:82: DeprecationWarning: The 'text' argument to find()-type methods is deprecated. Use 'string' instead.\n",
      "  header = soup.find(\"h4\", text=\"General election\")\n",
      "C:\\Users\\LSEng\\AppData\\Local\\Temp\\ipykernel_27152\\1995762019.py:87: FutureWarning: Passing literal html to 'read_html' is deprecated and will be removed in a future version. To read from a literal string, wrap it in a 'StringIO' object.\n",
      "  df = pd.read_html(str(table), header=0)[0]\n"
     ]
    },
    {
     "name": "stdout",
     "output_type": "stream",
     "text": [
      "✔ Added Florida 27th (shape: (2, 9))\n",
      "→ Scraping Florida 28th: https://ballotpedia.org/Florida's_28th_Congressional_District_election,_2024\n"
     ]
    },
    {
     "name": "stderr",
     "output_type": "stream",
     "text": [
      "C:\\Users\\LSEng\\AppData\\Local\\Temp\\ipykernel_27152\\1995762019.py:82: DeprecationWarning: The 'text' argument to find()-type methods is deprecated. Use 'string' instead.\n",
      "  header = soup.find(\"h4\", text=\"General election\")\n",
      "C:\\Users\\LSEng\\AppData\\Local\\Temp\\ipykernel_27152\\1995762019.py:87: FutureWarning: Passing literal html to 'read_html' is deprecated and will be removed in a future version. To read from a literal string, wrap it in a 'StringIO' object.\n",
      "  df = pd.read_html(str(table), header=0)[0]\n"
     ]
    },
    {
     "name": "stdout",
     "output_type": "stream",
     "text": [
      "✔ Added Florida 28th (shape: (2, 9))\n",
      "→ Scraping Georgia 1st: https://ballotpedia.org/Georgia's_1st_Congressional_District_election,_2024\n"
     ]
    },
    {
     "name": "stderr",
     "output_type": "stream",
     "text": [
      "C:\\Users\\LSEng\\AppData\\Local\\Temp\\ipykernel_27152\\1995762019.py:82: DeprecationWarning: The 'text' argument to find()-type methods is deprecated. Use 'string' instead.\n",
      "  header = soup.find(\"h4\", text=\"General election\")\n",
      "C:\\Users\\LSEng\\AppData\\Local\\Temp\\ipykernel_27152\\1995762019.py:87: FutureWarning: Passing literal html to 'read_html' is deprecated and will be removed in a future version. To read from a literal string, wrap it in a 'StringIO' object.\n",
      "  df = pd.read_html(str(table), header=0)[0]\n"
     ]
    },
    {
     "name": "stdout",
     "output_type": "stream",
     "text": [
      "✔ Added Georgia 1st (shape: (2, 9))\n",
      "→ Scraping Georgia 2nd: https://ballotpedia.org/Georgia's_2nd_Congressional_District_election,_2024\n"
     ]
    },
    {
     "name": "stderr",
     "output_type": "stream",
     "text": [
      "C:\\Users\\LSEng\\AppData\\Local\\Temp\\ipykernel_27152\\1995762019.py:82: DeprecationWarning: The 'text' argument to find()-type methods is deprecated. Use 'string' instead.\n",
      "  header = soup.find(\"h4\", text=\"General election\")\n",
      "C:\\Users\\LSEng\\AppData\\Local\\Temp\\ipykernel_27152\\1995762019.py:87: FutureWarning: Passing literal html to 'read_html' is deprecated and will be removed in a future version. To read from a literal string, wrap it in a 'StringIO' object.\n",
      "  df = pd.read_html(str(table), header=0)[0]\n"
     ]
    },
    {
     "name": "stdout",
     "output_type": "stream",
     "text": [
      "✔ Added Georgia 2nd (shape: (2, 9))\n",
      "→ Scraping Georgia 3rd: https://ballotpedia.org/Georgia's_3rd_Congressional_District_election,_2024\n"
     ]
    },
    {
     "name": "stderr",
     "output_type": "stream",
     "text": [
      "C:\\Users\\LSEng\\AppData\\Local\\Temp\\ipykernel_27152\\1995762019.py:82: DeprecationWarning: The 'text' argument to find()-type methods is deprecated. Use 'string' instead.\n",
      "  header = soup.find(\"h4\", text=\"General election\")\n",
      "C:\\Users\\LSEng\\AppData\\Local\\Temp\\ipykernel_27152\\1995762019.py:87: FutureWarning: Passing literal html to 'read_html' is deprecated and will be removed in a future version. To read from a literal string, wrap it in a 'StringIO' object.\n",
      "  df = pd.read_html(str(table), header=0)[0]\n"
     ]
    },
    {
     "name": "stdout",
     "output_type": "stream",
     "text": [
      "✔ Added Georgia 3rd (shape: (2, 9))\n",
      "→ Scraping Georgia 4th: https://ballotpedia.org/Georgia's_4th_Congressional_District_election,_2024\n"
     ]
    },
    {
     "name": "stderr",
     "output_type": "stream",
     "text": [
      "C:\\Users\\LSEng\\AppData\\Local\\Temp\\ipykernel_27152\\1995762019.py:82: DeprecationWarning: The 'text' argument to find()-type methods is deprecated. Use 'string' instead.\n",
      "  header = soup.find(\"h4\", text=\"General election\")\n",
      "C:\\Users\\LSEng\\AppData\\Local\\Temp\\ipykernel_27152\\1995762019.py:87: FutureWarning: Passing literal html to 'read_html' is deprecated and will be removed in a future version. To read from a literal string, wrap it in a 'StringIO' object.\n",
      "  df = pd.read_html(str(table), header=0)[0]\n"
     ]
    },
    {
     "name": "stdout",
     "output_type": "stream",
     "text": [
      "✔ Added Georgia 4th (shape: (2, 9))\n",
      "→ Scraping Georgia 5th: https://ballotpedia.org/Georgia's_5th_Congressional_District_election,_2024\n"
     ]
    },
    {
     "name": "stderr",
     "output_type": "stream",
     "text": [
      "C:\\Users\\LSEng\\AppData\\Local\\Temp\\ipykernel_27152\\1995762019.py:82: DeprecationWarning: The 'text' argument to find()-type methods is deprecated. Use 'string' instead.\n",
      "  header = soup.find(\"h4\", text=\"General election\")\n",
      "C:\\Users\\LSEng\\AppData\\Local\\Temp\\ipykernel_27152\\1995762019.py:87: FutureWarning: Passing literal html to 'read_html' is deprecated and will be removed in a future version. To read from a literal string, wrap it in a 'StringIO' object.\n",
      "  df = pd.read_html(str(table), header=0)[0]\n"
     ]
    },
    {
     "name": "stdout",
     "output_type": "stream",
     "text": [
      "✔ Added Georgia 5th (shape: (2, 9))\n",
      "→ Scraping Georgia 6th: https://ballotpedia.org/Georgia's_6th_Congressional_District_election,_2024\n"
     ]
    },
    {
     "name": "stderr",
     "output_type": "stream",
     "text": [
      "C:\\Users\\LSEng\\AppData\\Local\\Temp\\ipykernel_27152\\1995762019.py:82: DeprecationWarning: The 'text' argument to find()-type methods is deprecated. Use 'string' instead.\n",
      "  header = soup.find(\"h4\", text=\"General election\")\n",
      "C:\\Users\\LSEng\\AppData\\Local\\Temp\\ipykernel_27152\\1995762019.py:87: FutureWarning: Passing literal html to 'read_html' is deprecated and will be removed in a future version. To read from a literal string, wrap it in a 'StringIO' object.\n",
      "  df = pd.read_html(str(table), header=0)[0]\n"
     ]
    },
    {
     "name": "stdout",
     "output_type": "stream",
     "text": [
      "✔ Added Georgia 6th (shape: (3, 9))\n",
      "→ Scraping Georgia 7th: https://ballotpedia.org/Georgia's_7th_Congressional_District_election,_2024\n"
     ]
    },
    {
     "name": "stderr",
     "output_type": "stream",
     "text": [
      "C:\\Users\\LSEng\\AppData\\Local\\Temp\\ipykernel_27152\\1995762019.py:82: DeprecationWarning: The 'text' argument to find()-type methods is deprecated. Use 'string' instead.\n",
      "  header = soup.find(\"h4\", text=\"General election\")\n",
      "C:\\Users\\LSEng\\AppData\\Local\\Temp\\ipykernel_27152\\1995762019.py:87: FutureWarning: Passing literal html to 'read_html' is deprecated and will be removed in a future version. To read from a literal string, wrap it in a 'StringIO' object.\n",
      "  df = pd.read_html(str(table), header=0)[0]\n"
     ]
    },
    {
     "name": "stdout",
     "output_type": "stream",
     "text": [
      "✔ Added Georgia 7th (shape: (2, 9))\n",
      "→ Scraping Georgia 8th: https://ballotpedia.org/Georgia's_8th_Congressional_District_election,_2024\n"
     ]
    },
    {
     "name": "stderr",
     "output_type": "stream",
     "text": [
      "C:\\Users\\LSEng\\AppData\\Local\\Temp\\ipykernel_27152\\1995762019.py:82: DeprecationWarning: The 'text' argument to find()-type methods is deprecated. Use 'string' instead.\n",
      "  header = soup.find(\"h4\", text=\"General election\")\n",
      "C:\\Users\\LSEng\\AppData\\Local\\Temp\\ipykernel_27152\\1995762019.py:87: FutureWarning: Passing literal html to 'read_html' is deprecated and will be removed in a future version. To read from a literal string, wrap it in a 'StringIO' object.\n",
      "  df = pd.read_html(str(table), header=0)[0]\n"
     ]
    },
    {
     "name": "stdout",
     "output_type": "stream",
     "text": [
      "✔ Added Georgia 8th (shape: (2, 9))\n",
      "→ Scraping Georgia 9th: https://ballotpedia.org/Georgia's_9th_Congressional_District_election,_2024\n"
     ]
    },
    {
     "name": "stderr",
     "output_type": "stream",
     "text": [
      "C:\\Users\\LSEng\\AppData\\Local\\Temp\\ipykernel_27152\\1995762019.py:82: DeprecationWarning: The 'text' argument to find()-type methods is deprecated. Use 'string' instead.\n",
      "  header = soup.find(\"h4\", text=\"General election\")\n",
      "C:\\Users\\LSEng\\AppData\\Local\\Temp\\ipykernel_27152\\1995762019.py:87: FutureWarning: Passing literal html to 'read_html' is deprecated and will be removed in a future version. To read from a literal string, wrap it in a 'StringIO' object.\n",
      "  df = pd.read_html(str(table), header=0)[0]\n"
     ]
    },
    {
     "name": "stdout",
     "output_type": "stream",
     "text": [
      "✔ Added Georgia 9th (shape: (2, 9))\n",
      "→ Scraping Georgia 10th: https://ballotpedia.org/Georgia's_10th_Congressional_District_election,_2024\n"
     ]
    },
    {
     "name": "stderr",
     "output_type": "stream",
     "text": [
      "C:\\Users\\LSEng\\AppData\\Local\\Temp\\ipykernel_27152\\1995762019.py:82: DeprecationWarning: The 'text' argument to find()-type methods is deprecated. Use 'string' instead.\n",
      "  header = soup.find(\"h4\", text=\"General election\")\n",
      "C:\\Users\\LSEng\\AppData\\Local\\Temp\\ipykernel_27152\\1995762019.py:87: FutureWarning: Passing literal html to 'read_html' is deprecated and will be removed in a future version. To read from a literal string, wrap it in a 'StringIO' object.\n",
      "  df = pd.read_html(str(table), header=0)[0]\n"
     ]
    },
    {
     "name": "stdout",
     "output_type": "stream",
     "text": [
      "✔ Added Georgia 10th (shape: (2, 9))\n",
      "→ Scraping Georgia 11th: https://ballotpedia.org/Georgia's_11th_Congressional_District_election,_2024\n"
     ]
    },
    {
     "name": "stderr",
     "output_type": "stream",
     "text": [
      "C:\\Users\\LSEng\\AppData\\Local\\Temp\\ipykernel_27152\\1995762019.py:82: DeprecationWarning: The 'text' argument to find()-type methods is deprecated. Use 'string' instead.\n",
      "  header = soup.find(\"h4\", text=\"General election\")\n",
      "C:\\Users\\LSEng\\AppData\\Local\\Temp\\ipykernel_27152\\1995762019.py:87: FutureWarning: Passing literal html to 'read_html' is deprecated and will be removed in a future version. To read from a literal string, wrap it in a 'StringIO' object.\n",
      "  df = pd.read_html(str(table), header=0)[0]\n"
     ]
    },
    {
     "name": "stdout",
     "output_type": "stream",
     "text": [
      "✔ Added Georgia 11th (shape: (3, 9))\n",
      "→ Scraping Georgia 12th: https://ballotpedia.org/Georgia's_12th_Congressional_District_election,_2024\n"
     ]
    },
    {
     "name": "stderr",
     "output_type": "stream",
     "text": [
      "C:\\Users\\LSEng\\AppData\\Local\\Temp\\ipykernel_27152\\1995762019.py:82: DeprecationWarning: The 'text' argument to find()-type methods is deprecated. Use 'string' instead.\n",
      "  header = soup.find(\"h4\", text=\"General election\")\n",
      "C:\\Users\\LSEng\\AppData\\Local\\Temp\\ipykernel_27152\\1995762019.py:87: FutureWarning: Passing literal html to 'read_html' is deprecated and will be removed in a future version. To read from a literal string, wrap it in a 'StringIO' object.\n",
      "  df = pd.read_html(str(table), header=0)[0]\n"
     ]
    },
    {
     "name": "stdout",
     "output_type": "stream",
     "text": [
      "✔ Added Georgia 12th (shape: (2, 9))\n",
      "→ Scraping Georgia 13th: https://ballotpedia.org/Georgia's_13th_Congressional_District_election,_2024\n"
     ]
    },
    {
     "name": "stderr",
     "output_type": "stream",
     "text": [
      "C:\\Users\\LSEng\\AppData\\Local\\Temp\\ipykernel_27152\\1995762019.py:82: DeprecationWarning: The 'text' argument to find()-type methods is deprecated. Use 'string' instead.\n",
      "  header = soup.find(\"h4\", text=\"General election\")\n",
      "C:\\Users\\LSEng\\AppData\\Local\\Temp\\ipykernel_27152\\1995762019.py:87: FutureWarning: Passing literal html to 'read_html' is deprecated and will be removed in a future version. To read from a literal string, wrap it in a 'StringIO' object.\n",
      "  df = pd.read_html(str(table), header=0)[0]\n"
     ]
    },
    {
     "name": "stdout",
     "output_type": "stream",
     "text": [
      "✔ Added Georgia 13th (shape: (2, 9))\n",
      "→ Scraping Georgia 14th: https://ballotpedia.org/Georgia's_14th_Congressional_District_election,_2024\n"
     ]
    },
    {
     "name": "stderr",
     "output_type": "stream",
     "text": [
      "C:\\Users\\LSEng\\AppData\\Local\\Temp\\ipykernel_27152\\1995762019.py:82: DeprecationWarning: The 'text' argument to find()-type methods is deprecated. Use 'string' instead.\n",
      "  header = soup.find(\"h4\", text=\"General election\")\n",
      "C:\\Users\\LSEng\\AppData\\Local\\Temp\\ipykernel_27152\\1995762019.py:87: FutureWarning: Passing literal html to 'read_html' is deprecated and will be removed in a future version. To read from a literal string, wrap it in a 'StringIO' object.\n",
      "  df = pd.read_html(str(table), header=0)[0]\n"
     ]
    },
    {
     "name": "stdout",
     "output_type": "stream",
     "text": [
      "✔ Added Georgia 14th (shape: (2, 9))\n",
      "→ Scraping Hawaii 1st: https://ballotpedia.org/Hawaii's_1st_Congressional_District_election,_2024\n"
     ]
    },
    {
     "name": "stderr",
     "output_type": "stream",
     "text": [
      "C:\\Users\\LSEng\\AppData\\Local\\Temp\\ipykernel_27152\\1995762019.py:82: DeprecationWarning: The 'text' argument to find()-type methods is deprecated. Use 'string' instead.\n",
      "  header = soup.find(\"h4\", text=\"General election\")\n",
      "C:\\Users\\LSEng\\AppData\\Local\\Temp\\ipykernel_27152\\1995762019.py:87: FutureWarning: Passing literal html to 'read_html' is deprecated and will be removed in a future version. To read from a literal string, wrap it in a 'StringIO' object.\n",
      "  df = pd.read_html(str(table), header=0)[0]\n"
     ]
    },
    {
     "name": "stdout",
     "output_type": "stream",
     "text": [
      "✔ Added Hawaii 1st (shape: (2, 9))\n",
      "→ Scraping Hawaii 2nd: https://ballotpedia.org/Hawaii's_2nd_Congressional_District_election,_2024\n"
     ]
    },
    {
     "name": "stderr",
     "output_type": "stream",
     "text": [
      "C:\\Users\\LSEng\\AppData\\Local\\Temp\\ipykernel_27152\\1995762019.py:82: DeprecationWarning: The 'text' argument to find()-type methods is deprecated. Use 'string' instead.\n",
      "  header = soup.find(\"h4\", text=\"General election\")\n",
      "C:\\Users\\LSEng\\AppData\\Local\\Temp\\ipykernel_27152\\1995762019.py:87: FutureWarning: Passing literal html to 'read_html' is deprecated and will be removed in a future version. To read from a literal string, wrap it in a 'StringIO' object.\n",
      "  df = pd.read_html(str(table), header=0)[0]\n"
     ]
    },
    {
     "name": "stdout",
     "output_type": "stream",
     "text": [
      "✔ Added Hawaii 2nd (shape: (4, 9))\n",
      "→ Scraping Idaho 1st: https://ballotpedia.org/Idaho's_1st_Congressional_District_election,_2024\n"
     ]
    },
    {
     "name": "stderr",
     "output_type": "stream",
     "text": [
      "C:\\Users\\LSEng\\AppData\\Local\\Temp\\ipykernel_27152\\1995762019.py:82: DeprecationWarning: The 'text' argument to find()-type methods is deprecated. Use 'string' instead.\n",
      "  header = soup.find(\"h4\", text=\"General election\")\n",
      "C:\\Users\\LSEng\\AppData\\Local\\Temp\\ipykernel_27152\\1995762019.py:87: FutureWarning: Passing literal html to 'read_html' is deprecated and will be removed in a future version. To read from a literal string, wrap it in a 'StringIO' object.\n",
      "  df = pd.read_html(str(table), header=0)[0]\n"
     ]
    },
    {
     "name": "stdout",
     "output_type": "stream",
     "text": [
      "✔ Added Idaho 1st (shape: (6, 9))\n",
      "→ Scraping Idaho 2nd: https://ballotpedia.org/Idaho's_2nd_Congressional_District_election,_2024\n"
     ]
    },
    {
     "name": "stderr",
     "output_type": "stream",
     "text": [
      "C:\\Users\\LSEng\\AppData\\Local\\Temp\\ipykernel_27152\\1995762019.py:82: DeprecationWarning: The 'text' argument to find()-type methods is deprecated. Use 'string' instead.\n",
      "  header = soup.find(\"h4\", text=\"General election\")\n",
      "C:\\Users\\LSEng\\AppData\\Local\\Temp\\ipykernel_27152\\1995762019.py:87: FutureWarning: Passing literal html to 'read_html' is deprecated and will be removed in a future version. To read from a literal string, wrap it in a 'StringIO' object.\n",
      "  df = pd.read_html(str(table), header=0)[0]\n"
     ]
    },
    {
     "name": "stdout",
     "output_type": "stream",
     "text": [
      "✔ Added Idaho 2nd (shape: (4, 9))\n",
      "→ Scraping Illinois 1st: https://ballotpedia.org/Illinois'_1st_Congressional_District_election,_2024\n"
     ]
    },
    {
     "name": "stderr",
     "output_type": "stream",
     "text": [
      "C:\\Users\\LSEng\\AppData\\Local\\Temp\\ipykernel_27152\\1995762019.py:82: DeprecationWarning: The 'text' argument to find()-type methods is deprecated. Use 'string' instead.\n",
      "  header = soup.find(\"h4\", text=\"General election\")\n",
      "C:\\Users\\LSEng\\AppData\\Local\\Temp\\ipykernel_27152\\1995762019.py:87: FutureWarning: Passing literal html to 'read_html' is deprecated and will be removed in a future version. To read from a literal string, wrap it in a 'StringIO' object.\n",
      "  df = pd.read_html(str(table), header=0)[0]\n"
     ]
    },
    {
     "name": "stdout",
     "output_type": "stream",
     "text": [
      "✔ Added Illinois 1st (shape: (3, 9))\n",
      "→ Scraping Illinois 2nd: https://ballotpedia.org/Illinois'_2nd_Congressional_District_election,_2024\n"
     ]
    },
    {
     "name": "stderr",
     "output_type": "stream",
     "text": [
      "C:\\Users\\LSEng\\AppData\\Local\\Temp\\ipykernel_27152\\1995762019.py:82: DeprecationWarning: The 'text' argument to find()-type methods is deprecated. Use 'string' instead.\n",
      "  header = soup.find(\"h4\", text=\"General election\")\n",
      "C:\\Users\\LSEng\\AppData\\Local\\Temp\\ipykernel_27152\\1995762019.py:87: FutureWarning: Passing literal html to 'read_html' is deprecated and will be removed in a future version. To read from a literal string, wrap it in a 'StringIO' object.\n",
      "  df = pd.read_html(str(table), header=0)[0]\n"
     ]
    },
    {
     "name": "stdout",
     "output_type": "stream",
     "text": [
      "✔ Added Illinois 2nd (shape: (4, 9))\n",
      "→ Scraping Illinois 3rd: https://ballotpedia.org/Illinois'_3rd_Congressional_District_election,_2024\n"
     ]
    },
    {
     "name": "stderr",
     "output_type": "stream",
     "text": [
      "C:\\Users\\LSEng\\AppData\\Local\\Temp\\ipykernel_27152\\1995762019.py:82: DeprecationWarning: The 'text' argument to find()-type methods is deprecated. Use 'string' instead.\n",
      "  header = soup.find(\"h4\", text=\"General election\")\n",
      "C:\\Users\\LSEng\\AppData\\Local\\Temp\\ipykernel_27152\\1995762019.py:87: FutureWarning: Passing literal html to 'read_html' is deprecated and will be removed in a future version. To read from a literal string, wrap it in a 'StringIO' object.\n",
      "  df = pd.read_html(str(table), header=0)[0]\n"
     ]
    },
    {
     "name": "stdout",
     "output_type": "stream",
     "text": [
      "✔ Added Illinois 3rd (shape: (3, 9))\n",
      "→ Scraping Illinois 4th: https://ballotpedia.org/Illinois'_4th_Congressional_District_election,_2024\n"
     ]
    },
    {
     "name": "stderr",
     "output_type": "stream",
     "text": [
      "C:\\Users\\LSEng\\AppData\\Local\\Temp\\ipykernel_27152\\1995762019.py:82: DeprecationWarning: The 'text' argument to find()-type methods is deprecated. Use 'string' instead.\n",
      "  header = soup.find(\"h4\", text=\"General election\")\n",
      "C:\\Users\\LSEng\\AppData\\Local\\Temp\\ipykernel_27152\\1995762019.py:87: FutureWarning: Passing literal html to 'read_html' is deprecated and will be removed in a future version. To read from a literal string, wrap it in a 'StringIO' object.\n",
      "  df = pd.read_html(str(table), header=0)[0]\n"
     ]
    },
    {
     "name": "stdout",
     "output_type": "stream",
     "text": [
      "✔ Added Illinois 4th (shape: (4, 9))\n",
      "→ Scraping Illinois 5th: https://ballotpedia.org/Illinois'_5th_Congressional_District_election,_2024\n"
     ]
    },
    {
     "name": "stderr",
     "output_type": "stream",
     "text": [
      "C:\\Users\\LSEng\\AppData\\Local\\Temp\\ipykernel_27152\\1995762019.py:82: DeprecationWarning: The 'text' argument to find()-type methods is deprecated. Use 'string' instead.\n",
      "  header = soup.find(\"h4\", text=\"General election\")\n",
      "C:\\Users\\LSEng\\AppData\\Local\\Temp\\ipykernel_27152\\1995762019.py:87: FutureWarning: Passing literal html to 'read_html' is deprecated and will be removed in a future version. To read from a literal string, wrap it in a 'StringIO' object.\n",
      "  df = pd.read_html(str(table), header=0)[0]\n"
     ]
    },
    {
     "name": "stdout",
     "output_type": "stream",
     "text": [
      "✔ Added Illinois 5th (shape: (3, 9))\n",
      "→ Scraping Illinois 6th: https://ballotpedia.org/Illinois'_6th_Congressional_District_election,_2024\n"
     ]
    },
    {
     "name": "stderr",
     "output_type": "stream",
     "text": [
      "C:\\Users\\LSEng\\AppData\\Local\\Temp\\ipykernel_27152\\1995762019.py:82: DeprecationWarning: The 'text' argument to find()-type methods is deprecated. Use 'string' instead.\n",
      "  header = soup.find(\"h4\", text=\"General election\")\n",
      "C:\\Users\\LSEng\\AppData\\Local\\Temp\\ipykernel_27152\\1995762019.py:87: FutureWarning: Passing literal html to 'read_html' is deprecated and will be removed in a future version. To read from a literal string, wrap it in a 'StringIO' object.\n",
      "  df = pd.read_html(str(table), header=0)[0]\n"
     ]
    },
    {
     "name": "stdout",
     "output_type": "stream",
     "text": [
      "✔ Added Illinois 6th (shape: (3, 9))\n",
      "→ Scraping Illinois 7th: https://ballotpedia.org/Illinois'_7th_Congressional_District_election,_2024\n"
     ]
    },
    {
     "name": "stderr",
     "output_type": "stream",
     "text": [
      "C:\\Users\\LSEng\\AppData\\Local\\Temp\\ipykernel_27152\\1995762019.py:82: DeprecationWarning: The 'text' argument to find()-type methods is deprecated. Use 'string' instead.\n",
      "  header = soup.find(\"h4\", text=\"General election\")\n",
      "C:\\Users\\LSEng\\AppData\\Local\\Temp\\ipykernel_27152\\1995762019.py:87: FutureWarning: Passing literal html to 'read_html' is deprecated and will be removed in a future version. To read from a literal string, wrap it in a 'StringIO' object.\n",
      "  df = pd.read_html(str(table), header=0)[0]\n"
     ]
    },
    {
     "name": "stdout",
     "output_type": "stream",
     "text": [
      "✔ Added Illinois 7th (shape: (4, 9))\n",
      "→ Scraping Illinois 8th: https://ballotpedia.org/Illinois'_8th_Congressional_District_election,_2024\n"
     ]
    },
    {
     "name": "stderr",
     "output_type": "stream",
     "text": [
      "C:\\Users\\LSEng\\AppData\\Local\\Temp\\ipykernel_27152\\1995762019.py:82: DeprecationWarning: The 'text' argument to find()-type methods is deprecated. Use 'string' instead.\n",
      "  header = soup.find(\"h4\", text=\"General election\")\n",
      "C:\\Users\\LSEng\\AppData\\Local\\Temp\\ipykernel_27152\\1995762019.py:87: FutureWarning: Passing literal html to 'read_html' is deprecated and will be removed in a future version. To read from a literal string, wrap it in a 'StringIO' object.\n",
      "  df = pd.read_html(str(table), header=0)[0]\n"
     ]
    },
    {
     "name": "stdout",
     "output_type": "stream",
     "text": [
      "✔ Added Illinois 8th (shape: (2, 9))\n",
      "→ Scraping Illinois 9th: https://ballotpedia.org/Illinois'_9th_Congressional_District_election,_2024\n"
     ]
    },
    {
     "name": "stderr",
     "output_type": "stream",
     "text": [
      "C:\\Users\\LSEng\\AppData\\Local\\Temp\\ipykernel_27152\\1995762019.py:82: DeprecationWarning: The 'text' argument to find()-type methods is deprecated. Use 'string' instead.\n",
      "  header = soup.find(\"h4\", text=\"General election\")\n",
      "C:\\Users\\LSEng\\AppData\\Local\\Temp\\ipykernel_27152\\1995762019.py:87: FutureWarning: Passing literal html to 'read_html' is deprecated and will be removed in a future version. To read from a literal string, wrap it in a 'StringIO' object.\n",
      "  df = pd.read_html(str(table), header=0)[0]\n"
     ]
    },
    {
     "name": "stdout",
     "output_type": "stream",
     "text": [
      "✔ Added Illinois 9th (shape: (2, 9))\n",
      "→ Scraping Illinois 10th: https://ballotpedia.org/Illinois'_10th_Congressional_District_election,_2024\n"
     ]
    },
    {
     "name": "stderr",
     "output_type": "stream",
     "text": [
      "C:\\Users\\LSEng\\AppData\\Local\\Temp\\ipykernel_27152\\1995762019.py:82: DeprecationWarning: The 'text' argument to find()-type methods is deprecated. Use 'string' instead.\n",
      "  header = soup.find(\"h4\", text=\"General election\")\n",
      "C:\\Users\\LSEng\\AppData\\Local\\Temp\\ipykernel_27152\\1995762019.py:87: FutureWarning: Passing literal html to 'read_html' is deprecated and will be removed in a future version. To read from a literal string, wrap it in a 'StringIO' object.\n",
      "  df = pd.read_html(str(table), header=0)[0]\n"
     ]
    },
    {
     "name": "stdout",
     "output_type": "stream",
     "text": [
      "✔ Added Illinois 10th (shape: (3, 9))\n",
      "→ Scraping Illinois 11th: https://ballotpedia.org/Illinois'_11th_Congressional_District_election,_2024\n"
     ]
    },
    {
     "name": "stderr",
     "output_type": "stream",
     "text": [
      "C:\\Users\\LSEng\\AppData\\Local\\Temp\\ipykernel_27152\\1995762019.py:82: DeprecationWarning: The 'text' argument to find()-type methods is deprecated. Use 'string' instead.\n",
      "  header = soup.find(\"h4\", text=\"General election\")\n",
      "C:\\Users\\LSEng\\AppData\\Local\\Temp\\ipykernel_27152\\1995762019.py:87: FutureWarning: Passing literal html to 'read_html' is deprecated and will be removed in a future version. To read from a literal string, wrap it in a 'StringIO' object.\n",
      "  df = pd.read_html(str(table), header=0)[0]\n"
     ]
    },
    {
     "name": "stdout",
     "output_type": "stream",
     "text": [
      "✔ Added Illinois 11th (shape: (3, 9))\n",
      "→ Scraping Illinois 12th: https://ballotpedia.org/Illinois'_12th_Congressional_District_election,_2024\n"
     ]
    },
    {
     "name": "stderr",
     "output_type": "stream",
     "text": [
      "C:\\Users\\LSEng\\AppData\\Local\\Temp\\ipykernel_27152\\1995762019.py:82: DeprecationWarning: The 'text' argument to find()-type methods is deprecated. Use 'string' instead.\n",
      "  header = soup.find(\"h4\", text=\"General election\")\n",
      "C:\\Users\\LSEng\\AppData\\Local\\Temp\\ipykernel_27152\\1995762019.py:87: FutureWarning: Passing literal html to 'read_html' is deprecated and will be removed in a future version. To read from a literal string, wrap it in a 'StringIO' object.\n",
      "  df = pd.read_html(str(table), header=0)[0]\n"
     ]
    },
    {
     "name": "stdout",
     "output_type": "stream",
     "text": [
      "✔ Added Illinois 12th (shape: (2, 9))\n",
      "→ Scraping Illinois 13th: https://ballotpedia.org/Illinois'_13th_Congressional_District_election,_2024\n"
     ]
    },
    {
     "name": "stderr",
     "output_type": "stream",
     "text": [
      "C:\\Users\\LSEng\\AppData\\Local\\Temp\\ipykernel_27152\\1995762019.py:82: DeprecationWarning: The 'text' argument to find()-type methods is deprecated. Use 'string' instead.\n",
      "  header = soup.find(\"h4\", text=\"General election\")\n",
      "C:\\Users\\LSEng\\AppData\\Local\\Temp\\ipykernel_27152\\1995762019.py:87: FutureWarning: Passing literal html to 'read_html' is deprecated and will be removed in a future version. To read from a literal string, wrap it in a 'StringIO' object.\n",
      "  df = pd.read_html(str(table), header=0)[0]\n"
     ]
    },
    {
     "name": "stdout",
     "output_type": "stream",
     "text": [
      "✔ Added Illinois 13th (shape: (3, 9))\n",
      "→ Scraping Illinois 14th: https://ballotpedia.org/Illinois'_14th_Congressional_District_election,_2024\n"
     ]
    },
    {
     "name": "stderr",
     "output_type": "stream",
     "text": [
      "C:\\Users\\LSEng\\AppData\\Local\\Temp\\ipykernel_27152\\1995762019.py:82: DeprecationWarning: The 'text' argument to find()-type methods is deprecated. Use 'string' instead.\n",
      "  header = soup.find(\"h4\", text=\"General election\")\n",
      "C:\\Users\\LSEng\\AppData\\Local\\Temp\\ipykernel_27152\\1995762019.py:87: FutureWarning: Passing literal html to 'read_html' is deprecated and will be removed in a future version. To read from a literal string, wrap it in a 'StringIO' object.\n",
      "  df = pd.read_html(str(table), header=0)[0]\n"
     ]
    },
    {
     "name": "stdout",
     "output_type": "stream",
     "text": [
      "✔ Added Illinois 14th (shape: (3, 9))\n",
      "→ Scraping Illinois 15th: https://ballotpedia.org/Illinois'_15th_Congressional_District_election,_2024\n"
     ]
    },
    {
     "name": "stderr",
     "output_type": "stream",
     "text": [
      "C:\\Users\\LSEng\\AppData\\Local\\Temp\\ipykernel_27152\\1995762019.py:82: DeprecationWarning: The 'text' argument to find()-type methods is deprecated. Use 'string' instead.\n",
      "  header = soup.find(\"h4\", text=\"General election\")\n",
      "C:\\Users\\LSEng\\AppData\\Local\\Temp\\ipykernel_27152\\1995762019.py:87: FutureWarning: Passing literal html to 'read_html' is deprecated and will be removed in a future version. To read from a literal string, wrap it in a 'StringIO' object.\n",
      "  df = pd.read_html(str(table), header=0)[0]\n"
     ]
    },
    {
     "name": "stdout",
     "output_type": "stream",
     "text": [
      "✔ Added Illinois 15th (shape: (2, 9))\n",
      "→ Scraping Illinois 16th: https://ballotpedia.org/Illinois'_16th_Congressional_District_election,_2024\n"
     ]
    },
    {
     "name": "stderr",
     "output_type": "stream",
     "text": [
      "C:\\Users\\LSEng\\AppData\\Local\\Temp\\ipykernel_27152\\1995762019.py:82: DeprecationWarning: The 'text' argument to find()-type methods is deprecated. Use 'string' instead.\n",
      "  header = soup.find(\"h4\", text=\"General election\")\n",
      "C:\\Users\\LSEng\\AppData\\Local\\Temp\\ipykernel_27152\\1995762019.py:87: FutureWarning: Passing literal html to 'read_html' is deprecated and will be removed in a future version. To read from a literal string, wrap it in a 'StringIO' object.\n",
      "  df = pd.read_html(str(table), header=0)[0]\n"
     ]
    },
    {
     "name": "stdout",
     "output_type": "stream",
     "text": [
      "✔ Added Illinois 16th (shape: (2, 9))\n",
      "→ Scraping Illinois 17th: https://ballotpedia.org/Illinois'_17th_Congressional_District_election,_2024\n"
     ]
    },
    {
     "name": "stderr",
     "output_type": "stream",
     "text": [
      "C:\\Users\\LSEng\\AppData\\Local\\Temp\\ipykernel_27152\\1995762019.py:82: DeprecationWarning: The 'text' argument to find()-type methods is deprecated. Use 'string' instead.\n",
      "  header = soup.find(\"h4\", text=\"General election\")\n",
      "C:\\Users\\LSEng\\AppData\\Local\\Temp\\ipykernel_27152\\1995762019.py:87: FutureWarning: Passing literal html to 'read_html' is deprecated and will be removed in a future version. To read from a literal string, wrap it in a 'StringIO' object.\n",
      "  df = pd.read_html(str(table), header=0)[0]\n"
     ]
    },
    {
     "name": "stdout",
     "output_type": "stream",
     "text": [
      "✔ Added Illinois 17th (shape: (2, 9))\n",
      "→ Scraping Indiana 1st: https://ballotpedia.org/Indiana's_1st_Congressional_District_election,_2024\n"
     ]
    },
    {
     "name": "stderr",
     "output_type": "stream",
     "text": [
      "C:\\Users\\LSEng\\AppData\\Local\\Temp\\ipykernel_27152\\1995762019.py:82: DeprecationWarning: The 'text' argument to find()-type methods is deprecated. Use 'string' instead.\n",
      "  header = soup.find(\"h4\", text=\"General election\")\n",
      "C:\\Users\\LSEng\\AppData\\Local\\Temp\\ipykernel_27152\\1995762019.py:87: FutureWarning: Passing literal html to 'read_html' is deprecated and will be removed in a future version. To read from a literal string, wrap it in a 'StringIO' object.\n",
      "  df = pd.read_html(str(table), header=0)[0]\n"
     ]
    },
    {
     "name": "stdout",
     "output_type": "stream",
     "text": [
      "✔ Added Indiana 1st (shape: (3, 9))\n",
      "→ Scraping Indiana 2nd: https://ballotpedia.org/Indiana's_2nd_Congressional_District_election,_2024\n"
     ]
    },
    {
     "name": "stderr",
     "output_type": "stream",
     "text": [
      "C:\\Users\\LSEng\\AppData\\Local\\Temp\\ipykernel_27152\\1995762019.py:82: DeprecationWarning: The 'text' argument to find()-type methods is deprecated. Use 'string' instead.\n",
      "  header = soup.find(\"h4\", text=\"General election\")\n",
      "C:\\Users\\LSEng\\AppData\\Local\\Temp\\ipykernel_27152\\1995762019.py:87: FutureWarning: Passing literal html to 'read_html' is deprecated and will be removed in a future version. To read from a literal string, wrap it in a 'StringIO' object.\n",
      "  df = pd.read_html(str(table), header=0)[0]\n"
     ]
    },
    {
     "name": "stdout",
     "output_type": "stream",
     "text": [
      "✔ Added Indiana 2nd (shape: (4, 9))\n",
      "→ Scraping Indiana 3rd: https://ballotpedia.org/Indiana's_3rd_Congressional_District_election,_2024\n"
     ]
    },
    {
     "name": "stderr",
     "output_type": "stream",
     "text": [
      "C:\\Users\\LSEng\\AppData\\Local\\Temp\\ipykernel_27152\\1995762019.py:82: DeprecationWarning: The 'text' argument to find()-type methods is deprecated. Use 'string' instead.\n",
      "  header = soup.find(\"h4\", text=\"General election\")\n",
      "C:\\Users\\LSEng\\AppData\\Local\\Temp\\ipykernel_27152\\1995762019.py:87: FutureWarning: Passing literal html to 'read_html' is deprecated and will be removed in a future version. To read from a literal string, wrap it in a 'StringIO' object.\n",
      "  df = pd.read_html(str(table), header=0)[0]\n"
     ]
    },
    {
     "name": "stdout",
     "output_type": "stream",
     "text": [
      "✔ Added Indiana 3rd (shape: (3, 9))\n",
      "→ Scraping Indiana 4th: https://ballotpedia.org/Indiana's_4th_Congressional_District_election,_2024\n"
     ]
    },
    {
     "name": "stderr",
     "output_type": "stream",
     "text": [
      "C:\\Users\\LSEng\\AppData\\Local\\Temp\\ipykernel_27152\\1995762019.py:82: DeprecationWarning: The 'text' argument to find()-type methods is deprecated. Use 'string' instead.\n",
      "  header = soup.find(\"h4\", text=\"General election\")\n",
      "C:\\Users\\LSEng\\AppData\\Local\\Temp\\ipykernel_27152\\1995762019.py:87: FutureWarning: Passing literal html to 'read_html' is deprecated and will be removed in a future version. To read from a literal string, wrap it in a 'StringIO' object.\n",
      "  df = pd.read_html(str(table), header=0)[0]\n"
     ]
    },
    {
     "name": "stdout",
     "output_type": "stream",
     "text": [
      "✔ Added Indiana 4th (shape: (3, 9))\n",
      "→ Scraping Indiana 5th: https://ballotpedia.org/Indiana's_5th_Congressional_District_election,_2024\n"
     ]
    },
    {
     "name": "stderr",
     "output_type": "stream",
     "text": [
      "C:\\Users\\LSEng\\AppData\\Local\\Temp\\ipykernel_27152\\1995762019.py:82: DeprecationWarning: The 'text' argument to find()-type methods is deprecated. Use 'string' instead.\n",
      "  header = soup.find(\"h4\", text=\"General election\")\n",
      "C:\\Users\\LSEng\\AppData\\Local\\Temp\\ipykernel_27152\\1995762019.py:87: FutureWarning: Passing literal html to 'read_html' is deprecated and will be removed in a future version. To read from a literal string, wrap it in a 'StringIO' object.\n",
      "  df = pd.read_html(str(table), header=0)[0]\n"
     ]
    },
    {
     "name": "stdout",
     "output_type": "stream",
     "text": [
      "✔ Added Indiana 5th (shape: (4, 9))\n",
      "→ Scraping Indiana 6th: https://ballotpedia.org/Indiana's_6th_Congressional_District_election,_2024\n"
     ]
    },
    {
     "name": "stderr",
     "output_type": "stream",
     "text": [
      "C:\\Users\\LSEng\\AppData\\Local\\Temp\\ipykernel_27152\\1995762019.py:82: DeprecationWarning: The 'text' argument to find()-type methods is deprecated. Use 'string' instead.\n",
      "  header = soup.find(\"h4\", text=\"General election\")\n",
      "C:\\Users\\LSEng\\AppData\\Local\\Temp\\ipykernel_27152\\1995762019.py:87: FutureWarning: Passing literal html to 'read_html' is deprecated and will be removed in a future version. To read from a literal string, wrap it in a 'StringIO' object.\n",
      "  df = pd.read_html(str(table), header=0)[0]\n"
     ]
    },
    {
     "name": "stdout",
     "output_type": "stream",
     "text": [
      "✔ Added Indiana 6th (shape: (3, 9))\n",
      "→ Scraping Indiana 7th: https://ballotpedia.org/Indiana's_7th_Congressional_District_election,_2024\n"
     ]
    },
    {
     "name": "stderr",
     "output_type": "stream",
     "text": [
      "C:\\Users\\LSEng\\AppData\\Local\\Temp\\ipykernel_27152\\1995762019.py:82: DeprecationWarning: The 'text' argument to find()-type methods is deprecated. Use 'string' instead.\n",
      "  header = soup.find(\"h4\", text=\"General election\")\n",
      "C:\\Users\\LSEng\\AppData\\Local\\Temp\\ipykernel_27152\\1995762019.py:87: FutureWarning: Passing literal html to 'read_html' is deprecated and will be removed in a future version. To read from a literal string, wrap it in a 'StringIO' object.\n",
      "  df = pd.read_html(str(table), header=0)[0]\n"
     ]
    },
    {
     "name": "stdout",
     "output_type": "stream",
     "text": [
      "✔ Added Indiana 7th (shape: (3, 9))\n",
      "→ Scraping Indiana 8th: https://ballotpedia.org/Indiana's_8th_Congressional_District_election,_2024\n"
     ]
    },
    {
     "name": "stderr",
     "output_type": "stream",
     "text": [
      "C:\\Users\\LSEng\\AppData\\Local\\Temp\\ipykernel_27152\\1995762019.py:82: DeprecationWarning: The 'text' argument to find()-type methods is deprecated. Use 'string' instead.\n",
      "  header = soup.find(\"h4\", text=\"General election\")\n",
      "C:\\Users\\LSEng\\AppData\\Local\\Temp\\ipykernel_27152\\1995762019.py:87: FutureWarning: Passing literal html to 'read_html' is deprecated and will be removed in a future version. To read from a literal string, wrap it in a 'StringIO' object.\n",
      "  df = pd.read_html(str(table), header=0)[0]\n"
     ]
    },
    {
     "name": "stdout",
     "output_type": "stream",
     "text": [
      "✔ Added Indiana 8th (shape: (3, 9))\n",
      "→ Scraping Indiana 9th: https://ballotpedia.org/Indiana's_9th_Congressional_District_election,_2024\n"
     ]
    },
    {
     "name": "stderr",
     "output_type": "stream",
     "text": [
      "C:\\Users\\LSEng\\AppData\\Local\\Temp\\ipykernel_27152\\1995762019.py:82: DeprecationWarning: The 'text' argument to find()-type methods is deprecated. Use 'string' instead.\n",
      "  header = soup.find(\"h4\", text=\"General election\")\n",
      "C:\\Users\\LSEng\\AppData\\Local\\Temp\\ipykernel_27152\\1995762019.py:87: FutureWarning: Passing literal html to 'read_html' is deprecated and will be removed in a future version. To read from a literal string, wrap it in a 'StringIO' object.\n",
      "  df = pd.read_html(str(table), header=0)[0]\n"
     ]
    },
    {
     "name": "stdout",
     "output_type": "stream",
     "text": [
      "✔ Added Indiana 9th (shape: (3, 9))\n",
      "→ Scraping Iowa 1st: https://ballotpedia.org/Iowa's_1st_Congressional_District_election,_2024\n"
     ]
    },
    {
     "name": "stderr",
     "output_type": "stream",
     "text": [
      "C:\\Users\\LSEng\\AppData\\Local\\Temp\\ipykernel_27152\\1995762019.py:82: DeprecationWarning: The 'text' argument to find()-type methods is deprecated. Use 'string' instead.\n",
      "  header = soup.find(\"h4\", text=\"General election\")\n",
      "C:\\Users\\LSEng\\AppData\\Local\\Temp\\ipykernel_27152\\1995762019.py:87: FutureWarning: Passing literal html to 'read_html' is deprecated and will be removed in a future version. To read from a literal string, wrap it in a 'StringIO' object.\n",
      "  df = pd.read_html(str(table), header=0)[0]\n"
     ]
    },
    {
     "name": "stdout",
     "output_type": "stream",
     "text": [
      "✔ Added Iowa 1st (shape: (4, 9))\n",
      "→ Scraping Iowa 2nd: https://ballotpedia.org/Iowa's_2nd_Congressional_District_election,_2024\n"
     ]
    },
    {
     "name": "stderr",
     "output_type": "stream",
     "text": [
      "C:\\Users\\LSEng\\AppData\\Local\\Temp\\ipykernel_27152\\1995762019.py:82: DeprecationWarning: The 'text' argument to find()-type methods is deprecated. Use 'string' instead.\n",
      "  header = soup.find(\"h4\", text=\"General election\")\n",
      "C:\\Users\\LSEng\\AppData\\Local\\Temp\\ipykernel_27152\\1995762019.py:87: FutureWarning: Passing literal html to 'read_html' is deprecated and will be removed in a future version. To read from a literal string, wrap it in a 'StringIO' object.\n",
      "  df = pd.read_html(str(table), header=0)[0]\n"
     ]
    },
    {
     "name": "stdout",
     "output_type": "stream",
     "text": [
      "✔ Added Iowa 2nd (shape: (4, 9))\n",
      "→ Scraping Iowa 3rd: https://ballotpedia.org/Iowa's_3rd_Congressional_District_election,_2024\n"
     ]
    },
    {
     "name": "stderr",
     "output_type": "stream",
     "text": [
      "C:\\Users\\LSEng\\AppData\\Local\\Temp\\ipykernel_27152\\1995762019.py:82: DeprecationWarning: The 'text' argument to find()-type methods is deprecated. Use 'string' instead.\n",
      "  header = soup.find(\"h4\", text=\"General election\")\n",
      "C:\\Users\\LSEng\\AppData\\Local\\Temp\\ipykernel_27152\\1995762019.py:87: FutureWarning: Passing literal html to 'read_html' is deprecated and will be removed in a future version. To read from a literal string, wrap it in a 'StringIO' object.\n",
      "  df = pd.read_html(str(table), header=0)[0]\n"
     ]
    },
    {
     "name": "stdout",
     "output_type": "stream",
     "text": [
      "✔ Added Iowa 3rd (shape: (4, 9))\n",
      "→ Scraping Iowa 4th: https://ballotpedia.org/Iowa's_4th_Congressional_District_election,_2024\n"
     ]
    },
    {
     "name": "stderr",
     "output_type": "stream",
     "text": [
      "C:\\Users\\LSEng\\AppData\\Local\\Temp\\ipykernel_27152\\1995762019.py:82: DeprecationWarning: The 'text' argument to find()-type methods is deprecated. Use 'string' instead.\n",
      "  header = soup.find(\"h4\", text=\"General election\")\n",
      "C:\\Users\\LSEng\\AppData\\Local\\Temp\\ipykernel_27152\\1995762019.py:87: FutureWarning: Passing literal html to 'read_html' is deprecated and will be removed in a future version. To read from a literal string, wrap it in a 'StringIO' object.\n",
      "  df = pd.read_html(str(table), header=0)[0]\n"
     ]
    },
    {
     "name": "stdout",
     "output_type": "stream",
     "text": [
      "✔ Added Iowa 4th (shape: (4, 9))\n",
      "→ Scraping Kansas 1st: https://ballotpedia.org/Kansas'_1st_Congressional_District_election,_2024\n"
     ]
    },
    {
     "name": "stderr",
     "output_type": "stream",
     "text": [
      "C:\\Users\\LSEng\\AppData\\Local\\Temp\\ipykernel_27152\\1995762019.py:82: DeprecationWarning: The 'text' argument to find()-type methods is deprecated. Use 'string' instead.\n",
      "  header = soup.find(\"h4\", text=\"General election\")\n",
      "C:\\Users\\LSEng\\AppData\\Local\\Temp\\ipykernel_27152\\1995762019.py:87: FutureWarning: Passing literal html to 'read_html' is deprecated and will be removed in a future version. To read from a literal string, wrap it in a 'StringIO' object.\n",
      "  df = pd.read_html(str(table), header=0)[0]\n"
     ]
    },
    {
     "name": "stdout",
     "output_type": "stream",
     "text": [
      "✔ Added Kansas 1st (shape: (2, 9))\n",
      "→ Scraping Kansas 2nd: https://ballotpedia.org/Kansas'_2nd_Congressional_District_election,_2024\n"
     ]
    },
    {
     "name": "stderr",
     "output_type": "stream",
     "text": [
      "C:\\Users\\LSEng\\AppData\\Local\\Temp\\ipykernel_27152\\1995762019.py:82: DeprecationWarning: The 'text' argument to find()-type methods is deprecated. Use 'string' instead.\n",
      "  header = soup.find(\"h4\", text=\"General election\")\n",
      "C:\\Users\\LSEng\\AppData\\Local\\Temp\\ipykernel_27152\\1995762019.py:87: FutureWarning: Passing literal html to 'read_html' is deprecated and will be removed in a future version. To read from a literal string, wrap it in a 'StringIO' object.\n",
      "  df = pd.read_html(str(table), header=0)[0]\n"
     ]
    },
    {
     "name": "stdout",
     "output_type": "stream",
     "text": [
      "✔ Added Kansas 2nd (shape: (3, 9))\n",
      "→ Scraping Kansas 3rd: https://ballotpedia.org/Kansas'_3rd_Congressional_District_election,_2024\n",
      "⚠ Skipped Kansas 3rd: HTTPSConnectionPool(host='ballotpedia.org', port=443): Read timed out. (read timeout=10)\n",
      "→ Scraping Kansas 4th: https://ballotpedia.org/Kansas'_4th_Congressional_District_election,_2024\n"
     ]
    },
    {
     "name": "stderr",
     "output_type": "stream",
     "text": [
      "C:\\Users\\LSEng\\AppData\\Local\\Temp\\ipykernel_27152\\1995762019.py:82: DeprecationWarning: The 'text' argument to find()-type methods is deprecated. Use 'string' instead.\n",
      "  header = soup.find(\"h4\", text=\"General election\")\n",
      "C:\\Users\\LSEng\\AppData\\Local\\Temp\\ipykernel_27152\\1995762019.py:87: FutureWarning: Passing literal html to 'read_html' is deprecated and will be removed in a future version. To read from a literal string, wrap it in a 'StringIO' object.\n",
      "  df = pd.read_html(str(table), header=0)[0]\n"
     ]
    },
    {
     "name": "stdout",
     "output_type": "stream",
     "text": [
      "✔ Added Kansas 4th (shape: (2, 9))\n",
      "→ Scraping Kentucky 1st: https://ballotpedia.org/Kentucky's_1st_Congressional_District_election,_2024\n"
     ]
    },
    {
     "name": "stderr",
     "output_type": "stream",
     "text": [
      "C:\\Users\\LSEng\\AppData\\Local\\Temp\\ipykernel_27152\\1995762019.py:82: DeprecationWarning: The 'text' argument to find()-type methods is deprecated. Use 'string' instead.\n",
      "  header = soup.find(\"h4\", text=\"General election\")\n",
      "C:\\Users\\LSEng\\AppData\\Local\\Temp\\ipykernel_27152\\1995762019.py:87: FutureWarning: Passing literal html to 'read_html' is deprecated and will be removed in a future version. To read from a literal string, wrap it in a 'StringIO' object.\n",
      "  df = pd.read_html(str(table), header=0)[0]\n"
     ]
    },
    {
     "name": "stdout",
     "output_type": "stream",
     "text": [
      "✔ Added Kentucky 1st (shape: (2, 9))\n",
      "→ Scraping Kentucky 2nd: https://ballotpedia.org/Kentucky's_2nd_Congressional_District_election,_2024\n"
     ]
    },
    {
     "name": "stderr",
     "output_type": "stream",
     "text": [
      "C:\\Users\\LSEng\\AppData\\Local\\Temp\\ipykernel_27152\\1995762019.py:82: DeprecationWarning: The 'text' argument to find()-type methods is deprecated. Use 'string' instead.\n",
      "  header = soup.find(\"h4\", text=\"General election\")\n",
      "C:\\Users\\LSEng\\AppData\\Local\\Temp\\ipykernel_27152\\1995762019.py:87: FutureWarning: Passing literal html to 'read_html' is deprecated and will be removed in a future version. To read from a literal string, wrap it in a 'StringIO' object.\n",
      "  df = pd.read_html(str(table), header=0)[0]\n"
     ]
    },
    {
     "name": "stdout",
     "output_type": "stream",
     "text": [
      "✔ Added Kentucky 2nd (shape: (2, 9))\n",
      "→ Scraping Kentucky 3rd: https://ballotpedia.org/Kentucky's_3rd_Congressional_District_election,_2024\n"
     ]
    },
    {
     "name": "stderr",
     "output_type": "stream",
     "text": [
      "C:\\Users\\LSEng\\AppData\\Local\\Temp\\ipykernel_27152\\1995762019.py:82: DeprecationWarning: The 'text' argument to find()-type methods is deprecated. Use 'string' instead.\n",
      "  header = soup.find(\"h4\", text=\"General election\")\n",
      "C:\\Users\\LSEng\\AppData\\Local\\Temp\\ipykernel_27152\\1995762019.py:87: FutureWarning: Passing literal html to 'read_html' is deprecated and will be removed in a future version. To read from a literal string, wrap it in a 'StringIO' object.\n",
      "  df = pd.read_html(str(table), header=0)[0]\n"
     ]
    },
    {
     "name": "stdout",
     "output_type": "stream",
     "text": [
      "✔ Added Kentucky 3rd (shape: (4, 9))\n",
      "→ Scraping Kentucky 4th: https://ballotpedia.org/Kentucky's_4th_Congressional_District_election,_2024\n"
     ]
    },
    {
     "name": "stderr",
     "output_type": "stream",
     "text": [
      "C:\\Users\\LSEng\\AppData\\Local\\Temp\\ipykernel_27152\\1995762019.py:82: DeprecationWarning: The 'text' argument to find()-type methods is deprecated. Use 'string' instead.\n",
      "  header = soup.find(\"h4\", text=\"General election\")\n",
      "C:\\Users\\LSEng\\AppData\\Local\\Temp\\ipykernel_27152\\1995762019.py:87: FutureWarning: Passing literal html to 'read_html' is deprecated and will be removed in a future version. To read from a literal string, wrap it in a 'StringIO' object.\n",
      "  df = pd.read_html(str(table), header=0)[0]\n"
     ]
    },
    {
     "name": "stdout",
     "output_type": "stream",
     "text": [
      "✔ Added Kentucky 4th (shape: (2, 9))\n",
      "→ Scraping Kentucky 5th: https://ballotpedia.org/Kentucky's_5th_Congressional_District_election,_2024\n"
     ]
    },
    {
     "name": "stderr",
     "output_type": "stream",
     "text": [
      "C:\\Users\\LSEng\\AppData\\Local\\Temp\\ipykernel_27152\\1995762019.py:82: DeprecationWarning: The 'text' argument to find()-type methods is deprecated. Use 'string' instead.\n",
      "  header = soup.find(\"h4\", text=\"General election\")\n",
      "C:\\Users\\LSEng\\AppData\\Local\\Temp\\ipykernel_27152\\1995762019.py:87: FutureWarning: Passing literal html to 'read_html' is deprecated and will be removed in a future version. To read from a literal string, wrap it in a 'StringIO' object.\n",
      "  df = pd.read_html(str(table), header=0)[0]\n"
     ]
    },
    {
     "name": "stdout",
     "output_type": "stream",
     "text": [
      "✔ Added Kentucky 5th (shape: (1, 9))\n",
      "→ Scraping Kentucky 6th: https://ballotpedia.org/Kentucky's_6th_Congressional_District_election,_2024\n"
     ]
    },
    {
     "name": "stderr",
     "output_type": "stream",
     "text": [
      "C:\\Users\\LSEng\\AppData\\Local\\Temp\\ipykernel_27152\\1995762019.py:82: DeprecationWarning: The 'text' argument to find()-type methods is deprecated. Use 'string' instead.\n",
      "  header = soup.find(\"h4\", text=\"General election\")\n",
      "C:\\Users\\LSEng\\AppData\\Local\\Temp\\ipykernel_27152\\1995762019.py:87: FutureWarning: Passing literal html to 'read_html' is deprecated and will be removed in a future version. To read from a literal string, wrap it in a 'StringIO' object.\n",
      "  df = pd.read_html(str(table), header=0)[0]\n"
     ]
    },
    {
     "name": "stdout",
     "output_type": "stream",
     "text": [
      "✔ Added Kentucky 6th (shape: (2, 9))\n",
      "→ Scraping Louisiana 1st: https://ballotpedia.org/Louisiana's_1st_Congressional_District_election,_2024\n"
     ]
    },
    {
     "name": "stderr",
     "output_type": "stream",
     "text": [
      "C:\\Users\\LSEng\\AppData\\Local\\Temp\\ipykernel_27152\\1995762019.py:82: DeprecationWarning: The 'text' argument to find()-type methods is deprecated. Use 'string' instead.\n",
      "  header = soup.find(\"h4\", text=\"General election\")\n"
     ]
    },
    {
     "name": "stdout",
     "output_type": "stream",
     "text": [
      "⚠ Skipped Louisiana 1st: no 'General election' section found\n",
      "→ Scraping Louisiana 2nd: https://ballotpedia.org/Louisiana's_2nd_Congressional_District_election,_2024\n",
      "⚠ Skipped Louisiana 2nd: no 'General election' section found\n",
      "→ Scraping Louisiana 3rd: https://ballotpedia.org/Louisiana's_3rd_Congressional_District_election,_2024\n"
     ]
    },
    {
     "name": "stderr",
     "output_type": "stream",
     "text": [
      "C:\\Users\\LSEng\\AppData\\Local\\Temp\\ipykernel_27152\\1995762019.py:87: FutureWarning: Passing literal html to 'read_html' is deprecated and will be removed in a future version. To read from a literal string, wrap it in a 'StringIO' object.\n",
      "  df = pd.read_html(str(table), header=0)[0]\n"
     ]
    },
    {
     "name": "stdout",
     "output_type": "stream",
     "text": [
      "✔ Added Louisiana 3rd (shape: (7, 9))\n",
      "→ Scraping Louisiana 4th: https://ballotpedia.org/Louisiana's_4th_Congressional_District_election,_2024\n"
     ]
    },
    {
     "name": "stderr",
     "output_type": "stream",
     "text": [
      "C:\\Users\\LSEng\\AppData\\Local\\Temp\\ipykernel_27152\\1995762019.py:82: DeprecationWarning: The 'text' argument to find()-type methods is deprecated. Use 'string' instead.\n",
      "  header = soup.find(\"h4\", text=\"General election\")\n"
     ]
    },
    {
     "name": "stdout",
     "output_type": "stream",
     "text": [
      "⚠ Skipped Louisiana 4th: no 'General election' section found\n",
      "→ Scraping Louisiana 5th: https://ballotpedia.org/Louisiana's_5th_Congressional_District_election,_2024\n"
     ]
    },
    {
     "name": "stderr",
     "output_type": "stream",
     "text": [
      "C:\\Users\\LSEng\\AppData\\Local\\Temp\\ipykernel_27152\\1995762019.py:87: FutureWarning: Passing literal html to 'read_html' is deprecated and will be removed in a future version. To read from a literal string, wrap it in a 'StringIO' object.\n",
      "  df = pd.read_html(str(table), header=0)[0]\n"
     ]
    },
    {
     "name": "stdout",
     "output_type": "stream",
     "text": [
      "✔ Added Louisiana 5th (shape: (2, 9))\n",
      "→ Scraping Louisiana 6th: https://ballotpedia.org/Louisiana's_6th_Congressional_District_election,_2024\n"
     ]
    },
    {
     "name": "stderr",
     "output_type": "stream",
     "text": [
      "C:\\Users\\LSEng\\AppData\\Local\\Temp\\ipykernel_27152\\1995762019.py:82: DeprecationWarning: The 'text' argument to find()-type methods is deprecated. Use 'string' instead.\n",
      "  header = soup.find(\"h4\", text=\"General election\")\n"
     ]
    },
    {
     "name": "stdout",
     "output_type": "stream",
     "text": [
      "⚠ Skipped Louisiana 6th: no 'General election' section found\n",
      "→ Scraping Maine 1st: https://ballotpedia.org/Maine's_1st_Congressional_District_election,_2024\n",
      "⚠ Skipped Maine 1st: HTTPSConnectionPool(host='ballotpedia.org', port=443): Read timed out. (read timeout=10)\n",
      "→ Scraping Maine 2nd: https://ballotpedia.org/Maine's_2nd_Congressional_District_election,_2024\n",
      "⚠ Skipped Maine 2nd: HTTPSConnectionPool(host='ballotpedia.org', port=443): Read timed out. (read timeout=10)\n",
      "→ Scraping Maryland 1st: https://ballotpedia.org/Maryland's_1st_Congressional_District_election,_2024\n"
     ]
    },
    {
     "name": "stderr",
     "output_type": "stream",
     "text": [
      "C:\\Users\\LSEng\\AppData\\Local\\Temp\\ipykernel_27152\\1995762019.py:87: FutureWarning: Passing literal html to 'read_html' is deprecated and will be removed in a future version. To read from a literal string, wrap it in a 'StringIO' object.\n",
      "  df = pd.read_html(str(table), header=0)[0]\n"
     ]
    },
    {
     "name": "stdout",
     "output_type": "stream",
     "text": [
      "✔ Added Maryland 1st (shape: (4, 9))\n",
      "→ Scraping Maryland 2nd: https://ballotpedia.org/Maryland's_2nd_Congressional_District_election,_2024\n"
     ]
    },
    {
     "name": "stderr",
     "output_type": "stream",
     "text": [
      "C:\\Users\\LSEng\\AppData\\Local\\Temp\\ipykernel_27152\\1995762019.py:82: DeprecationWarning: The 'text' argument to find()-type methods is deprecated. Use 'string' instead.\n",
      "  header = soup.find(\"h4\", text=\"General election\")\n",
      "C:\\Users\\LSEng\\AppData\\Local\\Temp\\ipykernel_27152\\1995762019.py:87: FutureWarning: Passing literal html to 'read_html' is deprecated and will be removed in a future version. To read from a literal string, wrap it in a 'StringIO' object.\n",
      "  df = pd.read_html(str(table), header=0)[0]\n"
     ]
    },
    {
     "name": "stdout",
     "output_type": "stream",
     "text": [
      "✔ Added Maryland 2nd (shape: (4, 9))\n",
      "→ Scraping Maryland 3rd: https://ballotpedia.org/Maryland's_3rd_Congressional_District_election,_2024\n"
     ]
    },
    {
     "name": "stderr",
     "output_type": "stream",
     "text": [
      "C:\\Users\\LSEng\\AppData\\Local\\Temp\\ipykernel_27152\\1995762019.py:82: DeprecationWarning: The 'text' argument to find()-type methods is deprecated. Use 'string' instead.\n",
      "  header = soup.find(\"h4\", text=\"General election\")\n",
      "C:\\Users\\LSEng\\AppData\\Local\\Temp\\ipykernel_27152\\1995762019.py:87: FutureWarning: Passing literal html to 'read_html' is deprecated and will be removed in a future version. To read from a literal string, wrap it in a 'StringIO' object.\n",
      "  df = pd.read_html(str(table), header=0)[0]\n"
     ]
    },
    {
     "name": "stdout",
     "output_type": "stream",
     "text": [
      "✔ Added Maryland 3rd (shape: (4, 9))\n",
      "→ Scraping Maryland 4th: https://ballotpedia.org/Maryland's_4th_Congressional_District_election,_2024\n"
     ]
    },
    {
     "name": "stderr",
     "output_type": "stream",
     "text": [
      "C:\\Users\\LSEng\\AppData\\Local\\Temp\\ipykernel_27152\\1995762019.py:82: DeprecationWarning: The 'text' argument to find()-type methods is deprecated. Use 'string' instead.\n",
      "  header = soup.find(\"h4\", text=\"General election\")\n",
      "C:\\Users\\LSEng\\AppData\\Local\\Temp\\ipykernel_27152\\1995762019.py:87: FutureWarning: Passing literal html to 'read_html' is deprecated and will be removed in a future version. To read from a literal string, wrap it in a 'StringIO' object.\n",
      "  df = pd.read_html(str(table), header=0)[0]\n"
     ]
    },
    {
     "name": "stdout",
     "output_type": "stream",
     "text": [
      "✔ Added Maryland 4th (shape: (3, 9))\n",
      "→ Scraping Maryland 5th: https://ballotpedia.org/Maryland's_5th_Congressional_District_election,_2024\n"
     ]
    },
    {
     "name": "stderr",
     "output_type": "stream",
     "text": [
      "C:\\Users\\LSEng\\AppData\\Local\\Temp\\ipykernel_27152\\1995762019.py:82: DeprecationWarning: The 'text' argument to find()-type methods is deprecated. Use 'string' instead.\n",
      "  header = soup.find(\"h4\", text=\"General election\")\n",
      "C:\\Users\\LSEng\\AppData\\Local\\Temp\\ipykernel_27152\\1995762019.py:87: FutureWarning: Passing literal html to 'read_html' is deprecated and will be removed in a future version. To read from a literal string, wrap it in a 'StringIO' object.\n",
      "  df = pd.read_html(str(table), header=0)[0]\n"
     ]
    },
    {
     "name": "stdout",
     "output_type": "stream",
     "text": [
      "✔ Added Maryland 5th (shape: (3, 9))\n",
      "→ Scraping Maryland 6th: https://ballotpedia.org/Maryland's_6th_Congressional_District_election,_2024\n"
     ]
    },
    {
     "name": "stderr",
     "output_type": "stream",
     "text": [
      "C:\\Users\\LSEng\\AppData\\Local\\Temp\\ipykernel_27152\\1995762019.py:82: DeprecationWarning: The 'text' argument to find()-type methods is deprecated. Use 'string' instead.\n",
      "  header = soup.find(\"h4\", text=\"General election\")\n",
      "C:\\Users\\LSEng\\AppData\\Local\\Temp\\ipykernel_27152\\1995762019.py:87: FutureWarning: Passing literal html to 'read_html' is deprecated and will be removed in a future version. To read from a literal string, wrap it in a 'StringIO' object.\n",
      "  df = pd.read_html(str(table), header=0)[0]\n"
     ]
    },
    {
     "name": "stdout",
     "output_type": "stream",
     "text": [
      "✔ Added Maryland 6th (shape: (3, 9))\n",
      "→ Scraping Maryland 7th: https://ballotpedia.org/Maryland's_7th_Congressional_District_election,_2024\n"
     ]
    },
    {
     "name": "stderr",
     "output_type": "stream",
     "text": [
      "C:\\Users\\LSEng\\AppData\\Local\\Temp\\ipykernel_27152\\1995762019.py:82: DeprecationWarning: The 'text' argument to find()-type methods is deprecated. Use 'string' instead.\n",
      "  header = soup.find(\"h4\", text=\"General election\")\n",
      "C:\\Users\\LSEng\\AppData\\Local\\Temp\\ipykernel_27152\\1995762019.py:87: FutureWarning: Passing literal html to 'read_html' is deprecated and will be removed in a future version. To read from a literal string, wrap it in a 'StringIO' object.\n",
      "  df = pd.read_html(str(table), header=0)[0]\n"
     ]
    },
    {
     "name": "stdout",
     "output_type": "stream",
     "text": [
      "✔ Added Maryland 7th (shape: (4, 9))\n",
      "→ Scraping Maryland 8th: https://ballotpedia.org/Maryland's_8th_Congressional_District_election,_2024\n"
     ]
    },
    {
     "name": "stderr",
     "output_type": "stream",
     "text": [
      "C:\\Users\\LSEng\\AppData\\Local\\Temp\\ipykernel_27152\\1995762019.py:82: DeprecationWarning: The 'text' argument to find()-type methods is deprecated. Use 'string' instead.\n",
      "  header = soup.find(\"h4\", text=\"General election\")\n",
      "C:\\Users\\LSEng\\AppData\\Local\\Temp\\ipykernel_27152\\1995762019.py:87: FutureWarning: Passing literal html to 'read_html' is deprecated and will be removed in a future version. To read from a literal string, wrap it in a 'StringIO' object.\n",
      "  df = pd.read_html(str(table), header=0)[0]\n"
     ]
    },
    {
     "name": "stdout",
     "output_type": "stream",
     "text": [
      "✔ Added Maryland 8th (shape: (4, 9))\n",
      "→ Scraping Massachusetts 1st: https://ballotpedia.org/Massachusetts'_1st_Congressional_District_election,_2024\n"
     ]
    },
    {
     "name": "stderr",
     "output_type": "stream",
     "text": [
      "C:\\Users\\LSEng\\AppData\\Local\\Temp\\ipykernel_27152\\1995762019.py:82: DeprecationWarning: The 'text' argument to find()-type methods is deprecated. Use 'string' instead.\n",
      "  header = soup.find(\"h4\", text=\"General election\")\n",
      "C:\\Users\\LSEng\\AppData\\Local\\Temp\\ipykernel_27152\\1995762019.py:87: FutureWarning: Passing literal html to 'read_html' is deprecated and will be removed in a future version. To read from a literal string, wrap it in a 'StringIO' object.\n",
      "  df = pd.read_html(str(table), header=0)[0]\n"
     ]
    },
    {
     "name": "stdout",
     "output_type": "stream",
     "text": [
      "✔ Added Massachusetts 1st (shape: (3, 9))\n",
      "→ Scraping Massachusetts 2nd: https://ballotpedia.org/Massachusetts'_2nd_Congressional_District_election,_2024\n"
     ]
    },
    {
     "name": "stderr",
     "output_type": "stream",
     "text": [
      "C:\\Users\\LSEng\\AppData\\Local\\Temp\\ipykernel_27152\\1995762019.py:82: DeprecationWarning: The 'text' argument to find()-type methods is deprecated. Use 'string' instead.\n",
      "  header = soup.find(\"h4\", text=\"General election\")\n",
      "C:\\Users\\LSEng\\AppData\\Local\\Temp\\ipykernel_27152\\1995762019.py:87: FutureWarning: Passing literal html to 'read_html' is deprecated and will be removed in a future version. To read from a literal string, wrap it in a 'StringIO' object.\n",
      "  df = pd.read_html(str(table), header=0)[0]\n"
     ]
    },
    {
     "name": "stdout",
     "output_type": "stream",
     "text": [
      "✔ Added Massachusetts 2nd (shape: (3, 9))\n",
      "→ Scraping Massachusetts 3rd: https://ballotpedia.org/Massachusetts'_3rd_Congressional_District_election,_2024\n"
     ]
    },
    {
     "name": "stderr",
     "output_type": "stream",
     "text": [
      "C:\\Users\\LSEng\\AppData\\Local\\Temp\\ipykernel_27152\\1995762019.py:82: DeprecationWarning: The 'text' argument to find()-type methods is deprecated. Use 'string' instead.\n",
      "  header = soup.find(\"h4\", text=\"General election\")\n",
      "C:\\Users\\LSEng\\AppData\\Local\\Temp\\ipykernel_27152\\1995762019.py:87: FutureWarning: Passing literal html to 'read_html' is deprecated and will be removed in a future version. To read from a literal string, wrap it in a 'StringIO' object.\n",
      "  df = pd.read_html(str(table), header=0)[0]\n"
     ]
    },
    {
     "name": "stdout",
     "output_type": "stream",
     "text": [
      "✔ Added Massachusetts 3rd (shape: (2, 9))\n",
      "→ Scraping Massachusetts 4th: https://ballotpedia.org/Massachusetts'_4th_Congressional_District_election,_2024\n"
     ]
    },
    {
     "name": "stderr",
     "output_type": "stream",
     "text": [
      "C:\\Users\\LSEng\\AppData\\Local\\Temp\\ipykernel_27152\\1995762019.py:82: DeprecationWarning: The 'text' argument to find()-type methods is deprecated. Use 'string' instead.\n",
      "  header = soup.find(\"h4\", text=\"General election\")\n",
      "C:\\Users\\LSEng\\AppData\\Local\\Temp\\ipykernel_27152\\1995762019.py:87: FutureWarning: Passing literal html to 'read_html' is deprecated and will be removed in a future version. To read from a literal string, wrap it in a 'StringIO' object.\n",
      "  df = pd.read_html(str(table), header=0)[0]\n"
     ]
    },
    {
     "name": "stdout",
     "output_type": "stream",
     "text": [
      "✔ Added Massachusetts 4th (shape: (2, 9))\n",
      "→ Scraping Massachusetts 5th: https://ballotpedia.org/Massachusetts'_5th_Congressional_District_election,_2024\n"
     ]
    },
    {
     "name": "stderr",
     "output_type": "stream",
     "text": [
      "C:\\Users\\LSEng\\AppData\\Local\\Temp\\ipykernel_27152\\1995762019.py:82: DeprecationWarning: The 'text' argument to find()-type methods is deprecated. Use 'string' instead.\n",
      "  header = soup.find(\"h4\", text=\"General election\")\n",
      "C:\\Users\\LSEng\\AppData\\Local\\Temp\\ipykernel_27152\\1995762019.py:87: FutureWarning: Passing literal html to 'read_html' is deprecated and will be removed in a future version. To read from a literal string, wrap it in a 'StringIO' object.\n",
      "  df = pd.read_html(str(table), header=0)[0]\n"
     ]
    },
    {
     "name": "stdout",
     "output_type": "stream",
     "text": [
      "✔ Added Massachusetts 5th (shape: (2, 9))\n",
      "→ Scraping Massachusetts 6th: https://ballotpedia.org/Massachusetts'_6th_Congressional_District_election,_2024\n"
     ]
    },
    {
     "name": "stderr",
     "output_type": "stream",
     "text": [
      "C:\\Users\\LSEng\\AppData\\Local\\Temp\\ipykernel_27152\\1995762019.py:82: DeprecationWarning: The 'text' argument to find()-type methods is deprecated. Use 'string' instead.\n",
      "  header = soup.find(\"h4\", text=\"General election\")\n",
      "C:\\Users\\LSEng\\AppData\\Local\\Temp\\ipykernel_27152\\1995762019.py:87: FutureWarning: Passing literal html to 'read_html' is deprecated and will be removed in a future version. To read from a literal string, wrap it in a 'StringIO' object.\n",
      "  df = pd.read_html(str(table), header=0)[0]\n"
     ]
    },
    {
     "name": "stdout",
     "output_type": "stream",
     "text": [
      "✔ Added Massachusetts 6th (shape: (2, 9))\n",
      "→ Scraping Massachusetts 7th: https://ballotpedia.org/Massachusetts'_7th_Congressional_District_election,_2024\n"
     ]
    },
    {
     "name": "stderr",
     "output_type": "stream",
     "text": [
      "C:\\Users\\LSEng\\AppData\\Local\\Temp\\ipykernel_27152\\1995762019.py:82: DeprecationWarning: The 'text' argument to find()-type methods is deprecated. Use 'string' instead.\n",
      "  header = soup.find(\"h4\", text=\"General election\")\n",
      "C:\\Users\\LSEng\\AppData\\Local\\Temp\\ipykernel_27152\\1995762019.py:87: FutureWarning: Passing literal html to 'read_html' is deprecated and will be removed in a future version. To read from a literal string, wrap it in a 'StringIO' object.\n",
      "  df = pd.read_html(str(table), header=0)[0]\n"
     ]
    },
    {
     "name": "stdout",
     "output_type": "stream",
     "text": [
      "✔ Added Massachusetts 7th (shape: (2, 9))\n",
      "→ Scraping Massachusetts 8th: https://ballotpedia.org/Massachusetts'_8th_Congressional_District_election,_2024\n"
     ]
    },
    {
     "name": "stderr",
     "output_type": "stream",
     "text": [
      "C:\\Users\\LSEng\\AppData\\Local\\Temp\\ipykernel_27152\\1995762019.py:82: DeprecationWarning: The 'text' argument to find()-type methods is deprecated. Use 'string' instead.\n",
      "  header = soup.find(\"h4\", text=\"General election\")\n",
      "C:\\Users\\LSEng\\AppData\\Local\\Temp\\ipykernel_27152\\1995762019.py:87: FutureWarning: Passing literal html to 'read_html' is deprecated and will be removed in a future version. To read from a literal string, wrap it in a 'StringIO' object.\n",
      "  df = pd.read_html(str(table), header=0)[0]\n"
     ]
    },
    {
     "name": "stdout",
     "output_type": "stream",
     "text": [
      "✔ Added Massachusetts 8th (shape: (3, 9))\n",
      "→ Scraping Massachusetts 9th: https://ballotpedia.org/Massachusetts'_9th_Congressional_District_election,_2024\n"
     ]
    },
    {
     "name": "stderr",
     "output_type": "stream",
     "text": [
      "C:\\Users\\LSEng\\AppData\\Local\\Temp\\ipykernel_27152\\1995762019.py:82: DeprecationWarning: The 'text' argument to find()-type methods is deprecated. Use 'string' instead.\n",
      "  header = soup.find(\"h4\", text=\"General election\")\n",
      "C:\\Users\\LSEng\\AppData\\Local\\Temp\\ipykernel_27152\\1995762019.py:87: FutureWarning: Passing literal html to 'read_html' is deprecated and will be removed in a future version. To read from a literal string, wrap it in a 'StringIO' object.\n",
      "  df = pd.read_html(str(table), header=0)[0]\n"
     ]
    },
    {
     "name": "stdout",
     "output_type": "stream",
     "text": [
      "✔ Added Massachusetts 9th (shape: (3, 9))\n",
      "→ Scraping Michigan 1st: https://ballotpedia.org/Michigan's_1st_Congressional_District_election,_2024\n"
     ]
    },
    {
     "name": "stderr",
     "output_type": "stream",
     "text": [
      "C:\\Users\\LSEng\\AppData\\Local\\Temp\\ipykernel_27152\\1995762019.py:82: DeprecationWarning: The 'text' argument to find()-type methods is deprecated. Use 'string' instead.\n",
      "  header = soup.find(\"h4\", text=\"General election\")\n",
      "C:\\Users\\LSEng\\AppData\\Local\\Temp\\ipykernel_27152\\1995762019.py:87: FutureWarning: Passing literal html to 'read_html' is deprecated and will be removed in a future version. To read from a literal string, wrap it in a 'StringIO' object.\n",
      "  df = pd.read_html(str(table), header=0)[0]\n"
     ]
    },
    {
     "name": "stdout",
     "output_type": "stream",
     "text": [
      "✔ Added Michigan 1st (shape: (4, 9))\n",
      "→ Scraping Michigan 2nd: https://ballotpedia.org/Michigan's_2nd_Congressional_District_election,_2024\n"
     ]
    },
    {
     "name": "stderr",
     "output_type": "stream",
     "text": [
      "C:\\Users\\LSEng\\AppData\\Local\\Temp\\ipykernel_27152\\1995762019.py:82: DeprecationWarning: The 'text' argument to find()-type methods is deprecated. Use 'string' instead.\n",
      "  header = soup.find(\"h4\", text=\"General election\")\n",
      "C:\\Users\\LSEng\\AppData\\Local\\Temp\\ipykernel_27152\\1995762019.py:87: FutureWarning: Passing literal html to 'read_html' is deprecated and will be removed in a future version. To read from a literal string, wrap it in a 'StringIO' object.\n",
      "  df = pd.read_html(str(table), header=0)[0]\n"
     ]
    },
    {
     "name": "stdout",
     "output_type": "stream",
     "text": [
      "✔ Added Michigan 2nd (shape: (4, 9))\n",
      "→ Scraping Michigan 3rd: https://ballotpedia.org/Michigan's_3rd_Congressional_District_election,_2024\n"
     ]
    },
    {
     "name": "stderr",
     "output_type": "stream",
     "text": [
      "C:\\Users\\LSEng\\AppData\\Local\\Temp\\ipykernel_27152\\1995762019.py:82: DeprecationWarning: The 'text' argument to find()-type methods is deprecated. Use 'string' instead.\n",
      "  header = soup.find(\"h4\", text=\"General election\")\n",
      "C:\\Users\\LSEng\\AppData\\Local\\Temp\\ipykernel_27152\\1995762019.py:87: FutureWarning: Passing literal html to 'read_html' is deprecated and will be removed in a future version. To read from a literal string, wrap it in a 'StringIO' object.\n",
      "  df = pd.read_html(str(table), header=0)[0]\n"
     ]
    },
    {
     "name": "stdout",
     "output_type": "stream",
     "text": [
      "✔ Added Michigan 3rd (shape: (4, 9))\n",
      "→ Scraping Michigan 4th: https://ballotpedia.org/Michigan's_4th_Congressional_District_election,_2024\n"
     ]
    },
    {
     "name": "stderr",
     "output_type": "stream",
     "text": [
      "C:\\Users\\LSEng\\AppData\\Local\\Temp\\ipykernel_27152\\1995762019.py:82: DeprecationWarning: The 'text' argument to find()-type methods is deprecated. Use 'string' instead.\n",
      "  header = soup.find(\"h4\", text=\"General election\")\n",
      "C:\\Users\\LSEng\\AppData\\Local\\Temp\\ipykernel_27152\\1995762019.py:87: FutureWarning: Passing literal html to 'read_html' is deprecated and will be removed in a future version. To read from a literal string, wrap it in a 'StringIO' object.\n",
      "  df = pd.read_html(str(table), header=0)[0]\n"
     ]
    },
    {
     "name": "stdout",
     "output_type": "stream",
     "text": [
      "✔ Added Michigan 4th (shape: (3, 9))\n",
      "→ Scraping Michigan 5th: https://ballotpedia.org/Michigan's_5th_Congressional_District_election,_2024\n"
     ]
    },
    {
     "name": "stderr",
     "output_type": "stream",
     "text": [
      "C:\\Users\\LSEng\\AppData\\Local\\Temp\\ipykernel_27152\\1995762019.py:82: DeprecationWarning: The 'text' argument to find()-type methods is deprecated. Use 'string' instead.\n",
      "  header = soup.find(\"h4\", text=\"General election\")\n",
      "C:\\Users\\LSEng\\AppData\\Local\\Temp\\ipykernel_27152\\1995762019.py:87: FutureWarning: Passing literal html to 'read_html' is deprecated and will be removed in a future version. To read from a literal string, wrap it in a 'StringIO' object.\n",
      "  df = pd.read_html(str(table), header=0)[0]\n"
     ]
    },
    {
     "name": "stdout",
     "output_type": "stream",
     "text": [
      "✔ Added Michigan 5th (shape: (3, 9))\n",
      "→ Scraping Michigan 6th: https://ballotpedia.org/Michigan's_6th_Congressional_District_election,_2024\n"
     ]
    },
    {
     "name": "stderr",
     "output_type": "stream",
     "text": [
      "C:\\Users\\LSEng\\AppData\\Local\\Temp\\ipykernel_27152\\1995762019.py:82: DeprecationWarning: The 'text' argument to find()-type methods is deprecated. Use 'string' instead.\n",
      "  header = soup.find(\"h4\", text=\"General election\")\n",
      "C:\\Users\\LSEng\\AppData\\Local\\Temp\\ipykernel_27152\\1995762019.py:87: FutureWarning: Passing literal html to 'read_html' is deprecated and will be removed in a future version. To read from a literal string, wrap it in a 'StringIO' object.\n",
      "  df = pd.read_html(str(table), header=0)[0]\n"
     ]
    },
    {
     "name": "stdout",
     "output_type": "stream",
     "text": [
      "✔ Added Michigan 6th (shape: (4, 9))\n",
      "→ Scraping Michigan 7th: https://ballotpedia.org/Michigan's_7th_Congressional_District_election,_2024\n"
     ]
    },
    {
     "name": "stderr",
     "output_type": "stream",
     "text": [
      "C:\\Users\\LSEng\\AppData\\Local\\Temp\\ipykernel_27152\\1995762019.py:82: DeprecationWarning: The 'text' argument to find()-type methods is deprecated. Use 'string' instead.\n",
      "  header = soup.find(\"h4\", text=\"General election\")\n",
      "C:\\Users\\LSEng\\AppData\\Local\\Temp\\ipykernel_27152\\1995762019.py:87: FutureWarning: Passing literal html to 'read_html' is deprecated and will be removed in a future version. To read from a literal string, wrap it in a 'StringIO' object.\n",
      "  df = pd.read_html(str(table), header=0)[0]\n"
     ]
    },
    {
     "name": "stdout",
     "output_type": "stream",
     "text": [
      "✔ Added Michigan 7th (shape: (3, 9))\n",
      "→ Scraping Michigan 8th: https://ballotpedia.org/Michigan's_8th_Congressional_District_election,_2024\n"
     ]
    },
    {
     "name": "stderr",
     "output_type": "stream",
     "text": [
      "C:\\Users\\LSEng\\AppData\\Local\\Temp\\ipykernel_27152\\1995762019.py:82: DeprecationWarning: The 'text' argument to find()-type methods is deprecated. Use 'string' instead.\n",
      "  header = soup.find(\"h4\", text=\"General election\")\n",
      "C:\\Users\\LSEng\\AppData\\Local\\Temp\\ipykernel_27152\\1995762019.py:87: FutureWarning: Passing literal html to 'read_html' is deprecated and will be removed in a future version. To read from a literal string, wrap it in a 'StringIO' object.\n",
      "  df = pd.read_html(str(table), header=0)[0]\n"
     ]
    },
    {
     "name": "stdout",
     "output_type": "stream",
     "text": [
      "✔ Added Michigan 8th (shape: (6, 9))\n",
      "→ Scraping Michigan 9th: https://ballotpedia.org/Michigan's_9th_Congressional_District_election,_2024\n"
     ]
    },
    {
     "name": "stderr",
     "output_type": "stream",
     "text": [
      "C:\\Users\\LSEng\\AppData\\Local\\Temp\\ipykernel_27152\\1995762019.py:82: DeprecationWarning: The 'text' argument to find()-type methods is deprecated. Use 'string' instead.\n",
      "  header = soup.find(\"h4\", text=\"General election\")\n",
      "C:\\Users\\LSEng\\AppData\\Local\\Temp\\ipykernel_27152\\1995762019.py:87: FutureWarning: Passing literal html to 'read_html' is deprecated and will be removed in a future version. To read from a literal string, wrap it in a 'StringIO' object.\n",
      "  df = pd.read_html(str(table), header=0)[0]\n"
     ]
    },
    {
     "name": "stdout",
     "output_type": "stream",
     "text": [
      "✔ Added Michigan 9th (shape: (4, 9))\n",
      "→ Scraping Michigan 10th: https://ballotpedia.org/Michigan's_10th_Congressional_District_election,_2024\n"
     ]
    },
    {
     "name": "stderr",
     "output_type": "stream",
     "text": [
      "C:\\Users\\LSEng\\AppData\\Local\\Temp\\ipykernel_27152\\1995762019.py:82: DeprecationWarning: The 'text' argument to find()-type methods is deprecated. Use 'string' instead.\n",
      "  header = soup.find(\"h4\", text=\"General election\")\n",
      "C:\\Users\\LSEng\\AppData\\Local\\Temp\\ipykernel_27152\\1995762019.py:87: FutureWarning: Passing literal html to 'read_html' is deprecated and will be removed in a future version. To read from a literal string, wrap it in a 'StringIO' object.\n",
      "  df = pd.read_html(str(table), header=0)[0]\n"
     ]
    },
    {
     "name": "stdout",
     "output_type": "stream",
     "text": [
      "✔ Added Michigan 10th (shape: (4, 9))\n",
      "→ Scraping Michigan 11th: https://ballotpedia.org/Michigan's_11th_Congressional_District_election,_2024\n"
     ]
    },
    {
     "name": "stderr",
     "output_type": "stream",
     "text": [
      "C:\\Users\\LSEng\\AppData\\Local\\Temp\\ipykernel_27152\\1995762019.py:82: DeprecationWarning: The 'text' argument to find()-type methods is deprecated. Use 'string' instead.\n",
      "  header = soup.find(\"h4\", text=\"General election\")\n",
      "C:\\Users\\LSEng\\AppData\\Local\\Temp\\ipykernel_27152\\1995762019.py:87: FutureWarning: Passing literal html to 'read_html' is deprecated and will be removed in a future version. To read from a literal string, wrap it in a 'StringIO' object.\n",
      "  df = pd.read_html(str(table), header=0)[0]\n"
     ]
    },
    {
     "name": "stdout",
     "output_type": "stream",
     "text": [
      "✔ Added Michigan 11th (shape: (3, 9))\n",
      "→ Scraping Michigan 12th: https://ballotpedia.org/Michigan's_12th_Congressional_District_election,_2024\n"
     ]
    },
    {
     "name": "stderr",
     "output_type": "stream",
     "text": [
      "C:\\Users\\LSEng\\AppData\\Local\\Temp\\ipykernel_27152\\1995762019.py:82: DeprecationWarning: The 'text' argument to find()-type methods is deprecated. Use 'string' instead.\n",
      "  header = soup.find(\"h4\", text=\"General election\")\n",
      "C:\\Users\\LSEng\\AppData\\Local\\Temp\\ipykernel_27152\\1995762019.py:87: FutureWarning: Passing literal html to 'read_html' is deprecated and will be removed in a future version. To read from a literal string, wrap it in a 'StringIO' object.\n",
      "  df = pd.read_html(str(table), header=0)[0]\n"
     ]
    },
    {
     "name": "stdout",
     "output_type": "stream",
     "text": [
      "✔ Added Michigan 12th (shape: (4, 9))\n",
      "→ Scraping Michigan 13th: https://ballotpedia.org/Michigan's_13th_Congressional_District_election,_2024\n"
     ]
    },
    {
     "name": "stderr",
     "output_type": "stream",
     "text": [
      "C:\\Users\\LSEng\\AppData\\Local\\Temp\\ipykernel_27152\\1995762019.py:82: DeprecationWarning: The 'text' argument to find()-type methods is deprecated. Use 'string' instead.\n",
      "  header = soup.find(\"h4\", text=\"General election\")\n",
      "C:\\Users\\LSEng\\AppData\\Local\\Temp\\ipykernel_27152\\1995762019.py:87: FutureWarning: Passing literal html to 'read_html' is deprecated and will be removed in a future version. To read from a literal string, wrap it in a 'StringIO' object.\n",
      "  df = pd.read_html(str(table), header=0)[0]\n"
     ]
    },
    {
     "name": "stdout",
     "output_type": "stream",
     "text": [
      "✔ Added Michigan 13th (shape: (7, 9))\n",
      "→ Scraping Minnesota 1st: https://ballotpedia.org/Minnesota's_1st_Congressional_District_election,_2024\n"
     ]
    },
    {
     "name": "stderr",
     "output_type": "stream",
     "text": [
      "C:\\Users\\LSEng\\AppData\\Local\\Temp\\ipykernel_27152\\1995762019.py:82: DeprecationWarning: The 'text' argument to find()-type methods is deprecated. Use 'string' instead.\n",
      "  header = soup.find(\"h4\", text=\"General election\")\n",
      "C:\\Users\\LSEng\\AppData\\Local\\Temp\\ipykernel_27152\\1995762019.py:87: FutureWarning: Passing literal html to 'read_html' is deprecated and will be removed in a future version. To read from a literal string, wrap it in a 'StringIO' object.\n",
      "  df = pd.read_html(str(table), header=0)[0]\n"
     ]
    },
    {
     "name": "stdout",
     "output_type": "stream",
     "text": [
      "✔ Added Minnesota 1st (shape: (3, 9))\n",
      "→ Scraping Minnesota 2nd: https://ballotpedia.org/Minnesota's_2nd_Congressional_District_election,_2024\n"
     ]
    },
    {
     "name": "stderr",
     "output_type": "stream",
     "text": [
      "C:\\Users\\LSEng\\AppData\\Local\\Temp\\ipykernel_27152\\1995762019.py:82: DeprecationWarning: The 'text' argument to find()-type methods is deprecated. Use 'string' instead.\n",
      "  header = soup.find(\"h4\", text=\"General election\")\n",
      "C:\\Users\\LSEng\\AppData\\Local\\Temp\\ipykernel_27152\\1995762019.py:87: FutureWarning: Passing literal html to 'read_html' is deprecated and will be removed in a future version. To read from a literal string, wrap it in a 'StringIO' object.\n",
      "  df = pd.read_html(str(table), header=0)[0]\n"
     ]
    },
    {
     "name": "stdout",
     "output_type": "stream",
     "text": [
      "✔ Added Minnesota 2nd (shape: (4, 9))\n",
      "→ Scraping Minnesota 3rd: https://ballotpedia.org/Minnesota's_3rd_Congressional_District_election,_2024\n"
     ]
    },
    {
     "name": "stderr",
     "output_type": "stream",
     "text": [
      "C:\\Users\\LSEng\\AppData\\Local\\Temp\\ipykernel_27152\\1995762019.py:82: DeprecationWarning: The 'text' argument to find()-type methods is deprecated. Use 'string' instead.\n",
      "  header = soup.find(\"h4\", text=\"General election\")\n",
      "C:\\Users\\LSEng\\AppData\\Local\\Temp\\ipykernel_27152\\1995762019.py:87: FutureWarning: Passing literal html to 'read_html' is deprecated and will be removed in a future version. To read from a literal string, wrap it in a 'StringIO' object.\n",
      "  df = pd.read_html(str(table), header=0)[0]\n"
     ]
    },
    {
     "name": "stdout",
     "output_type": "stream",
     "text": [
      "✔ Added Minnesota 3rd (shape: (3, 9))\n",
      "→ Scraping Minnesota 4th: https://ballotpedia.org/Minnesota's_4th_Congressional_District_election,_2024\n"
     ]
    },
    {
     "name": "stderr",
     "output_type": "stream",
     "text": [
      "C:\\Users\\LSEng\\AppData\\Local\\Temp\\ipykernel_27152\\1995762019.py:82: DeprecationWarning: The 'text' argument to find()-type methods is deprecated. Use 'string' instead.\n",
      "  header = soup.find(\"h4\", text=\"General election\")\n",
      "C:\\Users\\LSEng\\AppData\\Local\\Temp\\ipykernel_27152\\1995762019.py:87: FutureWarning: Passing literal html to 'read_html' is deprecated and will be removed in a future version. To read from a literal string, wrap it in a 'StringIO' object.\n",
      "  df = pd.read_html(str(table), header=0)[0]\n"
     ]
    },
    {
     "name": "stdout",
     "output_type": "stream",
     "text": [
      "✔ Added Minnesota 4th (shape: (3, 9))\n",
      "→ Scraping Minnesota 5th: https://ballotpedia.org/Minnesota's_5th_Congressional_District_election,_2024\n"
     ]
    },
    {
     "name": "stderr",
     "output_type": "stream",
     "text": [
      "C:\\Users\\LSEng\\AppData\\Local\\Temp\\ipykernel_27152\\1995762019.py:82: DeprecationWarning: The 'text' argument to find()-type methods is deprecated. Use 'string' instead.\n",
      "  header = soup.find(\"h4\", text=\"General election\")\n",
      "C:\\Users\\LSEng\\AppData\\Local\\Temp\\ipykernel_27152\\1995762019.py:87: FutureWarning: Passing literal html to 'read_html' is deprecated and will be removed in a future version. To read from a literal string, wrap it in a 'StringIO' object.\n",
      "  df = pd.read_html(str(table), header=0)[0]\n"
     ]
    },
    {
     "name": "stdout",
     "output_type": "stream",
     "text": [
      "✔ Added Minnesota 5th (shape: (3, 9))\n",
      "→ Scraping Minnesota 6th: https://ballotpedia.org/Minnesota's_6th_Congressional_District_election,_2024\n"
     ]
    },
    {
     "name": "stderr",
     "output_type": "stream",
     "text": [
      "C:\\Users\\LSEng\\AppData\\Local\\Temp\\ipykernel_27152\\1995762019.py:82: DeprecationWarning: The 'text' argument to find()-type methods is deprecated. Use 'string' instead.\n",
      "  header = soup.find(\"h4\", text=\"General election\")\n",
      "C:\\Users\\LSEng\\AppData\\Local\\Temp\\ipykernel_27152\\1995762019.py:87: FutureWarning: Passing literal html to 'read_html' is deprecated and will be removed in a future version. To read from a literal string, wrap it in a 'StringIO' object.\n",
      "  df = pd.read_html(str(table), header=0)[0]\n"
     ]
    },
    {
     "name": "stdout",
     "output_type": "stream",
     "text": [
      "✔ Added Minnesota 6th (shape: (3, 9))\n",
      "→ Scraping Minnesota 7th: https://ballotpedia.org/Minnesota's_7th_Congressional_District_election,_2024\n"
     ]
    },
    {
     "name": "stderr",
     "output_type": "stream",
     "text": [
      "C:\\Users\\LSEng\\AppData\\Local\\Temp\\ipykernel_27152\\1995762019.py:82: DeprecationWarning: The 'text' argument to find()-type methods is deprecated. Use 'string' instead.\n",
      "  header = soup.find(\"h4\", text=\"General election\")\n",
      "C:\\Users\\LSEng\\AppData\\Local\\Temp\\ipykernel_27152\\1995762019.py:87: FutureWarning: Passing literal html to 'read_html' is deprecated and will be removed in a future version. To read from a literal string, wrap it in a 'StringIO' object.\n",
      "  df = pd.read_html(str(table), header=0)[0]\n"
     ]
    },
    {
     "name": "stdout",
     "output_type": "stream",
     "text": [
      "✔ Added Minnesota 7th (shape: (3, 9))\n",
      "→ Scraping Minnesota 8th: https://ballotpedia.org/Minnesota's_8th_Congressional_District_election,_2024\n"
     ]
    },
    {
     "name": "stderr",
     "output_type": "stream",
     "text": [
      "C:\\Users\\LSEng\\AppData\\Local\\Temp\\ipykernel_27152\\1995762019.py:82: DeprecationWarning: The 'text' argument to find()-type methods is deprecated. Use 'string' instead.\n",
      "  header = soup.find(\"h4\", text=\"General election\")\n",
      "C:\\Users\\LSEng\\AppData\\Local\\Temp\\ipykernel_27152\\1995762019.py:87: FutureWarning: Passing literal html to 'read_html' is deprecated and will be removed in a future version. To read from a literal string, wrap it in a 'StringIO' object.\n",
      "  df = pd.read_html(str(table), header=0)[0]\n"
     ]
    },
    {
     "name": "stdout",
     "output_type": "stream",
     "text": [
      "✔ Added Minnesota 8th (shape: (3, 9))\n",
      "→ Scraping Mississippi 1st: https://ballotpedia.org/Mississippi's_1st_Congressional_District_election,_2024\n"
     ]
    },
    {
     "name": "stderr",
     "output_type": "stream",
     "text": [
      "C:\\Users\\LSEng\\AppData\\Local\\Temp\\ipykernel_27152\\1995762019.py:82: DeprecationWarning: The 'text' argument to find()-type methods is deprecated. Use 'string' instead.\n",
      "  header = soup.find(\"h4\", text=\"General election\")\n",
      "C:\\Users\\LSEng\\AppData\\Local\\Temp\\ipykernel_27152\\1995762019.py:87: FutureWarning: Passing literal html to 'read_html' is deprecated and will be removed in a future version. To read from a literal string, wrap it in a 'StringIO' object.\n",
      "  df = pd.read_html(str(table), header=0)[0]\n"
     ]
    },
    {
     "name": "stdout",
     "output_type": "stream",
     "text": [
      "✔ Added Mississippi 1st (shape: (2, 9))\n",
      "→ Scraping Mississippi 2nd: https://ballotpedia.org/Mississippi's_2nd_Congressional_District_election,_2024\n"
     ]
    },
    {
     "name": "stderr",
     "output_type": "stream",
     "text": [
      "C:\\Users\\LSEng\\AppData\\Local\\Temp\\ipykernel_27152\\1995762019.py:82: DeprecationWarning: The 'text' argument to find()-type methods is deprecated. Use 'string' instead.\n",
      "  header = soup.find(\"h4\", text=\"General election\")\n",
      "C:\\Users\\LSEng\\AppData\\Local\\Temp\\ipykernel_27152\\1995762019.py:87: FutureWarning: Passing literal html to 'read_html' is deprecated and will be removed in a future version. To read from a literal string, wrap it in a 'StringIO' object.\n",
      "  df = pd.read_html(str(table), header=0)[0]\n"
     ]
    },
    {
     "name": "stdout",
     "output_type": "stream",
     "text": [
      "✔ Added Mississippi 2nd (shape: (2, 9))\n",
      "→ Scraping Mississippi 3rd: https://ballotpedia.org/Mississippi's_3rd_Congressional_District_election,_2024\n"
     ]
    },
    {
     "name": "stderr",
     "output_type": "stream",
     "text": [
      "C:\\Users\\LSEng\\AppData\\Local\\Temp\\ipykernel_27152\\1995762019.py:82: DeprecationWarning: The 'text' argument to find()-type methods is deprecated. Use 'string' instead.\n",
      "  header = soup.find(\"h4\", text=\"General election\")\n",
      "C:\\Users\\LSEng\\AppData\\Local\\Temp\\ipykernel_27152\\1995762019.py:87: FutureWarning: Passing literal html to 'read_html' is deprecated and will be removed in a future version. To read from a literal string, wrap it in a 'StringIO' object.\n",
      "  df = pd.read_html(str(table), header=0)[0]\n"
     ]
    },
    {
     "name": "stdout",
     "output_type": "stream",
     "text": [
      "✔ Added Mississippi 3rd (shape: (1, 9))\n",
      "→ Scraping Mississippi 4th: https://ballotpedia.org/Mississippi's_4th_Congressional_District_election,_2024\n"
     ]
    },
    {
     "name": "stderr",
     "output_type": "stream",
     "text": [
      "C:\\Users\\LSEng\\AppData\\Local\\Temp\\ipykernel_27152\\1995762019.py:82: DeprecationWarning: The 'text' argument to find()-type methods is deprecated. Use 'string' instead.\n",
      "  header = soup.find(\"h4\", text=\"General election\")\n",
      "C:\\Users\\LSEng\\AppData\\Local\\Temp\\ipykernel_27152\\1995762019.py:87: FutureWarning: Passing literal html to 'read_html' is deprecated and will be removed in a future version. To read from a literal string, wrap it in a 'StringIO' object.\n",
      "  df = pd.read_html(str(table), header=0)[0]\n"
     ]
    },
    {
     "name": "stdout",
     "output_type": "stream",
     "text": [
      "✔ Added Mississippi 4th (shape: (2, 9))\n",
      "→ Scraping Missouri 1st: https://ballotpedia.org/Missouri's_1st_Congressional_District_election,_2024\n"
     ]
    },
    {
     "name": "stderr",
     "output_type": "stream",
     "text": [
      "C:\\Users\\LSEng\\AppData\\Local\\Temp\\ipykernel_27152\\1995762019.py:82: DeprecationWarning: The 'text' argument to find()-type methods is deprecated. Use 'string' instead.\n",
      "  header = soup.find(\"h4\", text=\"General election\")\n",
      "C:\\Users\\LSEng\\AppData\\Local\\Temp\\ipykernel_27152\\1995762019.py:87: FutureWarning: Passing literal html to 'read_html' is deprecated and will be removed in a future version. To read from a literal string, wrap it in a 'StringIO' object.\n",
      "  df = pd.read_html(str(table), header=0)[0]\n"
     ]
    },
    {
     "name": "stdout",
     "output_type": "stream",
     "text": [
      "✔ Added Missouri 1st (shape: (5, 9))\n",
      "→ Scraping Missouri 2nd: https://ballotpedia.org/Missouri's_2nd_Congressional_District_election,_2024\n"
     ]
    },
    {
     "name": "stderr",
     "output_type": "stream",
     "text": [
      "C:\\Users\\LSEng\\AppData\\Local\\Temp\\ipykernel_27152\\1995762019.py:82: DeprecationWarning: The 'text' argument to find()-type methods is deprecated. Use 'string' instead.\n",
      "  header = soup.find(\"h4\", text=\"General election\")\n",
      "C:\\Users\\LSEng\\AppData\\Local\\Temp\\ipykernel_27152\\1995762019.py:87: FutureWarning: Passing literal html to 'read_html' is deprecated and will be removed in a future version. To read from a literal string, wrap it in a 'StringIO' object.\n",
      "  df = pd.read_html(str(table), header=0)[0]\n"
     ]
    },
    {
     "name": "stdout",
     "output_type": "stream",
     "text": [
      "✔ Added Missouri 2nd (shape: (4, 9))\n",
      "→ Scraping Missouri 3rd: https://ballotpedia.org/Missouri's_3rd_Congressional_District_election,_2024\n"
     ]
    },
    {
     "name": "stderr",
     "output_type": "stream",
     "text": [
      "C:\\Users\\LSEng\\AppData\\Local\\Temp\\ipykernel_27152\\1995762019.py:82: DeprecationWarning: The 'text' argument to find()-type methods is deprecated. Use 'string' instead.\n",
      "  header = soup.find(\"h4\", text=\"General election\")\n",
      "C:\\Users\\LSEng\\AppData\\Local\\Temp\\ipykernel_27152\\1995762019.py:87: FutureWarning: Passing literal html to 'read_html' is deprecated and will be removed in a future version. To read from a literal string, wrap it in a 'StringIO' object.\n",
      "  df = pd.read_html(str(table), header=0)[0]\n"
     ]
    },
    {
     "name": "stdout",
     "output_type": "stream",
     "text": [
      "✔ Added Missouri 3rd (shape: (4, 9))\n",
      "→ Scraping Missouri 4th: https://ballotpedia.org/Missouri's_4th_Congressional_District_election,_2024\n"
     ]
    },
    {
     "name": "stderr",
     "output_type": "stream",
     "text": [
      "C:\\Users\\LSEng\\AppData\\Local\\Temp\\ipykernel_27152\\1995762019.py:82: DeprecationWarning: The 'text' argument to find()-type methods is deprecated. Use 'string' instead.\n",
      "  header = soup.find(\"h4\", text=\"General election\")\n",
      "C:\\Users\\LSEng\\AppData\\Local\\Temp\\ipykernel_27152\\1995762019.py:87: FutureWarning: Passing literal html to 'read_html' is deprecated and will be removed in a future version. To read from a literal string, wrap it in a 'StringIO' object.\n",
      "  df = pd.read_html(str(table), header=0)[0]\n"
     ]
    },
    {
     "name": "stdout",
     "output_type": "stream",
     "text": [
      "✔ Added Missouri 4th (shape: (4, 9))\n",
      "→ Scraping Missouri 5th: https://ballotpedia.org/Missouri's_5th_Congressional_District_election,_2024\n"
     ]
    },
    {
     "name": "stderr",
     "output_type": "stream",
     "text": [
      "C:\\Users\\LSEng\\AppData\\Local\\Temp\\ipykernel_27152\\1995762019.py:82: DeprecationWarning: The 'text' argument to find()-type methods is deprecated. Use 'string' instead.\n",
      "  header = soup.find(\"h4\", text=\"General election\")\n",
      "C:\\Users\\LSEng\\AppData\\Local\\Temp\\ipykernel_27152\\1995762019.py:87: FutureWarning: Passing literal html to 'read_html' is deprecated and will be removed in a future version. To read from a literal string, wrap it in a 'StringIO' object.\n",
      "  df = pd.read_html(str(table), header=0)[0]\n"
     ]
    },
    {
     "name": "stdout",
     "output_type": "stream",
     "text": [
      "✔ Added Missouri 5th (shape: (4, 9))\n",
      "→ Scraping Missouri 6th: https://ballotpedia.org/Missouri's_6th_Congressional_District_election,_2024\n"
     ]
    },
    {
     "name": "stderr",
     "output_type": "stream",
     "text": [
      "C:\\Users\\LSEng\\AppData\\Local\\Temp\\ipykernel_27152\\1995762019.py:82: DeprecationWarning: The 'text' argument to find()-type methods is deprecated. Use 'string' instead.\n",
      "  header = soup.find(\"h4\", text=\"General election\")\n",
      "C:\\Users\\LSEng\\AppData\\Local\\Temp\\ipykernel_27152\\1995762019.py:87: FutureWarning: Passing literal html to 'read_html' is deprecated and will be removed in a future version. To read from a literal string, wrap it in a 'StringIO' object.\n",
      "  df = pd.read_html(str(table), header=0)[0]\n"
     ]
    },
    {
     "name": "stdout",
     "output_type": "stream",
     "text": [
      "✔ Added Missouri 6th (shape: (4, 9))\n",
      "→ Scraping Missouri 7th: https://ballotpedia.org/Missouri's_7th_Congressional_District_election,_2024\n"
     ]
    },
    {
     "name": "stderr",
     "output_type": "stream",
     "text": [
      "C:\\Users\\LSEng\\AppData\\Local\\Temp\\ipykernel_27152\\1995762019.py:82: DeprecationWarning: The 'text' argument to find()-type methods is deprecated. Use 'string' instead.\n",
      "  header = soup.find(\"h4\", text=\"General election\")\n",
      "C:\\Users\\LSEng\\AppData\\Local\\Temp\\ipykernel_27152\\1995762019.py:87: FutureWarning: Passing literal html to 'read_html' is deprecated and will be removed in a future version. To read from a literal string, wrap it in a 'StringIO' object.\n",
      "  df = pd.read_html(str(table), header=0)[0]\n"
     ]
    },
    {
     "name": "stdout",
     "output_type": "stream",
     "text": [
      "✔ Added Missouri 7th (shape: (3, 9))\n",
      "→ Scraping Missouri 8th: https://ballotpedia.org/Missouri's_8th_Congressional_District_election,_2024\n"
     ]
    },
    {
     "name": "stderr",
     "output_type": "stream",
     "text": [
      "C:\\Users\\LSEng\\AppData\\Local\\Temp\\ipykernel_27152\\1995762019.py:82: DeprecationWarning: The 'text' argument to find()-type methods is deprecated. Use 'string' instead.\n",
      "  header = soup.find(\"h4\", text=\"General election\")\n",
      "C:\\Users\\LSEng\\AppData\\Local\\Temp\\ipykernel_27152\\1995762019.py:87: FutureWarning: Passing literal html to 'read_html' is deprecated and will be removed in a future version. To read from a literal string, wrap it in a 'StringIO' object.\n",
      "  df = pd.read_html(str(table), header=0)[0]\n"
     ]
    },
    {
     "name": "stdout",
     "output_type": "stream",
     "text": [
      "✔ Added Missouri 8th (shape: (3, 9))\n",
      "→ Scraping Montana 1st: https://ballotpedia.org/Montana's_1st_Congressional_District_election,_2024\n",
      "⚠ Skipped Montana 1st: HTTPSConnectionPool(host='ballotpedia.org', port=443): Read timed out. (read timeout=10)\n",
      "→ Scraping Montana 2nd: https://ballotpedia.org/Montana's_2nd_Congressional_District_election,_2024\n"
     ]
    },
    {
     "name": "stderr",
     "output_type": "stream",
     "text": [
      "C:\\Users\\LSEng\\AppData\\Local\\Temp\\ipykernel_27152\\1995762019.py:82: DeprecationWarning: The 'text' argument to find()-type methods is deprecated. Use 'string' instead.\n",
      "  header = soup.find(\"h4\", text=\"General election\")\n",
      "C:\\Users\\LSEng\\AppData\\Local\\Temp\\ipykernel_27152\\1995762019.py:87: FutureWarning: Passing literal html to 'read_html' is deprecated and will be removed in a future version. To read from a literal string, wrap it in a 'StringIO' object.\n",
      "  df = pd.read_html(str(table), header=0)[0]\n"
     ]
    },
    {
     "name": "stdout",
     "output_type": "stream",
     "text": [
      "✔ Added Montana 2nd (shape: (5, 9))\n",
      "→ Scraping Nebraska 1st: https://ballotpedia.org/Nebraska's_1st_Congressional_District_election,_2024\n"
     ]
    },
    {
     "name": "stderr",
     "output_type": "stream",
     "text": [
      "C:\\Users\\LSEng\\AppData\\Local\\Temp\\ipykernel_27152\\1995762019.py:82: DeprecationWarning: The 'text' argument to find()-type methods is deprecated. Use 'string' instead.\n",
      "  header = soup.find(\"h4\", text=\"General election\")\n",
      "C:\\Users\\LSEng\\AppData\\Local\\Temp\\ipykernel_27152\\1995762019.py:87: FutureWarning: Passing literal html to 'read_html' is deprecated and will be removed in a future version. To read from a literal string, wrap it in a 'StringIO' object.\n",
      "  df = pd.read_html(str(table), header=0)[0]\n"
     ]
    },
    {
     "name": "stdout",
     "output_type": "stream",
     "text": [
      "✔ Added Nebraska 1st (shape: (2, 9))\n",
      "→ Scraping Nebraska 2nd: https://ballotpedia.org/Nebraska's_2nd_Congressional_District_election,_2024\n"
     ]
    },
    {
     "name": "stderr",
     "output_type": "stream",
     "text": [
      "C:\\Users\\LSEng\\AppData\\Local\\Temp\\ipykernel_27152\\1995762019.py:82: DeprecationWarning: The 'text' argument to find()-type methods is deprecated. Use 'string' instead.\n",
      "  header = soup.find(\"h4\", text=\"General election\")\n",
      "C:\\Users\\LSEng\\AppData\\Local\\Temp\\ipykernel_27152\\1995762019.py:87: FutureWarning: Passing literal html to 'read_html' is deprecated and will be removed in a future version. To read from a literal string, wrap it in a 'StringIO' object.\n",
      "  df = pd.read_html(str(table), header=0)[0]\n"
     ]
    },
    {
     "name": "stdout",
     "output_type": "stream",
     "text": [
      "✔ Added Nebraska 2nd (shape: (2, 9))\n",
      "→ Scraping Nebraska 3rd: https://ballotpedia.org/Nebraska's_3rd_Congressional_District_election,_2024\n"
     ]
    },
    {
     "name": "stderr",
     "output_type": "stream",
     "text": [
      "C:\\Users\\LSEng\\AppData\\Local\\Temp\\ipykernel_27152\\1995762019.py:82: DeprecationWarning: The 'text' argument to find()-type methods is deprecated. Use 'string' instead.\n",
      "  header = soup.find(\"h4\", text=\"General election\")\n",
      "C:\\Users\\LSEng\\AppData\\Local\\Temp\\ipykernel_27152\\1995762019.py:87: FutureWarning: Passing literal html to 'read_html' is deprecated and will be removed in a future version. To read from a literal string, wrap it in a 'StringIO' object.\n",
      "  df = pd.read_html(str(table), header=0)[0]\n"
     ]
    },
    {
     "name": "stdout",
     "output_type": "stream",
     "text": [
      "✔ Added Nebraska 3rd (shape: (2, 9))\n",
      "→ Scraping Nevada 1st: https://ballotpedia.org/Nevada's_1st_Congressional_District_election,_2024\n",
      "⚠ Skipped Nevada 1st: HTTPSConnectionPool(host='ballotpedia.org', port=443): Read timed out. (read timeout=10)\n",
      "→ Scraping Nevada 2nd: https://ballotpedia.org/Nevada's_2nd_Congressional_District_election,_2024\n"
     ]
    },
    {
     "name": "stderr",
     "output_type": "stream",
     "text": [
      "C:\\Users\\LSEng\\AppData\\Local\\Temp\\ipykernel_27152\\1995762019.py:82: DeprecationWarning: The 'text' argument to find()-type methods is deprecated. Use 'string' instead.\n",
      "  header = soup.find(\"h4\", text=\"General election\")\n",
      "C:\\Users\\LSEng\\AppData\\Local\\Temp\\ipykernel_27152\\1995762019.py:87: FutureWarning: Passing literal html to 'read_html' is deprecated and will be removed in a future version. To read from a literal string, wrap it in a 'StringIO' object.\n",
      "  df = pd.read_html(str(table), header=0)[0]\n"
     ]
    },
    {
     "name": "stdout",
     "output_type": "stream",
     "text": [
      "✔ Added Nevada 2nd (shape: (4, 9))\n",
      "→ Scraping Nevada 3rd: https://ballotpedia.org/Nevada's_3rd_Congressional_District_election,_2024\n"
     ]
    },
    {
     "name": "stderr",
     "output_type": "stream",
     "text": [
      "C:\\Users\\LSEng\\AppData\\Local\\Temp\\ipykernel_27152\\1995762019.py:82: DeprecationWarning: The 'text' argument to find()-type methods is deprecated. Use 'string' instead.\n",
      "  header = soup.find(\"h4\", text=\"General election\")\n",
      "C:\\Users\\LSEng\\AppData\\Local\\Temp\\ipykernel_27152\\1995762019.py:87: FutureWarning: Passing literal html to 'read_html' is deprecated and will be removed in a future version. To read from a literal string, wrap it in a 'StringIO' object.\n",
      "  df = pd.read_html(str(table), header=0)[0]\n"
     ]
    },
    {
     "name": "stdout",
     "output_type": "stream",
     "text": [
      "✔ Added Nevada 3rd (shape: (2, 9))\n",
      "→ Scraping Nevada 4th: https://ballotpedia.org/Nevada's_4th_Congressional_District_election,_2024\n"
     ]
    },
    {
     "name": "stderr",
     "output_type": "stream",
     "text": [
      "C:\\Users\\LSEng\\AppData\\Local\\Temp\\ipykernel_27152\\1995762019.py:82: DeprecationWarning: The 'text' argument to find()-type methods is deprecated. Use 'string' instead.\n",
      "  header = soup.find(\"h4\", text=\"General election\")\n",
      "C:\\Users\\LSEng\\AppData\\Local\\Temp\\ipykernel_27152\\1995762019.py:87: FutureWarning: Passing literal html to 'read_html' is deprecated and will be removed in a future version. To read from a literal string, wrap it in a 'StringIO' object.\n",
      "  df = pd.read_html(str(table), header=0)[0]\n"
     ]
    },
    {
     "name": "stdout",
     "output_type": "stream",
     "text": [
      "✔ Added Nevada 4th (shape: (4, 9))\n",
      "→ Scraping New Hampshire 1st: https://ballotpedia.org/New_Hampshire's_1st_Congressional_District_election,_2024\n"
     ]
    },
    {
     "name": "stderr",
     "output_type": "stream",
     "text": [
      "C:\\Users\\LSEng\\AppData\\Local\\Temp\\ipykernel_27152\\1995762019.py:82: DeprecationWarning: The 'text' argument to find()-type methods is deprecated. Use 'string' instead.\n",
      "  header = soup.find(\"h4\", text=\"General election\")\n",
      "C:\\Users\\LSEng\\AppData\\Local\\Temp\\ipykernel_27152\\1995762019.py:87: FutureWarning: Passing literal html to 'read_html' is deprecated and will be removed in a future version. To read from a literal string, wrap it in a 'StringIO' object.\n",
      "  df = pd.read_html(str(table), header=0)[0]\n"
     ]
    },
    {
     "name": "stdout",
     "output_type": "stream",
     "text": [
      "✔ Added New Hampshire 1st (shape: (3, 9))\n",
      "→ Scraping New Hampshire 2nd: https://ballotpedia.org/New_Hampshire's_2nd_Congressional_District_election,_2024\n"
     ]
    },
    {
     "name": "stderr",
     "output_type": "stream",
     "text": [
      "C:\\Users\\LSEng\\AppData\\Local\\Temp\\ipykernel_27152\\1995762019.py:82: DeprecationWarning: The 'text' argument to find()-type methods is deprecated. Use 'string' instead.\n",
      "  header = soup.find(\"h4\", text=\"General election\")\n",
      "C:\\Users\\LSEng\\AppData\\Local\\Temp\\ipykernel_27152\\1995762019.py:87: FutureWarning: Passing literal html to 'read_html' is deprecated and will be removed in a future version. To read from a literal string, wrap it in a 'StringIO' object.\n",
      "  df = pd.read_html(str(table), header=0)[0]\n"
     ]
    },
    {
     "name": "stdout",
     "output_type": "stream",
     "text": [
      "✔ Added New Hampshire 2nd (shape: (3, 9))\n",
      "→ Scraping New Jersey 1st: https://ballotpedia.org/New_Jersey's_1st_Congressional_District_election,_2024\n"
     ]
    },
    {
     "name": "stderr",
     "output_type": "stream",
     "text": [
      "C:\\Users\\LSEng\\AppData\\Local\\Temp\\ipykernel_27152\\1995762019.py:82: DeprecationWarning: The 'text' argument to find()-type methods is deprecated. Use 'string' instead.\n",
      "  header = soup.find(\"h4\", text=\"General election\")\n",
      "C:\\Users\\LSEng\\AppData\\Local\\Temp\\ipykernel_27152\\1995762019.py:87: FutureWarning: Passing literal html to 'read_html' is deprecated and will be removed in a future version. To read from a literal string, wrap it in a 'StringIO' object.\n",
      "  df = pd.read_html(str(table), header=0)[0]\n"
     ]
    },
    {
     "name": "stdout",
     "output_type": "stream",
     "text": [
      "✔ Added New Jersey 1st (shape: (5, 9))\n",
      "→ Scraping New Jersey 2nd: https://ballotpedia.org/New_Jersey's_2nd_Congressional_District_election,_2024\n"
     ]
    },
    {
     "name": "stderr",
     "output_type": "stream",
     "text": [
      "C:\\Users\\LSEng\\AppData\\Local\\Temp\\ipykernel_27152\\1995762019.py:82: DeprecationWarning: The 'text' argument to find()-type methods is deprecated. Use 'string' instead.\n",
      "  header = soup.find(\"h4\", text=\"General election\")\n",
      "C:\\Users\\LSEng\\AppData\\Local\\Temp\\ipykernel_27152\\1995762019.py:87: FutureWarning: Passing literal html to 'read_html' is deprecated and will be removed in a future version. To read from a literal string, wrap it in a 'StringIO' object.\n",
      "  df = pd.read_html(str(table), header=0)[0]\n"
     ]
    },
    {
     "name": "stdout",
     "output_type": "stream",
     "text": [
      "✔ Added New Jersey 2nd (shape: (3, 9))\n",
      "→ Scraping New Jersey 3rd: https://ballotpedia.org/New_Jersey's_3rd_Congressional_District_election,_2024\n"
     ]
    },
    {
     "name": "stderr",
     "output_type": "stream",
     "text": [
      "C:\\Users\\LSEng\\AppData\\Local\\Temp\\ipykernel_27152\\1995762019.py:82: DeprecationWarning: The 'text' argument to find()-type methods is deprecated. Use 'string' instead.\n",
      "  header = soup.find(\"h4\", text=\"General election\")\n",
      "C:\\Users\\LSEng\\AppData\\Local\\Temp\\ipykernel_27152\\1995762019.py:87: FutureWarning: Passing literal html to 'read_html' is deprecated and will be removed in a future version. To read from a literal string, wrap it in a 'StringIO' object.\n",
      "  df = pd.read_html(str(table), header=0)[0]\n"
     ]
    },
    {
     "name": "stdout",
     "output_type": "stream",
     "text": [
      "✔ Added New Jersey 3rd (shape: (6, 9))\n",
      "→ Scraping New Jersey 4th: https://ballotpedia.org/New_Jersey's_4th_Congressional_District_election,_2024\n"
     ]
    },
    {
     "name": "stderr",
     "output_type": "stream",
     "text": [
      "C:\\Users\\LSEng\\AppData\\Local\\Temp\\ipykernel_27152\\1995762019.py:82: DeprecationWarning: The 'text' argument to find()-type methods is deprecated. Use 'string' instead.\n",
      "  header = soup.find(\"h4\", text=\"General election\")\n",
      "C:\\Users\\LSEng\\AppData\\Local\\Temp\\ipykernel_27152\\1995762019.py:87: FutureWarning: Passing literal html to 'read_html' is deprecated and will be removed in a future version. To read from a literal string, wrap it in a 'StringIO' object.\n",
      "  df = pd.read_html(str(table), header=0)[0]\n"
     ]
    },
    {
     "name": "stdout",
     "output_type": "stream",
     "text": [
      "✔ Added New Jersey 4th (shape: (4, 9))\n",
      "→ Scraping New Jersey 5th: https://ballotpedia.org/New_Jersey's_5th_Congressional_District_election,_2024\n"
     ]
    },
    {
     "name": "stderr",
     "output_type": "stream",
     "text": [
      "C:\\Users\\LSEng\\AppData\\Local\\Temp\\ipykernel_27152\\1995762019.py:82: DeprecationWarning: The 'text' argument to find()-type methods is deprecated. Use 'string' instead.\n",
      "  header = soup.find(\"h4\", text=\"General election\")\n",
      "C:\\Users\\LSEng\\AppData\\Local\\Temp\\ipykernel_27152\\1995762019.py:87: FutureWarning: Passing literal html to 'read_html' is deprecated and will be removed in a future version. To read from a literal string, wrap it in a 'StringIO' object.\n",
      "  df = pd.read_html(str(table), header=0)[0]\n"
     ]
    },
    {
     "name": "stdout",
     "output_type": "stream",
     "text": [
      "✔ Added New Jersey 5th (shape: (5, 9))\n",
      "→ Scraping New Jersey 6th: https://ballotpedia.org/New_Jersey's_6th_Congressional_District_election,_2024\n"
     ]
    },
    {
     "name": "stderr",
     "output_type": "stream",
     "text": [
      "C:\\Users\\LSEng\\AppData\\Local\\Temp\\ipykernel_27152\\1995762019.py:82: DeprecationWarning: The 'text' argument to find()-type methods is deprecated. Use 'string' instead.\n",
      "  header = soup.find(\"h4\", text=\"General election\")\n",
      "C:\\Users\\LSEng\\AppData\\Local\\Temp\\ipykernel_27152\\1995762019.py:87: FutureWarning: Passing literal html to 'read_html' is deprecated and will be removed in a future version. To read from a literal string, wrap it in a 'StringIO' object.\n",
      "  df = pd.read_html(str(table), header=0)[0]\n"
     ]
    },
    {
     "name": "stdout",
     "output_type": "stream",
     "text": [
      "✔ Added New Jersey 6th (shape: (5, 9))\n",
      "→ Scraping New Jersey 7th: https://ballotpedia.org/New_Jersey's_7th_Congressional_District_election,_2024\n"
     ]
    },
    {
     "name": "stderr",
     "output_type": "stream",
     "text": [
      "C:\\Users\\LSEng\\AppData\\Local\\Temp\\ipykernel_27152\\1995762019.py:82: DeprecationWarning: The 'text' argument to find()-type methods is deprecated. Use 'string' instead.\n",
      "  header = soup.find(\"h4\", text=\"General election\")\n",
      "C:\\Users\\LSEng\\AppData\\Local\\Temp\\ipykernel_27152\\1995762019.py:87: FutureWarning: Passing literal html to 'read_html' is deprecated and will be removed in a future version. To read from a literal string, wrap it in a 'StringIO' object.\n",
      "  df = pd.read_html(str(table), header=0)[0]\n"
     ]
    },
    {
     "name": "stdout",
     "output_type": "stream",
     "text": [
      "✔ Added New Jersey 7th (shape: (4, 9))\n",
      "→ Scraping New Jersey 8th: https://ballotpedia.org/New_Jersey's_8th_Congressional_District_election,_2024\n"
     ]
    },
    {
     "name": "stderr",
     "output_type": "stream",
     "text": [
      "C:\\Users\\LSEng\\AppData\\Local\\Temp\\ipykernel_27152\\1995762019.py:82: DeprecationWarning: The 'text' argument to find()-type methods is deprecated. Use 'string' instead.\n",
      "  header = soup.find(\"h4\", text=\"General election\")\n",
      "C:\\Users\\LSEng\\AppData\\Local\\Temp\\ipykernel_27152\\1995762019.py:87: FutureWarning: Passing literal html to 'read_html' is deprecated and will be removed in a future version. To read from a literal string, wrap it in a 'StringIO' object.\n",
      "  df = pd.read_html(str(table), header=0)[0]\n"
     ]
    },
    {
     "name": "stdout",
     "output_type": "stream",
     "text": [
      "✔ Added New Jersey 8th (shape: (5, 9))\n",
      "→ Scraping New Jersey 9th: https://ballotpedia.org/New_Jersey's_9th_Congressional_District_election,_2024\n"
     ]
    },
    {
     "name": "stderr",
     "output_type": "stream",
     "text": [
      "C:\\Users\\LSEng\\AppData\\Local\\Temp\\ipykernel_27152\\1995762019.py:82: DeprecationWarning: The 'text' argument to find()-type methods is deprecated. Use 'string' instead.\n",
      "  header = soup.find(\"h4\", text=\"General election\")\n",
      "C:\\Users\\LSEng\\AppData\\Local\\Temp\\ipykernel_27152\\1995762019.py:87: FutureWarning: Passing literal html to 'read_html' is deprecated and will be removed in a future version. To read from a literal string, wrap it in a 'StringIO' object.\n",
      "  df = pd.read_html(str(table), header=0)[0]\n"
     ]
    },
    {
     "name": "stdout",
     "output_type": "stream",
     "text": [
      "✔ Added New Jersey 9th (shape: (4, 9))\n",
      "→ Scraping New Jersey 10th: https://ballotpedia.org/New_Jersey's_10th_Congressional_District_election,_2024\n"
     ]
    },
    {
     "name": "stderr",
     "output_type": "stream",
     "text": [
      "C:\\Users\\LSEng\\AppData\\Local\\Temp\\ipykernel_27152\\1995762019.py:82: DeprecationWarning: The 'text' argument to find()-type methods is deprecated. Use 'string' instead.\n",
      "  header = soup.find(\"h4\", text=\"General election\")\n",
      "C:\\Users\\LSEng\\AppData\\Local\\Temp\\ipykernel_27152\\1995762019.py:87: FutureWarning: Passing literal html to 'read_html' is deprecated and will be removed in a future version. To read from a literal string, wrap it in a 'StringIO' object.\n",
      "  df = pd.read_html(str(table), header=0)[0]\n"
     ]
    },
    {
     "name": "stdout",
     "output_type": "stream",
     "text": [
      "✔ Added New Jersey 10th (shape: (6, 9))\n",
      "→ Scraping New Jersey 11th: https://ballotpedia.org/New_Jersey's_11th_Congressional_District_election,_2024\n"
     ]
    },
    {
     "name": "stderr",
     "output_type": "stream",
     "text": [
      "C:\\Users\\LSEng\\AppData\\Local\\Temp\\ipykernel_27152\\1995762019.py:82: DeprecationWarning: The 'text' argument to find()-type methods is deprecated. Use 'string' instead.\n",
      "  header = soup.find(\"h4\", text=\"General election\")\n",
      "C:\\Users\\LSEng\\AppData\\Local\\Temp\\ipykernel_27152\\1995762019.py:87: FutureWarning: Passing literal html to 'read_html' is deprecated and will be removed in a future version. To read from a literal string, wrap it in a 'StringIO' object.\n",
      "  df = pd.read_html(str(table), header=0)[0]\n"
     ]
    },
    {
     "name": "stdout",
     "output_type": "stream",
     "text": [
      "✔ Added New Jersey 11th (shape: (4, 9))\n",
      "→ Scraping New Jersey 12th: https://ballotpedia.org/New_Jersey's_12th_Congressional_District_election,_2024\n"
     ]
    },
    {
     "name": "stderr",
     "output_type": "stream",
     "text": [
      "C:\\Users\\LSEng\\AppData\\Local\\Temp\\ipykernel_27152\\1995762019.py:82: DeprecationWarning: The 'text' argument to find()-type methods is deprecated. Use 'string' instead.\n",
      "  header = soup.find(\"h4\", text=\"General election\")\n",
      "C:\\Users\\LSEng\\AppData\\Local\\Temp\\ipykernel_27152\\1995762019.py:87: FutureWarning: Passing literal html to 'read_html' is deprecated and will be removed in a future version. To read from a literal string, wrap it in a 'StringIO' object.\n",
      "  df = pd.read_html(str(table), header=0)[0]\n"
     ]
    },
    {
     "name": "stdout",
     "output_type": "stream",
     "text": [
      "✔ Added New Jersey 12th (shape: (4, 9))\n",
      "→ Scraping New Mexico 1st: https://ballotpedia.org/New_Mexico's_1st_Congressional_District_election,_2024\n"
     ]
    },
    {
     "name": "stderr",
     "output_type": "stream",
     "text": [
      "C:\\Users\\LSEng\\AppData\\Local\\Temp\\ipykernel_27152\\1995762019.py:82: DeprecationWarning: The 'text' argument to find()-type methods is deprecated. Use 'string' instead.\n",
      "  header = soup.find(\"h4\", text=\"General election\")\n",
      "C:\\Users\\LSEng\\AppData\\Local\\Temp\\ipykernel_27152\\1995762019.py:87: FutureWarning: Passing literal html to 'read_html' is deprecated and will be removed in a future version. To read from a literal string, wrap it in a 'StringIO' object.\n",
      "  df = pd.read_html(str(table), header=0)[0]\n"
     ]
    },
    {
     "name": "stdout",
     "output_type": "stream",
     "text": [
      "✔ Added New Mexico 1st (shape: (2, 9))\n",
      "→ Scraping New Mexico 2nd: https://ballotpedia.org/New_Mexico's_2nd_Congressional_District_election,_2024\n"
     ]
    },
    {
     "name": "stderr",
     "output_type": "stream",
     "text": [
      "C:\\Users\\LSEng\\AppData\\Local\\Temp\\ipykernel_27152\\1995762019.py:82: DeprecationWarning: The 'text' argument to find()-type methods is deprecated. Use 'string' instead.\n",
      "  header = soup.find(\"h4\", text=\"General election\")\n",
      "C:\\Users\\LSEng\\AppData\\Local\\Temp\\ipykernel_27152\\1995762019.py:87: FutureWarning: Passing literal html to 'read_html' is deprecated and will be removed in a future version. To read from a literal string, wrap it in a 'StringIO' object.\n",
      "  df = pd.read_html(str(table), header=0)[0]\n"
     ]
    },
    {
     "name": "stdout",
     "output_type": "stream",
     "text": [
      "✔ Added New Mexico 2nd (shape: (2, 9))\n",
      "→ Scraping New Mexico 3rd: https://ballotpedia.org/New_Mexico's_3rd_Congressional_District_election,_2024\n"
     ]
    },
    {
     "name": "stderr",
     "output_type": "stream",
     "text": [
      "C:\\Users\\LSEng\\AppData\\Local\\Temp\\ipykernel_27152\\1995762019.py:82: DeprecationWarning: The 'text' argument to find()-type methods is deprecated. Use 'string' instead.\n",
      "  header = soup.find(\"h4\", text=\"General election\")\n",
      "C:\\Users\\LSEng\\AppData\\Local\\Temp\\ipykernel_27152\\1995762019.py:87: FutureWarning: Passing literal html to 'read_html' is deprecated and will be removed in a future version. To read from a literal string, wrap it in a 'StringIO' object.\n",
      "  df = pd.read_html(str(table), header=0)[0]\n"
     ]
    },
    {
     "name": "stdout",
     "output_type": "stream",
     "text": [
      "✔ Added New Mexico 3rd (shape: (2, 9))\n",
      "→ Scraping New York 1st: https://ballotpedia.org/New_York's_1st_Congressional_District_election,_2024\n"
     ]
    },
    {
     "name": "stderr",
     "output_type": "stream",
     "text": [
      "C:\\Users\\LSEng\\AppData\\Local\\Temp\\ipykernel_27152\\1995762019.py:82: DeprecationWarning: The 'text' argument to find()-type methods is deprecated. Use 'string' instead.\n",
      "  header = soup.find(\"h4\", text=\"General election\")\n",
      "C:\\Users\\LSEng\\AppData\\Local\\Temp\\ipykernel_27152\\1995762019.py:87: FutureWarning: Passing literal html to 'read_html' is deprecated and will be removed in a future version. To read from a literal string, wrap it in a 'StringIO' object.\n",
      "  df = pd.read_html(str(table), header=0)[0]\n"
     ]
    },
    {
     "name": "stdout",
     "output_type": "stream",
     "text": [
      "✔ Added New York 1st (shape: (3, 9))\n",
      "→ Scraping New York 2nd: https://ballotpedia.org/New_York's_2nd_Congressional_District_election,_2024\n"
     ]
    },
    {
     "name": "stderr",
     "output_type": "stream",
     "text": [
      "C:\\Users\\LSEng\\AppData\\Local\\Temp\\ipykernel_27152\\1995762019.py:82: DeprecationWarning: The 'text' argument to find()-type methods is deprecated. Use 'string' instead.\n",
      "  header = soup.find(\"h4\", text=\"General election\")\n",
      "C:\\Users\\LSEng\\AppData\\Local\\Temp\\ipykernel_27152\\1995762019.py:87: FutureWarning: Passing literal html to 'read_html' is deprecated and will be removed in a future version. To read from a literal string, wrap it in a 'StringIO' object.\n",
      "  df = pd.read_html(str(table), header=0)[0]\n"
     ]
    },
    {
     "name": "stdout",
     "output_type": "stream",
     "text": [
      "✔ Added New York 2nd (shape: (3, 9))\n",
      "→ Scraping New York 3rd: https://ballotpedia.org/New_York's_3rd_Congressional_District_election,_2024\n"
     ]
    },
    {
     "name": "stderr",
     "output_type": "stream",
     "text": [
      "C:\\Users\\LSEng\\AppData\\Local\\Temp\\ipykernel_27152\\1995762019.py:82: DeprecationWarning: The 'text' argument to find()-type methods is deprecated. Use 'string' instead.\n",
      "  header = soup.find(\"h4\", text=\"General election\")\n",
      "C:\\Users\\LSEng\\AppData\\Local\\Temp\\ipykernel_27152\\1995762019.py:87: FutureWarning: Passing literal html to 'read_html' is deprecated and will be removed in a future version. To read from a literal string, wrap it in a 'StringIO' object.\n",
      "  df = pd.read_html(str(table), header=0)[0]\n"
     ]
    },
    {
     "name": "stdout",
     "output_type": "stream",
     "text": [
      "✔ Added New York 3rd (shape: (3, 9))\n",
      "→ Scraping New York 4th: https://ballotpedia.org/New_York's_4th_Congressional_District_election,_2024\n"
     ]
    },
    {
     "name": "stderr",
     "output_type": "stream",
     "text": [
      "C:\\Users\\LSEng\\AppData\\Local\\Temp\\ipykernel_27152\\1995762019.py:82: DeprecationWarning: The 'text' argument to find()-type methods is deprecated. Use 'string' instead.\n",
      "  header = soup.find(\"h4\", text=\"General election\")\n",
      "C:\\Users\\LSEng\\AppData\\Local\\Temp\\ipykernel_27152\\1995762019.py:87: FutureWarning: Passing literal html to 'read_html' is deprecated and will be removed in a future version. To read from a literal string, wrap it in a 'StringIO' object.\n",
      "  df = pd.read_html(str(table), header=0)[0]\n"
     ]
    },
    {
     "name": "stdout",
     "output_type": "stream",
     "text": [
      "✔ Added New York 4th (shape: (3, 9))\n",
      "→ Scraping New York 5th: https://ballotpedia.org/New_York's_5th_Congressional_District_election,_2024\n"
     ]
    },
    {
     "name": "stderr",
     "output_type": "stream",
     "text": [
      "C:\\Users\\LSEng\\AppData\\Local\\Temp\\ipykernel_27152\\1995762019.py:82: DeprecationWarning: The 'text' argument to find()-type methods is deprecated. Use 'string' instead.\n",
      "  header = soup.find(\"h4\", text=\"General election\")\n",
      "C:\\Users\\LSEng\\AppData\\Local\\Temp\\ipykernel_27152\\1995762019.py:87: FutureWarning: Passing literal html to 'read_html' is deprecated and will be removed in a future version. To read from a literal string, wrap it in a 'StringIO' object.\n",
      "  df = pd.read_html(str(table), header=0)[0]\n"
     ]
    },
    {
     "name": "stdout",
     "output_type": "stream",
     "text": [
      "✔ Added New York 5th (shape: (3, 9))\n",
      "→ Scraping New York 6th: https://ballotpedia.org/New_York's_6th_Congressional_District_election,_2024\n"
     ]
    },
    {
     "name": "stderr",
     "output_type": "stream",
     "text": [
      "C:\\Users\\LSEng\\AppData\\Local\\Temp\\ipykernel_27152\\1995762019.py:82: DeprecationWarning: The 'text' argument to find()-type methods is deprecated. Use 'string' instead.\n",
      "  header = soup.find(\"h4\", text=\"General election\")\n",
      "C:\\Users\\LSEng\\AppData\\Local\\Temp\\ipykernel_27152\\1995762019.py:87: FutureWarning: Passing literal html to 'read_html' is deprecated and will be removed in a future version. To read from a literal string, wrap it in a 'StringIO' object.\n",
      "  df = pd.read_html(str(table), header=0)[0]\n"
     ]
    },
    {
     "name": "stdout",
     "output_type": "stream",
     "text": [
      "✔ Added New York 6th (shape: (4, 9))\n",
      "→ Scraping New York 7th: https://ballotpedia.org/New_York's_7th_Congressional_District_election,_2024\n"
     ]
    },
    {
     "name": "stderr",
     "output_type": "stream",
     "text": [
      "C:\\Users\\LSEng\\AppData\\Local\\Temp\\ipykernel_27152\\1995762019.py:82: DeprecationWarning: The 'text' argument to find()-type methods is deprecated. Use 'string' instead.\n",
      "  header = soup.find(\"h4\", text=\"General election\")\n",
      "C:\\Users\\LSEng\\AppData\\Local\\Temp\\ipykernel_27152\\1995762019.py:87: FutureWarning: Passing literal html to 'read_html' is deprecated and will be removed in a future version. To read from a literal string, wrap it in a 'StringIO' object.\n",
      "  df = pd.read_html(str(table), header=0)[0]\n"
     ]
    },
    {
     "name": "stdout",
     "output_type": "stream",
     "text": [
      "✔ Added New York 7th (shape: (3, 9))\n",
      "→ Scraping New York 8th: https://ballotpedia.org/New_York's_8th_Congressional_District_election,_2024\n"
     ]
    },
    {
     "name": "stderr",
     "output_type": "stream",
     "text": [
      "C:\\Users\\LSEng\\AppData\\Local\\Temp\\ipykernel_27152\\1995762019.py:82: DeprecationWarning: The 'text' argument to find()-type methods is deprecated. Use 'string' instead.\n",
      "  header = soup.find(\"h4\", text=\"General election\")\n",
      "C:\\Users\\LSEng\\AppData\\Local\\Temp\\ipykernel_27152\\1995762019.py:87: FutureWarning: Passing literal html to 'read_html' is deprecated and will be removed in a future version. To read from a literal string, wrap it in a 'StringIO' object.\n",
      "  df = pd.read_html(str(table), header=0)[0]\n"
     ]
    },
    {
     "name": "stdout",
     "output_type": "stream",
     "text": [
      "✔ Added New York 8th (shape: (3, 9))\n",
      "→ Scraping New York 9th: https://ballotpedia.org/New_York's_9th_Congressional_District_election,_2024\n"
     ]
    },
    {
     "name": "stderr",
     "output_type": "stream",
     "text": [
      "C:\\Users\\LSEng\\AppData\\Local\\Temp\\ipykernel_27152\\1995762019.py:82: DeprecationWarning: The 'text' argument to find()-type methods is deprecated. Use 'string' instead.\n",
      "  header = soup.find(\"h4\", text=\"General election\")\n",
      "C:\\Users\\LSEng\\AppData\\Local\\Temp\\ipykernel_27152\\1995762019.py:87: FutureWarning: Passing literal html to 'read_html' is deprecated and will be removed in a future version. To read from a literal string, wrap it in a 'StringIO' object.\n",
      "  df = pd.read_html(str(table), header=0)[0]\n"
     ]
    },
    {
     "name": "stdout",
     "output_type": "stream",
     "text": [
      "✔ Added New York 9th (shape: (3, 9))\n",
      "→ Scraping New York 10th: https://ballotpedia.org/New_York's_10th_Congressional_District_election,_2024\n"
     ]
    },
    {
     "name": "stderr",
     "output_type": "stream",
     "text": [
      "C:\\Users\\LSEng\\AppData\\Local\\Temp\\ipykernel_27152\\1995762019.py:82: DeprecationWarning: The 'text' argument to find()-type methods is deprecated. Use 'string' instead.\n",
      "  header = soup.find(\"h4\", text=\"General election\")\n",
      "C:\\Users\\LSEng\\AppData\\Local\\Temp\\ipykernel_27152\\1995762019.py:87: FutureWarning: Passing literal html to 'read_html' is deprecated and will be removed in a future version. To read from a literal string, wrap it in a 'StringIO' object.\n",
      "  df = pd.read_html(str(table), header=0)[0]\n"
     ]
    },
    {
     "name": "stdout",
     "output_type": "stream",
     "text": [
      "✔ Added New York 10th (shape: (4, 9))\n",
      "→ Scraping New York 11th: https://ballotpedia.org/New_York's_11th_Congressional_District_election,_2024\n"
     ]
    },
    {
     "name": "stderr",
     "output_type": "stream",
     "text": [
      "C:\\Users\\LSEng\\AppData\\Local\\Temp\\ipykernel_27152\\1995762019.py:82: DeprecationWarning: The 'text' argument to find()-type methods is deprecated. Use 'string' instead.\n",
      "  header = soup.find(\"h4\", text=\"General election\")\n",
      "C:\\Users\\LSEng\\AppData\\Local\\Temp\\ipykernel_27152\\1995762019.py:87: FutureWarning: Passing literal html to 'read_html' is deprecated and will be removed in a future version. To read from a literal string, wrap it in a 'StringIO' object.\n",
      "  df = pd.read_html(str(table), header=0)[0]\n"
     ]
    },
    {
     "name": "stdout",
     "output_type": "stream",
     "text": [
      "✔ Added New York 11th (shape: (3, 9))\n",
      "→ Scraping New York 12th: https://ballotpedia.org/New_York's_12th_Congressional_District_election,_2024\n"
     ]
    },
    {
     "name": "stderr",
     "output_type": "stream",
     "text": [
      "C:\\Users\\LSEng\\AppData\\Local\\Temp\\ipykernel_27152\\1995762019.py:82: DeprecationWarning: The 'text' argument to find()-type methods is deprecated. Use 'string' instead.\n",
      "  header = soup.find(\"h4\", text=\"General election\")\n",
      "C:\\Users\\LSEng\\AppData\\Local\\Temp\\ipykernel_27152\\1995762019.py:87: FutureWarning: Passing literal html to 'read_html' is deprecated and will be removed in a future version. To read from a literal string, wrap it in a 'StringIO' object.\n",
      "  df = pd.read_html(str(table), header=0)[0]\n"
     ]
    },
    {
     "name": "stdout",
     "output_type": "stream",
     "text": [
      "✔ Added New York 12th (shape: (3, 9))\n",
      "→ Scraping New York 13th: https://ballotpedia.org/New_York's_13th_Congressional_District_election,_2024\n"
     ]
    },
    {
     "name": "stderr",
     "output_type": "stream",
     "text": [
      "C:\\Users\\LSEng\\AppData\\Local\\Temp\\ipykernel_27152\\1995762019.py:82: DeprecationWarning: The 'text' argument to find()-type methods is deprecated. Use 'string' instead.\n",
      "  header = soup.find(\"h4\", text=\"General election\")\n",
      "C:\\Users\\LSEng\\AppData\\Local\\Temp\\ipykernel_27152\\1995762019.py:87: FutureWarning: Passing literal html to 'read_html' is deprecated and will be removed in a future version. To read from a literal string, wrap it in a 'StringIO' object.\n",
      "  df = pd.read_html(str(table), header=0)[0]\n"
     ]
    },
    {
     "name": "stdout",
     "output_type": "stream",
     "text": [
      "✔ Added New York 13th (shape: (3, 9))\n",
      "→ Scraping New York 14th: https://ballotpedia.org/New_York's_14th_Congressional_District_election,_2024\n"
     ]
    },
    {
     "name": "stderr",
     "output_type": "stream",
     "text": [
      "C:\\Users\\LSEng\\AppData\\Local\\Temp\\ipykernel_27152\\1995762019.py:82: DeprecationWarning: The 'text' argument to find()-type methods is deprecated. Use 'string' instead.\n",
      "  header = soup.find(\"h4\", text=\"General election\")\n",
      "C:\\Users\\LSEng\\AppData\\Local\\Temp\\ipykernel_27152\\1995762019.py:87: FutureWarning: Passing literal html to 'read_html' is deprecated and will be removed in a future version. To read from a literal string, wrap it in a 'StringIO' object.\n",
      "  df = pd.read_html(str(table), header=0)[0]\n"
     ]
    },
    {
     "name": "stdout",
     "output_type": "stream",
     "text": [
      "✔ Added New York 14th (shape: (3, 9))\n",
      "→ Scraping New York 15th: https://ballotpedia.org/New_York's_15th_Congressional_District_election,_2024\n"
     ]
    },
    {
     "name": "stderr",
     "output_type": "stream",
     "text": [
      "C:\\Users\\LSEng\\AppData\\Local\\Temp\\ipykernel_27152\\1995762019.py:82: DeprecationWarning: The 'text' argument to find()-type methods is deprecated. Use 'string' instead.\n",
      "  header = soup.find(\"h4\", text=\"General election\")\n",
      "C:\\Users\\LSEng\\AppData\\Local\\Temp\\ipykernel_27152\\1995762019.py:87: FutureWarning: Passing literal html to 'read_html' is deprecated and will be removed in a future version. To read from a literal string, wrap it in a 'StringIO' object.\n",
      "  df = pd.read_html(str(table), header=0)[0]\n"
     ]
    },
    {
     "name": "stdout",
     "output_type": "stream",
     "text": [
      "✔ Added New York 15th (shape: (4, 9))\n",
      "→ Scraping New York 16th: https://ballotpedia.org/New_York's_16th_Congressional_District_election,_2024\n"
     ]
    },
    {
     "name": "stderr",
     "output_type": "stream",
     "text": [
      "C:\\Users\\LSEng\\AppData\\Local\\Temp\\ipykernel_27152\\1995762019.py:82: DeprecationWarning: The 'text' argument to find()-type methods is deprecated. Use 'string' instead.\n",
      "  header = soup.find(\"h4\", text=\"General election\")\n",
      "C:\\Users\\LSEng\\AppData\\Local\\Temp\\ipykernel_27152\\1995762019.py:87: FutureWarning: Passing literal html to 'read_html' is deprecated and will be removed in a future version. To read from a literal string, wrap it in a 'StringIO' object.\n",
      "  df = pd.read_html(str(table), header=0)[0]\n"
     ]
    },
    {
     "name": "stdout",
     "output_type": "stream",
     "text": [
      "✔ Added New York 16th (shape: (3, 9))\n",
      "→ Scraping New York 17th: https://ballotpedia.org/New_York's_17th_Congressional_District_election,_2024\n"
     ]
    },
    {
     "name": "stderr",
     "output_type": "stream",
     "text": [
      "C:\\Users\\LSEng\\AppData\\Local\\Temp\\ipykernel_27152\\1995762019.py:82: DeprecationWarning: The 'text' argument to find()-type methods is deprecated. Use 'string' instead.\n",
      "  header = soup.find(\"h4\", text=\"General election\")\n",
      "C:\\Users\\LSEng\\AppData\\Local\\Temp\\ipykernel_27152\\1995762019.py:87: FutureWarning: Passing literal html to 'read_html' is deprecated and will be removed in a future version. To read from a literal string, wrap it in a 'StringIO' object.\n",
      "  df = pd.read_html(str(table), header=0)[0]\n"
     ]
    },
    {
     "name": "stdout",
     "output_type": "stream",
     "text": [
      "✔ Added New York 17th (shape: (4, 9))\n",
      "→ Scraping New York 18th: https://ballotpedia.org/New_York's_18th_Congressional_District_election,_2024\n"
     ]
    },
    {
     "name": "stderr",
     "output_type": "stream",
     "text": [
      "C:\\Users\\LSEng\\AppData\\Local\\Temp\\ipykernel_27152\\1995762019.py:82: DeprecationWarning: The 'text' argument to find()-type methods is deprecated. Use 'string' instead.\n",
      "  header = soup.find(\"h4\", text=\"General election\")\n",
      "C:\\Users\\LSEng\\AppData\\Local\\Temp\\ipykernel_27152\\1995762019.py:87: FutureWarning: Passing literal html to 'read_html' is deprecated and will be removed in a future version. To read from a literal string, wrap it in a 'StringIO' object.\n",
      "  df = pd.read_html(str(table), header=0)[0]\n"
     ]
    },
    {
     "name": "stdout",
     "output_type": "stream",
     "text": [
      "✔ Added New York 18th (shape: (3, 9))\n",
      "→ Scraping New York 19th: https://ballotpedia.org/New_York's_19th_Congressional_District_election,_2024\n"
     ]
    },
    {
     "name": "stderr",
     "output_type": "stream",
     "text": [
      "C:\\Users\\LSEng\\AppData\\Local\\Temp\\ipykernel_27152\\1995762019.py:82: DeprecationWarning: The 'text' argument to find()-type methods is deprecated. Use 'string' instead.\n",
      "  header = soup.find(\"h4\", text=\"General election\")\n",
      "C:\\Users\\LSEng\\AppData\\Local\\Temp\\ipykernel_27152\\1995762019.py:87: FutureWarning: Passing literal html to 'read_html' is deprecated and will be removed in a future version. To read from a literal string, wrap it in a 'StringIO' object.\n",
      "  df = pd.read_html(str(table), header=0)[0]\n"
     ]
    },
    {
     "name": "stdout",
     "output_type": "stream",
     "text": [
      "✔ Added New York 19th (shape: (3, 9))\n",
      "→ Scraping New York 20th: https://ballotpedia.org/New_York's_20th_Congressional_District_election,_2024\n"
     ]
    },
    {
     "name": "stderr",
     "output_type": "stream",
     "text": [
      "C:\\Users\\LSEng\\AppData\\Local\\Temp\\ipykernel_27152\\1995762019.py:82: DeprecationWarning: The 'text' argument to find()-type methods is deprecated. Use 'string' instead.\n",
      "  header = soup.find(\"h4\", text=\"General election\")\n",
      "C:\\Users\\LSEng\\AppData\\Local\\Temp\\ipykernel_27152\\1995762019.py:87: FutureWarning: Passing literal html to 'read_html' is deprecated and will be removed in a future version. To read from a literal string, wrap it in a 'StringIO' object.\n",
      "  df = pd.read_html(str(table), header=0)[0]\n"
     ]
    },
    {
     "name": "stdout",
     "output_type": "stream",
     "text": [
      "✔ Added New York 20th (shape: (3, 9))\n",
      "→ Scraping New York 21st: https://ballotpedia.org/New_York's_21st_Congressional_District_election,_2024\n"
     ]
    },
    {
     "name": "stderr",
     "output_type": "stream",
     "text": [
      "C:\\Users\\LSEng\\AppData\\Local\\Temp\\ipykernel_27152\\1995762019.py:82: DeprecationWarning: The 'text' argument to find()-type methods is deprecated. Use 'string' instead.\n",
      "  header = soup.find(\"h4\", text=\"General election\")\n",
      "C:\\Users\\LSEng\\AppData\\Local\\Temp\\ipykernel_27152\\1995762019.py:87: FutureWarning: Passing literal html to 'read_html' is deprecated and will be removed in a future version. To read from a literal string, wrap it in a 'StringIO' object.\n",
      "  df = pd.read_html(str(table), header=0)[0]\n"
     ]
    },
    {
     "name": "stdout",
     "output_type": "stream",
     "text": [
      "✔ Added New York 21st (shape: (4, 9))\n",
      "→ Scraping New York 22nd: https://ballotpedia.org/New_York's_22nd_Congressional_District_election,_2024\n"
     ]
    },
    {
     "name": "stderr",
     "output_type": "stream",
     "text": [
      "C:\\Users\\LSEng\\AppData\\Local\\Temp\\ipykernel_27152\\1995762019.py:82: DeprecationWarning: The 'text' argument to find()-type methods is deprecated. Use 'string' instead.\n",
      "  header = soup.find(\"h4\", text=\"General election\")\n",
      "C:\\Users\\LSEng\\AppData\\Local\\Temp\\ipykernel_27152\\1995762019.py:87: FutureWarning: Passing literal html to 'read_html' is deprecated and will be removed in a future version. To read from a literal string, wrap it in a 'StringIO' object.\n",
      "  df = pd.read_html(str(table), header=0)[0]\n"
     ]
    },
    {
     "name": "stdout",
     "output_type": "stream",
     "text": [
      "✔ Added New York 22nd (shape: (3, 9))\n",
      "→ Scraping New York 23rd: https://ballotpedia.org/New_York's_23rd_Congressional_District_election,_2024\n"
     ]
    },
    {
     "name": "stderr",
     "output_type": "stream",
     "text": [
      "C:\\Users\\LSEng\\AppData\\Local\\Temp\\ipykernel_27152\\1995762019.py:82: DeprecationWarning: The 'text' argument to find()-type methods is deprecated. Use 'string' instead.\n",
      "  header = soup.find(\"h4\", text=\"General election\")\n",
      "C:\\Users\\LSEng\\AppData\\Local\\Temp\\ipykernel_27152\\1995762019.py:87: FutureWarning: Passing literal html to 'read_html' is deprecated and will be removed in a future version. To read from a literal string, wrap it in a 'StringIO' object.\n",
      "  df = pd.read_html(str(table), header=0)[0]\n"
     ]
    },
    {
     "name": "stdout",
     "output_type": "stream",
     "text": [
      "✔ Added New York 23rd (shape: (3, 9))\n",
      "→ Scraping New York 24th: https://ballotpedia.org/New_York's_24th_Congressional_District_election,_2024\n"
     ]
    },
    {
     "name": "stderr",
     "output_type": "stream",
     "text": [
      "C:\\Users\\LSEng\\AppData\\Local\\Temp\\ipykernel_27152\\1995762019.py:82: DeprecationWarning: The 'text' argument to find()-type methods is deprecated. Use 'string' instead.\n",
      "  header = soup.find(\"h4\", text=\"General election\")\n",
      "C:\\Users\\LSEng\\AppData\\Local\\Temp\\ipykernel_27152\\1995762019.py:87: FutureWarning: Passing literal html to 'read_html' is deprecated and will be removed in a future version. To read from a literal string, wrap it in a 'StringIO' object.\n",
      "  df = pd.read_html(str(table), header=0)[0]\n"
     ]
    },
    {
     "name": "stdout",
     "output_type": "stream",
     "text": [
      "✔ Added New York 24th (shape: (3, 9))\n",
      "→ Scraping New York 25th: https://ballotpedia.org/New_York's_25th_Congressional_District_election,_2024\n"
     ]
    },
    {
     "name": "stderr",
     "output_type": "stream",
     "text": [
      "C:\\Users\\LSEng\\AppData\\Local\\Temp\\ipykernel_27152\\1995762019.py:82: DeprecationWarning: The 'text' argument to find()-type methods is deprecated. Use 'string' instead.\n",
      "  header = soup.find(\"h4\", text=\"General election\")\n",
      "C:\\Users\\LSEng\\AppData\\Local\\Temp\\ipykernel_27152\\1995762019.py:87: FutureWarning: Passing literal html to 'read_html' is deprecated and will be removed in a future version. To read from a literal string, wrap it in a 'StringIO' object.\n",
      "  df = pd.read_html(str(table), header=0)[0]\n"
     ]
    },
    {
     "name": "stdout",
     "output_type": "stream",
     "text": [
      "✔ Added New York 25th (shape: (3, 9))\n",
      "→ Scraping New York 26th: https://ballotpedia.org/New_York's_26th_Congressional_District_election,_2024\n"
     ]
    },
    {
     "name": "stderr",
     "output_type": "stream",
     "text": [
      "C:\\Users\\LSEng\\AppData\\Local\\Temp\\ipykernel_27152\\1995762019.py:82: DeprecationWarning: The 'text' argument to find()-type methods is deprecated. Use 'string' instead.\n",
      "  header = soup.find(\"h4\", text=\"General election\")\n",
      "C:\\Users\\LSEng\\AppData\\Local\\Temp\\ipykernel_27152\\1995762019.py:87: FutureWarning: Passing literal html to 'read_html' is deprecated and will be removed in a future version. To read from a literal string, wrap it in a 'StringIO' object.\n",
      "  df = pd.read_html(str(table), header=0)[0]\n"
     ]
    },
    {
     "name": "stdout",
     "output_type": "stream",
     "text": [
      "✔ Added New York 26th (shape: (3, 9))\n",
      "→ Scraping North Carolina 1st: https://ballotpedia.org/North_Carolina's_1st_Congressional_District_election,_2024\n"
     ]
    },
    {
     "name": "stderr",
     "output_type": "stream",
     "text": [
      "C:\\Users\\LSEng\\AppData\\Local\\Temp\\ipykernel_27152\\1995762019.py:82: DeprecationWarning: The 'text' argument to find()-type methods is deprecated. Use 'string' instead.\n",
      "  header = soup.find(\"h4\", text=\"General election\")\n",
      "C:\\Users\\LSEng\\AppData\\Local\\Temp\\ipykernel_27152\\1995762019.py:87: FutureWarning: Passing literal html to 'read_html' is deprecated and will be removed in a future version. To read from a literal string, wrap it in a 'StringIO' object.\n",
      "  df = pd.read_html(str(table), header=0)[0]\n"
     ]
    },
    {
     "name": "stdout",
     "output_type": "stream",
     "text": [
      "✔ Added North Carolina 1st (shape: (3, 9))\n",
      "→ Scraping North Carolina 2nd: https://ballotpedia.org/North_Carolina's_2nd_Congressional_District_election,_2024\n"
     ]
    },
    {
     "name": "stderr",
     "output_type": "stream",
     "text": [
      "C:\\Users\\LSEng\\AppData\\Local\\Temp\\ipykernel_27152\\1995762019.py:82: DeprecationWarning: The 'text' argument to find()-type methods is deprecated. Use 'string' instead.\n",
      "  header = soup.find(\"h4\", text=\"General election\")\n",
      "C:\\Users\\LSEng\\AppData\\Local\\Temp\\ipykernel_27152\\1995762019.py:87: FutureWarning: Passing literal html to 'read_html' is deprecated and will be removed in a future version. To read from a literal string, wrap it in a 'StringIO' object.\n",
      "  df = pd.read_html(str(table), header=0)[0]\n"
     ]
    },
    {
     "name": "stdout",
     "output_type": "stream",
     "text": [
      "✔ Added North Carolina 2nd (shape: (3, 9))\n",
      "→ Scraping North Carolina 3rd: https://ballotpedia.org/North_Carolina's_3rd_Congressional_District_election,_2024\n"
     ]
    },
    {
     "name": "stderr",
     "output_type": "stream",
     "text": [
      "C:\\Users\\LSEng\\AppData\\Local\\Temp\\ipykernel_27152\\1995762019.py:82: DeprecationWarning: The 'text' argument to find()-type methods is deprecated. Use 'string' instead.\n",
      "  header = soup.find(\"h4\", text=\"General election\")\n",
      "C:\\Users\\LSEng\\AppData\\Local\\Temp\\ipykernel_27152\\1995762019.py:87: FutureWarning: Passing literal html to 'read_html' is deprecated and will be removed in a future version. To read from a literal string, wrap it in a 'StringIO' object.\n",
      "  df = pd.read_html(str(table), header=0)[0]\n"
     ]
    },
    {
     "name": "stdout",
     "output_type": "stream",
     "text": [
      "✔ Added North Carolina 3rd (shape: (2, 9))\n",
      "→ Scraping North Carolina 4th: https://ballotpedia.org/North_Carolina's_4th_Congressional_District_election,_2024\n"
     ]
    },
    {
     "name": "stderr",
     "output_type": "stream",
     "text": [
      "C:\\Users\\LSEng\\AppData\\Local\\Temp\\ipykernel_27152\\1995762019.py:82: DeprecationWarning: The 'text' argument to find()-type methods is deprecated. Use 'string' instead.\n",
      "  header = soup.find(\"h4\", text=\"General election\")\n",
      "C:\\Users\\LSEng\\AppData\\Local\\Temp\\ipykernel_27152\\1995762019.py:87: FutureWarning: Passing literal html to 'read_html' is deprecated and will be removed in a future version. To read from a literal string, wrap it in a 'StringIO' object.\n",
      "  df = pd.read_html(str(table), header=0)[0]\n"
     ]
    },
    {
     "name": "stdout",
     "output_type": "stream",
     "text": [
      "✔ Added North Carolina 4th (shape: (3, 9))\n",
      "→ Scraping North Carolina 5th: https://ballotpedia.org/North_Carolina's_5th_Congressional_District_election,_2024\n"
     ]
    },
    {
     "name": "stderr",
     "output_type": "stream",
     "text": [
      "C:\\Users\\LSEng\\AppData\\Local\\Temp\\ipykernel_27152\\1995762019.py:82: DeprecationWarning: The 'text' argument to find()-type methods is deprecated. Use 'string' instead.\n",
      "  header = soup.find(\"h4\", text=\"General election\")\n",
      "C:\\Users\\LSEng\\AppData\\Local\\Temp\\ipykernel_27152\\1995762019.py:87: FutureWarning: Passing literal html to 'read_html' is deprecated and will be removed in a future version. To read from a literal string, wrap it in a 'StringIO' object.\n",
      "  df = pd.read_html(str(table), header=0)[0]\n"
     ]
    },
    {
     "name": "stdout",
     "output_type": "stream",
     "text": [
      "✔ Added North Carolina 5th (shape: (2, 9))\n",
      "→ Scraping North Carolina 6th: https://ballotpedia.org/North_Carolina's_6th_Congressional_District_election,_2024\n"
     ]
    },
    {
     "name": "stderr",
     "output_type": "stream",
     "text": [
      "C:\\Users\\LSEng\\AppData\\Local\\Temp\\ipykernel_27152\\1995762019.py:82: DeprecationWarning: The 'text' argument to find()-type methods is deprecated. Use 'string' instead.\n",
      "  header = soup.find(\"h4\", text=\"General election\")\n",
      "C:\\Users\\LSEng\\AppData\\Local\\Temp\\ipykernel_27152\\1995762019.py:87: FutureWarning: Passing literal html to 'read_html' is deprecated and will be removed in a future version. To read from a literal string, wrap it in a 'StringIO' object.\n",
      "  df = pd.read_html(str(table), header=0)[0]\n"
     ]
    },
    {
     "name": "stdout",
     "output_type": "stream",
     "text": [
      "✔ Added North Carolina 6th (shape: (2, 9))\n",
      "→ Scraping North Carolina 7th: https://ballotpedia.org/North_Carolina's_7th_Congressional_District_election,_2024\n"
     ]
    },
    {
     "name": "stderr",
     "output_type": "stream",
     "text": [
      "C:\\Users\\LSEng\\AppData\\Local\\Temp\\ipykernel_27152\\1995762019.py:82: DeprecationWarning: The 'text' argument to find()-type methods is deprecated. Use 'string' instead.\n",
      "  header = soup.find(\"h4\", text=\"General election\")\n",
      "C:\\Users\\LSEng\\AppData\\Local\\Temp\\ipykernel_27152\\1995762019.py:87: FutureWarning: Passing literal html to 'read_html' is deprecated and will be removed in a future version. To read from a literal string, wrap it in a 'StringIO' object.\n",
      "  df = pd.read_html(str(table), header=0)[0]\n"
     ]
    },
    {
     "name": "stdout",
     "output_type": "stream",
     "text": [
      "✔ Added North Carolina 7th (shape: (2, 9))\n",
      "→ Scraping North Carolina 8th: https://ballotpedia.org/North_Carolina's_8th_Congressional_District_election,_2024\n"
     ]
    },
    {
     "name": "stderr",
     "output_type": "stream",
     "text": [
      "C:\\Users\\LSEng\\AppData\\Local\\Temp\\ipykernel_27152\\1995762019.py:82: DeprecationWarning: The 'text' argument to find()-type methods is deprecated. Use 'string' instead.\n",
      "  header = soup.find(\"h4\", text=\"General election\")\n",
      "C:\\Users\\LSEng\\AppData\\Local\\Temp\\ipykernel_27152\\1995762019.py:87: FutureWarning: Passing literal html to 'read_html' is deprecated and will be removed in a future version. To read from a literal string, wrap it in a 'StringIO' object.\n",
      "  df = pd.read_html(str(table), header=0)[0]\n"
     ]
    },
    {
     "name": "stdout",
     "output_type": "stream",
     "text": [
      "✔ Added North Carolina 8th (shape: (2, 9))\n",
      "→ Scraping North Carolina 9th: https://ballotpedia.org/North_Carolina's_9th_Congressional_District_election,_2024\n"
     ]
    },
    {
     "name": "stderr",
     "output_type": "stream",
     "text": [
      "C:\\Users\\LSEng\\AppData\\Local\\Temp\\ipykernel_27152\\1995762019.py:82: DeprecationWarning: The 'text' argument to find()-type methods is deprecated. Use 'string' instead.\n",
      "  header = soup.find(\"h4\", text=\"General election\")\n",
      "C:\\Users\\LSEng\\AppData\\Local\\Temp\\ipykernel_27152\\1995762019.py:87: FutureWarning: Passing literal html to 'read_html' is deprecated and will be removed in a future version. To read from a literal string, wrap it in a 'StringIO' object.\n",
      "  df = pd.read_html(str(table), header=0)[0]\n"
     ]
    },
    {
     "name": "stdout",
     "output_type": "stream",
     "text": [
      "✔ Added North Carolina 9th (shape: (3, 9))\n",
      "→ Scraping North Carolina 10th: https://ballotpedia.org/North_Carolina's_10th_Congressional_District_election,_2024\n"
     ]
    },
    {
     "name": "stderr",
     "output_type": "stream",
     "text": [
      "C:\\Users\\LSEng\\AppData\\Local\\Temp\\ipykernel_27152\\1995762019.py:82: DeprecationWarning: The 'text' argument to find()-type methods is deprecated. Use 'string' instead.\n",
      "  header = soup.find(\"h4\", text=\"General election\")\n",
      "C:\\Users\\LSEng\\AppData\\Local\\Temp\\ipykernel_27152\\1995762019.py:87: FutureWarning: Passing literal html to 'read_html' is deprecated and will be removed in a future version. To read from a literal string, wrap it in a 'StringIO' object.\n",
      "  df = pd.read_html(str(table), header=0)[0]\n"
     ]
    },
    {
     "name": "stdout",
     "output_type": "stream",
     "text": [
      "✔ Added North Carolina 10th (shape: (4, 9))\n",
      "→ Scraping North Carolina 11th: https://ballotpedia.org/North_Carolina's_11th_Congressional_District_election,_2024\n"
     ]
    },
    {
     "name": "stderr",
     "output_type": "stream",
     "text": [
      "C:\\Users\\LSEng\\AppData\\Local\\Temp\\ipykernel_27152\\1995762019.py:82: DeprecationWarning: The 'text' argument to find()-type methods is deprecated. Use 'string' instead.\n",
      "  header = soup.find(\"h4\", text=\"General election\")\n",
      "C:\\Users\\LSEng\\AppData\\Local\\Temp\\ipykernel_27152\\1995762019.py:87: FutureWarning: Passing literal html to 'read_html' is deprecated and will be removed in a future version. To read from a literal string, wrap it in a 'StringIO' object.\n",
      "  df = pd.read_html(str(table), header=0)[0]\n"
     ]
    },
    {
     "name": "stdout",
     "output_type": "stream",
     "text": [
      "✔ Added North Carolina 11th (shape: (2, 9))\n",
      "→ Scraping North Carolina 12th: https://ballotpedia.org/North_Carolina's_12th_Congressional_District_election,_2024\n"
     ]
    },
    {
     "name": "stderr",
     "output_type": "stream",
     "text": [
      "C:\\Users\\LSEng\\AppData\\Local\\Temp\\ipykernel_27152\\1995762019.py:82: DeprecationWarning: The 'text' argument to find()-type methods is deprecated. Use 'string' instead.\n",
      "  header = soup.find(\"h4\", text=\"General election\")\n",
      "C:\\Users\\LSEng\\AppData\\Local\\Temp\\ipykernel_27152\\1995762019.py:87: FutureWarning: Passing literal html to 'read_html' is deprecated and will be removed in a future version. To read from a literal string, wrap it in a 'StringIO' object.\n",
      "  df = pd.read_html(str(table), header=0)[0]\n"
     ]
    },
    {
     "name": "stdout",
     "output_type": "stream",
     "text": [
      "✔ Added North Carolina 12th (shape: (2, 9))\n",
      "→ Scraping North Carolina 13th: https://ballotpedia.org/North_Carolina's_13th_Congressional_District_election,_2024\n"
     ]
    },
    {
     "name": "stderr",
     "output_type": "stream",
     "text": [
      "C:\\Users\\LSEng\\AppData\\Local\\Temp\\ipykernel_27152\\1995762019.py:82: DeprecationWarning: The 'text' argument to find()-type methods is deprecated. Use 'string' instead.\n",
      "  header = soup.find(\"h4\", text=\"General election\")\n",
      "C:\\Users\\LSEng\\AppData\\Local\\Temp\\ipykernel_27152\\1995762019.py:87: FutureWarning: Passing literal html to 'read_html' is deprecated and will be removed in a future version. To read from a literal string, wrap it in a 'StringIO' object.\n",
      "  df = pd.read_html(str(table), header=0)[0]\n"
     ]
    },
    {
     "name": "stdout",
     "output_type": "stream",
     "text": [
      "✔ Added North Carolina 13th (shape: (2, 9))\n",
      "→ Scraping North Carolina 14th: https://ballotpedia.org/North_Carolina's_14th_Congressional_District_election,_2024\n"
     ]
    },
    {
     "name": "stderr",
     "output_type": "stream",
     "text": [
      "C:\\Users\\LSEng\\AppData\\Local\\Temp\\ipykernel_27152\\1995762019.py:82: DeprecationWarning: The 'text' argument to find()-type methods is deprecated. Use 'string' instead.\n",
      "  header = soup.find(\"h4\", text=\"General election\")\n",
      "C:\\Users\\LSEng\\AppData\\Local\\Temp\\ipykernel_27152\\1995762019.py:87: FutureWarning: Passing literal html to 'read_html' is deprecated and will be removed in a future version. To read from a literal string, wrap it in a 'StringIO' object.\n",
      "  df = pd.read_html(str(table), header=0)[0]\n"
     ]
    },
    {
     "name": "stdout",
     "output_type": "stream",
     "text": [
      "✔ Added North Carolina 14th (shape: (2, 9))\n",
      "→ Scraping North Dakota At-large: https://ballotpedia.org/North_Dakota's_At-large_Congressional_District_election,_2024\n"
     ]
    },
    {
     "name": "stderr",
     "output_type": "stream",
     "text": [
      "C:\\Users\\LSEng\\AppData\\Local\\Temp\\ipykernel_27152\\1995762019.py:82: DeprecationWarning: The 'text' argument to find()-type methods is deprecated. Use 'string' instead.\n",
      "  header = soup.find(\"h4\", text=\"General election\")\n",
      "C:\\Users\\LSEng\\AppData\\Local\\Temp\\ipykernel_27152\\1995762019.py:87: FutureWarning: Passing literal html to 'read_html' is deprecated and will be removed in a future version. To read from a literal string, wrap it in a 'StringIO' object.\n",
      "  df = pd.read_html(str(table), header=0)[0]\n"
     ]
    },
    {
     "name": "stdout",
     "output_type": "stream",
     "text": [
      "✔ Added North Dakota At-large (shape: (3, 9))\n",
      "→ Scraping Ohio 1st: https://ballotpedia.org/Ohio's_1st_Congressional_District_election,_2024\n"
     ]
    },
    {
     "name": "stderr",
     "output_type": "stream",
     "text": [
      "C:\\Users\\LSEng\\AppData\\Local\\Temp\\ipykernel_27152\\1995762019.py:82: DeprecationWarning: The 'text' argument to find()-type methods is deprecated. Use 'string' instead.\n",
      "  header = soup.find(\"h4\", text=\"General election\")\n",
      "C:\\Users\\LSEng\\AppData\\Local\\Temp\\ipykernel_27152\\1995762019.py:87: FutureWarning: Passing literal html to 'read_html' is deprecated and will be removed in a future version. To read from a literal string, wrap it in a 'StringIO' object.\n",
      "  df = pd.read_html(str(table), header=0)[0]\n"
     ]
    },
    {
     "name": "stdout",
     "output_type": "stream",
     "text": [
      "✔ Added Ohio 1st (shape: (2, 9))\n",
      "→ Scraping Ohio 2nd: https://ballotpedia.org/Ohio's_2nd_Congressional_District_election,_2024\n",
      "⚠ Skipped Ohio 2nd: HTTPSConnectionPool(host='ballotpedia.org', port=443): Read timed out. (read timeout=10)\n",
      "→ Scraping Ohio 3rd: https://ballotpedia.org/Ohio's_3rd_Congressional_District_election,_2024\n"
     ]
    },
    {
     "name": "stderr",
     "output_type": "stream",
     "text": [
      "C:\\Users\\LSEng\\AppData\\Local\\Temp\\ipykernel_27152\\1995762019.py:82: DeprecationWarning: The 'text' argument to find()-type methods is deprecated. Use 'string' instead.\n",
      "  header = soup.find(\"h4\", text=\"General election\")\n",
      "C:\\Users\\LSEng\\AppData\\Local\\Temp\\ipykernel_27152\\1995762019.py:87: FutureWarning: Passing literal html to 'read_html' is deprecated and will be removed in a future version. To read from a literal string, wrap it in a 'StringIO' object.\n",
      "  df = pd.read_html(str(table), header=0)[0]\n"
     ]
    },
    {
     "name": "stdout",
     "output_type": "stream",
     "text": [
      "✔ Added Ohio 3rd (shape: (2, 9))\n",
      "→ Scraping Ohio 4th: https://ballotpedia.org/Ohio's_4th_Congressional_District_election,_2024\n"
     ]
    },
    {
     "name": "stderr",
     "output_type": "stream",
     "text": [
      "C:\\Users\\LSEng\\AppData\\Local\\Temp\\ipykernel_27152\\1995762019.py:82: DeprecationWarning: The 'text' argument to find()-type methods is deprecated. Use 'string' instead.\n",
      "  header = soup.find(\"h4\", text=\"General election\")\n",
      "C:\\Users\\LSEng\\AppData\\Local\\Temp\\ipykernel_27152\\1995762019.py:87: FutureWarning: Passing literal html to 'read_html' is deprecated and will be removed in a future version. To read from a literal string, wrap it in a 'StringIO' object.\n",
      "  df = pd.read_html(str(table), header=0)[0]\n"
     ]
    },
    {
     "name": "stdout",
     "output_type": "stream",
     "text": [
      "✔ Added Ohio 4th (shape: (2, 9))\n",
      "→ Scraping Ohio 5th: https://ballotpedia.org/Ohio's_5th_Congressional_District_election,_2024\n"
     ]
    },
    {
     "name": "stderr",
     "output_type": "stream",
     "text": [
      "C:\\Users\\LSEng\\AppData\\Local\\Temp\\ipykernel_27152\\1995762019.py:82: DeprecationWarning: The 'text' argument to find()-type methods is deprecated. Use 'string' instead.\n",
      "  header = soup.find(\"h4\", text=\"General election\")\n",
      "C:\\Users\\LSEng\\AppData\\Local\\Temp\\ipykernel_27152\\1995762019.py:87: FutureWarning: Passing literal html to 'read_html' is deprecated and will be removed in a future version. To read from a literal string, wrap it in a 'StringIO' object.\n",
      "  df = pd.read_html(str(table), header=0)[0]\n"
     ]
    },
    {
     "name": "stdout",
     "output_type": "stream",
     "text": [
      "✔ Added Ohio 5th (shape: (2, 9))\n",
      "→ Scraping Ohio 6th: https://ballotpedia.org/Ohio's_6th_Congressional_District_election,_2024\n"
     ]
    },
    {
     "name": "stderr",
     "output_type": "stream",
     "text": [
      "C:\\Users\\LSEng\\AppData\\Local\\Temp\\ipykernel_27152\\1995762019.py:82: DeprecationWarning: The 'text' argument to find()-type methods is deprecated. Use 'string' instead.\n",
      "  header = soup.find(\"h4\", text=\"General election\")\n",
      "C:\\Users\\LSEng\\AppData\\Local\\Temp\\ipykernel_27152\\1995762019.py:87: FutureWarning: Passing literal html to 'read_html' is deprecated and will be removed in a future version. To read from a literal string, wrap it in a 'StringIO' object.\n",
      "  df = pd.read_html(str(table), header=0)[0]\n"
     ]
    },
    {
     "name": "stdout",
     "output_type": "stream",
     "text": [
      "✔ Added Ohio 6th (shape: (2, 9))\n",
      "→ Scraping Ohio 7th: https://ballotpedia.org/Ohio's_7th_Congressional_District_election,_2024\n"
     ]
    },
    {
     "name": "stderr",
     "output_type": "stream",
     "text": [
      "C:\\Users\\LSEng\\AppData\\Local\\Temp\\ipykernel_27152\\1995762019.py:82: DeprecationWarning: The 'text' argument to find()-type methods is deprecated. Use 'string' instead.\n",
      "  header = soup.find(\"h4\", text=\"General election\")\n",
      "C:\\Users\\LSEng\\AppData\\Local\\Temp\\ipykernel_27152\\1995762019.py:87: FutureWarning: Passing literal html to 'read_html' is deprecated and will be removed in a future version. To read from a literal string, wrap it in a 'StringIO' object.\n",
      "  df = pd.read_html(str(table), header=0)[0]\n"
     ]
    },
    {
     "name": "stdout",
     "output_type": "stream",
     "text": [
      "✔ Added Ohio 7th (shape: (3, 9))\n",
      "→ Scraping Ohio 8th: https://ballotpedia.org/Ohio's_8th_Congressional_District_election,_2024\n"
     ]
    },
    {
     "name": "stderr",
     "output_type": "stream",
     "text": [
      "C:\\Users\\LSEng\\AppData\\Local\\Temp\\ipykernel_27152\\1995762019.py:82: DeprecationWarning: The 'text' argument to find()-type methods is deprecated. Use 'string' instead.\n",
      "  header = soup.find(\"h4\", text=\"General election\")\n",
      "C:\\Users\\LSEng\\AppData\\Local\\Temp\\ipykernel_27152\\1995762019.py:87: FutureWarning: Passing literal html to 'read_html' is deprecated and will be removed in a future version. To read from a literal string, wrap it in a 'StringIO' object.\n",
      "  df = pd.read_html(str(table), header=0)[0]\n"
     ]
    },
    {
     "name": "stdout",
     "output_type": "stream",
     "text": [
      "✔ Added Ohio 8th (shape: (2, 9))\n",
      "→ Scraping Ohio 9th: https://ballotpedia.org/Ohio's_9th_Congressional_District_election,_2024\n"
     ]
    },
    {
     "name": "stderr",
     "output_type": "stream",
     "text": [
      "C:\\Users\\LSEng\\AppData\\Local\\Temp\\ipykernel_27152\\1995762019.py:82: DeprecationWarning: The 'text' argument to find()-type methods is deprecated. Use 'string' instead.\n",
      "  header = soup.find(\"h4\", text=\"General election\")\n",
      "C:\\Users\\LSEng\\AppData\\Local\\Temp\\ipykernel_27152\\1995762019.py:87: FutureWarning: Passing literal html to 'read_html' is deprecated and will be removed in a future version. To read from a literal string, wrap it in a 'StringIO' object.\n",
      "  df = pd.read_html(str(table), header=0)[0]\n"
     ]
    },
    {
     "name": "stdout",
     "output_type": "stream",
     "text": [
      "✔ Added Ohio 9th (shape: (3, 9))\n",
      "→ Scraping Ohio 10th: https://ballotpedia.org/Ohio's_10th_Congressional_District_election,_2024\n"
     ]
    },
    {
     "name": "stderr",
     "output_type": "stream",
     "text": [
      "C:\\Users\\LSEng\\AppData\\Local\\Temp\\ipykernel_27152\\1995762019.py:82: DeprecationWarning: The 'text' argument to find()-type methods is deprecated. Use 'string' instead.\n",
      "  header = soup.find(\"h4\", text=\"General election\")\n",
      "C:\\Users\\LSEng\\AppData\\Local\\Temp\\ipykernel_27152\\1995762019.py:87: FutureWarning: Passing literal html to 'read_html' is deprecated and will be removed in a future version. To read from a literal string, wrap it in a 'StringIO' object.\n",
      "  df = pd.read_html(str(table), header=0)[0]\n"
     ]
    },
    {
     "name": "stdout",
     "output_type": "stream",
     "text": [
      "✔ Added Ohio 10th (shape: (3, 9))\n",
      "→ Scraping Ohio 11th: https://ballotpedia.org/Ohio's_11th_Congressional_District_election,_2024\n"
     ]
    },
    {
     "name": "stderr",
     "output_type": "stream",
     "text": [
      "C:\\Users\\LSEng\\AppData\\Local\\Temp\\ipykernel_27152\\1995762019.py:82: DeprecationWarning: The 'text' argument to find()-type methods is deprecated. Use 'string' instead.\n",
      "  header = soup.find(\"h4\", text=\"General election\")\n",
      "C:\\Users\\LSEng\\AppData\\Local\\Temp\\ipykernel_27152\\1995762019.py:87: FutureWarning: Passing literal html to 'read_html' is deprecated and will be removed in a future version. To read from a literal string, wrap it in a 'StringIO' object.\n",
      "  df = pd.read_html(str(table), header=0)[0]\n"
     ]
    },
    {
     "name": "stdout",
     "output_type": "stream",
     "text": [
      "✔ Added Ohio 11th (shape: (5, 9))\n",
      "→ Scraping Ohio 12th: https://ballotpedia.org/Ohio's_12th_Congressional_District_election,_2024\n"
     ]
    },
    {
     "name": "stderr",
     "output_type": "stream",
     "text": [
      "C:\\Users\\LSEng\\AppData\\Local\\Temp\\ipykernel_27152\\1995762019.py:82: DeprecationWarning: The 'text' argument to find()-type methods is deprecated. Use 'string' instead.\n",
      "  header = soup.find(\"h4\", text=\"General election\")\n",
      "C:\\Users\\LSEng\\AppData\\Local\\Temp\\ipykernel_27152\\1995762019.py:87: FutureWarning: Passing literal html to 'read_html' is deprecated and will be removed in a future version. To read from a literal string, wrap it in a 'StringIO' object.\n",
      "  df = pd.read_html(str(table), header=0)[0]\n"
     ]
    },
    {
     "name": "stdout",
     "output_type": "stream",
     "text": [
      "✔ Added Ohio 12th (shape: (2, 9))\n",
      "→ Scraping Ohio 13th: https://ballotpedia.org/Ohio's_13th_Congressional_District_election,_2024\n"
     ]
    },
    {
     "name": "stderr",
     "output_type": "stream",
     "text": [
      "C:\\Users\\LSEng\\AppData\\Local\\Temp\\ipykernel_27152\\1995762019.py:82: DeprecationWarning: The 'text' argument to find()-type methods is deprecated. Use 'string' instead.\n",
      "  header = soup.find(\"h4\", text=\"General election\")\n",
      "C:\\Users\\LSEng\\AppData\\Local\\Temp\\ipykernel_27152\\1995762019.py:87: FutureWarning: Passing literal html to 'read_html' is deprecated and will be removed in a future version. To read from a literal string, wrap it in a 'StringIO' object.\n",
      "  df = pd.read_html(str(table), header=0)[0]\n"
     ]
    },
    {
     "name": "stdout",
     "output_type": "stream",
     "text": [
      "✔ Added Ohio 13th (shape: (2, 9))\n",
      "→ Scraping Ohio 14th: https://ballotpedia.org/Ohio's_14th_Congressional_District_election,_2024\n"
     ]
    },
    {
     "name": "stderr",
     "output_type": "stream",
     "text": [
      "C:\\Users\\LSEng\\AppData\\Local\\Temp\\ipykernel_27152\\1995762019.py:82: DeprecationWarning: The 'text' argument to find()-type methods is deprecated. Use 'string' instead.\n",
      "  header = soup.find(\"h4\", text=\"General election\")\n",
      "C:\\Users\\LSEng\\AppData\\Local\\Temp\\ipykernel_27152\\1995762019.py:87: FutureWarning: Passing literal html to 'read_html' is deprecated and will be removed in a future version. To read from a literal string, wrap it in a 'StringIO' object.\n",
      "  df = pd.read_html(str(table), header=0)[0]\n"
     ]
    },
    {
     "name": "stdout",
     "output_type": "stream",
     "text": [
      "✔ Added Ohio 14th (shape: (2, 9))\n",
      "→ Scraping Ohio 15th: https://ballotpedia.org/Ohio's_15th_Congressional_District_election,_2024\n"
     ]
    },
    {
     "name": "stderr",
     "output_type": "stream",
     "text": [
      "C:\\Users\\LSEng\\AppData\\Local\\Temp\\ipykernel_27152\\1995762019.py:82: DeprecationWarning: The 'text' argument to find()-type methods is deprecated. Use 'string' instead.\n",
      "  header = soup.find(\"h4\", text=\"General election\")\n",
      "C:\\Users\\LSEng\\AppData\\Local\\Temp\\ipykernel_27152\\1995762019.py:87: FutureWarning: Passing literal html to 'read_html' is deprecated and will be removed in a future version. To read from a literal string, wrap it in a 'StringIO' object.\n",
      "  df = pd.read_html(str(table), header=0)[0]\n"
     ]
    },
    {
     "name": "stdout",
     "output_type": "stream",
     "text": [
      "✔ Added Ohio 15th (shape: (2, 9))\n",
      "→ Scraping Oklahoma 1st: https://ballotpedia.org/Oklahoma's_1st_Congressional_District_election,_2024\n"
     ]
    },
    {
     "name": "stderr",
     "output_type": "stream",
     "text": [
      "C:\\Users\\LSEng\\AppData\\Local\\Temp\\ipykernel_27152\\1995762019.py:82: DeprecationWarning: The 'text' argument to find()-type methods is deprecated. Use 'string' instead.\n",
      "  header = soup.find(\"h4\", text=\"General election\")\n",
      "C:\\Users\\LSEng\\AppData\\Local\\Temp\\ipykernel_27152\\1995762019.py:87: FutureWarning: Passing literal html to 'read_html' is deprecated and will be removed in a future version. To read from a literal string, wrap it in a 'StringIO' object.\n",
      "  df = pd.read_html(str(table), header=0)[0]\n"
     ]
    },
    {
     "name": "stdout",
     "output_type": "stream",
     "text": [
      "✔ Added Oklahoma 1st (shape: (3, 9))\n",
      "→ Scraping Oklahoma 2nd: https://ballotpedia.org/Oklahoma's_2nd_Congressional_District_election,_2024\n"
     ]
    },
    {
     "name": "stderr",
     "output_type": "stream",
     "text": [
      "C:\\Users\\LSEng\\AppData\\Local\\Temp\\ipykernel_27152\\1995762019.py:82: DeprecationWarning: The 'text' argument to find()-type methods is deprecated. Use 'string' instead.\n",
      "  header = soup.find(\"h4\", text=\"General election\")\n",
      "C:\\Users\\LSEng\\AppData\\Local\\Temp\\ipykernel_27152\\1995762019.py:87: FutureWarning: Passing literal html to 'read_html' is deprecated and will be removed in a future version. To read from a literal string, wrap it in a 'StringIO' object.\n",
      "  df = pd.read_html(str(table), header=0)[0]\n"
     ]
    },
    {
     "name": "stdout",
     "output_type": "stream",
     "text": [
      "✔ Added Oklahoma 2nd (shape: (3, 9))\n",
      "→ Scraping Oklahoma 3rd: https://ballotpedia.org/Oklahoma's_3rd_Congressional_District_election,_2024\n"
     ]
    },
    {
     "name": "stderr",
     "output_type": "stream",
     "text": [
      "C:\\Users\\LSEng\\AppData\\Local\\Temp\\ipykernel_27152\\1995762019.py:82: DeprecationWarning: The 'text' argument to find()-type methods is deprecated. Use 'string' instead.\n",
      "  header = soup.find(\"h4\", text=\"General election\")\n",
      "C:\\Users\\LSEng\\AppData\\Local\\Temp\\ipykernel_27152\\1995762019.py:87: FutureWarning: Passing literal html to 'read_html' is deprecated and will be removed in a future version. To read from a literal string, wrap it in a 'StringIO' object.\n",
      "  df = pd.read_html(str(table), header=0)[0]\n"
     ]
    },
    {
     "name": "stdout",
     "output_type": "stream",
     "text": [
      "✔ Added Oklahoma 3rd (shape: (2, 9))\n",
      "→ Scraping Oklahoma 4th: https://ballotpedia.org/Oklahoma's_4th_Congressional_District_election,_2024\n"
     ]
    },
    {
     "name": "stderr",
     "output_type": "stream",
     "text": [
      "C:\\Users\\LSEng\\AppData\\Local\\Temp\\ipykernel_27152\\1995762019.py:82: DeprecationWarning: The 'text' argument to find()-type methods is deprecated. Use 'string' instead.\n",
      "  header = soup.find(\"h4\", text=\"General election\")\n",
      "C:\\Users\\LSEng\\AppData\\Local\\Temp\\ipykernel_27152\\1995762019.py:87: FutureWarning: Passing literal html to 'read_html' is deprecated and will be removed in a future version. To read from a literal string, wrap it in a 'StringIO' object.\n",
      "  df = pd.read_html(str(table), header=0)[0]\n"
     ]
    },
    {
     "name": "stdout",
     "output_type": "stream",
     "text": [
      "✔ Added Oklahoma 4th (shape: (3, 9))\n",
      "→ Scraping Oklahoma 5th: https://ballotpedia.org/Oklahoma's_5th_Congressional_District_election,_2024\n"
     ]
    },
    {
     "name": "stderr",
     "output_type": "stream",
     "text": [
      "C:\\Users\\LSEng\\AppData\\Local\\Temp\\ipykernel_27152\\1995762019.py:82: DeprecationWarning: The 'text' argument to find()-type methods is deprecated. Use 'string' instead.\n",
      "  header = soup.find(\"h4\", text=\"General election\")\n",
      "C:\\Users\\LSEng\\AppData\\Local\\Temp\\ipykernel_27152\\1995762019.py:87: FutureWarning: Passing literal html to 'read_html' is deprecated and will be removed in a future version. To read from a literal string, wrap it in a 'StringIO' object.\n",
      "  df = pd.read_html(str(table), header=0)[0]\n"
     ]
    },
    {
     "name": "stdout",
     "output_type": "stream",
     "text": [
      "✔ Added Oklahoma 5th (shape: (2, 9))\n",
      "→ Scraping Oregon 1st: https://ballotpedia.org/Oregon's_1st_Congressional_District_election,_2024\n"
     ]
    },
    {
     "name": "stderr",
     "output_type": "stream",
     "text": [
      "C:\\Users\\LSEng\\AppData\\Local\\Temp\\ipykernel_27152\\1995762019.py:82: DeprecationWarning: The 'text' argument to find()-type methods is deprecated. Use 'string' instead.\n",
      "  header = soup.find(\"h4\", text=\"General election\")\n",
      "C:\\Users\\LSEng\\AppData\\Local\\Temp\\ipykernel_27152\\1995762019.py:87: FutureWarning: Passing literal html to 'read_html' is deprecated and will be removed in a future version. To read from a literal string, wrap it in a 'StringIO' object.\n",
      "  df = pd.read_html(str(table), header=0)[0]\n"
     ]
    },
    {
     "name": "stdout",
     "output_type": "stream",
     "text": [
      "✔ Added Oregon 1st (shape: (4, 9))\n",
      "→ Scraping Oregon 2nd: https://ballotpedia.org/Oregon's_2nd_Congressional_District_election,_2024\n"
     ]
    },
    {
     "name": "stderr",
     "output_type": "stream",
     "text": [
      "C:\\Users\\LSEng\\AppData\\Local\\Temp\\ipykernel_27152\\1995762019.py:82: DeprecationWarning: The 'text' argument to find()-type methods is deprecated. Use 'string' instead.\n",
      "  header = soup.find(\"h4\", text=\"General election\")\n",
      "C:\\Users\\LSEng\\AppData\\Local\\Temp\\ipykernel_27152\\1995762019.py:87: FutureWarning: Passing literal html to 'read_html' is deprecated and will be removed in a future version. To read from a literal string, wrap it in a 'StringIO' object.\n",
      "  df = pd.read_html(str(table), header=0)[0]\n"
     ]
    },
    {
     "name": "stdout",
     "output_type": "stream",
     "text": [
      "✔ Added Oregon 2nd (shape: (4, 9))\n",
      "→ Scraping Oregon 3rd: https://ballotpedia.org/Oregon's_3rd_Congressional_District_election,_2024\n"
     ]
    },
    {
     "name": "stderr",
     "output_type": "stream",
     "text": [
      "C:\\Users\\LSEng\\AppData\\Local\\Temp\\ipykernel_27152\\1995762019.py:82: DeprecationWarning: The 'text' argument to find()-type methods is deprecated. Use 'string' instead.\n",
      "  header = soup.find(\"h4\", text=\"General election\")\n",
      "C:\\Users\\LSEng\\AppData\\Local\\Temp\\ipykernel_27152\\1995762019.py:87: FutureWarning: Passing literal html to 'read_html' is deprecated and will be removed in a future version. To read from a literal string, wrap it in a 'StringIO' object.\n",
      "  df = pd.read_html(str(table), header=0)[0]\n"
     ]
    },
    {
     "name": "stdout",
     "output_type": "stream",
     "text": [
      "✔ Added Oregon 3rd (shape: (6, 9))\n",
      "→ Scraping Oregon 4th: https://ballotpedia.org/Oregon's_4th_Congressional_District_election,_2024\n"
     ]
    },
    {
     "name": "stderr",
     "output_type": "stream",
     "text": [
      "C:\\Users\\LSEng\\AppData\\Local\\Temp\\ipykernel_27152\\1995762019.py:82: DeprecationWarning: The 'text' argument to find()-type methods is deprecated. Use 'string' instead.\n",
      "  header = soup.find(\"h4\", text=\"General election\")\n",
      "C:\\Users\\LSEng\\AppData\\Local\\Temp\\ipykernel_27152\\1995762019.py:87: FutureWarning: Passing literal html to 'read_html' is deprecated and will be removed in a future version. To read from a literal string, wrap it in a 'StringIO' object.\n",
      "  df = pd.read_html(str(table), header=0)[0]\n"
     ]
    },
    {
     "name": "stdout",
     "output_type": "stream",
     "text": [
      "✔ Added Oregon 4th (shape: (5, 9))\n",
      "→ Scraping Oregon 5th: https://ballotpedia.org/Oregon's_5th_Congressional_District_election,_2024\n"
     ]
    },
    {
     "name": "stderr",
     "output_type": "stream",
     "text": [
      "C:\\Users\\LSEng\\AppData\\Local\\Temp\\ipykernel_27152\\1995762019.py:82: DeprecationWarning: The 'text' argument to find()-type methods is deprecated. Use 'string' instead.\n",
      "  header = soup.find(\"h4\", text=\"General election\")\n",
      "C:\\Users\\LSEng\\AppData\\Local\\Temp\\ipykernel_27152\\1995762019.py:87: FutureWarning: Passing literal html to 'read_html' is deprecated and will be removed in a future version. To read from a literal string, wrap it in a 'StringIO' object.\n",
      "  df = pd.read_html(str(table), header=0)[0]\n"
     ]
    },
    {
     "name": "stdout",
     "output_type": "stream",
     "text": [
      "✔ Added Oregon 5th (shape: (6, 9))\n",
      "→ Scraping Pennsylvania 1st: https://ballotpedia.org/Pennsylvania's_1st_Congressional_District_election,_2024\n"
     ]
    },
    {
     "name": "stderr",
     "output_type": "stream",
     "text": [
      "C:\\Users\\LSEng\\AppData\\Local\\Temp\\ipykernel_27152\\1995762019.py:82: DeprecationWarning: The 'text' argument to find()-type methods is deprecated. Use 'string' instead.\n",
      "  header = soup.find(\"h4\", text=\"General election\")\n",
      "C:\\Users\\LSEng\\AppData\\Local\\Temp\\ipykernel_27152\\1995762019.py:87: FutureWarning: Passing literal html to 'read_html' is deprecated and will be removed in a future version. To read from a literal string, wrap it in a 'StringIO' object.\n",
      "  df = pd.read_html(str(table), header=0)[0]\n"
     ]
    },
    {
     "name": "stdout",
     "output_type": "stream",
     "text": [
      "✔ Added Pennsylvania 1st (shape: (3, 9))\n",
      "→ Scraping Pennsylvania 2nd: https://ballotpedia.org/Pennsylvania's_2nd_Congressional_District_election,_2024\n"
     ]
    },
    {
     "name": "stderr",
     "output_type": "stream",
     "text": [
      "C:\\Users\\LSEng\\AppData\\Local\\Temp\\ipykernel_27152\\1995762019.py:82: DeprecationWarning: The 'text' argument to find()-type methods is deprecated. Use 'string' instead.\n",
      "  header = soup.find(\"h4\", text=\"General election\")\n",
      "C:\\Users\\LSEng\\AppData\\Local\\Temp\\ipykernel_27152\\1995762019.py:87: FutureWarning: Passing literal html to 'read_html' is deprecated and will be removed in a future version. To read from a literal string, wrap it in a 'StringIO' object.\n",
      "  df = pd.read_html(str(table), header=0)[0]\n"
     ]
    },
    {
     "name": "stdout",
     "output_type": "stream",
     "text": [
      "✔ Added Pennsylvania 2nd (shape: (3, 9))\n",
      "→ Scraping Pennsylvania 3rd: https://ballotpedia.org/Pennsylvania's_3rd_Congressional_District_election,_2024\n"
     ]
    },
    {
     "name": "stderr",
     "output_type": "stream",
     "text": [
      "C:\\Users\\LSEng\\AppData\\Local\\Temp\\ipykernel_27152\\1995762019.py:82: DeprecationWarning: The 'text' argument to find()-type methods is deprecated. Use 'string' instead.\n",
      "  header = soup.find(\"h4\", text=\"General election\")\n",
      "C:\\Users\\LSEng\\AppData\\Local\\Temp\\ipykernel_27152\\1995762019.py:87: FutureWarning: Passing literal html to 'read_html' is deprecated and will be removed in a future version. To read from a literal string, wrap it in a 'StringIO' object.\n",
      "  df = pd.read_html(str(table), header=0)[0]\n"
     ]
    },
    {
     "name": "stdout",
     "output_type": "stream",
     "text": [
      "✔ Added Pennsylvania 3rd (shape: (2, 9))\n",
      "→ Scraping Pennsylvania 4th: https://ballotpedia.org/Pennsylvania's_4th_Congressional_District_election,_2024\n"
     ]
    },
    {
     "name": "stderr",
     "output_type": "stream",
     "text": [
      "C:\\Users\\LSEng\\AppData\\Local\\Temp\\ipykernel_27152\\1995762019.py:82: DeprecationWarning: The 'text' argument to find()-type methods is deprecated. Use 'string' instead.\n",
      "  header = soup.find(\"h4\", text=\"General election\")\n",
      "C:\\Users\\LSEng\\AppData\\Local\\Temp\\ipykernel_27152\\1995762019.py:87: FutureWarning: Passing literal html to 'read_html' is deprecated and will be removed in a future version. To read from a literal string, wrap it in a 'StringIO' object.\n",
      "  df = pd.read_html(str(table), header=0)[0]\n"
     ]
    },
    {
     "name": "stdout",
     "output_type": "stream",
     "text": [
      "✔ Added Pennsylvania 4th (shape: (3, 9))\n",
      "→ Scraping Pennsylvania 5th: https://ballotpedia.org/Pennsylvania's_5th_Congressional_District_election,_2024\n"
     ]
    },
    {
     "name": "stderr",
     "output_type": "stream",
     "text": [
      "C:\\Users\\LSEng\\AppData\\Local\\Temp\\ipykernel_27152\\1995762019.py:82: DeprecationWarning: The 'text' argument to find()-type methods is deprecated. Use 'string' instead.\n",
      "  header = soup.find(\"h4\", text=\"General election\")\n",
      "C:\\Users\\LSEng\\AppData\\Local\\Temp\\ipykernel_27152\\1995762019.py:87: FutureWarning: Passing literal html to 'read_html' is deprecated and will be removed in a future version. To read from a literal string, wrap it in a 'StringIO' object.\n",
      "  df = pd.read_html(str(table), header=0)[0]\n"
     ]
    },
    {
     "name": "stdout",
     "output_type": "stream",
     "text": [
      "✔ Added Pennsylvania 5th (shape: (3, 9))\n",
      "→ Scraping Pennsylvania 6th: https://ballotpedia.org/Pennsylvania's_6th_Congressional_District_election,_2024\n"
     ]
    },
    {
     "name": "stderr",
     "output_type": "stream",
     "text": [
      "C:\\Users\\LSEng\\AppData\\Local\\Temp\\ipykernel_27152\\1995762019.py:82: DeprecationWarning: The 'text' argument to find()-type methods is deprecated. Use 'string' instead.\n",
      "  header = soup.find(\"h4\", text=\"General election\")\n",
      "C:\\Users\\LSEng\\AppData\\Local\\Temp\\ipykernel_27152\\1995762019.py:87: FutureWarning: Passing literal html to 'read_html' is deprecated and will be removed in a future version. To read from a literal string, wrap it in a 'StringIO' object.\n",
      "  df = pd.read_html(str(table), header=0)[0]\n"
     ]
    },
    {
     "name": "stdout",
     "output_type": "stream",
     "text": [
      "✔ Added Pennsylvania 6th (shape: (3, 9))\n",
      "→ Scraping Pennsylvania 7th: https://ballotpedia.org/Pennsylvania's_7th_Congressional_District_election,_2024\n"
     ]
    },
    {
     "name": "stderr",
     "output_type": "stream",
     "text": [
      "C:\\Users\\LSEng\\AppData\\Local\\Temp\\ipykernel_27152\\1995762019.py:82: DeprecationWarning: The 'text' argument to find()-type methods is deprecated. Use 'string' instead.\n",
      "  header = soup.find(\"h4\", text=\"General election\")\n",
      "C:\\Users\\LSEng\\AppData\\Local\\Temp\\ipykernel_27152\\1995762019.py:87: FutureWarning: Passing literal html to 'read_html' is deprecated and will be removed in a future version. To read from a literal string, wrap it in a 'StringIO' object.\n",
      "  df = pd.read_html(str(table), header=0)[0]\n"
     ]
    },
    {
     "name": "stdout",
     "output_type": "stream",
     "text": [
      "✔ Added Pennsylvania 7th (shape: (3, 9))\n",
      "→ Scraping Pennsylvania 8th: https://ballotpedia.org/Pennsylvania's_8th_Congressional_District_election,_2024\n"
     ]
    },
    {
     "name": "stderr",
     "output_type": "stream",
     "text": [
      "C:\\Users\\LSEng\\AppData\\Local\\Temp\\ipykernel_27152\\1995762019.py:82: DeprecationWarning: The 'text' argument to find()-type methods is deprecated. Use 'string' instead.\n",
      "  header = soup.find(\"h4\", text=\"General election\")\n",
      "C:\\Users\\LSEng\\AppData\\Local\\Temp\\ipykernel_27152\\1995762019.py:87: FutureWarning: Passing literal html to 'read_html' is deprecated and will be removed in a future version. To read from a literal string, wrap it in a 'StringIO' object.\n",
      "  df = pd.read_html(str(table), header=0)[0]\n"
     ]
    },
    {
     "name": "stdout",
     "output_type": "stream",
     "text": [
      "✔ Added Pennsylvania 8th (shape: (3, 9))\n",
      "→ Scraping Pennsylvania 9th: https://ballotpedia.org/Pennsylvania's_9th_Congressional_District_election,_2024\n"
     ]
    },
    {
     "name": "stderr",
     "output_type": "stream",
     "text": [
      "C:\\Users\\LSEng\\AppData\\Local\\Temp\\ipykernel_27152\\1995762019.py:82: DeprecationWarning: The 'text' argument to find()-type methods is deprecated. Use 'string' instead.\n",
      "  header = soup.find(\"h4\", text=\"General election\")\n",
      "C:\\Users\\LSEng\\AppData\\Local\\Temp\\ipykernel_27152\\1995762019.py:87: FutureWarning: Passing literal html to 'read_html' is deprecated and will be removed in a future version. To read from a literal string, wrap it in a 'StringIO' object.\n",
      "  df = pd.read_html(str(table), header=0)[0]\n"
     ]
    },
    {
     "name": "stdout",
     "output_type": "stream",
     "text": [
      "✔ Added Pennsylvania 9th (shape: (3, 9))\n",
      "→ Scraping Pennsylvania 10th: https://ballotpedia.org/Pennsylvania's_10th_Congressional_District_election,_2024\n"
     ]
    },
    {
     "name": "stderr",
     "output_type": "stream",
     "text": [
      "C:\\Users\\LSEng\\AppData\\Local\\Temp\\ipykernel_27152\\1995762019.py:82: DeprecationWarning: The 'text' argument to find()-type methods is deprecated. Use 'string' instead.\n",
      "  header = soup.find(\"h4\", text=\"General election\")\n",
      "C:\\Users\\LSEng\\AppData\\Local\\Temp\\ipykernel_27152\\1995762019.py:87: FutureWarning: Passing literal html to 'read_html' is deprecated and will be removed in a future version. To read from a literal string, wrap it in a 'StringIO' object.\n",
      "  df = pd.read_html(str(table), header=0)[0]\n"
     ]
    },
    {
     "name": "stdout",
     "output_type": "stream",
     "text": [
      "✔ Added Pennsylvania 10th (shape: (3, 9))\n",
      "→ Scraping Pennsylvania 11th: https://ballotpedia.org/Pennsylvania's_11th_Congressional_District_election,_2024\n"
     ]
    },
    {
     "name": "stderr",
     "output_type": "stream",
     "text": [
      "C:\\Users\\LSEng\\AppData\\Local\\Temp\\ipykernel_27152\\1995762019.py:82: DeprecationWarning: The 'text' argument to find()-type methods is deprecated. Use 'string' instead.\n",
      "  header = soup.find(\"h4\", text=\"General election\")\n",
      "C:\\Users\\LSEng\\AppData\\Local\\Temp\\ipykernel_27152\\1995762019.py:87: FutureWarning: Passing literal html to 'read_html' is deprecated and will be removed in a future version. To read from a literal string, wrap it in a 'StringIO' object.\n",
      "  df = pd.read_html(str(table), header=0)[0]\n"
     ]
    },
    {
     "name": "stdout",
     "output_type": "stream",
     "text": [
      "✔ Added Pennsylvania 11th (shape: (3, 9))\n",
      "→ Scraping Pennsylvania 12th: https://ballotpedia.org/Pennsylvania's_12th_Congressional_District_election,_2024\n"
     ]
    },
    {
     "name": "stderr",
     "output_type": "stream",
     "text": [
      "C:\\Users\\LSEng\\AppData\\Local\\Temp\\ipykernel_27152\\1995762019.py:82: DeprecationWarning: The 'text' argument to find()-type methods is deprecated. Use 'string' instead.\n",
      "  header = soup.find(\"h4\", text=\"General election\")\n",
      "C:\\Users\\LSEng\\AppData\\Local\\Temp\\ipykernel_27152\\1995762019.py:87: FutureWarning: Passing literal html to 'read_html' is deprecated and will be removed in a future version. To read from a literal string, wrap it in a 'StringIO' object.\n",
      "  df = pd.read_html(str(table), header=0)[0]\n"
     ]
    },
    {
     "name": "stdout",
     "output_type": "stream",
     "text": [
      "✔ Added Pennsylvania 12th (shape: (3, 9))\n",
      "→ Scraping Pennsylvania 13th: https://ballotpedia.org/Pennsylvania's_13th_Congressional_District_election,_2024\n"
     ]
    },
    {
     "name": "stderr",
     "output_type": "stream",
     "text": [
      "C:\\Users\\LSEng\\AppData\\Local\\Temp\\ipykernel_27152\\1995762019.py:82: DeprecationWarning: The 'text' argument to find()-type methods is deprecated. Use 'string' instead.\n",
      "  header = soup.find(\"h4\", text=\"General election\")\n",
      "C:\\Users\\LSEng\\AppData\\Local\\Temp\\ipykernel_27152\\1995762019.py:87: FutureWarning: Passing literal html to 'read_html' is deprecated and will be removed in a future version. To read from a literal string, wrap it in a 'StringIO' object.\n",
      "  df = pd.read_html(str(table), header=0)[0]\n"
     ]
    },
    {
     "name": "stdout",
     "output_type": "stream",
     "text": [
      "✔ Added Pennsylvania 13th (shape: (3, 9))\n",
      "→ Scraping Pennsylvania 14th: https://ballotpedia.org/Pennsylvania's_14th_Congressional_District_election,_2024\n"
     ]
    },
    {
     "name": "stderr",
     "output_type": "stream",
     "text": [
      "C:\\Users\\LSEng\\AppData\\Local\\Temp\\ipykernel_27152\\1995762019.py:82: DeprecationWarning: The 'text' argument to find()-type methods is deprecated. Use 'string' instead.\n",
      "  header = soup.find(\"h4\", text=\"General election\")\n",
      "C:\\Users\\LSEng\\AppData\\Local\\Temp\\ipykernel_27152\\1995762019.py:87: FutureWarning: Passing literal html to 'read_html' is deprecated and will be removed in a future version. To read from a literal string, wrap it in a 'StringIO' object.\n",
      "  df = pd.read_html(str(table), header=0)[0]\n"
     ]
    },
    {
     "name": "stdout",
     "output_type": "stream",
     "text": [
      "✔ Added Pennsylvania 14th (shape: (3, 9))\n",
      "→ Scraping Pennsylvania 15th: https://ballotpedia.org/Pennsylvania's_15th_Congressional_District_election,_2024\n"
     ]
    },
    {
     "name": "stderr",
     "output_type": "stream",
     "text": [
      "C:\\Users\\LSEng\\AppData\\Local\\Temp\\ipykernel_27152\\1995762019.py:82: DeprecationWarning: The 'text' argument to find()-type methods is deprecated. Use 'string' instead.\n",
      "  header = soup.find(\"h4\", text=\"General election\")\n",
      "C:\\Users\\LSEng\\AppData\\Local\\Temp\\ipykernel_27152\\1995762019.py:87: FutureWarning: Passing literal html to 'read_html' is deprecated and will be removed in a future version. To read from a literal string, wrap it in a 'StringIO' object.\n",
      "  df = pd.read_html(str(table), header=0)[0]\n"
     ]
    },
    {
     "name": "stdout",
     "output_type": "stream",
     "text": [
      "✔ Added Pennsylvania 15th (shape: (3, 9))\n",
      "→ Scraping Pennsylvania 16th: https://ballotpedia.org/Pennsylvania's_16th_Congressional_District_election,_2024\n"
     ]
    },
    {
     "name": "stderr",
     "output_type": "stream",
     "text": [
      "C:\\Users\\LSEng\\AppData\\Local\\Temp\\ipykernel_27152\\1995762019.py:82: DeprecationWarning: The 'text' argument to find()-type methods is deprecated. Use 'string' instead.\n",
      "  header = soup.find(\"h4\", text=\"General election\")\n",
      "C:\\Users\\LSEng\\AppData\\Local\\Temp\\ipykernel_27152\\1995762019.py:87: FutureWarning: Passing literal html to 'read_html' is deprecated and will be removed in a future version. To read from a literal string, wrap it in a 'StringIO' object.\n",
      "  df = pd.read_html(str(table), header=0)[0]\n"
     ]
    },
    {
     "name": "stdout",
     "output_type": "stream",
     "text": [
      "✔ Added Pennsylvania 16th (shape: (3, 9))\n",
      "→ Scraping Pennsylvania 17th: https://ballotpedia.org/Pennsylvania's_17th_Congressional_District_election,_2024\n",
      "⚠ Skipped Pennsylvania 17th: HTTPSConnectionPool(host='ballotpedia.org', port=443): Read timed out. (read timeout=10)\n",
      "→ Scraping Rhode Island 1st: https://ballotpedia.org/Rhode_Island's_1st_Congressional_District_election,_2024\n"
     ]
    },
    {
     "name": "stderr",
     "output_type": "stream",
     "text": [
      "C:\\Users\\LSEng\\AppData\\Local\\Temp\\ipykernel_27152\\1995762019.py:82: DeprecationWarning: The 'text' argument to find()-type methods is deprecated. Use 'string' instead.\n",
      "  header = soup.find(\"h4\", text=\"General election\")\n",
      "C:\\Users\\LSEng\\AppData\\Local\\Temp\\ipykernel_27152\\1995762019.py:87: FutureWarning: Passing literal html to 'read_html' is deprecated and will be removed in a future version. To read from a literal string, wrap it in a 'StringIO' object.\n",
      "  df = pd.read_html(str(table), header=0)[0]\n"
     ]
    },
    {
     "name": "stdout",
     "output_type": "stream",
     "text": [
      "✔ Added Rhode Island 1st (shape: (4, 9))\n",
      "→ Scraping Rhode Island 2nd: https://ballotpedia.org/Rhode_Island's_2nd_Congressional_District_election,_2024\n"
     ]
    },
    {
     "name": "stderr",
     "output_type": "stream",
     "text": [
      "C:\\Users\\LSEng\\AppData\\Local\\Temp\\ipykernel_27152\\1995762019.py:82: DeprecationWarning: The 'text' argument to find()-type methods is deprecated. Use 'string' instead.\n",
      "  header = soup.find(\"h4\", text=\"General election\")\n",
      "C:\\Users\\LSEng\\AppData\\Local\\Temp\\ipykernel_27152\\1995762019.py:87: FutureWarning: Passing literal html to 'read_html' is deprecated and will be removed in a future version. To read from a literal string, wrap it in a 'StringIO' object.\n",
      "  df = pd.read_html(str(table), header=0)[0]\n"
     ]
    },
    {
     "name": "stdout",
     "output_type": "stream",
     "text": [
      "✔ Added Rhode Island 2nd (shape: (3, 9))\n",
      "→ Scraping South Carolina 1st: https://ballotpedia.org/South_Carolina's_1st_Congressional_District_election,_2024\n"
     ]
    },
    {
     "name": "stderr",
     "output_type": "stream",
     "text": [
      "C:\\Users\\LSEng\\AppData\\Local\\Temp\\ipykernel_27152\\1995762019.py:82: DeprecationWarning: The 'text' argument to find()-type methods is deprecated. Use 'string' instead.\n",
      "  header = soup.find(\"h4\", text=\"General election\")\n",
      "C:\\Users\\LSEng\\AppData\\Local\\Temp\\ipykernel_27152\\1995762019.py:87: FutureWarning: Passing literal html to 'read_html' is deprecated and will be removed in a future version. To read from a literal string, wrap it in a 'StringIO' object.\n",
      "  df = pd.read_html(str(table), header=0)[0]\n"
     ]
    },
    {
     "name": "stdout",
     "output_type": "stream",
     "text": [
      "✔ Added South Carolina 1st (shape: (3, 9))\n",
      "→ Scraping South Carolina 2nd: https://ballotpedia.org/South_Carolina's_2nd_Congressional_District_election,_2024\n"
     ]
    },
    {
     "name": "stderr",
     "output_type": "stream",
     "text": [
      "C:\\Users\\LSEng\\AppData\\Local\\Temp\\ipykernel_27152\\1995762019.py:82: DeprecationWarning: The 'text' argument to find()-type methods is deprecated. Use 'string' instead.\n",
      "  header = soup.find(\"h4\", text=\"General election\")\n",
      "C:\\Users\\LSEng\\AppData\\Local\\Temp\\ipykernel_27152\\1995762019.py:87: FutureWarning: Passing literal html to 'read_html' is deprecated and will be removed in a future version. To read from a literal string, wrap it in a 'StringIO' object.\n",
      "  df = pd.read_html(str(table), header=0)[0]\n"
     ]
    },
    {
     "name": "stdout",
     "output_type": "stream",
     "text": [
      "✔ Added South Carolina 2nd (shape: (3, 9))\n",
      "→ Scraping South Carolina 3rd: https://ballotpedia.org/South_Carolina's_3rd_Congressional_District_election,_2024\n"
     ]
    },
    {
     "name": "stderr",
     "output_type": "stream",
     "text": [
      "C:\\Users\\LSEng\\AppData\\Local\\Temp\\ipykernel_27152\\1995762019.py:82: DeprecationWarning: The 'text' argument to find()-type methods is deprecated. Use 'string' instead.\n",
      "  header = soup.find(\"h4\", text=\"General election\")\n",
      "C:\\Users\\LSEng\\AppData\\Local\\Temp\\ipykernel_27152\\1995762019.py:87: FutureWarning: Passing literal html to 'read_html' is deprecated and will be removed in a future version. To read from a literal string, wrap it in a 'StringIO' object.\n",
      "  df = pd.read_html(str(table), header=0)[0]\n"
     ]
    },
    {
     "name": "stdout",
     "output_type": "stream",
     "text": [
      "✔ Added South Carolina 3rd (shape: (4, 9))\n",
      "→ Scraping South Carolina 4th: https://ballotpedia.org/South_Carolina's_4th_Congressional_District_election,_2024\n"
     ]
    },
    {
     "name": "stderr",
     "output_type": "stream",
     "text": [
      "C:\\Users\\LSEng\\AppData\\Local\\Temp\\ipykernel_27152\\1995762019.py:82: DeprecationWarning: The 'text' argument to find()-type methods is deprecated. Use 'string' instead.\n",
      "  header = soup.find(\"h4\", text=\"General election\")\n",
      "C:\\Users\\LSEng\\AppData\\Local\\Temp\\ipykernel_27152\\1995762019.py:87: FutureWarning: Passing literal html to 'read_html' is deprecated and will be removed in a future version. To read from a literal string, wrap it in a 'StringIO' object.\n",
      "  df = pd.read_html(str(table), header=0)[0]\n"
     ]
    },
    {
     "name": "stdout",
     "output_type": "stream",
     "text": [
      "✔ Added South Carolina 4th (shape: (4, 9))\n",
      "→ Scraping South Carolina 5th: https://ballotpedia.org/South_Carolina's_5th_Congressional_District_election,_2024\n"
     ]
    },
    {
     "name": "stderr",
     "output_type": "stream",
     "text": [
      "C:\\Users\\LSEng\\AppData\\Local\\Temp\\ipykernel_27152\\1995762019.py:82: DeprecationWarning: The 'text' argument to find()-type methods is deprecated. Use 'string' instead.\n",
      "  header = soup.find(\"h4\", text=\"General election\")\n",
      "C:\\Users\\LSEng\\AppData\\Local\\Temp\\ipykernel_27152\\1995762019.py:87: FutureWarning: Passing literal html to 'read_html' is deprecated and will be removed in a future version. To read from a literal string, wrap it in a 'StringIO' object.\n",
      "  df = pd.read_html(str(table), header=0)[0]\n"
     ]
    },
    {
     "name": "stdout",
     "output_type": "stream",
     "text": [
      "✔ Added South Carolina 5th (shape: (3, 9))\n",
      "→ Scraping South Carolina 6th: https://ballotpedia.org/South_Carolina's_6th_Congressional_District_election,_2024\n"
     ]
    },
    {
     "name": "stderr",
     "output_type": "stream",
     "text": [
      "C:\\Users\\LSEng\\AppData\\Local\\Temp\\ipykernel_27152\\1995762019.py:82: DeprecationWarning: The 'text' argument to find()-type methods is deprecated. Use 'string' instead.\n",
      "  header = soup.find(\"h4\", text=\"General election\")\n",
      "C:\\Users\\LSEng\\AppData\\Local\\Temp\\ipykernel_27152\\1995762019.py:87: FutureWarning: Passing literal html to 'read_html' is deprecated and will be removed in a future version. To read from a literal string, wrap it in a 'StringIO' object.\n",
      "  df = pd.read_html(str(table), header=0)[0]\n"
     ]
    },
    {
     "name": "stdout",
     "output_type": "stream",
     "text": [
      "✔ Added South Carolina 6th (shape: (6, 9))\n",
      "→ Scraping South Carolina 7th: https://ballotpedia.org/South_Carolina's_7th_Congressional_District_election,_2024\n"
     ]
    },
    {
     "name": "stderr",
     "output_type": "stream",
     "text": [
      "C:\\Users\\LSEng\\AppData\\Local\\Temp\\ipykernel_27152\\1995762019.py:82: DeprecationWarning: The 'text' argument to find()-type methods is deprecated. Use 'string' instead.\n",
      "  header = soup.find(\"h4\", text=\"General election\")\n",
      "C:\\Users\\LSEng\\AppData\\Local\\Temp\\ipykernel_27152\\1995762019.py:87: FutureWarning: Passing literal html to 'read_html' is deprecated and will be removed in a future version. To read from a literal string, wrap it in a 'StringIO' object.\n",
      "  df = pd.read_html(str(table), header=0)[0]\n"
     ]
    },
    {
     "name": "stdout",
     "output_type": "stream",
     "text": [
      "✔ Added South Carolina 7th (shape: (3, 9))\n",
      "→ Scraping South Dakota At-large: https://ballotpedia.org/South_Dakota's_At-large_Congressional_District_election,_2024\n"
     ]
    },
    {
     "name": "stderr",
     "output_type": "stream",
     "text": [
      "C:\\Users\\LSEng\\AppData\\Local\\Temp\\ipykernel_27152\\1995762019.py:82: DeprecationWarning: The 'text' argument to find()-type methods is deprecated. Use 'string' instead.\n",
      "  header = soup.find(\"h4\", text=\"General election\")\n",
      "C:\\Users\\LSEng\\AppData\\Local\\Temp\\ipykernel_27152\\1995762019.py:87: FutureWarning: Passing literal html to 'read_html' is deprecated and will be removed in a future version. To read from a literal string, wrap it in a 'StringIO' object.\n",
      "  df = pd.read_html(str(table), header=0)[0]\n"
     ]
    },
    {
     "name": "stdout",
     "output_type": "stream",
     "text": [
      "✔ Added South Dakota At-large (shape: (2, 9))\n",
      "→ Scraping Tennessee 1st: https://ballotpedia.org/Tennessee's_1st_Congressional_District_election,_2024\n"
     ]
    },
    {
     "name": "stderr",
     "output_type": "stream",
     "text": [
      "C:\\Users\\LSEng\\AppData\\Local\\Temp\\ipykernel_27152\\1995762019.py:82: DeprecationWarning: The 'text' argument to find()-type methods is deprecated. Use 'string' instead.\n",
      "  header = soup.find(\"h4\", text=\"General election\")\n",
      "C:\\Users\\LSEng\\AppData\\Local\\Temp\\ipykernel_27152\\1995762019.py:87: FutureWarning: Passing literal html to 'read_html' is deprecated and will be removed in a future version. To read from a literal string, wrap it in a 'StringIO' object.\n",
      "  df = pd.read_html(str(table), header=0)[0]\n"
     ]
    },
    {
     "name": "stdout",
     "output_type": "stream",
     "text": [
      "✔ Added Tennessee 1st (shape: (4, 9))\n",
      "→ Scraping Tennessee 2nd: https://ballotpedia.org/Tennessee's_2nd_Congressional_District_election,_2024\n"
     ]
    },
    {
     "name": "stderr",
     "output_type": "stream",
     "text": [
      "C:\\Users\\LSEng\\AppData\\Local\\Temp\\ipykernel_27152\\1995762019.py:82: DeprecationWarning: The 'text' argument to find()-type methods is deprecated. Use 'string' instead.\n",
      "  header = soup.find(\"h4\", text=\"General election\")\n",
      "C:\\Users\\LSEng\\AppData\\Local\\Temp\\ipykernel_27152\\1995762019.py:87: FutureWarning: Passing literal html to 'read_html' is deprecated and will be removed in a future version. To read from a literal string, wrap it in a 'StringIO' object.\n",
      "  df = pd.read_html(str(table), header=0)[0]\n"
     ]
    },
    {
     "name": "stdout",
     "output_type": "stream",
     "text": [
      "✔ Added Tennessee 2nd (shape: (2, 9))\n",
      "→ Scraping Tennessee 3rd: https://ballotpedia.org/Tennessee's_3rd_Congressional_District_election,_2024\n"
     ]
    },
    {
     "name": "stderr",
     "output_type": "stream",
     "text": [
      "C:\\Users\\LSEng\\AppData\\Local\\Temp\\ipykernel_27152\\1995762019.py:82: DeprecationWarning: The 'text' argument to find()-type methods is deprecated. Use 'string' instead.\n",
      "  header = soup.find(\"h4\", text=\"General election\")\n",
      "C:\\Users\\LSEng\\AppData\\Local\\Temp\\ipykernel_27152\\1995762019.py:87: FutureWarning: Passing literal html to 'read_html' is deprecated and will be removed in a future version. To read from a literal string, wrap it in a 'StringIO' object.\n",
      "  df = pd.read_html(str(table), header=0)[0]\n"
     ]
    },
    {
     "name": "stdout",
     "output_type": "stream",
     "text": [
      "✔ Added Tennessee 3rd (shape: (4, 9))\n",
      "→ Scraping Tennessee 4th: https://ballotpedia.org/Tennessee's_4th_Congressional_District_election,_2024\n"
     ]
    },
    {
     "name": "stderr",
     "output_type": "stream",
     "text": [
      "C:\\Users\\LSEng\\AppData\\Local\\Temp\\ipykernel_27152\\1995762019.py:82: DeprecationWarning: The 'text' argument to find()-type methods is deprecated. Use 'string' instead.\n",
      "  header = soup.find(\"h4\", text=\"General election\")\n",
      "C:\\Users\\LSEng\\AppData\\Local\\Temp\\ipykernel_27152\\1995762019.py:87: FutureWarning: Passing literal html to 'read_html' is deprecated and will be removed in a future version. To read from a literal string, wrap it in a 'StringIO' object.\n",
      "  df = pd.read_html(str(table), header=0)[0]\n"
     ]
    },
    {
     "name": "stdout",
     "output_type": "stream",
     "text": [
      "✔ Added Tennessee 4th (shape: (4, 9))\n",
      "→ Scraping Tennessee 5th: https://ballotpedia.org/Tennessee's_5th_Congressional_District_election,_2024\n"
     ]
    },
    {
     "name": "stderr",
     "output_type": "stream",
     "text": [
      "C:\\Users\\LSEng\\AppData\\Local\\Temp\\ipykernel_27152\\1995762019.py:82: DeprecationWarning: The 'text' argument to find()-type methods is deprecated. Use 'string' instead.\n",
      "  header = soup.find(\"h4\", text=\"General election\")\n",
      "C:\\Users\\LSEng\\AppData\\Local\\Temp\\ipykernel_27152\\1995762019.py:87: FutureWarning: Passing literal html to 'read_html' is deprecated and will be removed in a future version. To read from a literal string, wrap it in a 'StringIO' object.\n",
      "  df = pd.read_html(str(table), header=0)[0]\n"
     ]
    },
    {
     "name": "stdout",
     "output_type": "stream",
     "text": [
      "✔ Added Tennessee 5th (shape: (5, 9))\n",
      "→ Scraping Tennessee 6th: https://ballotpedia.org/Tennessee's_6th_Congressional_District_election,_2024\n"
     ]
    },
    {
     "name": "stderr",
     "output_type": "stream",
     "text": [
      "C:\\Users\\LSEng\\AppData\\Local\\Temp\\ipykernel_27152\\1995762019.py:82: DeprecationWarning: The 'text' argument to find()-type methods is deprecated. Use 'string' instead.\n",
      "  header = soup.find(\"h4\", text=\"General election\")\n",
      "C:\\Users\\LSEng\\AppData\\Local\\Temp\\ipykernel_27152\\1995762019.py:87: FutureWarning: Passing literal html to 'read_html' is deprecated and will be removed in a future version. To read from a literal string, wrap it in a 'StringIO' object.\n",
      "  df = pd.read_html(str(table), header=0)[0]\n"
     ]
    },
    {
     "name": "stdout",
     "output_type": "stream",
     "text": [
      "✔ Added Tennessee 6th (shape: (2, 9))\n",
      "→ Scraping Tennessee 7th: https://ballotpedia.org/Tennessee's_7th_Congressional_District_election,_2024\n"
     ]
    },
    {
     "name": "stderr",
     "output_type": "stream",
     "text": [
      "C:\\Users\\LSEng\\AppData\\Local\\Temp\\ipykernel_27152\\1995762019.py:82: DeprecationWarning: The 'text' argument to find()-type methods is deprecated. Use 'string' instead.\n",
      "  header = soup.find(\"h4\", text=\"General election\")\n",
      "C:\\Users\\LSEng\\AppData\\Local\\Temp\\ipykernel_27152\\1995762019.py:87: FutureWarning: Passing literal html to 'read_html' is deprecated and will be removed in a future version. To read from a literal string, wrap it in a 'StringIO' object.\n",
      "  df = pd.read_html(str(table), header=0)[0]\n"
     ]
    },
    {
     "name": "stdout",
     "output_type": "stream",
     "text": [
      "✔ Added Tennessee 7th (shape: (3, 9))\n",
      "→ Scraping Tennessee 8th: https://ballotpedia.org/Tennessee's_8th_Congressional_District_election,_2024\n"
     ]
    },
    {
     "name": "stderr",
     "output_type": "stream",
     "text": [
      "C:\\Users\\LSEng\\AppData\\Local\\Temp\\ipykernel_27152\\1995762019.py:82: DeprecationWarning: The 'text' argument to find()-type methods is deprecated. Use 'string' instead.\n",
      "  header = soup.find(\"h4\", text=\"General election\")\n",
      "C:\\Users\\LSEng\\AppData\\Local\\Temp\\ipykernel_27152\\1995762019.py:87: FutureWarning: Passing literal html to 'read_html' is deprecated and will be removed in a future version. To read from a literal string, wrap it in a 'StringIO' object.\n",
      "  df = pd.read_html(str(table), header=0)[0]\n"
     ]
    },
    {
     "name": "stdout",
     "output_type": "stream",
     "text": [
      "✔ Added Tennessee 8th (shape: (3, 9))\n",
      "→ Scraping Tennessee 9th: https://ballotpedia.org/Tennessee's_9th_Congressional_District_election,_2024\n"
     ]
    },
    {
     "name": "stderr",
     "output_type": "stream",
     "text": [
      "C:\\Users\\LSEng\\AppData\\Local\\Temp\\ipykernel_27152\\1995762019.py:82: DeprecationWarning: The 'text' argument to find()-type methods is deprecated. Use 'string' instead.\n",
      "  header = soup.find(\"h4\", text=\"General election\")\n",
      "C:\\Users\\LSEng\\AppData\\Local\\Temp\\ipykernel_27152\\1995762019.py:87: FutureWarning: Passing literal html to 'read_html' is deprecated and will be removed in a future version. To read from a literal string, wrap it in a 'StringIO' object.\n",
      "  df = pd.read_html(str(table), header=0)[0]\n"
     ]
    },
    {
     "name": "stdout",
     "output_type": "stream",
     "text": [
      "✔ Added Tennessee 9th (shape: (4, 9))\n",
      "→ Scraping Texas 1st: https://ballotpedia.org/Texas'_1st_Congressional_District_election,_2024\n"
     ]
    },
    {
     "name": "stderr",
     "output_type": "stream",
     "text": [
      "C:\\Users\\LSEng\\AppData\\Local\\Temp\\ipykernel_27152\\1995762019.py:82: DeprecationWarning: The 'text' argument to find()-type methods is deprecated. Use 'string' instead.\n",
      "  header = soup.find(\"h4\", text=\"General election\")\n",
      "C:\\Users\\LSEng\\AppData\\Local\\Temp\\ipykernel_27152\\1995762019.py:87: FutureWarning: Passing literal html to 'read_html' is deprecated and will be removed in a future version. To read from a literal string, wrap it in a 'StringIO' object.\n",
      "  df = pd.read_html(str(table), header=0)[0]\n"
     ]
    },
    {
     "name": "stdout",
     "output_type": "stream",
     "text": [
      "✔ Added Texas 1st (shape: (1, 9))\n",
      "→ Scraping Texas 2nd: https://ballotpedia.org/Texas'_2nd_Congressional_District_election,_2024\n"
     ]
    },
    {
     "name": "stderr",
     "output_type": "stream",
     "text": [
      "C:\\Users\\LSEng\\AppData\\Local\\Temp\\ipykernel_27152\\1995762019.py:82: DeprecationWarning: The 'text' argument to find()-type methods is deprecated. Use 'string' instead.\n",
      "  header = soup.find(\"h4\", text=\"General election\")\n",
      "C:\\Users\\LSEng\\AppData\\Local\\Temp\\ipykernel_27152\\1995762019.py:87: FutureWarning: Passing literal html to 'read_html' is deprecated and will be removed in a future version. To read from a literal string, wrap it in a 'StringIO' object.\n",
      "  df = pd.read_html(str(table), header=0)[0]\n"
     ]
    },
    {
     "name": "stdout",
     "output_type": "stream",
     "text": [
      "✔ Added Texas 2nd (shape: (2, 9))\n",
      "→ Scraping Texas 3rd: https://ballotpedia.org/Texas'_3rd_Congressional_District_election,_2024\n"
     ]
    },
    {
     "name": "stderr",
     "output_type": "stream",
     "text": [
      "C:\\Users\\LSEng\\AppData\\Local\\Temp\\ipykernel_27152\\1995762019.py:82: DeprecationWarning: The 'text' argument to find()-type methods is deprecated. Use 'string' instead.\n",
      "  header = soup.find(\"h4\", text=\"General election\")\n",
      "C:\\Users\\LSEng\\AppData\\Local\\Temp\\ipykernel_27152\\1995762019.py:87: FutureWarning: Passing literal html to 'read_html' is deprecated and will be removed in a future version. To read from a literal string, wrap it in a 'StringIO' object.\n",
      "  df = pd.read_html(str(table), header=0)[0]\n"
     ]
    },
    {
     "name": "stdout",
     "output_type": "stream",
     "text": [
      "✔ Added Texas 3rd (shape: (2, 9))\n",
      "→ Scraping Texas 4th: https://ballotpedia.org/Texas'_4th_Congressional_District_election,_2024\n"
     ]
    },
    {
     "name": "stderr",
     "output_type": "stream",
     "text": [
      "C:\\Users\\LSEng\\AppData\\Local\\Temp\\ipykernel_27152\\1995762019.py:82: DeprecationWarning: The 'text' argument to find()-type methods is deprecated. Use 'string' instead.\n",
      "  header = soup.find(\"h4\", text=\"General election\")\n",
      "C:\\Users\\LSEng\\AppData\\Local\\Temp\\ipykernel_27152\\1995762019.py:87: FutureWarning: Passing literal html to 'read_html' is deprecated and will be removed in a future version. To read from a literal string, wrap it in a 'StringIO' object.\n",
      "  df = pd.read_html(str(table), header=0)[0]\n"
     ]
    },
    {
     "name": "stdout",
     "output_type": "stream",
     "text": [
      "✔ Added Texas 4th (shape: (2, 9))\n",
      "→ Scraping Texas 5th: https://ballotpedia.org/Texas'_5th_Congressional_District_election,_2024\n"
     ]
    },
    {
     "name": "stderr",
     "output_type": "stream",
     "text": [
      "C:\\Users\\LSEng\\AppData\\Local\\Temp\\ipykernel_27152\\1995762019.py:82: DeprecationWarning: The 'text' argument to find()-type methods is deprecated. Use 'string' instead.\n",
      "  header = soup.find(\"h4\", text=\"General election\")\n",
      "C:\\Users\\LSEng\\AppData\\Local\\Temp\\ipykernel_27152\\1995762019.py:87: FutureWarning: Passing literal html to 'read_html' is deprecated and will be removed in a future version. To read from a literal string, wrap it in a 'StringIO' object.\n",
      "  df = pd.read_html(str(table), header=0)[0]\n"
     ]
    },
    {
     "name": "stdout",
     "output_type": "stream",
     "text": [
      "✔ Added Texas 5th (shape: (2, 9))\n",
      "→ Scraping Texas 6th: https://ballotpedia.org/Texas'_6th_Congressional_District_election,_2024\n"
     ]
    },
    {
     "name": "stderr",
     "output_type": "stream",
     "text": [
      "C:\\Users\\LSEng\\AppData\\Local\\Temp\\ipykernel_27152\\1995762019.py:82: DeprecationWarning: The 'text' argument to find()-type methods is deprecated. Use 'string' instead.\n",
      "  header = soup.find(\"h4\", text=\"General election\")\n",
      "C:\\Users\\LSEng\\AppData\\Local\\Temp\\ipykernel_27152\\1995762019.py:87: FutureWarning: Passing literal html to 'read_html' is deprecated and will be removed in a future version. To read from a literal string, wrap it in a 'StringIO' object.\n",
      "  df = pd.read_html(str(table), header=0)[0]\n"
     ]
    },
    {
     "name": "stdout",
     "output_type": "stream",
     "text": [
      "✔ Added Texas 6th (shape: (2, 9))\n",
      "→ Scraping Texas 7th: https://ballotpedia.org/Texas'_7th_Congressional_District_election,_2024\n"
     ]
    },
    {
     "name": "stderr",
     "output_type": "stream",
     "text": [
      "C:\\Users\\LSEng\\AppData\\Local\\Temp\\ipykernel_27152\\1995762019.py:82: DeprecationWarning: The 'text' argument to find()-type methods is deprecated. Use 'string' instead.\n",
      "  header = soup.find(\"h4\", text=\"General election\")\n",
      "C:\\Users\\LSEng\\AppData\\Local\\Temp\\ipykernel_27152\\1995762019.py:87: FutureWarning: Passing literal html to 'read_html' is deprecated and will be removed in a future version. To read from a literal string, wrap it in a 'StringIO' object.\n",
      "  df = pd.read_html(str(table), header=0)[0]\n"
     ]
    },
    {
     "name": "stdout",
     "output_type": "stream",
     "text": [
      "✔ Added Texas 7th (shape: (2, 9))\n",
      "→ Scraping Texas 8th: https://ballotpedia.org/Texas'_8th_Congressional_District_election,_2024\n"
     ]
    },
    {
     "name": "stderr",
     "output_type": "stream",
     "text": [
      "C:\\Users\\LSEng\\AppData\\Local\\Temp\\ipykernel_27152\\1995762019.py:82: DeprecationWarning: The 'text' argument to find()-type methods is deprecated. Use 'string' instead.\n",
      "  header = soup.find(\"h4\", text=\"General election\")\n",
      "C:\\Users\\LSEng\\AppData\\Local\\Temp\\ipykernel_27152\\1995762019.py:87: FutureWarning: Passing literal html to 'read_html' is deprecated and will be removed in a future version. To read from a literal string, wrap it in a 'StringIO' object.\n",
      "  df = pd.read_html(str(table), header=0)[0]\n"
     ]
    },
    {
     "name": "stdout",
     "output_type": "stream",
     "text": [
      "✔ Added Texas 8th (shape: (2, 9))\n",
      "→ Scraping Texas 9th: https://ballotpedia.org/Texas'_9th_Congressional_District_election,_2024\n"
     ]
    },
    {
     "name": "stderr",
     "output_type": "stream",
     "text": [
      "C:\\Users\\LSEng\\AppData\\Local\\Temp\\ipykernel_27152\\1995762019.py:82: DeprecationWarning: The 'text' argument to find()-type methods is deprecated. Use 'string' instead.\n",
      "  header = soup.find(\"h4\", text=\"General election\")\n",
      "C:\\Users\\LSEng\\AppData\\Local\\Temp\\ipykernel_27152\\1995762019.py:87: FutureWarning: Passing literal html to 'read_html' is deprecated and will be removed in a future version. To read from a literal string, wrap it in a 'StringIO' object.\n",
      "  df = pd.read_html(str(table), header=0)[0]\n"
     ]
    },
    {
     "name": "stdout",
     "output_type": "stream",
     "text": [
      "✔ Added Texas 9th (shape: (1, 9))\n",
      "→ Scraping Texas 10th: https://ballotpedia.org/Texas'_10th_Congressional_District_election,_2024\n"
     ]
    },
    {
     "name": "stderr",
     "output_type": "stream",
     "text": [
      "C:\\Users\\LSEng\\AppData\\Local\\Temp\\ipykernel_27152\\1995762019.py:82: DeprecationWarning: The 'text' argument to find()-type methods is deprecated. Use 'string' instead.\n",
      "  header = soup.find(\"h4\", text=\"General election\")\n",
      "C:\\Users\\LSEng\\AppData\\Local\\Temp\\ipykernel_27152\\1995762019.py:87: FutureWarning: Passing literal html to 'read_html' is deprecated and will be removed in a future version. To read from a literal string, wrap it in a 'StringIO' object.\n",
      "  df = pd.read_html(str(table), header=0)[0]\n"
     ]
    },
    {
     "name": "stdout",
     "output_type": "stream",
     "text": [
      "✔ Added Texas 10th (shape: (3, 9))\n",
      "→ Scraping Texas 11th: https://ballotpedia.org/Texas'_11th_Congressional_District_election,_2024\n"
     ]
    },
    {
     "name": "stderr",
     "output_type": "stream",
     "text": [
      "C:\\Users\\LSEng\\AppData\\Local\\Temp\\ipykernel_27152\\1995762019.py:82: DeprecationWarning: The 'text' argument to find()-type methods is deprecated. Use 'string' instead.\n",
      "  header = soup.find(\"h4\", text=\"General election\")\n",
      "C:\\Users\\LSEng\\AppData\\Local\\Temp\\ipykernel_27152\\1995762019.py:87: FutureWarning: Passing literal html to 'read_html' is deprecated and will be removed in a future version. To read from a literal string, wrap it in a 'StringIO' object.\n",
      "  df = pd.read_html(str(table), header=0)[0]\n"
     ]
    },
    {
     "name": "stdout",
     "output_type": "stream",
     "text": [
      "✔ Added Texas 11th (shape: (1, 9))\n",
      "→ Scraping Texas 12th: https://ballotpedia.org/Texas'_12th_Congressional_District_election,_2024\n"
     ]
    },
    {
     "name": "stderr",
     "output_type": "stream",
     "text": [
      "C:\\Users\\LSEng\\AppData\\Local\\Temp\\ipykernel_27152\\1995762019.py:82: DeprecationWarning: The 'text' argument to find()-type methods is deprecated. Use 'string' instead.\n",
      "  header = soup.find(\"h4\", text=\"General election\")\n",
      "C:\\Users\\LSEng\\AppData\\Local\\Temp\\ipykernel_27152\\1995762019.py:87: FutureWarning: Passing literal html to 'read_html' is deprecated and will be removed in a future version. To read from a literal string, wrap it in a 'StringIO' object.\n",
      "  df = pd.read_html(str(table), header=0)[0]\n"
     ]
    },
    {
     "name": "stdout",
     "output_type": "stream",
     "text": [
      "✔ Added Texas 12th (shape: (2, 9))\n",
      "→ Scraping Texas 13th: https://ballotpedia.org/Texas'_13th_Congressional_District_election,_2024\n"
     ]
    },
    {
     "name": "stderr",
     "output_type": "stream",
     "text": [
      "C:\\Users\\LSEng\\AppData\\Local\\Temp\\ipykernel_27152\\1995762019.py:82: DeprecationWarning: The 'text' argument to find()-type methods is deprecated. Use 'string' instead.\n",
      "  header = soup.find(\"h4\", text=\"General election\")\n",
      "C:\\Users\\LSEng\\AppData\\Local\\Temp\\ipykernel_27152\\1995762019.py:87: FutureWarning: Passing literal html to 'read_html' is deprecated and will be removed in a future version. To read from a literal string, wrap it in a 'StringIO' object.\n",
      "  df = pd.read_html(str(table), header=0)[0]\n"
     ]
    },
    {
     "name": "stdout",
     "output_type": "stream",
     "text": [
      "✔ Added Texas 13th (shape: (1, 9))\n",
      "→ Scraping Texas 14th: https://ballotpedia.org/Texas'_14th_Congressional_District_election,_2024\n"
     ]
    },
    {
     "name": "stderr",
     "output_type": "stream",
     "text": [
      "C:\\Users\\LSEng\\AppData\\Local\\Temp\\ipykernel_27152\\1995762019.py:82: DeprecationWarning: The 'text' argument to find()-type methods is deprecated. Use 'string' instead.\n",
      "  header = soup.find(\"h4\", text=\"General election\")\n",
      "C:\\Users\\LSEng\\AppData\\Local\\Temp\\ipykernel_27152\\1995762019.py:87: FutureWarning: Passing literal html to 'read_html' is deprecated and will be removed in a future version. To read from a literal string, wrap it in a 'StringIO' object.\n",
      "  df = pd.read_html(str(table), header=0)[0]\n"
     ]
    },
    {
     "name": "stdout",
     "output_type": "stream",
     "text": [
      "✔ Added Texas 14th (shape: (2, 9))\n",
      "→ Scraping Texas 15th: https://ballotpedia.org/Texas'_15th_Congressional_District_election,_2024\n",
      "⚠ Skipped Texas 15th: HTTPSConnectionPool(host='ballotpedia.org', port=443): Read timed out. (read timeout=10)\n",
      "→ Scraping Texas 16th: https://ballotpedia.org/Texas'_16th_Congressional_District_election,_2024\n"
     ]
    },
    {
     "name": "stderr",
     "output_type": "stream",
     "text": [
      "C:\\Users\\LSEng\\AppData\\Local\\Temp\\ipykernel_27152\\1995762019.py:82: DeprecationWarning: The 'text' argument to find()-type methods is deprecated. Use 'string' instead.\n",
      "  header = soup.find(\"h4\", text=\"General election\")\n",
      "C:\\Users\\LSEng\\AppData\\Local\\Temp\\ipykernel_27152\\1995762019.py:87: FutureWarning: Passing literal html to 'read_html' is deprecated and will be removed in a future version. To read from a literal string, wrap it in a 'StringIO' object.\n",
      "  df = pd.read_html(str(table), header=0)[0]\n"
     ]
    },
    {
     "name": "stdout",
     "output_type": "stream",
     "text": [
      "✔ Added Texas 16th (shape: (3, 9))\n",
      "→ Scraping Texas 17th: https://ballotpedia.org/Texas'_17th_Congressional_District_election,_2024\n"
     ]
    },
    {
     "name": "stderr",
     "output_type": "stream",
     "text": [
      "C:\\Users\\LSEng\\AppData\\Local\\Temp\\ipykernel_27152\\1995762019.py:82: DeprecationWarning: The 'text' argument to find()-type methods is deprecated. Use 'string' instead.\n",
      "  header = soup.find(\"h4\", text=\"General election\")\n",
      "C:\\Users\\LSEng\\AppData\\Local\\Temp\\ipykernel_27152\\1995762019.py:87: FutureWarning: Passing literal html to 'read_html' is deprecated and will be removed in a future version. To read from a literal string, wrap it in a 'StringIO' object.\n",
      "  df = pd.read_html(str(table), header=0)[0]\n"
     ]
    },
    {
     "name": "stdout",
     "output_type": "stream",
     "text": [
      "✔ Added Texas 17th (shape: (2, 9))\n",
      "→ Scraping Texas 18th: https://ballotpedia.org/Texas'_18th_Congressional_District_election,_2024\n"
     ]
    },
    {
     "name": "stderr",
     "output_type": "stream",
     "text": [
      "C:\\Users\\LSEng\\AppData\\Local\\Temp\\ipykernel_27152\\1995762019.py:82: DeprecationWarning: The 'text' argument to find()-type methods is deprecated. Use 'string' instead.\n",
      "  header = soup.find(\"h4\", text=\"General election\")\n",
      "C:\\Users\\LSEng\\AppData\\Local\\Temp\\ipykernel_27152\\1995762019.py:87: FutureWarning: Passing literal html to 'read_html' is deprecated and will be removed in a future version. To read from a literal string, wrap it in a 'StringIO' object.\n",
      "  df = pd.read_html(str(table), header=0)[0]\n"
     ]
    },
    {
     "name": "stdout",
     "output_type": "stream",
     "text": [
      "✔ Added Texas 18th (shape: (4, 9))\n",
      "→ Scraping Texas 19th: https://ballotpedia.org/Texas'_19th_Congressional_District_election,_2024\n"
     ]
    },
    {
     "name": "stderr",
     "output_type": "stream",
     "text": [
      "C:\\Users\\LSEng\\AppData\\Local\\Temp\\ipykernel_27152\\1995762019.py:82: DeprecationWarning: The 'text' argument to find()-type methods is deprecated. Use 'string' instead.\n",
      "  header = soup.find(\"h4\", text=\"General election\")\n",
      "C:\\Users\\LSEng\\AppData\\Local\\Temp\\ipykernel_27152\\1995762019.py:87: FutureWarning: Passing literal html to 'read_html' is deprecated and will be removed in a future version. To read from a literal string, wrap it in a 'StringIO' object.\n",
      "  df = pd.read_html(str(table), header=0)[0]\n"
     ]
    },
    {
     "name": "stdout",
     "output_type": "stream",
     "text": [
      "✔ Added Texas 19th (shape: (3, 9))\n",
      "→ Scraping Texas 20th: https://ballotpedia.org/Texas'_20th_Congressional_District_election,_2024\n"
     ]
    },
    {
     "name": "stderr",
     "output_type": "stream",
     "text": [
      "C:\\Users\\LSEng\\AppData\\Local\\Temp\\ipykernel_27152\\1995762019.py:82: DeprecationWarning: The 'text' argument to find()-type methods is deprecated. Use 'string' instead.\n",
      "  header = soup.find(\"h4\", text=\"General election\")\n",
      "C:\\Users\\LSEng\\AppData\\Local\\Temp\\ipykernel_27152\\1995762019.py:87: FutureWarning: Passing literal html to 'read_html' is deprecated and will be removed in a future version. To read from a literal string, wrap it in a 'StringIO' object.\n",
      "  df = pd.read_html(str(table), header=0)[0]\n"
     ]
    },
    {
     "name": "stdout",
     "output_type": "stream",
     "text": [
      "✔ Added Texas 20th (shape: (1, 9))\n",
      "→ Scraping Texas 21st: https://ballotpedia.org/Texas'_21st_Congressional_District_election,_2024\n"
     ]
    },
    {
     "name": "stderr",
     "output_type": "stream",
     "text": [
      "C:\\Users\\LSEng\\AppData\\Local\\Temp\\ipykernel_27152\\1995762019.py:82: DeprecationWarning: The 'text' argument to find()-type methods is deprecated. Use 'string' instead.\n",
      "  header = soup.find(\"h4\", text=\"General election\")\n",
      "C:\\Users\\LSEng\\AppData\\Local\\Temp\\ipykernel_27152\\1995762019.py:87: FutureWarning: Passing literal html to 'read_html' is deprecated and will be removed in a future version. To read from a literal string, wrap it in a 'StringIO' object.\n",
      "  df = pd.read_html(str(table), header=0)[0]\n"
     ]
    },
    {
     "name": "stdout",
     "output_type": "stream",
     "text": [
      "✔ Added Texas 21st (shape: (3, 9))\n",
      "→ Scraping Texas 22nd: https://ballotpedia.org/Texas'_22nd_Congressional_District_election,_2024\n"
     ]
    },
    {
     "name": "stderr",
     "output_type": "stream",
     "text": [
      "C:\\Users\\LSEng\\AppData\\Local\\Temp\\ipykernel_27152\\1995762019.py:82: DeprecationWarning: The 'text' argument to find()-type methods is deprecated. Use 'string' instead.\n",
      "  header = soup.find(\"h4\", text=\"General election\")\n",
      "C:\\Users\\LSEng\\AppData\\Local\\Temp\\ipykernel_27152\\1995762019.py:87: FutureWarning: Passing literal html to 'read_html' is deprecated and will be removed in a future version. To read from a literal string, wrap it in a 'StringIO' object.\n",
      "  df = pd.read_html(str(table), header=0)[0]\n"
     ]
    },
    {
     "name": "stdout",
     "output_type": "stream",
     "text": [
      "✔ Added Texas 22nd (shape: (2, 9))\n",
      "→ Scraping Texas 23rd: https://ballotpedia.org/Texas'_23rd_Congressional_District_election,_2024\n"
     ]
    },
    {
     "name": "stderr",
     "output_type": "stream",
     "text": [
      "C:\\Users\\LSEng\\AppData\\Local\\Temp\\ipykernel_27152\\1995762019.py:82: DeprecationWarning: The 'text' argument to find()-type methods is deprecated. Use 'string' instead.\n",
      "  header = soup.find(\"h4\", text=\"General election\")\n",
      "C:\\Users\\LSEng\\AppData\\Local\\Temp\\ipykernel_27152\\1995762019.py:87: FutureWarning: Passing literal html to 'read_html' is deprecated and will be removed in a future version. To read from a literal string, wrap it in a 'StringIO' object.\n",
      "  df = pd.read_html(str(table), header=0)[0]\n"
     ]
    },
    {
     "name": "stdout",
     "output_type": "stream",
     "text": [
      "✔ Added Texas 23rd (shape: (2, 9))\n",
      "→ Scraping Texas 24th: https://ballotpedia.org/Texas'_24th_Congressional_District_election,_2024\n"
     ]
    },
    {
     "name": "stderr",
     "output_type": "stream",
     "text": [
      "C:\\Users\\LSEng\\AppData\\Local\\Temp\\ipykernel_27152\\1995762019.py:82: DeprecationWarning: The 'text' argument to find()-type methods is deprecated. Use 'string' instead.\n",
      "  header = soup.find(\"h4\", text=\"General election\")\n",
      "C:\\Users\\LSEng\\AppData\\Local\\Temp\\ipykernel_27152\\1995762019.py:87: FutureWarning: Passing literal html to 'read_html' is deprecated and will be removed in a future version. To read from a literal string, wrap it in a 'StringIO' object.\n",
      "  df = pd.read_html(str(table), header=0)[0]\n"
     ]
    },
    {
     "name": "stdout",
     "output_type": "stream",
     "text": [
      "✔ Added Texas 24th (shape: (2, 9))\n",
      "→ Scraping Texas 25th: https://ballotpedia.org/Texas'_25th_Congressional_District_election,_2024\n"
     ]
    },
    {
     "name": "stderr",
     "output_type": "stream",
     "text": [
      "C:\\Users\\LSEng\\AppData\\Local\\Temp\\ipykernel_27152\\1995762019.py:82: DeprecationWarning: The 'text' argument to find()-type methods is deprecated. Use 'string' instead.\n",
      "  header = soup.find(\"h4\", text=\"General election\")\n",
      "C:\\Users\\LSEng\\AppData\\Local\\Temp\\ipykernel_27152\\1995762019.py:87: FutureWarning: Passing literal html to 'read_html' is deprecated and will be removed in a future version. To read from a literal string, wrap it in a 'StringIO' object.\n",
      "  df = pd.read_html(str(table), header=0)[0]\n"
     ]
    },
    {
     "name": "stdout",
     "output_type": "stream",
     "text": [
      "✔ Added Texas 25th (shape: (2, 9))\n",
      "→ Scraping Texas 26th: https://ballotpedia.org/Texas'_26th_Congressional_District_election,_2024\n"
     ]
    },
    {
     "name": "stderr",
     "output_type": "stream",
     "text": [
      "C:\\Users\\LSEng\\AppData\\Local\\Temp\\ipykernel_27152\\1995762019.py:82: DeprecationWarning: The 'text' argument to find()-type methods is deprecated. Use 'string' instead.\n",
      "  header = soup.find(\"h4\", text=\"General election\")\n",
      "C:\\Users\\LSEng\\AppData\\Local\\Temp\\ipykernel_27152\\1995762019.py:87: FutureWarning: Passing literal html to 'read_html' is deprecated and will be removed in a future version. To read from a literal string, wrap it in a 'StringIO' object.\n",
      "  df = pd.read_html(str(table), header=0)[0]\n"
     ]
    },
    {
     "name": "stdout",
     "output_type": "stream",
     "text": [
      "✔ Added Texas 26th (shape: (3, 9))\n",
      "→ Scraping Texas 27th: https://ballotpedia.org/Texas'_27th_Congressional_District_election,_2024\n"
     ]
    },
    {
     "name": "stderr",
     "output_type": "stream",
     "text": [
      "C:\\Users\\LSEng\\AppData\\Local\\Temp\\ipykernel_27152\\1995762019.py:82: DeprecationWarning: The 'text' argument to find()-type methods is deprecated. Use 'string' instead.\n",
      "  header = soup.find(\"h4\", text=\"General election\")\n",
      "C:\\Users\\LSEng\\AppData\\Local\\Temp\\ipykernel_27152\\1995762019.py:87: FutureWarning: Passing literal html to 'read_html' is deprecated and will be removed in a future version. To read from a literal string, wrap it in a 'StringIO' object.\n",
      "  df = pd.read_html(str(table), header=0)[0]\n"
     ]
    },
    {
     "name": "stdout",
     "output_type": "stream",
     "text": [
      "✔ Added Texas 27th (shape: (2, 9))\n",
      "→ Scraping Texas 28th: https://ballotpedia.org/Texas'_28th_Congressional_District_election,_2024\n"
     ]
    },
    {
     "name": "stderr",
     "output_type": "stream",
     "text": [
      "C:\\Users\\LSEng\\AppData\\Local\\Temp\\ipykernel_27152\\1995762019.py:82: DeprecationWarning: The 'text' argument to find()-type methods is deprecated. Use 'string' instead.\n",
      "  header = soup.find(\"h4\", text=\"General election\")\n",
      "C:\\Users\\LSEng\\AppData\\Local\\Temp\\ipykernel_27152\\1995762019.py:87: FutureWarning: Passing literal html to 'read_html' is deprecated and will be removed in a future version. To read from a literal string, wrap it in a 'StringIO' object.\n",
      "  df = pd.read_html(str(table), header=0)[0]\n"
     ]
    },
    {
     "name": "stdout",
     "output_type": "stream",
     "text": [
      "✔ Added Texas 28th (shape: (2, 9))\n",
      "→ Scraping Texas 29th: https://ballotpedia.org/Texas'_29th_Congressional_District_election,_2024\n"
     ]
    },
    {
     "name": "stderr",
     "output_type": "stream",
     "text": [
      "C:\\Users\\LSEng\\AppData\\Local\\Temp\\ipykernel_27152\\1995762019.py:82: DeprecationWarning: The 'text' argument to find()-type methods is deprecated. Use 'string' instead.\n",
      "  header = soup.find(\"h4\", text=\"General election\")\n",
      "C:\\Users\\LSEng\\AppData\\Local\\Temp\\ipykernel_27152\\1995762019.py:87: FutureWarning: Passing literal html to 'read_html' is deprecated and will be removed in a future version. To read from a literal string, wrap it in a 'StringIO' object.\n",
      "  df = pd.read_html(str(table), header=0)[0]\n"
     ]
    },
    {
     "name": "stdout",
     "output_type": "stream",
     "text": [
      "✔ Added Texas 29th (shape: (2, 9))\n",
      "→ Scraping Texas 30th: https://ballotpedia.org/Texas'_30th_Congressional_District_election,_2024\n"
     ]
    },
    {
     "name": "stderr",
     "output_type": "stream",
     "text": [
      "C:\\Users\\LSEng\\AppData\\Local\\Temp\\ipykernel_27152\\1995762019.py:82: DeprecationWarning: The 'text' argument to find()-type methods is deprecated. Use 'string' instead.\n",
      "  header = soup.find(\"h4\", text=\"General election\")\n",
      "C:\\Users\\LSEng\\AppData\\Local\\Temp\\ipykernel_27152\\1995762019.py:87: FutureWarning: Passing literal html to 'read_html' is deprecated and will be removed in a future version. To read from a literal string, wrap it in a 'StringIO' object.\n",
      "  df = pd.read_html(str(table), header=0)[0]\n"
     ]
    },
    {
     "name": "stdout",
     "output_type": "stream",
     "text": [
      "✔ Added Texas 30th (shape: (2, 9))\n",
      "→ Scraping Texas 31st: https://ballotpedia.org/Texas'_31st_Congressional_District_election,_2024\n"
     ]
    },
    {
     "name": "stderr",
     "output_type": "stream",
     "text": [
      "C:\\Users\\LSEng\\AppData\\Local\\Temp\\ipykernel_27152\\1995762019.py:82: DeprecationWarning: The 'text' argument to find()-type methods is deprecated. Use 'string' instead.\n",
      "  header = soup.find(\"h4\", text=\"General election\")\n",
      "C:\\Users\\LSEng\\AppData\\Local\\Temp\\ipykernel_27152\\1995762019.py:87: FutureWarning: Passing literal html to 'read_html' is deprecated and will be removed in a future version. To read from a literal string, wrap it in a 'StringIO' object.\n",
      "  df = pd.read_html(str(table), header=0)[0]\n"
     ]
    },
    {
     "name": "stdout",
     "output_type": "stream",
     "text": [
      "✔ Added Texas 31st (shape: (2, 9))\n",
      "→ Scraping Texas 32nd: https://ballotpedia.org/Texas'_32nd_Congressional_District_election,_2024\n"
     ]
    },
    {
     "name": "stderr",
     "output_type": "stream",
     "text": [
      "C:\\Users\\LSEng\\AppData\\Local\\Temp\\ipykernel_27152\\1995762019.py:82: DeprecationWarning: The 'text' argument to find()-type methods is deprecated. Use 'string' instead.\n",
      "  header = soup.find(\"h4\", text=\"General election\")\n",
      "C:\\Users\\LSEng\\AppData\\Local\\Temp\\ipykernel_27152\\1995762019.py:87: FutureWarning: Passing literal html to 'read_html' is deprecated and will be removed in a future version. To read from a literal string, wrap it in a 'StringIO' object.\n",
      "  df = pd.read_html(str(table), header=0)[0]\n"
     ]
    },
    {
     "name": "stdout",
     "output_type": "stream",
     "text": [
      "✔ Added Texas 32nd (shape: (3, 9))\n",
      "→ Scraping Texas 33rd: https://ballotpedia.org/Texas'_33rd_Congressional_District_election,_2024\n"
     ]
    },
    {
     "name": "stderr",
     "output_type": "stream",
     "text": [
      "C:\\Users\\LSEng\\AppData\\Local\\Temp\\ipykernel_27152\\1995762019.py:82: DeprecationWarning: The 'text' argument to find()-type methods is deprecated. Use 'string' instead.\n",
      "  header = soup.find(\"h4\", text=\"General election\")\n",
      "C:\\Users\\LSEng\\AppData\\Local\\Temp\\ipykernel_27152\\1995762019.py:87: FutureWarning: Passing literal html to 'read_html' is deprecated and will be removed in a future version. To read from a literal string, wrap it in a 'StringIO' object.\n",
      "  df = pd.read_html(str(table), header=0)[0]\n"
     ]
    },
    {
     "name": "stdout",
     "output_type": "stream",
     "text": [
      "✔ Added Texas 33rd (shape: (2, 9))\n",
      "→ Scraping Texas 34th: https://ballotpedia.org/Texas'_34th_Congressional_District_election,_2024\n"
     ]
    },
    {
     "name": "stderr",
     "output_type": "stream",
     "text": [
      "C:\\Users\\LSEng\\AppData\\Local\\Temp\\ipykernel_27152\\1995762019.py:82: DeprecationWarning: The 'text' argument to find()-type methods is deprecated. Use 'string' instead.\n",
      "  header = soup.find(\"h4\", text=\"General election\")\n",
      "C:\\Users\\LSEng\\AppData\\Local\\Temp\\ipykernel_27152\\1995762019.py:87: FutureWarning: Passing literal html to 'read_html' is deprecated and will be removed in a future version. To read from a literal string, wrap it in a 'StringIO' object.\n",
      "  df = pd.read_html(str(table), header=0)[0]\n"
     ]
    },
    {
     "name": "stdout",
     "output_type": "stream",
     "text": [
      "✔ Added Texas 34th (shape: (2, 9))\n",
      "→ Scraping Texas 35th: https://ballotpedia.org/Texas'_35th_Congressional_District_election,_2024\n"
     ]
    },
    {
     "name": "stderr",
     "output_type": "stream",
     "text": [
      "C:\\Users\\LSEng\\AppData\\Local\\Temp\\ipykernel_27152\\1995762019.py:82: DeprecationWarning: The 'text' argument to find()-type methods is deprecated. Use 'string' instead.\n",
      "  header = soup.find(\"h4\", text=\"General election\")\n",
      "C:\\Users\\LSEng\\AppData\\Local\\Temp\\ipykernel_27152\\1995762019.py:87: FutureWarning: Passing literal html to 'read_html' is deprecated and will be removed in a future version. To read from a literal string, wrap it in a 'StringIO' object.\n",
      "  df = pd.read_html(str(table), header=0)[0]\n"
     ]
    },
    {
     "name": "stdout",
     "output_type": "stream",
     "text": [
      "✔ Added Texas 35th (shape: (2, 9))\n",
      "→ Scraping Texas 36th: https://ballotpedia.org/Texas'_36th_Congressional_District_election,_2024\n"
     ]
    },
    {
     "name": "stderr",
     "output_type": "stream",
     "text": [
      "C:\\Users\\LSEng\\AppData\\Local\\Temp\\ipykernel_27152\\1995762019.py:82: DeprecationWarning: The 'text' argument to find()-type methods is deprecated. Use 'string' instead.\n",
      "  header = soup.find(\"h4\", text=\"General election\")\n",
      "C:\\Users\\LSEng\\AppData\\Local\\Temp\\ipykernel_27152\\1995762019.py:87: FutureWarning: Passing literal html to 'read_html' is deprecated and will be removed in a future version. To read from a literal string, wrap it in a 'StringIO' object.\n",
      "  df = pd.read_html(str(table), header=0)[0]\n"
     ]
    },
    {
     "name": "stdout",
     "output_type": "stream",
     "text": [
      "✔ Added Texas 36th (shape: (2, 9))\n",
      "→ Scraping Texas 37th: https://ballotpedia.org/Texas'_37th_Congressional_District_election,_2024\n"
     ]
    },
    {
     "name": "stderr",
     "output_type": "stream",
     "text": [
      "C:\\Users\\LSEng\\AppData\\Local\\Temp\\ipykernel_27152\\1995762019.py:82: DeprecationWarning: The 'text' argument to find()-type methods is deprecated. Use 'string' instead.\n",
      "  header = soup.find(\"h4\", text=\"General election\")\n",
      "C:\\Users\\LSEng\\AppData\\Local\\Temp\\ipykernel_27152\\1995762019.py:87: FutureWarning: Passing literal html to 'read_html' is deprecated and will be removed in a future version. To read from a literal string, wrap it in a 'StringIO' object.\n",
      "  df = pd.read_html(str(table), header=0)[0]\n"
     ]
    },
    {
     "name": "stdout",
     "output_type": "stream",
     "text": [
      "✔ Added Texas 37th (shape: (3, 9))\n",
      "→ Scraping Texas 38th: https://ballotpedia.org/Texas'_38th_Congressional_District_election,_2024\n"
     ]
    },
    {
     "name": "stderr",
     "output_type": "stream",
     "text": [
      "C:\\Users\\LSEng\\AppData\\Local\\Temp\\ipykernel_27152\\1995762019.py:82: DeprecationWarning: The 'text' argument to find()-type methods is deprecated. Use 'string' instead.\n",
      "  header = soup.find(\"h4\", text=\"General election\")\n",
      "C:\\Users\\LSEng\\AppData\\Local\\Temp\\ipykernel_27152\\1995762019.py:87: FutureWarning: Passing literal html to 'read_html' is deprecated and will be removed in a future version. To read from a literal string, wrap it in a 'StringIO' object.\n",
      "  df = pd.read_html(str(table), header=0)[0]\n"
     ]
    },
    {
     "name": "stdout",
     "output_type": "stream",
     "text": [
      "✔ Added Texas 38th (shape: (3, 9))\n",
      "→ Scraping Utah 1st: https://ballotpedia.org/Utah's_1st_Congressional_District_election,_2024\n"
     ]
    },
    {
     "name": "stderr",
     "output_type": "stream",
     "text": [
      "C:\\Users\\LSEng\\AppData\\Local\\Temp\\ipykernel_27152\\1995762019.py:82: DeprecationWarning: The 'text' argument to find()-type methods is deprecated. Use 'string' instead.\n",
      "  header = soup.find(\"h4\", text=\"General election\")\n",
      "C:\\Users\\LSEng\\AppData\\Local\\Temp\\ipykernel_27152\\1995762019.py:87: FutureWarning: Passing literal html to 'read_html' is deprecated and will be removed in a future version. To read from a literal string, wrap it in a 'StringIO' object.\n",
      "  df = pd.read_html(str(table), header=0)[0]\n"
     ]
    },
    {
     "name": "stdout",
     "output_type": "stream",
     "text": [
      "✔ Added Utah 1st (shape: (3, 9))\n",
      "→ Scraping Utah 2nd: https://ballotpedia.org/Utah's_2nd_Congressional_District_election,_2024\n"
     ]
    },
    {
     "name": "stderr",
     "output_type": "stream",
     "text": [
      "C:\\Users\\LSEng\\AppData\\Local\\Temp\\ipykernel_27152\\1995762019.py:82: DeprecationWarning: The 'text' argument to find()-type methods is deprecated. Use 'string' instead.\n",
      "  header = soup.find(\"h4\", text=\"General election\")\n",
      "C:\\Users\\LSEng\\AppData\\Local\\Temp\\ipykernel_27152\\1995762019.py:87: FutureWarning: Passing literal html to 'read_html' is deprecated and will be removed in a future version. To read from a literal string, wrap it in a 'StringIO' object.\n",
      "  df = pd.read_html(str(table), header=0)[0]\n"
     ]
    },
    {
     "name": "stdout",
     "output_type": "stream",
     "text": [
      "✔ Added Utah 2nd (shape: (4, 9))\n",
      "→ Scraping Utah 3rd: https://ballotpedia.org/Utah's_3rd_Congressional_District_election,_2024\n"
     ]
    },
    {
     "name": "stderr",
     "output_type": "stream",
     "text": [
      "C:\\Users\\LSEng\\AppData\\Local\\Temp\\ipykernel_27152\\1995762019.py:82: DeprecationWarning: The 'text' argument to find()-type methods is deprecated. Use 'string' instead.\n",
      "  header = soup.find(\"h4\", text=\"General election\")\n",
      "C:\\Users\\LSEng\\AppData\\Local\\Temp\\ipykernel_27152\\1995762019.py:87: FutureWarning: Passing literal html to 'read_html' is deprecated and will be removed in a future version. To read from a literal string, wrap it in a 'StringIO' object.\n",
      "  df = pd.read_html(str(table), header=0)[0]\n"
     ]
    },
    {
     "name": "stdout",
     "output_type": "stream",
     "text": [
      "✔ Added Utah 3rd (shape: (2, 9))\n",
      "→ Scraping Utah 4th: https://ballotpedia.org/Utah's_4th_Congressional_District_election,_2024\n"
     ]
    },
    {
     "name": "stderr",
     "output_type": "stream",
     "text": [
      "C:\\Users\\LSEng\\AppData\\Local\\Temp\\ipykernel_27152\\1995762019.py:82: DeprecationWarning: The 'text' argument to find()-type methods is deprecated. Use 'string' instead.\n",
      "  header = soup.find(\"h4\", text=\"General election\")\n",
      "C:\\Users\\LSEng\\AppData\\Local\\Temp\\ipykernel_27152\\1995762019.py:87: FutureWarning: Passing literal html to 'read_html' is deprecated and will be removed in a future version. To read from a literal string, wrap it in a 'StringIO' object.\n",
      "  df = pd.read_html(str(table), header=0)[0]\n"
     ]
    },
    {
     "name": "stdout",
     "output_type": "stream",
     "text": [
      "✔ Added Utah 4th (shape: (4, 9))\n",
      "→ Scraping Vermont At-large: https://ballotpedia.org/Vermont's_At-large_Congressional_District_election,_2024\n"
     ]
    },
    {
     "name": "stderr",
     "output_type": "stream",
     "text": [
      "C:\\Users\\LSEng\\AppData\\Local\\Temp\\ipykernel_27152\\1995762019.py:82: DeprecationWarning: The 'text' argument to find()-type methods is deprecated. Use 'string' instead.\n",
      "  header = soup.find(\"h4\", text=\"General election\")\n",
      "C:\\Users\\LSEng\\AppData\\Local\\Temp\\ipykernel_27152\\1995762019.py:87: FutureWarning: Passing literal html to 'read_html' is deprecated and will be removed in a future version. To read from a literal string, wrap it in a 'StringIO' object.\n",
      "  df = pd.read_html(str(table), header=0)[0]\n"
     ]
    },
    {
     "name": "stdout",
     "output_type": "stream",
     "text": [
      "✔ Added Vermont At-large (shape: (5, 9))\n",
      "→ Scraping Virginia 1st: https://ballotpedia.org/Virginia's_1st_Congressional_District_election,_2024\n"
     ]
    },
    {
     "name": "stderr",
     "output_type": "stream",
     "text": [
      "C:\\Users\\LSEng\\AppData\\Local\\Temp\\ipykernel_27152\\1995762019.py:82: DeprecationWarning: The 'text' argument to find()-type methods is deprecated. Use 'string' instead.\n",
      "  header = soup.find(\"h4\", text=\"General election\")\n",
      "C:\\Users\\LSEng\\AppData\\Local\\Temp\\ipykernel_27152\\1995762019.py:87: FutureWarning: Passing literal html to 'read_html' is deprecated and will be removed in a future version. To read from a literal string, wrap it in a 'StringIO' object.\n",
      "  df = pd.read_html(str(table), header=0)[0]\n"
     ]
    },
    {
     "name": "stdout",
     "output_type": "stream",
     "text": [
      "✔ Added Virginia 1st (shape: (3, 9))\n",
      "→ Scraping Virginia 2nd: https://ballotpedia.org/Virginia's_2nd_Congressional_District_election,_2024\n"
     ]
    },
    {
     "name": "stderr",
     "output_type": "stream",
     "text": [
      "C:\\Users\\LSEng\\AppData\\Local\\Temp\\ipykernel_27152\\1995762019.py:82: DeprecationWarning: The 'text' argument to find()-type methods is deprecated. Use 'string' instead.\n",
      "  header = soup.find(\"h4\", text=\"General election\")\n",
      "C:\\Users\\LSEng\\AppData\\Local\\Temp\\ipykernel_27152\\1995762019.py:87: FutureWarning: Passing literal html to 'read_html' is deprecated and will be removed in a future version. To read from a literal string, wrap it in a 'StringIO' object.\n",
      "  df = pd.read_html(str(table), header=0)[0]\n"
     ]
    },
    {
     "name": "stdout",
     "output_type": "stream",
     "text": [
      "✔ Added Virginia 2nd (shape: (4, 9))\n",
      "→ Scraping Virginia 3rd: https://ballotpedia.org/Virginia's_3rd_Congressional_District_election,_2024\n"
     ]
    },
    {
     "name": "stderr",
     "output_type": "stream",
     "text": [
      "C:\\Users\\LSEng\\AppData\\Local\\Temp\\ipykernel_27152\\1995762019.py:82: DeprecationWarning: The 'text' argument to find()-type methods is deprecated. Use 'string' instead.\n",
      "  header = soup.find(\"h4\", text=\"General election\")\n",
      "C:\\Users\\LSEng\\AppData\\Local\\Temp\\ipykernel_27152\\1995762019.py:87: FutureWarning: Passing literal html to 'read_html' is deprecated and will be removed in a future version. To read from a literal string, wrap it in a 'StringIO' object.\n",
      "  df = pd.read_html(str(table), header=0)[0]\n"
     ]
    },
    {
     "name": "stdout",
     "output_type": "stream",
     "text": [
      "✔ Added Virginia 3rd (shape: (3, 9))\n",
      "→ Scraping Virginia 4th: https://ballotpedia.org/Virginia's_4th_Congressional_District_election,_2024\n"
     ]
    },
    {
     "name": "stderr",
     "output_type": "stream",
     "text": [
      "C:\\Users\\LSEng\\AppData\\Local\\Temp\\ipykernel_27152\\1995762019.py:82: DeprecationWarning: The 'text' argument to find()-type methods is deprecated. Use 'string' instead.\n",
      "  header = soup.find(\"h4\", text=\"General election\")\n",
      "C:\\Users\\LSEng\\AppData\\Local\\Temp\\ipykernel_27152\\1995762019.py:87: FutureWarning: Passing literal html to 'read_html' is deprecated and will be removed in a future version. To read from a literal string, wrap it in a 'StringIO' object.\n",
      "  df = pd.read_html(str(table), header=0)[0]\n"
     ]
    },
    {
     "name": "stdout",
     "output_type": "stream",
     "text": [
      "✔ Added Virginia 4th (shape: (3, 9))\n",
      "→ Scraping Virginia 5th: https://ballotpedia.org/Virginia's_5th_Congressional_District_election,_2024\n"
     ]
    },
    {
     "name": "stderr",
     "output_type": "stream",
     "text": [
      "C:\\Users\\LSEng\\AppData\\Local\\Temp\\ipykernel_27152\\1995762019.py:82: DeprecationWarning: The 'text' argument to find()-type methods is deprecated. Use 'string' instead.\n",
      "  header = soup.find(\"h4\", text=\"General election\")\n",
      "C:\\Users\\LSEng\\AppData\\Local\\Temp\\ipykernel_27152\\1995762019.py:87: FutureWarning: Passing literal html to 'read_html' is deprecated and will be removed in a future version. To read from a literal string, wrap it in a 'StringIO' object.\n",
      "  df = pd.read_html(str(table), header=0)[0]\n"
     ]
    },
    {
     "name": "stdout",
     "output_type": "stream",
     "text": [
      "✔ Added Virginia 5th (shape: (3, 9))\n",
      "→ Scraping Virginia 6th: https://ballotpedia.org/Virginia's_6th_Congressional_District_election,_2024\n"
     ]
    },
    {
     "name": "stderr",
     "output_type": "stream",
     "text": [
      "C:\\Users\\LSEng\\AppData\\Local\\Temp\\ipykernel_27152\\1995762019.py:82: DeprecationWarning: The 'text' argument to find()-type methods is deprecated. Use 'string' instead.\n",
      "  header = soup.find(\"h4\", text=\"General election\")\n",
      "C:\\Users\\LSEng\\AppData\\Local\\Temp\\ipykernel_27152\\1995762019.py:87: FutureWarning: Passing literal html to 'read_html' is deprecated and will be removed in a future version. To read from a literal string, wrap it in a 'StringIO' object.\n",
      "  df = pd.read_html(str(table), header=0)[0]\n"
     ]
    },
    {
     "name": "stdout",
     "output_type": "stream",
     "text": [
      "✔ Added Virginia 6th (shape: (4, 9))\n",
      "→ Scraping Virginia 7th: https://ballotpedia.org/Virginia's_7th_Congressional_District_election,_2024\n",
      "⚠ Skipped Virginia 7th: HTTPSConnectionPool(host='ballotpedia.org', port=443): Read timed out. (read timeout=10)\n",
      "→ Scraping Virginia 8th: https://ballotpedia.org/Virginia's_8th_Congressional_District_election,_2024\n"
     ]
    },
    {
     "name": "stderr",
     "output_type": "stream",
     "text": [
      "C:\\Users\\LSEng\\AppData\\Local\\Temp\\ipykernel_27152\\1995762019.py:82: DeprecationWarning: The 'text' argument to find()-type methods is deprecated. Use 'string' instead.\n",
      "  header = soup.find(\"h4\", text=\"General election\")\n",
      "C:\\Users\\LSEng\\AppData\\Local\\Temp\\ipykernel_27152\\1995762019.py:87: FutureWarning: Passing literal html to 'read_html' is deprecated and will be removed in a future version. To read from a literal string, wrap it in a 'StringIO' object.\n",
      "  df = pd.read_html(str(table), header=0)[0]\n"
     ]
    },
    {
     "name": "stdout",
     "output_type": "stream",
     "text": [
      "✔ Added Virginia 8th (shape: (5, 9))\n",
      "→ Scraping Virginia 9th: https://ballotpedia.org/Virginia's_9th_Congressional_District_election,_2024\n"
     ]
    },
    {
     "name": "stderr",
     "output_type": "stream",
     "text": [
      "C:\\Users\\LSEng\\AppData\\Local\\Temp\\ipykernel_27152\\1995762019.py:82: DeprecationWarning: The 'text' argument to find()-type methods is deprecated. Use 'string' instead.\n",
      "  header = soup.find(\"h4\", text=\"General election\")\n",
      "C:\\Users\\LSEng\\AppData\\Local\\Temp\\ipykernel_27152\\1995762019.py:87: FutureWarning: Passing literal html to 'read_html' is deprecated and will be removed in a future version. To read from a literal string, wrap it in a 'StringIO' object.\n",
      "  df = pd.read_html(str(table), header=0)[0]\n"
     ]
    },
    {
     "name": "stdout",
     "output_type": "stream",
     "text": [
      "✔ Added Virginia 9th (shape: (3, 9))\n",
      "→ Scraping Virginia 10th: https://ballotpedia.org/Virginia's_10th_Congressional_District_election,_2024\n"
     ]
    },
    {
     "name": "stderr",
     "output_type": "stream",
     "text": [
      "C:\\Users\\LSEng\\AppData\\Local\\Temp\\ipykernel_27152\\1995762019.py:82: DeprecationWarning: The 'text' argument to find()-type methods is deprecated. Use 'string' instead.\n",
      "  header = soup.find(\"h4\", text=\"General election\")\n",
      "C:\\Users\\LSEng\\AppData\\Local\\Temp\\ipykernel_27152\\1995762019.py:87: FutureWarning: Passing literal html to 'read_html' is deprecated and will be removed in a future version. To read from a literal string, wrap it in a 'StringIO' object.\n",
      "  df = pd.read_html(str(table), header=0)[0]\n"
     ]
    },
    {
     "name": "stdout",
     "output_type": "stream",
     "text": [
      "✔ Added Virginia 10th (shape: (3, 9))\n",
      "→ Scraping Virginia 11th: https://ballotpedia.org/Virginia's_11th_Congressional_District_election,_2024\n"
     ]
    },
    {
     "name": "stderr",
     "output_type": "stream",
     "text": [
      "C:\\Users\\LSEng\\AppData\\Local\\Temp\\ipykernel_27152\\1995762019.py:82: DeprecationWarning: The 'text' argument to find()-type methods is deprecated. Use 'string' instead.\n",
      "  header = soup.find(\"h4\", text=\"General election\")\n",
      "C:\\Users\\LSEng\\AppData\\Local\\Temp\\ipykernel_27152\\1995762019.py:87: FutureWarning: Passing literal html to 'read_html' is deprecated and will be removed in a future version. To read from a literal string, wrap it in a 'StringIO' object.\n",
      "  df = pd.read_html(str(table), header=0)[0]\n"
     ]
    },
    {
     "name": "stdout",
     "output_type": "stream",
     "text": [
      "✔ Added Virginia 11th (shape: (3, 9))\n",
      "→ Scraping Washington 1st: https://ballotpedia.org/Washington's_1st_Congressional_District_election,_2024\n"
     ]
    },
    {
     "name": "stderr",
     "output_type": "stream",
     "text": [
      "C:\\Users\\LSEng\\AppData\\Local\\Temp\\ipykernel_27152\\1995762019.py:82: DeprecationWarning: The 'text' argument to find()-type methods is deprecated. Use 'string' instead.\n",
      "  header = soup.find(\"h4\", text=\"General election\")\n",
      "C:\\Users\\LSEng\\AppData\\Local\\Temp\\ipykernel_27152\\1995762019.py:87: FutureWarning: Passing literal html to 'read_html' is deprecated and will be removed in a future version. To read from a literal string, wrap it in a 'StringIO' object.\n",
      "  df = pd.read_html(str(table), header=0)[0]\n"
     ]
    },
    {
     "name": "stdout",
     "output_type": "stream",
     "text": [
      "✔ Added Washington 1st (shape: (3, 9))\n",
      "→ Scraping Washington 2nd: https://ballotpedia.org/Washington's_2nd_Congressional_District_election,_2024\n"
     ]
    },
    {
     "name": "stderr",
     "output_type": "stream",
     "text": [
      "C:\\Users\\LSEng\\AppData\\Local\\Temp\\ipykernel_27152\\1995762019.py:82: DeprecationWarning: The 'text' argument to find()-type methods is deprecated. Use 'string' instead.\n",
      "  header = soup.find(\"h4\", text=\"General election\")\n",
      "C:\\Users\\LSEng\\AppData\\Local\\Temp\\ipykernel_27152\\1995762019.py:87: FutureWarning: Passing literal html to 'read_html' is deprecated and will be removed in a future version. To read from a literal string, wrap it in a 'StringIO' object.\n",
      "  df = pd.read_html(str(table), header=0)[0]\n"
     ]
    },
    {
     "name": "stdout",
     "output_type": "stream",
     "text": [
      "✔ Added Washington 2nd (shape: (3, 9))\n",
      "→ Scraping Washington 3rd: https://ballotpedia.org/Washington's_3rd_Congressional_District_election,_2024\n"
     ]
    },
    {
     "name": "stderr",
     "output_type": "stream",
     "text": [
      "C:\\Users\\LSEng\\AppData\\Local\\Temp\\ipykernel_27152\\1995762019.py:82: DeprecationWarning: The 'text' argument to find()-type methods is deprecated. Use 'string' instead.\n",
      "  header = soup.find(\"h4\", text=\"General election\")\n",
      "C:\\Users\\LSEng\\AppData\\Local\\Temp\\ipykernel_27152\\1995762019.py:87: FutureWarning: Passing literal html to 'read_html' is deprecated and will be removed in a future version. To read from a literal string, wrap it in a 'StringIO' object.\n",
      "  df = pd.read_html(str(table), header=0)[0]\n"
     ]
    },
    {
     "name": "stdout",
     "output_type": "stream",
     "text": [
      "✔ Added Washington 3rd (shape: (3, 9))\n",
      "→ Scraping Washington 4th: https://ballotpedia.org/Washington's_4th_Congressional_District_election,_2024\n"
     ]
    },
    {
     "name": "stderr",
     "output_type": "stream",
     "text": [
      "C:\\Users\\LSEng\\AppData\\Local\\Temp\\ipykernel_27152\\1995762019.py:82: DeprecationWarning: The 'text' argument to find()-type methods is deprecated. Use 'string' instead.\n",
      "  header = soup.find(\"h4\", text=\"General election\")\n",
      "C:\\Users\\LSEng\\AppData\\Local\\Temp\\ipykernel_27152\\1995762019.py:87: FutureWarning: Passing literal html to 'read_html' is deprecated and will be removed in a future version. To read from a literal string, wrap it in a 'StringIO' object.\n",
      "  df = pd.read_html(str(table), header=0)[0]\n"
     ]
    },
    {
     "name": "stdout",
     "output_type": "stream",
     "text": [
      "✔ Added Washington 4th (shape: (3, 9))\n",
      "→ Scraping Washington 5th: https://ballotpedia.org/Washington's_5th_Congressional_District_election,_2024\n"
     ]
    },
    {
     "name": "stderr",
     "output_type": "stream",
     "text": [
      "C:\\Users\\LSEng\\AppData\\Local\\Temp\\ipykernel_27152\\1995762019.py:82: DeprecationWarning: The 'text' argument to find()-type methods is deprecated. Use 'string' instead.\n",
      "  header = soup.find(\"h4\", text=\"General election\")\n",
      "C:\\Users\\LSEng\\AppData\\Local\\Temp\\ipykernel_27152\\1995762019.py:87: FutureWarning: Passing literal html to 'read_html' is deprecated and will be removed in a future version. To read from a literal string, wrap it in a 'StringIO' object.\n",
      "  df = pd.read_html(str(table), header=0)[0]\n"
     ]
    },
    {
     "name": "stdout",
     "output_type": "stream",
     "text": [
      "✔ Added Washington 5th (shape: (3, 9))\n",
      "→ Scraping Washington 6th: https://ballotpedia.org/Washington's_6th_Congressional_District_election,_2024\n"
     ]
    },
    {
     "name": "stderr",
     "output_type": "stream",
     "text": [
      "C:\\Users\\LSEng\\AppData\\Local\\Temp\\ipykernel_27152\\1995762019.py:82: DeprecationWarning: The 'text' argument to find()-type methods is deprecated. Use 'string' instead.\n",
      "  header = soup.find(\"h4\", text=\"General election\")\n",
      "C:\\Users\\LSEng\\AppData\\Local\\Temp\\ipykernel_27152\\1995762019.py:87: FutureWarning: Passing literal html to 'read_html' is deprecated and will be removed in a future version. To read from a literal string, wrap it in a 'StringIO' object.\n",
      "  df = pd.read_html(str(table), header=0)[0]\n"
     ]
    },
    {
     "name": "stdout",
     "output_type": "stream",
     "text": [
      "✔ Added Washington 6th (shape: (3, 9))\n",
      "→ Scraping Washington 7th: https://ballotpedia.org/Washington's_7th_Congressional_District_election,_2024\n"
     ]
    },
    {
     "name": "stderr",
     "output_type": "stream",
     "text": [
      "C:\\Users\\LSEng\\AppData\\Local\\Temp\\ipykernel_27152\\1995762019.py:82: DeprecationWarning: The 'text' argument to find()-type methods is deprecated. Use 'string' instead.\n",
      "  header = soup.find(\"h4\", text=\"General election\")\n",
      "C:\\Users\\LSEng\\AppData\\Local\\Temp\\ipykernel_27152\\1995762019.py:87: FutureWarning: Passing literal html to 'read_html' is deprecated and will be removed in a future version. To read from a literal string, wrap it in a 'StringIO' object.\n",
      "  df = pd.read_html(str(table), header=0)[0]\n"
     ]
    },
    {
     "name": "stdout",
     "output_type": "stream",
     "text": [
      "✔ Added Washington 7th (shape: (3, 9))\n",
      "→ Scraping Washington 8th: https://ballotpedia.org/Washington's_8th_Congressional_District_election,_2024\n"
     ]
    },
    {
     "name": "stderr",
     "output_type": "stream",
     "text": [
      "C:\\Users\\LSEng\\AppData\\Local\\Temp\\ipykernel_27152\\1995762019.py:82: DeprecationWarning: The 'text' argument to find()-type methods is deprecated. Use 'string' instead.\n",
      "  header = soup.find(\"h4\", text=\"General election\")\n",
      "C:\\Users\\LSEng\\AppData\\Local\\Temp\\ipykernel_27152\\1995762019.py:87: FutureWarning: Passing literal html to 'read_html' is deprecated and will be removed in a future version. To read from a literal string, wrap it in a 'StringIO' object.\n",
      "  df = pd.read_html(str(table), header=0)[0]\n"
     ]
    },
    {
     "name": "stdout",
     "output_type": "stream",
     "text": [
      "✔ Added Washington 8th (shape: (3, 9))\n",
      "→ Scraping Washington 9th: https://ballotpedia.org/Washington's_9th_Congressional_District_election,_2024\n"
     ]
    },
    {
     "name": "stderr",
     "output_type": "stream",
     "text": [
      "C:\\Users\\LSEng\\AppData\\Local\\Temp\\ipykernel_27152\\1995762019.py:82: DeprecationWarning: The 'text' argument to find()-type methods is deprecated. Use 'string' instead.\n",
      "  header = soup.find(\"h4\", text=\"General election\")\n",
      "C:\\Users\\LSEng\\AppData\\Local\\Temp\\ipykernel_27152\\1995762019.py:87: FutureWarning: Passing literal html to 'read_html' is deprecated and will be removed in a future version. To read from a literal string, wrap it in a 'StringIO' object.\n",
      "  df = pd.read_html(str(table), header=0)[0]\n"
     ]
    },
    {
     "name": "stdout",
     "output_type": "stream",
     "text": [
      "✔ Added Washington 9th (shape: (3, 9))\n",
      "→ Scraping Washington 10th: https://ballotpedia.org/Washington's_10th_Congressional_District_election,_2024\n"
     ]
    },
    {
     "name": "stderr",
     "output_type": "stream",
     "text": [
      "C:\\Users\\LSEng\\AppData\\Local\\Temp\\ipykernel_27152\\1995762019.py:82: DeprecationWarning: The 'text' argument to find()-type methods is deprecated. Use 'string' instead.\n",
      "  header = soup.find(\"h4\", text=\"General election\")\n",
      "C:\\Users\\LSEng\\AppData\\Local\\Temp\\ipykernel_27152\\1995762019.py:87: FutureWarning: Passing literal html to 'read_html' is deprecated and will be removed in a future version. To read from a literal string, wrap it in a 'StringIO' object.\n",
      "  df = pd.read_html(str(table), header=0)[0]\n"
     ]
    },
    {
     "name": "stdout",
     "output_type": "stream",
     "text": [
      "✔ Added Washington 10th (shape: (3, 9))\n",
      "→ Scraping West Virginia 1st: https://ballotpedia.org/West_Virginia's_1st_Congressional_District_election,_2024\n"
     ]
    },
    {
     "name": "stderr",
     "output_type": "stream",
     "text": [
      "C:\\Users\\LSEng\\AppData\\Local\\Temp\\ipykernel_27152\\1995762019.py:82: DeprecationWarning: The 'text' argument to find()-type methods is deprecated. Use 'string' instead.\n",
      "  header = soup.find(\"h4\", text=\"General election\")\n",
      "C:\\Users\\LSEng\\AppData\\Local\\Temp\\ipykernel_27152\\1995762019.py:87: FutureWarning: Passing literal html to 'read_html' is deprecated and will be removed in a future version. To read from a literal string, wrap it in a 'StringIO' object.\n",
      "  df = pd.read_html(str(table), header=0)[0]\n"
     ]
    },
    {
     "name": "stdout",
     "output_type": "stream",
     "text": [
      "✔ Added West Virginia 1st (shape: (5, 9))\n",
      "→ Scraping West Virginia 2nd: https://ballotpedia.org/West_Virginia's_2nd_Congressional_District_election,_2024\n"
     ]
    },
    {
     "name": "stderr",
     "output_type": "stream",
     "text": [
      "C:\\Users\\LSEng\\AppData\\Local\\Temp\\ipykernel_27152\\1995762019.py:82: DeprecationWarning: The 'text' argument to find()-type methods is deprecated. Use 'string' instead.\n",
      "  header = soup.find(\"h4\", text=\"General election\")\n",
      "C:\\Users\\LSEng\\AppData\\Local\\Temp\\ipykernel_27152\\1995762019.py:87: FutureWarning: Passing literal html to 'read_html' is deprecated and will be removed in a future version. To read from a literal string, wrap it in a 'StringIO' object.\n",
      "  df = pd.read_html(str(table), header=0)[0]\n"
     ]
    },
    {
     "name": "stdout",
     "output_type": "stream",
     "text": [
      "✔ Added West Virginia 2nd (shape: (2, 9))\n",
      "→ Scraping Wisconsin 1st: https://ballotpedia.org/Wisconsin's_1st_Congressional_District_election,_2024\n"
     ]
    },
    {
     "name": "stderr",
     "output_type": "stream",
     "text": [
      "C:\\Users\\LSEng\\AppData\\Local\\Temp\\ipykernel_27152\\1995762019.py:82: DeprecationWarning: The 'text' argument to find()-type methods is deprecated. Use 'string' instead.\n",
      "  header = soup.find(\"h4\", text=\"General election\")\n",
      "C:\\Users\\LSEng\\AppData\\Local\\Temp\\ipykernel_27152\\1995762019.py:87: FutureWarning: Passing literal html to 'read_html' is deprecated and will be removed in a future version. To read from a literal string, wrap it in a 'StringIO' object.\n",
      "  df = pd.read_html(str(table), header=0)[0]\n"
     ]
    },
    {
     "name": "stdout",
     "output_type": "stream",
     "text": [
      "✔ Added Wisconsin 1st (shape: (4, 9))\n",
      "→ Scraping Wisconsin 2nd: https://ballotpedia.org/Wisconsin's_2nd_Congressional_District_election,_2024\n"
     ]
    },
    {
     "name": "stderr",
     "output_type": "stream",
     "text": [
      "C:\\Users\\LSEng\\AppData\\Local\\Temp\\ipykernel_27152\\1995762019.py:82: DeprecationWarning: The 'text' argument to find()-type methods is deprecated. Use 'string' instead.\n",
      "  header = soup.find(\"h4\", text=\"General election\")\n",
      "C:\\Users\\LSEng\\AppData\\Local\\Temp\\ipykernel_27152\\1995762019.py:87: FutureWarning: Passing literal html to 'read_html' is deprecated and will be removed in a future version. To read from a literal string, wrap it in a 'StringIO' object.\n",
      "  df = pd.read_html(str(table), header=0)[0]\n"
     ]
    },
    {
     "name": "stdout",
     "output_type": "stream",
     "text": [
      "✔ Added Wisconsin 2nd (shape: (3, 9))\n",
      "→ Scraping Wisconsin 3rd: https://ballotpedia.org/Wisconsin's_3rd_Congressional_District_election,_2024\n"
     ]
    },
    {
     "name": "stderr",
     "output_type": "stream",
     "text": [
      "C:\\Users\\LSEng\\AppData\\Local\\Temp\\ipykernel_27152\\1995762019.py:82: DeprecationWarning: The 'text' argument to find()-type methods is deprecated. Use 'string' instead.\n",
      "  header = soup.find(\"h4\", text=\"General election\")\n",
      "C:\\Users\\LSEng\\AppData\\Local\\Temp\\ipykernel_27152\\1995762019.py:87: FutureWarning: Passing literal html to 'read_html' is deprecated and will be removed in a future version. To read from a literal string, wrap it in a 'StringIO' object.\n",
      "  df = pd.read_html(str(table), header=0)[0]\n"
     ]
    },
    {
     "name": "stdout",
     "output_type": "stream",
     "text": [
      "✔ Added Wisconsin 3rd (shape: (3, 9))\n",
      "→ Scraping Wisconsin 4th: https://ballotpedia.org/Wisconsin's_4th_Congressional_District_election,_2024\n"
     ]
    },
    {
     "name": "stderr",
     "output_type": "stream",
     "text": [
      "C:\\Users\\LSEng\\AppData\\Local\\Temp\\ipykernel_27152\\1995762019.py:82: DeprecationWarning: The 'text' argument to find()-type methods is deprecated. Use 'string' instead.\n",
      "  header = soup.find(\"h4\", text=\"General election\")\n",
      "C:\\Users\\LSEng\\AppData\\Local\\Temp\\ipykernel_27152\\1995762019.py:87: FutureWarning: Passing literal html to 'read_html' is deprecated and will be removed in a future version. To read from a literal string, wrap it in a 'StringIO' object.\n",
      "  df = pd.read_html(str(table), header=0)[0]\n"
     ]
    },
    {
     "name": "stdout",
     "output_type": "stream",
     "text": [
      "✔ Added Wisconsin 4th (shape: (5, 9))\n",
      "→ Scraping Wisconsin 5th: https://ballotpedia.org/Wisconsin's_5th_Congressional_District_election,_2024\n"
     ]
    },
    {
     "name": "stderr",
     "output_type": "stream",
     "text": [
      "C:\\Users\\LSEng\\AppData\\Local\\Temp\\ipykernel_27152\\1995762019.py:82: DeprecationWarning: The 'text' argument to find()-type methods is deprecated. Use 'string' instead.\n",
      "  header = soup.find(\"h4\", text=\"General election\")\n",
      "C:\\Users\\LSEng\\AppData\\Local\\Temp\\ipykernel_27152\\1995762019.py:87: FutureWarning: Passing literal html to 'read_html' is deprecated and will be removed in a future version. To read from a literal string, wrap it in a 'StringIO' object.\n",
      "  df = pd.read_html(str(table), header=0)[0]\n"
     ]
    },
    {
     "name": "stdout",
     "output_type": "stream",
     "text": [
      "✔ Added Wisconsin 5th (shape: (3, 9))\n",
      "→ Scraping Wisconsin 6th: https://ballotpedia.org/Wisconsin's_6th_Congressional_District_election,_2024\n"
     ]
    },
    {
     "name": "stderr",
     "output_type": "stream",
     "text": [
      "C:\\Users\\LSEng\\AppData\\Local\\Temp\\ipykernel_27152\\1995762019.py:82: DeprecationWarning: The 'text' argument to find()-type methods is deprecated. Use 'string' instead.\n",
      "  header = soup.find(\"h4\", text=\"General election\")\n",
      "C:\\Users\\LSEng\\AppData\\Local\\Temp\\ipykernel_27152\\1995762019.py:87: FutureWarning: Passing literal html to 'read_html' is deprecated and will be removed in a future version. To read from a literal string, wrap it in a 'StringIO' object.\n",
      "  df = pd.read_html(str(table), header=0)[0]\n"
     ]
    },
    {
     "name": "stdout",
     "output_type": "stream",
     "text": [
      "✔ Added Wisconsin 6th (shape: (3, 9))\n",
      "→ Scraping Wisconsin 7th: https://ballotpedia.org/Wisconsin's_7th_Congressional_District_election,_2024\n"
     ]
    },
    {
     "name": "stderr",
     "output_type": "stream",
     "text": [
      "C:\\Users\\LSEng\\AppData\\Local\\Temp\\ipykernel_27152\\1995762019.py:82: DeprecationWarning: The 'text' argument to find()-type methods is deprecated. Use 'string' instead.\n",
      "  header = soup.find(\"h4\", text=\"General election\")\n",
      "C:\\Users\\LSEng\\AppData\\Local\\Temp\\ipykernel_27152\\1995762019.py:87: FutureWarning: Passing literal html to 'read_html' is deprecated and will be removed in a future version. To read from a literal string, wrap it in a 'StringIO' object.\n",
      "  df = pd.read_html(str(table), header=0)[0]\n"
     ]
    },
    {
     "name": "stdout",
     "output_type": "stream",
     "text": [
      "✔ Added Wisconsin 7th (shape: (3, 9))\n",
      "→ Scraping Wisconsin 8th: https://ballotpedia.org/Wisconsin's_8th_Congressional_District_election,_2024\n"
     ]
    },
    {
     "name": "stderr",
     "output_type": "stream",
     "text": [
      "C:\\Users\\LSEng\\AppData\\Local\\Temp\\ipykernel_27152\\1995762019.py:82: DeprecationWarning: The 'text' argument to find()-type methods is deprecated. Use 'string' instead.\n",
      "  header = soup.find(\"h4\", text=\"General election\")\n",
      "C:\\Users\\LSEng\\AppData\\Local\\Temp\\ipykernel_27152\\1995762019.py:87: FutureWarning: Passing literal html to 'read_html' is deprecated and will be removed in a future version. To read from a literal string, wrap it in a 'StringIO' object.\n",
      "  df = pd.read_html(str(table), header=0)[0]\n"
     ]
    },
    {
     "name": "stdout",
     "output_type": "stream",
     "text": [
      "✔ Added Wisconsin 8th (shape: (3, 9))\n",
      "→ Scraping Wyoming At-large: https://ballotpedia.org/Wyoming's_At-large_Congressional_District_election,_2024\n",
      "✔ Added Wyoming At-large (shape: (5, 9))\n",
      "\n",
      "Combined DataFrame shape: (1207, 9)\n"
     ]
    },
    {
     "name": "stderr",
     "output_type": "stream",
     "text": [
      "C:\\Users\\LSEng\\AppData\\Local\\Temp\\ipykernel_27152\\1995762019.py:82: DeprecationWarning: The 'text' argument to find()-type methods is deprecated. Use 'string' instead.\n",
      "  header = soup.find(\"h4\", text=\"General election\")\n",
      "C:\\Users\\LSEng\\AppData\\Local\\Temp\\ipykernel_27152\\1995762019.py:87: FutureWarning: Passing literal html to 'read_html' is deprecated and will be removed in a future version. To read from a literal string, wrap it in a 'StringIO' object.\n",
      "  df = pd.read_html(str(table), header=0)[0]\n"
     ]
    },
    {
     "data": {
      "text/html": [
       "<div>\n",
       "<style scoped>\n",
       "    .dataframe tbody tr th:only-of-type {\n",
       "        vertical-align: middle;\n",
       "    }\n",
       "\n",
       "    .dataframe tbody tr th {\n",
       "        vertical-align: top;\n",
       "    }\n",
       "\n",
       "    .dataframe thead th {\n",
       "        text-align: right;\n",
       "    }\n",
       "</style>\n",
       "<table border=\"1\" class=\"dataframe\">\n",
       "  <thead>\n",
       "    <tr style=\"text-align: right;\">\n",
       "      <th></th>\n",
       "      <th>Candidate</th>\n",
       "      <th>%</th>\n",
       "      <th>Votes</th>\n",
       "      <th>State</th>\n",
       "      <th>District</th>\n",
       "      <th>Party</th>\n",
       "      <th>GeoID</th>\n",
       "    </tr>\n",
       "  </thead>\n",
       "  <tbody>\n",
       "    <tr>\n",
       "      <th>0</th>\n",
       "      <td>Barry Moore (R)</td>\n",
       "      <td>78.4</td>\n",
       "      <td>258619</td>\n",
       "      <td>Alabama</td>\n",
       "      <td>1st</td>\n",
       "      <td>R</td>\n",
       "      <td>0101</td>\n",
       "    </tr>\n",
       "    <tr>\n",
       "      <th>1</th>\n",
       "      <td>Tom Holmes (D)</td>\n",
       "      <td>21.5</td>\n",
       "      <td>70929</td>\n",
       "      <td>Alabama</td>\n",
       "      <td>1st</td>\n",
       "      <td>D</td>\n",
       "      <td>0101</td>\n",
       "    </tr>\n",
       "    <tr>\n",
       "      <th>2</th>\n",
       "      <td>Other/Write-in votes</td>\n",
       "      <td>0.1</td>\n",
       "      <td>306</td>\n",
       "      <td>Alabama</td>\n",
       "      <td>1st</td>\n",
       "      <td>None</td>\n",
       "      <td>0101</td>\n",
       "    </tr>\n",
       "    <tr>\n",
       "      <th>3</th>\n",
       "      <td>Shomari Figures (D)</td>\n",
       "      <td>54.6</td>\n",
       "      <td>158041</td>\n",
       "      <td>Alabama</td>\n",
       "      <td>2nd</td>\n",
       "      <td>D</td>\n",
       "      <td>0102</td>\n",
       "    </tr>\n",
       "    <tr>\n",
       "      <th>4</th>\n",
       "      <td>Caroleene Dobson (R)</td>\n",
       "      <td>45.4</td>\n",
       "      <td>131414</td>\n",
       "      <td>Alabama</td>\n",
       "      <td>2nd</td>\n",
       "      <td>R</td>\n",
       "      <td>0102</td>\n",
       "    </tr>\n",
       "    <tr>\n",
       "      <th>...</th>\n",
       "      <td>...</td>\n",
       "      <td>...</td>\n",
       "      <td>...</td>\n",
       "      <td>...</td>\n",
       "      <td>...</td>\n",
       "      <td>...</td>\n",
       "      <td>...</td>\n",
       "    </tr>\n",
       "    <tr>\n",
       "      <th>1202</th>\n",
       "      <td>Harriet Hageman (R)</td>\n",
       "      <td>70.6</td>\n",
       "      <td>184680</td>\n",
       "      <td>Wyoming</td>\n",
       "      <td>At-large</td>\n",
       "      <td>R</td>\n",
       "      <td>5601</td>\n",
       "    </tr>\n",
       "    <tr>\n",
       "      <th>1203</th>\n",
       "      <td>Kyle Cameron (D)</td>\n",
       "      <td>23.2</td>\n",
       "      <td>60778</td>\n",
       "      <td>Wyoming</td>\n",
       "      <td>At-large</td>\n",
       "      <td>D</td>\n",
       "      <td>5601</td>\n",
       "    </tr>\n",
       "    <tr>\n",
       "      <th>1204</th>\n",
       "      <td>Richard Brubaker (L)</td>\n",
       "      <td>3.5</td>\n",
       "      <td>9223</td>\n",
       "      <td>Wyoming</td>\n",
       "      <td>At-large</td>\n",
       "      <td>L</td>\n",
       "      <td>5601</td>\n",
       "    </tr>\n",
       "    <tr>\n",
       "      <th>1205</th>\n",
       "      <td>Jeff Haggit (Constitution Party)</td>\n",
       "      <td>2.1</td>\n",
       "      <td>5362</td>\n",
       "      <td>Wyoming</td>\n",
       "      <td>At-large</td>\n",
       "      <td>Constitution Party</td>\n",
       "      <td>5601</td>\n",
       "    </tr>\n",
       "    <tr>\n",
       "      <th>1206</th>\n",
       "      <td>Other/Write-in votes</td>\n",
       "      <td>0.6</td>\n",
       "      <td>1505</td>\n",
       "      <td>Wyoming</td>\n",
       "      <td>At-large</td>\n",
       "      <td>None</td>\n",
       "      <td>5601</td>\n",
       "    </tr>\n",
       "  </tbody>\n",
       "</table>\n",
       "<p>1207 rows × 7 columns</p>\n",
       "</div>"
      ],
      "text/plain": [
       "                             Candidate     %   Votes    State  District  \\\n",
       "0                      Barry Moore (R)  78.4  258619  Alabama       1st   \n",
       "1                       Tom Holmes (D)  21.5   70929  Alabama       1st   \n",
       "2                 Other/Write-in votes   0.1     306  Alabama       1st   \n",
       "3                  Shomari Figures (D)  54.6  158041  Alabama       2nd   \n",
       "4                 Caroleene Dobson (R)  45.4  131414  Alabama       2nd   \n",
       "...                                ...   ...     ...      ...       ...   \n",
       "1202               Harriet Hageman (R)  70.6  184680  Wyoming  At-large   \n",
       "1203                  Kyle Cameron (D)  23.2   60778  Wyoming  At-large   \n",
       "1204              Richard Brubaker (L)   3.5    9223  Wyoming  At-large   \n",
       "1205  Jeff Haggit (Constitution Party)   2.1    5362  Wyoming  At-large   \n",
       "1206              Other/Write-in votes   0.6    1505  Wyoming  At-large   \n",
       "\n",
       "                   Party GeoID  \n",
       "0                      R  0101  \n",
       "1                      D  0101  \n",
       "2                   None  0101  \n",
       "3                      D  0102  \n",
       "4                      R  0102  \n",
       "...                  ...   ...  \n",
       "1202                   R  5601  \n",
       "1203                   D  5601  \n",
       "1204                   L  5601  \n",
       "1205  Constitution Party  5601  \n",
       "1206                None  5601  \n",
       "\n",
       "[1207 rows x 7 columns]"
      ]
     },
     "execution_count": 29,
     "metadata": {},
     "output_type": "execute_result"
    }
   ],
   "source": [
    "import re\n",
    "import requests\n",
    "import pandas as pd\n",
    "from bs4 import BeautifulSoup\n",
    "\n",
    "# helper funcs\n",
    "def int_to_ordinal(i: int) -> str:\n",
    "    suffixes = {1: \"st\", 2: \"nd\", 3: \"rd\"}\n",
    "    if 10 <= (i % 100) <= 20:\n",
    "        suf = \"th\"\n",
    "    else:\n",
    "        suf = suffixes.get(i % 10, \"th\")\n",
    "    return f\"{i}{suf}\"\n",
    "\n",
    "def construct_url(state_name: str, district: str) -> str:\n",
    "    s = state_name.replace(\" \", \"_\")\n",
    "    poss = f\"{s}'\" if s.endswith(\"s\") else f\"{s}'s\"\n",
    "    if district == \"At-large\":\n",
    "        return f\"https://ballotpedia.org/{poss}_At-large_Congressional_District_election,_2024\"\n",
    "    return f\"https://ballotpedia.org/{poss}_{district}_Congressional_District_election,_2024\"\n",
    "\n",
    "def extract_party(name: str) -> str:\n",
    "    m = re.search(r'\\((.*?)\\)', name)\n",
    "    return m.group(1) if m else None\n",
    "\n",
    "# FIPS codes (for GeoID)\n",
    "state_fips = {\n",
    "    \"Alabama\": \"01\", \"Alaska\": \"02\", \"Arizona\": \"04\", \"Arkansas\": \"05\",\n",
    "    \"California\": \"06\", \"Colorado\": \"08\", \"Connecticut\": \"09\", \"Delaware\": \"10\",\n",
    "    \"Florida\": \"12\", \"Georgia\": \"13\", \"Hawaii\": \"15\", \"Idaho\": \"16\",\n",
    "    \"Illinois\": \"17\", \"Indiana\": \"18\", \"Iowa\": \"19\", \"Kansas\": \"20\",\n",
    "    \"Kentucky\": \"21\", \"Louisiana\": \"22\", \"Maine\": \"23\", \"Maryland\": \"24\",\n",
    "    \"Massachusetts\": \"25\", \"Michigan\": \"26\", \"Minnesota\": \"27\", \"Mississippi\": \"28\",\n",
    "    \"Missouri\": \"29\", \"Montana\": \"30\", \"Nebraska\": \"31\", \"Nevada\": \"32\",\n",
    "    \"New Hampshire\": \"33\", \"New Jersey\": \"34\", \"New Mexico\": \"35\", \"New York\": \"36\",\n",
    "    \"North Carolina\": \"37\", \"North Dakota\": \"38\", \"Ohio\": \"39\", \"Oklahoma\": \"40\",\n",
    "    \"Oregon\": \"41\", \"Pennsylvania\": \"42\", \"Rhode Island\": \"44\", \"South Carolina\": \"45\",\n",
    "    \"South Dakota\": \"46\", \"Tennessee\": \"47\", \"Texas\": \"48\", \"Utah\": \"49\",\n",
    "    \"Vermont\": \"50\", \"Virginia\": \"51\", \"Washington\": \"53\", \"West Virginia\": \"54\",\n",
    "    \"Wisconsin\": \"55\", \"Wyoming\": \"56\"\n",
    "}\n",
    "\n",
    "# number of seats per state (2020 census apportionment, as of the 2024 elections)\n",
    "state_district_counts = {\n",
    "    \"Alabama\":7, \"Alaska\":1, \"Arizona\":9, \"Arkansas\":4,\n",
    "    \"California\":52, \"Colorado\":8, \"Connecticut\":5, \"Delaware\":1,\n",
    "    \"Florida\":28, \"Georgia\":14, \"Hawaii\":2, \"Idaho\":2,\n",
    "    \"Illinois\":17, \"Indiana\":9, \"Iowa\":4, \"Kansas\":4,\n",
    "    \"Kentucky\":6, \"Louisiana\":6, \"Maine\":2, \"Maryland\":8,\n",
    "    \"Massachusetts\":9, \"Michigan\":13, \"Minnesota\":8, \"Mississippi\":4,\n",
    "    \"Missouri\":8, \"Montana\":2, \"Nebraska\":3, \"Nevada\":4,\n",
    "    \"New Hampshire\":2, \"New Jersey\":12, \"New Mexico\":3, \"New York\":26,\n",
    "    \"North Carolina\":14, \"North Dakota\":1, \"Ohio\":15, \"Oklahoma\":5,\n",
    "    \"Oregon\":5, \"Pennsylvania\":17, \"Rhode Island\":2, \"South Carolina\":7,\n",
    "    \"South Dakota\":1, \"Tennessee\":9, \"Texas\":38, \"Utah\":4,\n",
    "    \"Vermont\":1, \"Virginia\":11, \"Washington\":10, \"West Virginia\":2,\n",
    "    \"Wisconsin\":8, \"Wyoming\":1\n",
    "}\n",
    "\n",
    "def make_geoid(state: str, district: str) -> str:\n",
    "    st = state_fips.get(state, \"00\")\n",
    "    if district == \"At-large\":\n",
    "        num = 1\n",
    "    else:\n",
    "        num = int(re.match(r'(\\d+)', district).group(1))\n",
    "    return f\"{st}{num:02d}\"\n",
    "\n",
    "def scrape_all_states():\n",
    "    all_results = []\n",
    "    expected_cols = None\n",
    "\n",
    "    for state, count in state_district_counts.items():\n",
    "        districts = [\"At-large\"] if count == 1 else [int_to_ordinal(i) for i in range(1, count+1)]\n",
    "        for d in districts:\n",
    "            url = construct_url(state, d)\n",
    "            print(f\"→ Scraping {state} {d}: {url}\")\n",
    "            try:\n",
    "                r = requests.get(url, timeout=10)\n",
    "                r.raise_for_status()\n",
    "\n",
    "                soup = BeautifulSoup(r.text, \"html.parser\")\n",
    "                header = soup.find(\"h4\", text=\"General election\")\n",
    "                if not header:\n",
    "                    raise ValueError(\"no 'General election' section found\")\n",
    "\n",
    "                table = header.find_next(\"table\")\n",
    "                df = pd.read_html(str(table), header=0)[0]\n",
    "\n",
    "                # first valid df sets schema\n",
    "                if expected_cols is None:\n",
    "                    expected_cols = tuple(df.columns)\n",
    "                    print(f\"✔ Schema initialized: {expected_cols}\")\n",
    "                else:\n",
    "                    if tuple(df.columns) != expected_cols:\n",
    "                        raise ValueError(f\"schema mismatch (got {tuple(df.columns)})\")\n",
    "\n",
    "                # annotate\n",
    "                df[\"State\"]    = state\n",
    "                df[\"District\"] = d\n",
    "                if \"Candidate\" in df.columns:\n",
    "                    df[\"Party\"] = df[\"Candidate\"].apply(extract_party)\n",
    "                df[\"GeoID\"] = make_geoid(state, d)\n",
    "\n",
    "                all_results.append(df)\n",
    "                print(f\"✔ Added {state} {d} (shape: {df.shape})\")\n",
    "\n",
    "            except Exception as e:\n",
    "                print(f\"⚠ Skipped {state} {d}: {e}\")\n",
    "\n",
    "    if not all_results:\n",
    "        print(\"No data collected.\")\n",
    "        return pd.DataFrame()  # empty\n",
    "\n",
    "    combined = pd.concat(all_results, ignore_index=True)\n",
    "    df_pruned = combined.iloc[:, 2:]\n",
    "\n",
    "    print(f\"\\nCombined DataFrame shape: {combined.shape}\")\n",
    "    return df_pruned\n",
    "\n",
    "# In your notebook:\n",
    "df_all = scrape_all_states()\n",
    "df_all"
   ]
  },
  {
   "cell_type": "code",
   "execution_count": 30,
   "id": "1706ef66-ef2e-4150-8765-d2aa21f665ba",
   "metadata": {},
   "outputs": [],
   "source": [
    "# This will save your JSON array to the given path:\n",
    "df_all.to_json(\"public/data/election_results.json\", orient=\"records\")"
   ]
  },
  {
   "cell_type": "code",
   "execution_count": 33,
   "id": "87322b67-66f0-40cf-abeb-2041a0b8b847",
   "metadata": {},
   "outputs": [],
   "source": [
    "senate = pd.read_csv('./1976-2020-senate.csv')"
   ]
  },
  {
   "cell_type": "code",
   "execution_count": 34,
   "id": "379bfb5d-c0ae-4fc8-946c-9ebe9972722d",
   "metadata": {},
   "outputs": [
    {
     "data": {
      "text/html": [
       "<div>\n",
       "<style scoped>\n",
       "    .dataframe tbody tr th:only-of-type {\n",
       "        vertical-align: middle;\n",
       "    }\n",
       "\n",
       "    .dataframe tbody tr th {\n",
       "        vertical-align: top;\n",
       "    }\n",
       "\n",
       "    .dataframe thead th {\n",
       "        text-align: right;\n",
       "    }\n",
       "</style>\n",
       "<table border=\"1\" class=\"dataframe\">\n",
       "  <thead>\n",
       "    <tr style=\"text-align: right;\">\n",
       "      <th></th>\n",
       "      <th>year</th>\n",
       "      <th>state</th>\n",
       "      <th>state_po</th>\n",
       "      <th>state_fips</th>\n",
       "      <th>state_cen</th>\n",
       "      <th>state_ic</th>\n",
       "      <th>office</th>\n",
       "      <th>district</th>\n",
       "      <th>stage</th>\n",
       "      <th>special</th>\n",
       "      <th>candidate</th>\n",
       "      <th>party_detailed</th>\n",
       "      <th>writein</th>\n",
       "      <th>mode</th>\n",
       "      <th>candidatevotes</th>\n",
       "      <th>totalvotes</th>\n",
       "      <th>unofficial</th>\n",
       "      <th>version</th>\n",
       "      <th>party_simplified</th>\n",
       "    </tr>\n",
       "  </thead>\n",
       "  <tbody>\n",
       "    <tr>\n",
       "      <th>0</th>\n",
       "      <td>1976</td>\n",
       "      <td>ARIZONA</td>\n",
       "      <td>AZ</td>\n",
       "      <td>4</td>\n",
       "      <td>86</td>\n",
       "      <td>61</td>\n",
       "      <td>US SENATE</td>\n",
       "      <td>statewide</td>\n",
       "      <td>gen</td>\n",
       "      <td>False</td>\n",
       "      <td>SAM STEIGER</td>\n",
       "      <td>REPUBLICAN</td>\n",
       "      <td>False</td>\n",
       "      <td>total</td>\n",
       "      <td>321236</td>\n",
       "      <td>741210</td>\n",
       "      <td>False</td>\n",
       "      <td>20210114</td>\n",
       "      <td>REPUBLICAN</td>\n",
       "    </tr>\n",
       "    <tr>\n",
       "      <th>1</th>\n",
       "      <td>1976</td>\n",
       "      <td>ARIZONA</td>\n",
       "      <td>AZ</td>\n",
       "      <td>4</td>\n",
       "      <td>86</td>\n",
       "      <td>61</td>\n",
       "      <td>US SENATE</td>\n",
       "      <td>statewide</td>\n",
       "      <td>gen</td>\n",
       "      <td>False</td>\n",
       "      <td>WM. MATHEWS FEIGHAN</td>\n",
       "      <td>INDEPENDENT</td>\n",
       "      <td>False</td>\n",
       "      <td>total</td>\n",
       "      <td>1565</td>\n",
       "      <td>741210</td>\n",
       "      <td>False</td>\n",
       "      <td>20210114</td>\n",
       "      <td>OTHER</td>\n",
       "    </tr>\n",
       "    <tr>\n",
       "      <th>2</th>\n",
       "      <td>1976</td>\n",
       "      <td>ARIZONA</td>\n",
       "      <td>AZ</td>\n",
       "      <td>4</td>\n",
       "      <td>86</td>\n",
       "      <td>61</td>\n",
       "      <td>US SENATE</td>\n",
       "      <td>statewide</td>\n",
       "      <td>gen</td>\n",
       "      <td>False</td>\n",
       "      <td>DENNIS DECONCINI</td>\n",
       "      <td>DEMOCRAT</td>\n",
       "      <td>False</td>\n",
       "      <td>total</td>\n",
       "      <td>400334</td>\n",
       "      <td>741210</td>\n",
       "      <td>False</td>\n",
       "      <td>20210114</td>\n",
       "      <td>DEMOCRAT</td>\n",
       "    </tr>\n",
       "    <tr>\n",
       "      <th>3</th>\n",
       "      <td>1976</td>\n",
       "      <td>ARIZONA</td>\n",
       "      <td>AZ</td>\n",
       "      <td>4</td>\n",
       "      <td>86</td>\n",
       "      <td>61</td>\n",
       "      <td>US SENATE</td>\n",
       "      <td>statewide</td>\n",
       "      <td>gen</td>\n",
       "      <td>False</td>\n",
       "      <td>ALLAN NORWITZ</td>\n",
       "      <td>LIBERTARIAN</td>\n",
       "      <td>False</td>\n",
       "      <td>total</td>\n",
       "      <td>7310</td>\n",
       "      <td>741210</td>\n",
       "      <td>False</td>\n",
       "      <td>20210114</td>\n",
       "      <td>LIBERTARIAN</td>\n",
       "    </tr>\n",
       "    <tr>\n",
       "      <th>4</th>\n",
       "      <td>1976</td>\n",
       "      <td>ARIZONA</td>\n",
       "      <td>AZ</td>\n",
       "      <td>4</td>\n",
       "      <td>86</td>\n",
       "      <td>61</td>\n",
       "      <td>US SENATE</td>\n",
       "      <td>statewide</td>\n",
       "      <td>gen</td>\n",
       "      <td>False</td>\n",
       "      <td>BOB FIELD</td>\n",
       "      <td>INDEPENDENT</td>\n",
       "      <td>False</td>\n",
       "      <td>total</td>\n",
       "      <td>10765</td>\n",
       "      <td>741210</td>\n",
       "      <td>False</td>\n",
       "      <td>20210114</td>\n",
       "      <td>OTHER</td>\n",
       "    </tr>\n",
       "  </tbody>\n",
       "</table>\n",
       "</div>"
      ],
      "text/plain": [
       "   year    state state_po  state_fips  state_cen  state_ic     office  \\\n",
       "0  1976  ARIZONA       AZ           4         86        61  US SENATE   \n",
       "1  1976  ARIZONA       AZ           4         86        61  US SENATE   \n",
       "2  1976  ARIZONA       AZ           4         86        61  US SENATE   \n",
       "3  1976  ARIZONA       AZ           4         86        61  US SENATE   \n",
       "4  1976  ARIZONA       AZ           4         86        61  US SENATE   \n",
       "\n",
       "    district stage  special            candidate party_detailed  writein  \\\n",
       "0  statewide   gen    False          SAM STEIGER     REPUBLICAN    False   \n",
       "1  statewide   gen    False  WM. MATHEWS FEIGHAN    INDEPENDENT    False   \n",
       "2  statewide   gen    False     DENNIS DECONCINI       DEMOCRAT    False   \n",
       "3  statewide   gen    False        ALLAN NORWITZ    LIBERTARIAN    False   \n",
       "4  statewide   gen    False            BOB FIELD    INDEPENDENT    False   \n",
       "\n",
       "    mode  candidatevotes  totalvotes  unofficial   version party_simplified  \n",
       "0  total          321236      741210       False  20210114       REPUBLICAN  \n",
       "1  total            1565      741210       False  20210114            OTHER  \n",
       "2  total          400334      741210       False  20210114         DEMOCRAT  \n",
       "3  total            7310      741210       False  20210114      LIBERTARIAN  \n",
       "4  total           10765      741210       False  20210114            OTHER  "
      ]
     },
     "execution_count": 34,
     "metadata": {},
     "output_type": "execute_result"
    }
   ],
   "source": [
    "senate.head()"
   ]
  },
  {
   "cell_type": "code",
   "execution_count": 38,
   "id": "9f071440-d2d4-4ce9-bfa5-d6b7a607a08c",
   "metadata": {},
   "outputs": [],
   "source": [
    "senate2020 = senate[senate['year']==2020]"
   ]
  },
  {
   "cell_type": "code",
   "execution_count": null,
   "id": "b136440c-efa4-43b8-bdc5-1aa73d14b11f",
   "metadata": {},
   "outputs": [],
   "source": []
  },
  {
   "cell_type": "code",
   "execution_count": 40,
   "id": "9f43ed19-6e65-45fd-9e4f-4baaa7b750ac",
   "metadata": {},
   "outputs": [
    {
     "data": {
      "text/plain": [
       "'[{\"year\":2020,\"state\":\"ALABAMA\",\"state_po\":\"AL\",\"state_fips\":1,\"state_cen\":63,\"state_ic\":41,\"office\":\"US SENATE\",\"district\":\"statewide\",\"stage\":\"gen\",\"special\":false,\"candidate\":\"DOUG JONES\",\"party_detailed\":\"DEMOCRAT\",\"writein\":false,\"mode\":\"total\",\"candidatevotes\":920478,\"totalvotes\":2316445,\"unofficial\":false,\"version\":20210114,\"party_simplified\":\"DEMOCRAT\"},{\"year\":2020,\"state\":\"ALABAMA\",\"state_po\":\"AL\",\"state_fips\":1,\"state_cen\":63,\"state_ic\":41,\"office\":\"US SENATE\",\"district\":\"statewide\",\"stage\":\"gen\",\"special\":false,\"candidate\":\"TOMMY TUBERVILLE\",\"party_detailed\":\"REPUBLICAN\",\"writein\":false,\"mode\":\"total\",\"candidatevotes\":1392076,\"totalvotes\":2316445,\"unofficial\":false,\"version\":20210114,\"party_simplified\":\"REPUBLICAN\"},{\"year\":2020,\"state\":\"ALABAMA\",\"state_po\":\"AL\",\"state_fips\":1,\"state_cen\":63,\"state_ic\":41,\"office\":\"US SENATE\",\"district\":\"statewide\",\"stage\":\"gen\",\"special\":false,\"candidate\":null,\"party_detailed\":null,\"writein\":true,\"mode\":\"total\",\"candidatevotes\":3891,\"totalvotes\":2316445,\"unofficial\":false,\"version\":20210114,\"party_simplified\":\"OTHER\"},{\"year\":2020,\"state\":\"ALASKA\",\"state_po\":\"AK\",\"state_fips\":2,\"state_cen\":94,\"state_ic\":81,\"office\":\"US SENATE\",\"district\":\"statewide\",\"stage\":\"gen\",\"special\":false,\"candidate\":\"AL GROSS\",\"party_detailed\":\"DEMOCRAT\",\"writein\":false,\"mode\":\"total\",\"candidatevotes\":146068,\"totalvotes\":354587,\"unofficial\":false,\"version\":20210114,\"party_simplified\":\"DEMOCRAT\"},{\"year\":2020,\"state\":\"ALASKA\",\"state_po\":\"AK\",\"state_fips\":2,\"state_cen\":94,\"state_ic\":81,\"office\":\"US SENATE\",\"district\":\"statewide\",\"stage\":\"gen\",\"special\":false,\"candidate\":\"JOHN WAYNE HOWE\",\"party_detailed\":\"ALASKAN INDEPENDENCE PARTY\",\"writein\":false,\"mode\":\"total\",\"candidatevotes\":16806,\"totalvotes\":354587,\"unofficial\":false,\"version\":20210114,\"party_simplified\":\"OTHER\"},{\"year\":2020,\"state\":\"ALASKA\",\"state_po\":\"AK\",\"state_fips\":2,\"state_cen\":94,\"state_ic\":81,\"office\":\"US SENATE\",\"district\":\"statewide\",\"stage\":\"gen\",\"special\":false,\"candidate\":\"DAN SULLIVAN\",\"party_detailed\":\"REPUBLICAN\",\"writein\":false,\"mode\":\"total\",\"candidatevotes\":191112,\"totalvotes\":354587,\"unofficial\":false,\"version\":20210114,\"party_simplified\":\"REPUBLICAN\"},{\"year\":2020,\"state\":\"ALASKA\",\"state_po\":\"AK\",\"state_fips\":2,\"state_cen\":94,\"state_ic\":81,\"office\":\"US SENATE\",\"district\":\"statewide\",\"stage\":\"gen\",\"special\":false,\"candidate\":null,\"party_detailed\":null,\"writein\":true,\"mode\":\"total\",\"candidatevotes\":601,\"totalvotes\":354587,\"unofficial\":false,\"version\":20210114,\"party_simplified\":\"OTHER\"},{\"year\":2020,\"state\":\"ARIZONA\",\"state_po\":\"AZ\",\"state_fips\":4,\"state_cen\":86,\"state_ic\":61,\"office\":\"US SENATE\",\"district\":\"statewide\",\"stage\":\"gen\",\"special\":true,\"candidate\":\"EDWARD DAVIDA\",\"party_detailed\":\"REPUBLICAN\",\"writein\":true,\"mode\":\"total\",\"candidatevotes\":28,\"totalvotes\":3355307,\"unofficial\":false,\"version\":20210114,\"party_simplified\":\"REPUBLICAN\"},{\"year\":2020,\"state\":\"ARIZONA\",\"state_po\":\"AZ\",\"state_fips\":4,\"state_cen\":86,\"state_ic\":61,\"office\":\"US SENATE\",\"district\":\"statewide\",\"stage\":\"gen\",\"special\":true,\"candidate\":\"MARTHA MCSALLY\",\"party_detailed\":\"REPUBLICAN\",\"writein\":false,\"mode\":\"total\",\"candidatevotes\":1637661,\"totalvotes\":3355307,\"unofficial\":false,\"version\":20210114,\"party_simplified\":\"REPUBLICAN\"},{\"year\":2020,\"state\":\"ARIZONA\",\"state_po\":\"AZ\",\"state_fips\":4,\"state_cen\":86,\"state_ic\":61,\"office\":\"US SENATE\",\"district\":\"statewide\",\"stage\":\"gen\",\"special\":true,\"candidate\":\"JOHN SCHIESS\",\"party_detailed\":\"REPUBLICAN\",\"writein\":true,\"mode\":\"total\",\"candidatevotes\":92,\"totalvotes\":3355307,\"unofficial\":false,\"version\":20210114,\"party_simplified\":\"REPUBLICAN\"},{\"year\":2020,\"state\":\"ARIZONA\",\"state_po\":\"AZ\",\"state_fips\":4,\"state_cen\":86,\"state_ic\":61,\"office\":\"US SENATE\",\"district\":\"statewide\",\"stage\":\"gen\",\"special\":true,\"candidate\":\"DEBBIE SIMMONS\",\"party_detailed\":\"REPUBLICAN\",\"writein\":true,\"mode\":\"total\",\"candidatevotes\":98,\"totalvotes\":3355307,\"unofficial\":false,\"version\":20210114,\"party_simplified\":\"REPUBLICAN\"},{\"year\":2020,\"state\":\"ARIZONA\",\"state_po\":\"AZ\",\"state_fips\":4,\"state_cen\":86,\"state_ic\":61,\"office\":\"US SENATE\",\"district\":\"statewide\",\"stage\":\"gen\",\"special\":true,\"candidate\":\"PATRICK \\\\\"PAT\\\\\" THOMAS\",\"party_detailed\":\"REPUBLICAN\",\"writein\":true,\"mode\":\"total\",\"candidatevotes\":29,\"totalvotes\":3355307,\"unofficial\":false,\"version\":20210114,\"party_simplified\":\"REPUBLICAN\"},{\"year\":2020,\"state\":\"ARIZONA\",\"state_po\":\"AZ\",\"state_fips\":4,\"state_cen\":86,\"state_ic\":61,\"office\":\"US SENATE\",\"district\":\"statewide\",\"stage\":\"gen\",\"special\":true,\"candidate\":\"MOHAMMAD \\\\\"MIKE OBAMA\\\\\" ARIF\",\"party_detailed\":\"DEMOCRAT\",\"writein\":true,\"mode\":\"total\",\"candidatevotes\":68,\"totalvotes\":3355307,\"unofficial\":false,\"version\":20210114,\"party_simplified\":\"DEMOCRAT\"},{\"year\":2020,\"state\":\"ARIZONA\",\"state_po\":\"AZ\",\"state_fips\":4,\"state_cen\":86,\"state_ic\":61,\"office\":\"US SENATE\",\"district\":\"statewide\",\"stage\":\"gen\",\"special\":true,\"candidate\":\"PERRY KAPADIA\",\"party_detailed\":\"DEMOCRAT\",\"writein\":true,\"mode\":\"total\",\"candidatevotes\":58,\"totalvotes\":3355307,\"unofficial\":false,\"version\":20210114,\"party_simplified\":\"DEMOCRAT\"},{\"year\":2020,\"state\":\"ARIZONA\",\"state_po\":\"AZ\",\"state_fips\":4,\"state_cen\":86,\"state_ic\":61,\"office\":\"US SENATE\",\"district\":\"statewide\",\"stage\":\"gen\",\"special\":true,\"candidate\":\"ADAM CHILTON\",\"party_detailed\":\"DEMOCRAT\",\"writein\":true,\"mode\":\"total\",\"candidatevotes\":19,\"totalvotes\":3355307,\"unofficial\":false,\"version\":20210114,\"party_simplified\":\"DEMOCRAT\"},{\"year\":2020,\"state\":\"ARIZONA\",\"state_po\":\"AZ\",\"state_fips\":4,\"state_cen\":86,\"state_ic\":61,\"office\":\"US SENATE\",\"district\":\"statewide\",\"stage\":\"gen\",\"special\":true,\"candidate\":\"MARK KELLY\",\"party_detailed\":\"DEMOCRAT\",\"writein\":false,\"mode\":\"total\",\"candidatevotes\":1716467,\"totalvotes\":3355307,\"unofficial\":false,\"version\":20210114,\"party_simplified\":\"DEMOCRAT\"},{\"year\":2020,\"state\":\"ARIZONA\",\"state_po\":\"AZ\",\"state_fips\":4,\"state_cen\":86,\"state_ic\":61,\"office\":\"US SENATE\",\"district\":\"statewide\",\"stage\":\"gen\",\"special\":true,\"candidate\":\"BUZZ STEWART\",\"party_detailed\":\"DEMOCRAT\",\"writein\":true,\"mode\":\"total\",\"candidatevotes\":22,\"totalvotes\":3355307,\"unofficial\":false,\"version\":20210114,\"party_simplified\":\"DEMOCRAT\"},{\"year\":2020,\"state\":\"ARIZONA\",\"state_po\":\"AZ\",\"state_fips\":4,\"state_cen\":86,\"state_ic\":61,\"office\":\"US SENATE\",\"district\":\"statewide\",\"stage\":\"gen\",\"special\":true,\"candidate\":\"MATTHEW \\\\\"DOC\\\\\" DORCHESTER\",\"party_detailed\":\"LIBERTARIAN\",\"writein\":true,\"mode\":\"total\",\"candidatevotes\":379,\"totalvotes\":3355307,\"unofficial\":false,\"version\":20210114,\"party_simplified\":\"LIBERTARIAN\"},{\"year\":2020,\"state\":\"ARIZONA\",\"state_po\":\"AZ\",\"state_fips\":4,\"state_cen\":86,\"state_ic\":61,\"office\":\"US SENATE\",\"district\":\"statewide\",\"stage\":\"gen\",\"special\":true,\"candidate\":\"CHRISTOPHER BECKETT\",\"party_detailed\":\"INDEPENDENT\",\"writein\":true,\"mode\":\"total\",\"candidatevotes\":59,\"totalvotes\":3355307,\"unofficial\":false,\"version\":20210114,\"party_simplified\":\"OTHER\"},{\"year\":2020,\"state\":\"ARIZONA\",\"state_po\":\"AZ\",\"state_fips\":4,\"state_cen\":86,\"state_ic\":61,\"office\":\"US SENATE\",\"district\":\"statewide\",\"stage\":\"gen\",\"special\":true,\"candidate\":\"WILLIAM \\\\\"WILL\\\\\" DECKER\",\"party_detailed\":\"INDEPENDENT\",\"writein\":true,\"mode\":\"total\",\"candidatevotes\":21,\"totalvotes\":3355307,\"unofficial\":false,\"version\":20210114,\"party_simplified\":\"OTHER\"},{\"year\":2020,\"state\":\"ARIZONA\",\"state_po\":\"AZ\",\"state_fips\":4,\"state_cen\":86,\"state_ic\":61,\"office\":\"US SENATE\",\"district\":\"statewide\",\"stage\":\"gen\",\"special\":true,\"candidate\":\"NICHOLAS N. GLENN\",\"party_detailed\":\"INDEPENDENT REPUBLICAN PARTY\",\"writein\":true,\"mode\":\"total\",\"candidatevotes\":152,\"totalvotes\":3355307,\"unofficial\":false,\"version\":20210114,\"party_simplified\":\"OTHER\"},{\"year\":2020,\"state\":\"ARIZONA\",\"state_po\":\"AZ\",\"state_fips\":4,\"state_cen\":86,\"state_ic\":61,\"office\":\"US SENATE\",\"district\":\"statewide\",\"stage\":\"gen\",\"special\":true,\"candidate\":\"MATTHEW HAUPT\",\"party_detailed\":\"INDEPENDENT\",\"writein\":true,\"mode\":\"total\",\"candidatevotes\":37,\"totalvotes\":3355307,\"unofficial\":false,\"version\":20210114,\"party_simplified\":\"OTHER\"},{\"year\":2020,\"state\":\"ARIZONA\",\"state_po\":\"AZ\",\"state_fips\":4,\"state_cen\":86,\"state_ic\":61,\"office\":\"US SENATE\",\"district\":\"statewide\",\"stage\":\"gen\",\"special\":true,\"candidate\":\"BENJAMIN RODRIGUEZ\",\"party_detailed\":\"INDEPENDENT\",\"writein\":true,\"mode\":\"total\",\"candidatevotes\":17,\"totalvotes\":3355307,\"unofficial\":false,\"version\":20210114,\"party_simplified\":\"OTHER\"},{\"year\":2020,\"state\":\"ARIZONA\",\"state_po\":\"AZ\",\"state_fips\":4,\"state_cen\":86,\"state_ic\":61,\"office\":\"US SENATE\",\"district\":\"statewide\",\"stage\":\"gen\",\"special\":true,\"candidate\":\"JOSHUA RODRIGUEZ\",\"party_detailed\":\"UNITY PARTY\",\"writein\":true,\"mode\":\"total\",\"candidatevotes\":69,\"totalvotes\":3355307,\"unofficial\":false,\"version\":20210114,\"party_simplified\":\"OTHER\"},{\"year\":2020,\"state\":\"ARIZONA\",\"state_po\":\"AZ\",\"state_fips\":4,\"state_cen\":86,\"state_ic\":61,\"office\":\"US SENATE\",\"district\":\"statewide\",\"stage\":\"gen\",\"special\":true,\"candidate\":\"FRANK SEENZ\",\"party_detailed\":\"INDEPENDENT\",\"writein\":true,\"mode\":\"total\",\"candidatevotes\":8,\"totalvotes\":3355307,\"unofficial\":false,\"version\":20210114,\"party_simplified\":\"OTHER\"},{\"year\":2020,\"state\":\"ARIZONA\",\"state_po\":\"AZ\",\"state_fips\":4,\"state_cen\":86,\"state_ic\":61,\"office\":\"US SENATE\",\"district\":\"statewide\",\"stage\":\"gen\",\"special\":true,\"candidate\":\"JIM STEVENS\",\"party_detailed\":\"NON-AFFILIATED\",\"writein\":true,\"mode\":\"total\",\"candidatevotes\":23,\"totalvotes\":3355307,\"unofficial\":false,\"version\":20210114,\"party_simplified\":\"OTHER\"},{\"year\":2020,\"state\":\"ARKANSAS\",\"state_po\":\"AR\",\"state_fips\":5,\"state_cen\":71,\"state_ic\":42,\"office\":\"US SENATE\",\"district\":\"statewide\",\"stage\":\"gen\",\"special\":false,\"candidate\":\"RICKY DALE HARRINGTON JR.\",\"party_detailed\":\"LIBERTARIAN\",\"writein\":false,\"mode\":\"total\",\"candidatevotes\":399390,\"totalvotes\":1193261,\"unofficial\":false,\"version\":20210114,\"party_simplified\":\"LIBERTARIAN\"},{\"year\":2020,\"state\":\"ARKANSAS\",\"state_po\":\"AR\",\"state_fips\":5,\"state_cen\":71,\"state_ic\":42,\"office\":\"US SENATE\",\"district\":\"statewide\",\"stage\":\"gen\",\"special\":false,\"candidate\":\"TOM COTTON\",\"party_detailed\":\"REPUBLICAN\",\"writein\":false,\"mode\":\"total\",\"candidatevotes\":793871,\"totalvotes\":1193261,\"unofficial\":false,\"version\":20210114,\"party_simplified\":\"REPUBLICAN\"},{\"year\":2020,\"state\":\"COLORADO\",\"state_po\":\"CO\",\"state_fips\":8,\"state_cen\":84,\"state_ic\":62,\"office\":\"US SENATE\",\"district\":\"statewide\",\"stage\":\"gen\",\"special\":false,\"candidate\":\"JOHN W. HICKENLOOPER\",\"party_detailed\":\"DEMOCRAT\",\"writein\":false,\"mode\":\"total\",\"candidatevotes\":1731114,\"totalvotes\":3235790,\"unofficial\":false,\"version\":20210114,\"party_simplified\":\"DEMOCRAT\"},{\"year\":2020,\"state\":\"COLORADO\",\"state_po\":\"CO\",\"state_fips\":8,\"state_cen\":84,\"state_ic\":62,\"office\":\"US SENATE\",\"district\":\"statewide\",\"stage\":\"gen\",\"special\":false,\"candidate\":\"CORY GARDNER\",\"party_detailed\":\"REPUBLICAN\",\"writein\":false,\"mode\":\"total\",\"candidatevotes\":1429492,\"totalvotes\":3235790,\"unofficial\":false,\"version\":20210114,\"party_simplified\":\"REPUBLICAN\"},{\"year\":2020,\"state\":\"COLORADO\",\"state_po\":\"CO\",\"state_fips\":8,\"state_cen\":84,\"state_ic\":62,\"office\":\"US SENATE\",\"district\":\"statewide\",\"stage\":\"gen\",\"special\":false,\"candidate\":\"DANIEL DOYLE\",\"party_detailed\":\"APPROVAL VOTING PARTY\",\"writein\":false,\"mode\":\"total\",\"candidatevotes\":9820,\"totalvotes\":3235790,\"unofficial\":false,\"version\":20210114,\"party_simplified\":\"OTHER\"},{\"year\":2020,\"state\":\"COLORADO\",\"state_po\":\"CO\",\"state_fips\":8,\"state_cen\":84,\"state_ic\":62,\"office\":\"US SENATE\",\"district\":\"statewide\",\"stage\":\"gen\",\"special\":false,\"candidate\":\"STEPHAN \\\\\"SEKU\\\\\" EVANS\",\"party_detailed\":\"UNITY PARTY\",\"writein\":false,\"mode\":\"total\",\"candidatevotes\":8971,\"totalvotes\":3235790,\"unofficial\":false,\"version\":20210114,\"party_simplified\":\"OTHER\"},{\"year\":2020,\"state\":\"COLORADO\",\"state_po\":\"CO\",\"state_fips\":8,\"state_cen\":84,\"state_ic\":62,\"office\":\"US SENATE\",\"district\":\"statewide\",\"stage\":\"gen\",\"special\":false,\"candidate\":\"RAYMON ANTHONY DOANE\",\"party_detailed\":\"LIBERTARIAN\",\"writein\":false,\"mode\":\"total\",\"candidatevotes\":56262,\"totalvotes\":3235790,\"unofficial\":false,\"version\":20210114,\"party_simplified\":\"LIBERTARIAN\"},{\"year\":2020,\"state\":\"COLORADO\",\"state_po\":\"CO\",\"state_fips\":8,\"state_cen\":84,\"state_ic\":62,\"office\":\"US SENATE\",\"district\":\"statewide\",\"stage\":\"gen\",\"special\":false,\"candidate\":\"DANNY SKELLY\",\"party_detailed\":\"UNAFFILIATED\",\"writein\":false,\"mode\":\"total\",\"candidatevotes\":55,\"totalvotes\":3235790,\"unofficial\":false,\"version\":20210114,\"party_simplified\":\"OTHER\"},{\"year\":2020,\"state\":\"COLORADO\",\"state_po\":\"CO\",\"state_fips\":8,\"state_cen\":84,\"state_ic\":62,\"office\":\"US SENATE\",\"district\":\"statewide\",\"stage\":\"gen\",\"special\":false,\"candidate\":\"BRUCE LOHMILLER\",\"party_detailed\":\"GREEN\",\"writein\":false,\"mode\":\"total\",\"candidatevotes\":71,\"totalvotes\":3235790,\"unofficial\":false,\"version\":20210114,\"party_simplified\":\"OTHER\"},{\"year\":2020,\"state\":\"COLORADO\",\"state_po\":\"CO\",\"state_fips\":8,\"state_cen\":84,\"state_ic\":62,\"office\":\"US SENATE\",\"district\":\"statewide\",\"stage\":\"gen\",\"special\":false,\"candidate\":\"MICHAEL SANCHEZ\",\"party_detailed\":\"UNAFFILIATED\",\"writein\":false,\"mode\":\"total\",\"candidatevotes\":5,\"totalvotes\":3235790,\"unofficial\":false,\"version\":20210114,\"party_simplified\":\"OTHER\"},{\"year\":2020,\"state\":\"DELAWARE\",\"state_po\":\"DE\",\"state_fips\":10,\"state_cen\":51,\"state_ic\":11,\"office\":\"US SENATE\",\"district\":\"statewide\",\"stage\":\"gen\",\"special\":false,\"candidate\":\"CHRISTOPHER A. COONS\",\"party_detailed\":\"DEMOCRAT\",\"writein\":false,\"mode\":\"total\",\"candidatevotes\":291804,\"totalvotes\":490935,\"unofficial\":false,\"version\":20210114,\"party_simplified\":\"DEMOCRAT\"},{\"year\":2020,\"state\":\"DELAWARE\",\"state_po\":\"DE\",\"state_fips\":10,\"state_cen\":51,\"state_ic\":11,\"office\":\"US SENATE\",\"district\":\"statewide\",\"stage\":\"gen\",\"special\":false,\"candidate\":\"LAUREN WITZKE\",\"party_detailed\":\"REPUBLICAN\",\"writein\":false,\"mode\":\"total\",\"candidatevotes\":186054,\"totalvotes\":490935,\"unofficial\":false,\"version\":20210114,\"party_simplified\":\"REPUBLICAN\"},{\"year\":2020,\"state\":\"DELAWARE\",\"state_po\":\"DE\",\"state_fips\":10,\"state_cen\":51,\"state_ic\":11,\"office\":\"US SENATE\",\"district\":\"statewide\",\"stage\":\"gen\",\"special\":false,\"candidate\":\"MARK W. TURLEY\",\"party_detailed\":\"INDEPENDENT PARTY OF DELAWARE\",\"writein\":false,\"mode\":\"total\",\"candidatevotes\":7833,\"totalvotes\":490935,\"unofficial\":false,\"version\":20210114,\"party_simplified\":\"OTHER\"},{\"year\":2020,\"state\":\"DELAWARE\",\"state_po\":\"DE\",\"state_fips\":10,\"state_cen\":51,\"state_ic\":11,\"office\":\"US SENATE\",\"district\":\"statewide\",\"stage\":\"gen\",\"special\":false,\"candidate\":\"NADINE M. FROST\",\"party_detailed\":\"LIBERTARIAN\",\"writein\":false,\"mode\":\"total\",\"candidatevotes\":5244,\"totalvotes\":490935,\"unofficial\":false,\"version\":20210114,\"party_simplified\":\"LIBERTARIAN\"},{\"year\":2020,\"state\":\"GEORGIA\",\"state_po\":\"GA\",\"state_fips\":13,\"state_cen\":58,\"state_ic\":44,\"office\":\"US SENATE\",\"district\":\"statewide\",\"stage\":\"gen\",\"special\":false,\"candidate\":\"DAVID A. PERDUE\",\"party_detailed\":\"REPUBLICAN\",\"writein\":false,\"mode\":\"total\",\"candidatevotes\":2462617,\"totalvotes\":4952175,\"unofficial\":false,\"version\":20210114,\"party_simplified\":\"REPUBLICAN\"},{\"year\":2020,\"state\":\"GEORGIA\",\"state_po\":\"GA\",\"state_fips\":13,\"state_cen\":58,\"state_ic\":44,\"office\":\"US SENATE\",\"district\":\"statewide\",\"stage\":\"gen\",\"special\":false,\"candidate\":\"JON OSSOFF\",\"party_detailed\":\"DEMOCRAT\",\"writein\":false,\"mode\":\"total\",\"candidatevotes\":2374519,\"totalvotes\":4952175,\"unofficial\":false,\"version\":20210114,\"party_simplified\":\"DEMOCRAT\"},{\"year\":2020,\"state\":\"GEORGIA\",\"state_po\":\"GA\",\"state_fips\":13,\"state_cen\":58,\"state_ic\":44,\"office\":\"US SENATE\",\"district\":\"statewide\",\"stage\":\"gen\",\"special\":false,\"candidate\":\"SHANE HAZEL\",\"party_detailed\":\"LIBERTARIAN\",\"writein\":false,\"mode\":\"total\",\"candidatevotes\":115039,\"totalvotes\":4952175,\"unofficial\":false,\"version\":20210114,\"party_simplified\":\"LIBERTARIAN\"},{\"year\":2020,\"state\":\"GEORGIA\",\"state_po\":\"GA\",\"state_fips\":13,\"state_cen\":58,\"state_ic\":44,\"office\":\"US SENATE\",\"district\":\"statewide\",\"stage\":\"gen\",\"special\":true,\"candidate\":\"AL BARTELL\",\"party_detailed\":\"INDEPENDENT\",\"writein\":false,\"mode\":\"total\",\"candidatevotes\":14640,\"totalvotes\":4914361,\"unofficial\":false,\"version\":20210114,\"party_simplified\":\"OTHER\"},{\"year\":2020,\"state\":\"GEORGIA\",\"state_po\":\"GA\",\"state_fips\":13,\"state_cen\":58,\"state_ic\":44,\"office\":\"US SENATE\",\"district\":\"statewide\",\"stage\":\"gen\",\"special\":true,\"candidate\":\"ALLEN BUCKLEY\",\"party_detailed\":\"INDEPENDENT\",\"writein\":false,\"mode\":\"total\",\"candidatevotes\":17954,\"totalvotes\":4914361,\"unofficial\":false,\"version\":20210114,\"party_simplified\":\"OTHER\"},{\"year\":2020,\"state\":\"GEORGIA\",\"state_po\":\"GA\",\"state_fips\":13,\"state_cen\":58,\"state_ic\":44,\"office\":\"US SENATE\",\"district\":\"statewide\",\"stage\":\"gen\",\"special\":true,\"candidate\":\"DOUG COLLINS\",\"party_detailed\":\"REPUBLICAN\",\"writein\":false,\"mode\":\"total\",\"candidatevotes\":980454,\"totalvotes\":4914361,\"unofficial\":false,\"version\":20210114,\"party_simplified\":\"REPUBLICAN\"},{\"year\":2020,\"state\":\"GEORGIA\",\"state_po\":\"GA\",\"state_fips\":13,\"state_cen\":58,\"state_ic\":44,\"office\":\"US SENATE\",\"district\":\"statewide\",\"stage\":\"gen\",\"special\":true,\"candidate\":\"JOHN FORTUIN\",\"party_detailed\":\"GREEN\",\"writein\":false,\"mode\":\"total\",\"candidatevotes\":15293,\"totalvotes\":4914361,\"unofficial\":false,\"version\":20210114,\"party_simplified\":\"OTHER\"},{\"year\":2020,\"state\":\"GEORGIA\",\"state_po\":\"GA\",\"state_fips\":13,\"state_cen\":58,\"state_ic\":44,\"office\":\"US SENATE\",\"district\":\"statewide\",\"stage\":\"gen\",\"special\":true,\"candidate\":\"DERRICK E. GRAYSON\",\"party_detailed\":\"REPUBLICAN\",\"writein\":false,\"mode\":\"total\",\"candidatevotes\":51592,\"totalvotes\":4914361,\"unofficial\":false,\"version\":20210114,\"party_simplified\":\"REPUBLICAN\"},{\"year\":2020,\"state\":\"GEORGIA\",\"state_po\":\"GA\",\"state_fips\":13,\"state_cen\":58,\"state_ic\":44,\"office\":\"US SENATE\",\"district\":\"statewide\",\"stage\":\"gen\",\"special\":true,\"candidate\":\"MICHAEL TODD GREENE\",\"party_detailed\":\"INDEPENDENT\",\"writein\":false,\"mode\":\"total\",\"candidatevotes\":13293,\"totalvotes\":4914361,\"unofficial\":false,\"version\":20210114,\"party_simplified\":\"OTHER\"},{\"year\":2020,\"state\":\"GEORGIA\",\"state_po\":\"GA\",\"state_fips\":13,\"state_cen\":58,\"state_ic\":44,\"office\":\"US SENATE\",\"district\":\"statewide\",\"stage\":\"gen\",\"special\":true,\"candidate\":\"ANNETTE DAVIS JACKSON\",\"party_detailed\":\"REPUBLICAN\",\"writein\":false,\"mode\":\"total\",\"candidatevotes\":44335,\"totalvotes\":4914361,\"unofficial\":false,\"version\":20210114,\"party_simplified\":\"REPUBLICAN\"},{\"year\":2020,\"state\":\"GEORGIA\",\"state_po\":\"GA\",\"state_fips\":13,\"state_cen\":58,\"state_ic\":44,\"office\":\"US SENATE\",\"district\":\"statewide\",\"stage\":\"gen\",\"special\":true,\"candidate\":\"DEBORAH JACKSON\",\"party_detailed\":\"DEMOCRAT\",\"writein\":false,\"mode\":\"total\",\"candidatevotes\":324118,\"totalvotes\":4914361,\"unofficial\":false,\"version\":20210114,\"party_simplified\":\"DEMOCRAT\"},{\"year\":2020,\"state\":\"GEORGIA\",\"state_po\":\"GA\",\"state_fips\":13,\"state_cen\":58,\"state_ic\":44,\"office\":\"US SENATE\",\"district\":\"statewide\",\"stage\":\"gen\",\"special\":true,\"candidate\":\"JAMESIA JAMES\",\"party_detailed\":\"DEMOCRAT\",\"writein\":false,\"mode\":\"total\",\"candidatevotes\":94406,\"totalvotes\":4914361,\"unofficial\":false,\"version\":20210114,\"party_simplified\":\"DEMOCRAT\"},{\"year\":2020,\"state\":\"GEORGIA\",\"state_po\":\"GA\",\"state_fips\":13,\"state_cen\":58,\"state_ic\":44,\"office\":\"US SENATE\",\"district\":\"statewide\",\"stage\":\"gen\",\"special\":true,\"candidate\":\"A. WAYNE JOHNSON\",\"party_detailed\":\"REPUBLICAN\",\"writein\":false,\"mode\":\"total\",\"candidatevotes\":36176,\"totalvotes\":4914361,\"unofficial\":false,\"version\":20210114,\"party_simplified\":\"REPUBLICAN\"},{\"year\":2020,\"state\":\"GEORGIA\",\"state_po\":\"GA\",\"state_fips\":13,\"state_cen\":58,\"state_ic\":44,\"office\":\"US SENATE\",\"district\":\"statewide\",\"stage\":\"gen\",\"special\":true,\"candidate\":\"TAMARA JOHNSON-SHEALEY\",\"party_detailed\":\"DEMOCRAT\",\"writein\":false,\"mode\":\"total\",\"candidatevotes\":106767,\"totalvotes\":4914361,\"unofficial\":false,\"version\":20210114,\"party_simplified\":\"DEMOCRAT\"},{\"year\":2020,\"state\":\"GEORGIA\",\"state_po\":\"GA\",\"state_fips\":13,\"state_cen\":58,\"state_ic\":44,\"office\":\"US SENATE\",\"district\":\"statewide\",\"stage\":\"gen\",\"special\":true,\"candidate\":\"MATT LIEBERMAN\",\"party_detailed\":\"DEMOCRAT\",\"writein\":false,\"mode\":\"total\",\"candidatevotes\":136021,\"totalvotes\":4914361,\"unofficial\":false,\"version\":20210114,\"party_simplified\":\"DEMOCRAT\"},{\"year\":2020,\"state\":\"GEORGIA\",\"state_po\":\"GA\",\"state_fips\":13,\"state_cen\":58,\"state_ic\":44,\"office\":\"US SENATE\",\"district\":\"statewide\",\"stage\":\"gen\",\"special\":true,\"candidate\":\"KELLY LOEFFLER\",\"party_detailed\":\"REPUBLICAN\",\"writein\":false,\"mode\":\"total\",\"candidatevotes\":1273214,\"totalvotes\":4914361,\"unofficial\":false,\"version\":20210114,\"party_simplified\":\"REPUBLICAN\"},{\"year\":2020,\"state\":\"GEORGIA\",\"state_po\":\"GA\",\"state_fips\":13,\"state_cen\":58,\"state_ic\":44,\"office\":\"US SENATE\",\"district\":\"statewide\",\"stage\":\"gen\",\"special\":true,\"candidate\":\"JOY FELICIA SLADE\",\"party_detailed\":\"DEMOCRAT\",\"writein\":false,\"mode\":\"total\",\"candidatevotes\":44945,\"totalvotes\":4914361,\"unofficial\":false,\"version\":20210114,\"party_simplified\":\"DEMOCRAT\"},{\"year\":2020,\"state\":\"GEORGIA\",\"state_po\":\"GA\",\"state_fips\":13,\"state_cen\":58,\"state_ic\":44,\"office\":\"US SENATE\",\"district\":\"statewide\",\"stage\":\"gen\",\"special\":true,\"candidate\":\"BRIAN SLOWINSKI\",\"party_detailed\":\"LIBERTARIAN\",\"writein\":false,\"mode\":\"total\",\"candidatevotes\":35431,\"totalvotes\":4914361,\"unofficial\":false,\"version\":20210114,\"party_simplified\":\"LIBERTARIAN\"},{\"year\":2020,\"state\":\"GEORGIA\",\"state_po\":\"GA\",\"state_fips\":13,\"state_cen\":58,\"state_ic\":44,\"office\":\"US SENATE\",\"district\":\"statewide\",\"stage\":\"gen\",\"special\":true,\"candidate\":\"VALENCIA STOVALL\",\"party_detailed\":\"INDEPENDENT\",\"writein\":false,\"mode\":\"total\",\"candidatevotes\":13318,\"totalvotes\":4914361,\"unofficial\":false,\"version\":20210114,\"party_simplified\":\"OTHER\"},{\"year\":2020,\"state\":\"GEORGIA\",\"state_po\":\"GA\",\"state_fips\":13,\"state_cen\":58,\"state_ic\":44,\"office\":\"US SENATE\",\"district\":\"statewide\",\"stage\":\"gen\",\"special\":true,\"candidate\":\"ED TARVER\",\"party_detailed\":\"DEMOCRAT\",\"writein\":false,\"mode\":\"total\",\"candidatevotes\":26333,\"totalvotes\":4914361,\"unofficial\":false,\"version\":20210114,\"party_simplified\":\"DEMOCRAT\"},{\"year\":2020,\"state\":\"GEORGIA\",\"state_po\":\"GA\",\"state_fips\":13,\"state_cen\":58,\"state_ic\":44,\"office\":\"US SENATE\",\"district\":\"statewide\",\"stage\":\"gen\",\"special\":true,\"candidate\":\"KANDISS TAYLOR\",\"party_detailed\":\"REPUBLICAN\",\"writein\":false,\"mode\":\"total\",\"candidatevotes\":40349,\"totalvotes\":4914361,\"unofficial\":false,\"version\":20210114,\"party_simplified\":\"REPUBLICAN\"},{\"year\":2020,\"state\":\"GEORGIA\",\"state_po\":\"GA\",\"state_fips\":13,\"state_cen\":58,\"state_ic\":44,\"office\":\"US SENATE\",\"district\":\"statewide\",\"stage\":\"gen\",\"special\":true,\"candidate\":\"RAPHAEL WARNOCK\",\"party_detailed\":\"DEMOCRAT\",\"writein\":false,\"mode\":\"total\",\"candidatevotes\":1617035,\"totalvotes\":4914361,\"unofficial\":false,\"version\":20210114,\"party_simplified\":\"DEMOCRAT\"},{\"year\":2020,\"state\":\"GEORGIA\",\"state_po\":\"GA\",\"state_fips\":13,\"state_cen\":58,\"state_ic\":44,\"office\":\"US SENATE\",\"district\":\"statewide\",\"stage\":\"gen\",\"special\":true,\"candidate\":\"RICHARD DIEN WINFIELD\",\"party_detailed\":\"DEMOCRAT\",\"writein\":false,\"mode\":\"total\",\"candidatevotes\":28687,\"totalvotes\":4914361,\"unofficial\":false,\"version\":20210114,\"party_simplified\":\"DEMOCRAT\"},{\"year\":2020,\"state\":\"IDAHO\",\"state_po\":\"ID\",\"state_fips\":16,\"state_cen\":82,\"state_ic\":63,\"office\":\"US SENATE\",\"district\":\"statewide\",\"stage\":\"gen\",\"special\":false,\"candidate\":\"NATALIE M FLEMING\",\"party_detailed\":\"INDEPENDENT\",\"writein\":false,\"mode\":\"total\",\"candidatevotes\":25329,\"totalvotes\":859827,\"unofficial\":false,\"version\":20210114,\"party_simplified\":\"OTHER\"},{\"year\":2020,\"state\":\"IDAHO\",\"state_po\":\"ID\",\"state_fips\":16,\"state_cen\":82,\"state_ic\":63,\"office\":\"US SENATE\",\"district\":\"statewide\",\"stage\":\"gen\",\"special\":false,\"candidate\":\"PAULETTE JORDAN\",\"party_detailed\":\"DEMOCRAT\",\"writein\":false,\"mode\":\"total\",\"candidatevotes\":285864,\"totalvotes\":859827,\"unofficial\":false,\"version\":20210114,\"party_simplified\":\"DEMOCRAT\"},{\"year\":2020,\"state\":\"IDAHO\",\"state_po\":\"ID\",\"state_fips\":16,\"state_cen\":82,\"state_ic\":63,\"office\":\"US SENATE\",\"district\":\"statewide\",\"stage\":\"gen\",\"special\":false,\"candidate\":\"JIM RISCH\",\"party_detailed\":\"REPUBLICAN\",\"writein\":false,\"mode\":\"total\",\"candidatevotes\":538446,\"totalvotes\":859827,\"unofficial\":false,\"version\":20210114,\"party_simplified\":\"REPUBLICAN\"},{\"year\":2020,\"state\":\"IDAHO\",\"state_po\":\"ID\",\"state_fips\":16,\"state_cen\":82,\"state_ic\":63,\"office\":\"US SENATE\",\"district\":\"statewide\",\"stage\":\"gen\",\"special\":false,\"candidate\":\"RAY J. WRITZ\",\"party_detailed\":\"CONSTITUTION PARTY\",\"writein\":false,\"mode\":\"total\",\"candidatevotes\":10188,\"totalvotes\":859827,\"unofficial\":false,\"version\":20210114,\"party_simplified\":\"OTHER\"},{\"year\":2020,\"state\":\"ILLINOIS\",\"state_po\":\"IL\",\"state_fips\":17,\"state_cen\":33,\"state_ic\":21,\"office\":\"US SENATE\",\"district\":\"statewide\",\"stage\":\"gen\",\"special\":false,\"candidate\":\"RICHARD J. DURBIN\",\"party_detailed\":\"DEMOCRAT\",\"writein\":false,\"mode\":\"total\",\"candidatevotes\":3278930,\"totalvotes\":5968901,\"unofficial\":false,\"version\":20210114,\"party_simplified\":\"DEMOCRAT\"},{\"year\":2020,\"state\":\"ILLINOIS\",\"state_po\":\"IL\",\"state_fips\":17,\"state_cen\":33,\"state_ic\":21,\"office\":\"US SENATE\",\"district\":\"statewide\",\"stage\":\"gen\",\"special\":false,\"candidate\":\"MARK C. CURRAN JR.\",\"party_detailed\":\"REPUBLICAN\",\"writein\":false,\"mode\":\"total\",\"candidatevotes\":2319870,\"totalvotes\":5968901,\"unofficial\":false,\"version\":20210114,\"party_simplified\":\"REPUBLICAN\"},{\"year\":2020,\"state\":\"ILLINOIS\",\"state_po\":\"IL\",\"state_fips\":17,\"state_cen\":33,\"state_ic\":21,\"office\":\"US SENATE\",\"district\":\"statewide\",\"stage\":\"gen\",\"special\":false,\"candidate\":\"WILLIE L. WILSON\",\"party_detailed\":\"WILLIE WILSON PARTY\",\"writein\":false,\"mode\":\"total\",\"candidatevotes\":237699,\"totalvotes\":5968901,\"unofficial\":false,\"version\":20210114,\"party_simplified\":\"OTHER\"},{\"year\":2020,\"state\":\"ILLINOIS\",\"state_po\":\"IL\",\"state_fips\":17,\"state_cen\":33,\"state_ic\":21,\"office\":\"US SENATE\",\"district\":\"statewide\",\"stage\":\"gen\",\"special\":false,\"candidate\":\"DANNY MALOUF \",\"party_detailed\":\"LIBERTARIAN\",\"writein\":false,\"mode\":\"total\",\"candidatevotes\":75673,\"totalvotes\":5968901,\"unofficial\":false,\"version\":20210114,\"party_simplified\":\"LIBERTARIAN\"},{\"year\":2020,\"state\":\"ILLINOIS\",\"state_po\":\"IL\",\"state_fips\":17,\"state_cen\":33,\"state_ic\":21,\"office\":\"US SENATE\",\"district\":\"statewide\",\"stage\":\"gen\",\"special\":false,\"candidate\":\"DAVID F. BLACK\",\"party_detailed\":\"GREEN\",\"writein\":false,\"mode\":\"total\",\"candidatevotes\":56711,\"totalvotes\":5968901,\"unofficial\":false,\"version\":20210114,\"party_simplified\":\"OTHER\"},{\"year\":2020,\"state\":\"ILLINOIS\",\"state_po\":\"IL\",\"state_fips\":17,\"state_cen\":33,\"state_ic\":21,\"office\":\"US SENATE\",\"district\":\"statewide\",\"stage\":\"gen\",\"special\":false,\"candidate\":\"KEVIN KEELY\",\"party_detailed\":null,\"writein\":true,\"mode\":\"total\",\"candidatevotes\":10,\"totalvotes\":5968901,\"unofficial\":false,\"version\":20210114,\"party_simplified\":\"OTHER\"},{\"year\":2020,\"state\":\"ILLINOIS\",\"state_po\":\"IL\",\"state_fips\":17,\"state_cen\":33,\"state_ic\":21,\"office\":\"US SENATE\",\"district\":\"statewide\",\"stage\":\"gen\",\"special\":false,\"candidate\":\"LOWELL MARTIN SEIDA\",\"party_detailed\":null,\"writein\":true,\"mode\":\"total\",\"candidatevotes\":6,\"totalvotes\":5968901,\"unofficial\":false,\"version\":20210114,\"party_simplified\":\"OTHER\"},{\"year\":2020,\"state\":\"ILLINOIS\",\"state_po\":\"IL\",\"state_fips\":17,\"state_cen\":33,\"state_ic\":21,\"office\":\"US SENATE\",\"district\":\"statewide\",\"stage\":\"gen\",\"special\":false,\"candidate\":\"ALBERT A. SCHAAL\",\"party_detailed\":null,\"writein\":true,\"mode\":\"total\",\"candidatevotes\":2,\"totalvotes\":5968901,\"unofficial\":false,\"version\":20210114,\"party_simplified\":\"OTHER\"},{\"year\":2020,\"state\":\"IOWA\",\"state_po\":\"IA\",\"state_fips\":19,\"state_cen\":42,\"state_ic\":31,\"office\":\"US SENATE\",\"district\":\"statewide\",\"stage\":\"gen\",\"special\":false,\"candidate\":\"JONI ERNST\",\"party_detailed\":\"REPUBLICAN\",\"writein\":false,\"mode\":\"total\",\"candidatevotes\":864997,\"totalvotes\":1700130,\"unofficial\":false,\"version\":20210114,\"party_simplified\":\"REPUBLICAN\"},{\"year\":2020,\"state\":\"IOWA\",\"state_po\":\"IA\",\"state_fips\":19,\"state_cen\":42,\"state_ic\":31,\"office\":\"US SENATE\",\"district\":\"statewide\",\"stage\":\"gen\",\"special\":false,\"candidate\":\"THERESA GREENFIELD\",\"party_detailed\":\"DEMOCRAT\",\"writein\":false,\"mode\":\"total\",\"candidatevotes\":754859,\"totalvotes\":1700130,\"unofficial\":false,\"version\":20210114,\"party_simplified\":\"DEMOCRAT\"},{\"year\":2020,\"state\":\"IOWA\",\"state_po\":\"IA\",\"state_fips\":19,\"state_cen\":42,\"state_ic\":31,\"office\":\"US SENATE\",\"district\":\"statewide\",\"stage\":\"gen\",\"special\":false,\"candidate\":\"RICK STEWART\",\"party_detailed\":\"LIBERTARIAN\",\"writein\":false,\"mode\":\"total\",\"candidatevotes\":36961,\"totalvotes\":1700130,\"unofficial\":false,\"version\":20210114,\"party_simplified\":\"LIBERTARIAN\"},{\"year\":2020,\"state\":\"IOWA\",\"state_po\":\"IA\",\"state_fips\":19,\"state_cen\":42,\"state_ic\":31,\"office\":\"US SENATE\",\"district\":\"statewide\",\"stage\":\"gen\",\"special\":false,\"candidate\":\"SUZANNE HERZOG\",\"party_detailed\":null,\"writein\":false,\"mode\":\"total\",\"candidatevotes\":13800,\"totalvotes\":1700130,\"unofficial\":false,\"version\":20210114,\"party_simplified\":\"OTHER\"},{\"year\":2020,\"state\":\"IOWA\",\"state_po\":\"IA\",\"state_fips\":19,\"state_cen\":42,\"state_ic\":31,\"office\":\"US SENATE\",\"district\":\"statewide\",\"stage\":\"gen\",\"special\":false,\"candidate\":null,\"party_detailed\":null,\"writein\":true,\"mode\":\"total\",\"candidatevotes\":1211,\"totalvotes\":1700130,\"unofficial\":false,\"version\":20210114,\"party_simplified\":\"OTHER\"},{\"year\":2020,\"state\":\"IOWA\",\"state_po\":\"IA\",\"state_fips\":19,\"state_cen\":42,\"state_ic\":31,\"office\":\"US SENATE\",\"district\":\"statewide\",\"stage\":\"gen\",\"special\":false,\"candidate\":\"UNDER VOTES\",\"party_detailed\":null,\"writein\":false,\"mode\":\"total\",\"candidatevotes\":27438,\"totalvotes\":1700130,\"unofficial\":false,\"version\":20210114,\"party_simplified\":\"OTHER\"},{\"year\":2020,\"state\":\"IOWA\",\"state_po\":\"IA\",\"state_fips\":19,\"state_cen\":42,\"state_ic\":31,\"office\":\"US SENATE\",\"district\":\"statewide\",\"stage\":\"gen\",\"special\":false,\"candidate\":\"OVER VOTES\",\"party_detailed\":null,\"writein\":false,\"mode\":\"total\",\"candidatevotes\":864,\"totalvotes\":1700130,\"unofficial\":false,\"version\":20210114,\"party_simplified\":\"OTHER\"},{\"year\":2020,\"state\":\"KANSAS\",\"state_po\":\"KS\",\"state_fips\":20,\"state_cen\":47,\"state_ic\":32,\"office\":\"US SENATE\",\"district\":\"statewide\",\"stage\":\"gen\",\"special\":false,\"candidate\":\"ROGER MARSHALL\",\"party_detailed\":\"REPUBLICAN\",\"writein\":false,\"mode\":\"total\",\"candidatevotes\":727962,\"totalvotes\":1367755,\"unofficial\":false,\"version\":20210114,\"party_simplified\":\"REPUBLICAN\"},{\"year\":2020,\"state\":\"KANSAS\",\"state_po\":\"KS\",\"state_fips\":20,\"state_cen\":47,\"state_ic\":32,\"office\":\"US SENATE\",\"district\":\"statewide\",\"stage\":\"gen\",\"special\":false,\"candidate\":\"BARBARA BOLLIER\",\"party_detailed\":\"DEMOCRAT\",\"writein\":false,\"mode\":\"total\",\"candidatevotes\":571530,\"totalvotes\":1367755,\"unofficial\":false,\"version\":20210114,\"party_simplified\":\"DEMOCRAT\"},{\"year\":2020,\"state\":\"KANSAS\",\"state_po\":\"KS\",\"state_fips\":20,\"state_cen\":47,\"state_ic\":32,\"office\":\"US SENATE\",\"district\":\"statewide\",\"stage\":\"gen\",\"special\":false,\"candidate\":\"JASON BUCKLEY\",\"party_detailed\":\"LIBERTARIAN\",\"writein\":false,\"mode\":\"total\",\"candidatevotes\":68263,\"totalvotes\":1367755,\"unofficial\":false,\"version\":20210114,\"party_simplified\":\"LIBERTARIAN\"},{\"year\":2020,\"state\":\"KENTUCKY\",\"state_po\":\"KY\",\"state_fips\":21,\"state_cen\":61,\"state_ic\":51,\"office\":\"US SENATE\",\"district\":\"statewide\",\"stage\":\"gen\",\"special\":false,\"candidate\":\"MITCH MCCONNELL\",\"party_detailed\":\"REPUBLICAN\",\"writein\":false,\"mode\":\"total\",\"candidatevotes\":1233315,\"totalvotes\":2135057,\"unofficial\":false,\"version\":20210114,\"party_simplified\":\"REPUBLICAN\"},{\"year\":2020,\"state\":\"KENTUCKY\",\"state_po\":\"KY\",\"state_fips\":21,\"state_cen\":61,\"state_ic\":51,\"office\":\"US SENATE\",\"district\":\"statewide\",\"stage\":\"gen\",\"special\":false,\"candidate\":\"AMY MCGRATH\",\"party_detailed\":\"DEMOCRAT\",\"writein\":false,\"mode\":\"total\",\"candidatevotes\":816257,\"totalvotes\":2135057,\"unofficial\":false,\"version\":20210114,\"party_simplified\":\"DEMOCRAT\"},{\"year\":2020,\"state\":\"KENTUCKY\",\"state_po\":\"KY\",\"state_fips\":21,\"state_cen\":61,\"state_ic\":51,\"office\":\"US SENATE\",\"district\":\"statewide\",\"stage\":\"gen\",\"special\":false,\"candidate\":\"BRAD BARRON\",\"party_detailed\":\"LIBERTARIAN\",\"writein\":false,\"mode\":\"total\",\"candidatevotes\":85386,\"totalvotes\":2135057,\"unofficial\":false,\"version\":20210114,\"party_simplified\":\"LIBERTARIAN\"},{\"year\":2020,\"state\":\"KENTUCKY\",\"state_po\":\"KY\",\"state_fips\":21,\"state_cen\":61,\"state_ic\":51,\"office\":\"US SENATE\",\"district\":\"statewide\",\"stage\":\"gen\",\"special\":false,\"candidate\":\"PAUL JOHN FRANGEDAKIS\",\"party_detailed\":null,\"writein\":true,\"mode\":\"total\",\"candidatevotes\":70,\"totalvotes\":2135057,\"unofficial\":false,\"version\":20210114,\"party_simplified\":\"OTHER\"},{\"year\":2020,\"state\":\"KENTUCKY\",\"state_po\":\"KY\",\"state_fips\":21,\"state_cen\":61,\"state_ic\":51,\"office\":\"US SENATE\",\"district\":\"statewide\",\"stage\":\"gen\",\"special\":false,\"candidate\":\"DANIEL COBBLE\",\"party_detailed\":null,\"writein\":true,\"mode\":\"total\",\"candidatevotes\":18,\"totalvotes\":2135057,\"unofficial\":false,\"version\":20210114,\"party_simplified\":\"OTHER\"},{\"year\":2020,\"state\":\"KENTUCKY\",\"state_po\":\"KY\",\"state_fips\":21,\"state_cen\":61,\"state_ic\":51,\"office\":\"US SENATE\",\"district\":\"statewide\",\"stage\":\"gen\",\"special\":false,\"candidate\":\"RANDALL LEE TEEGARGEN\",\"party_detailed\":null,\"writein\":true,\"mode\":\"total\",\"candidatevotes\":9,\"totalvotes\":2135057,\"unofficial\":false,\"version\":20210114,\"party_simplified\":\"OTHER\"},{\"year\":2020,\"state\":\"KENTUCKY\",\"state_po\":\"KY\",\"state_fips\":21,\"state_cen\":61,\"state_ic\":51,\"office\":\"US SENATE\",\"district\":\"statewide\",\"stage\":\"gen\",\"special\":false,\"candidate\":\"DEMETRA WYSINGER\",\"party_detailed\":null,\"writein\":true,\"mode\":\"total\",\"candidatevotes\":1,\"totalvotes\":2135057,\"unofficial\":false,\"version\":20210114,\"party_simplified\":\"OTHER\"},{\"year\":2020,\"state\":\"KENTUCKY\",\"state_po\":\"KY\",\"state_fips\":21,\"state_cen\":61,\"state_ic\":51,\"office\":\"US SENATE\",\"district\":\"statewide\",\"stage\":\"gen\",\"special\":false,\"candidate\":\"HAROLD H. FITZPATRICK\",\"party_detailed\":null,\"writein\":true,\"mode\":\"total\",\"candidatevotes\":1,\"totalvotes\":2135057,\"unofficial\":false,\"version\":20210114,\"party_simplified\":\"OTHER\"},{\"year\":2020,\"state\":\"LOUISIANA\",\"state_po\":\"LA\",\"state_fips\":22,\"state_cen\":72,\"state_ic\":45,\"office\":\"US SENATE\",\"district\":\"statewide\",\"stage\":\"gen\",\"special\":false,\"candidate\":\"BERYL BILLIOT\",\"party_detailed\":\"UNAFFILIATED\",\"writein\":false,\"mode\":\"total\",\"candidatevotes\":17362,\"totalvotes\":2071543,\"unofficial\":false,\"version\":20210114,\"party_simplified\":\"OTHER\"},{\"year\":2020,\"state\":\"LOUISIANA\",\"state_po\":\"LA\",\"state_fips\":22,\"state_cen\":72,\"state_ic\":45,\"office\":\"US SENATE\",\"district\":\"statewide\",\"stage\":\"gen\",\"special\":false,\"candidate\":\"JOHN PAUL BOURGEOIS\",\"party_detailed\":\"UNAFFILIATED\",\"writein\":false,\"mode\":\"total\",\"candidatevotes\":16518,\"totalvotes\":2071543,\"unofficial\":false,\"version\":20210114,\"party_simplified\":\"OTHER\"},{\"year\":2020,\"state\":\"LOUISIANA\",\"state_po\":\"LA\",\"state_fips\":22,\"state_cen\":72,\"state_ic\":45,\"office\":\"US SENATE\",\"district\":\"statewide\",\"stage\":\"gen\",\"special\":false,\"candidate\":\"\\\\\"BILL\\\\\" CASSIDY\",\"party_detailed\":\"REPUBLICAN\",\"writein\":false,\"mode\":\"total\",\"candidatevotes\":1228908,\"totalvotes\":2071543,\"unofficial\":false,\"version\":20210114,\"party_simplified\":\"REPUBLICAN\"},{\"year\":2020,\"state\":\"LOUISIANA\",\"state_po\":\"LA\",\"state_fips\":22,\"state_cen\":72,\"state_ic\":45,\"office\":\"US SENATE\",\"district\":\"statewide\",\"stage\":\"gen\",\"special\":false,\"candidate\":\"RENO JEAN DARET III\",\"party_detailed\":\"UNAFFILIATED\",\"writein\":false,\"mode\":\"total\",\"candidatevotes\":3954,\"totalvotes\":2071543,\"unofficial\":false,\"version\":20210114,\"party_simplified\":\"OTHER\"},{\"year\":2020,\"state\":\"LOUISIANA\",\"state_po\":\"LA\",\"state_fips\":22,\"state_cen\":72,\"state_ic\":45,\"office\":\"US SENATE\",\"district\":\"statewide\",\"stage\":\"gen\",\"special\":false,\"candidate\":\"DERRICK \\\\\"CHAMP\\\\\" EDWARDS\",\"party_detailed\":\"DEMOCRAT\",\"writein\":false,\"mode\":\"total\",\"candidatevotes\":229814,\"totalvotes\":2071543,\"unofficial\":false,\"version\":20210114,\"party_simplified\":\"DEMOCRAT\"},{\"year\":2020,\"state\":\"LOUISIANA\",\"state_po\":\"LA\",\"state_fips\":22,\"state_cen\":72,\"state_ic\":45,\"office\":\"US SENATE\",\"district\":\"statewide\",\"stage\":\"gen\",\"special\":false,\"candidate\":\"\\\\\"XAN\\\\\" JOHN\",\"party_detailed\":\"OTHER\",\"writein\":false,\"mode\":\"total\",\"candidatevotes\":2813,\"totalvotes\":2071543,\"unofficial\":false,\"version\":20210114,\"party_simplified\":\"OTHER\"},{\"year\":2020,\"state\":\"LOUISIANA\",\"state_po\":\"LA\",\"state_fips\":22,\"state_cen\":72,\"state_ic\":45,\"office\":\"US SENATE\",\"district\":\"statewide\",\"stage\":\"gen\",\"special\":false,\"candidate\":\"DAVID DREW KNIGHT\",\"party_detailed\":\"DEMOCRAT\",\"writein\":false,\"mode\":\"total\",\"candidatevotes\":36962,\"totalvotes\":2071543,\"unofficial\":false,\"version\":20210114,\"party_simplified\":\"DEMOCRAT\"},{\"year\":2020,\"state\":\"LOUISIANA\",\"state_po\":\"LA\",\"state_fips\":22,\"state_cen\":72,\"state_ic\":45,\"office\":\"US SENATE\",\"district\":\"statewide\",\"stage\":\"gen\",\"special\":false,\"candidate\":\"M.V. \\\\\"VINNY\\\\\" MENDOZA\",\"party_detailed\":\"INDEPENDENT\",\"writein\":false,\"mode\":\"total\",\"candidatevotes\":7811,\"totalvotes\":2071543,\"unofficial\":false,\"version\":20210114,\"party_simplified\":\"OTHER\"},{\"year\":2020,\"state\":\"LOUISIANA\",\"state_po\":\"LA\",\"state_fips\":22,\"state_cen\":72,\"state_ic\":45,\"office\":\"US SENATE\",\"district\":\"statewide\",\"stage\":\"gen\",\"special\":false,\"candidate\":\"JAMAR MONTGOMERY\",\"party_detailed\":\"UNAFFILIATED\",\"writein\":false,\"mode\":\"total\",\"candidatevotes\":5804,\"totalvotes\":2071543,\"unofficial\":false,\"version\":20210114,\"party_simplified\":\"OTHER\"},{\"year\":2020,\"state\":\"LOUISIANA\",\"state_po\":\"LA\",\"state_fips\":22,\"state_cen\":72,\"state_ic\":45,\"office\":\"US SENATE\",\"district\":\"statewide\",\"stage\":\"gen\",\"special\":false,\"candidate\":\"DUSTIN MURPHY\",\"party_detailed\":\"REPUBLICAN\",\"writein\":false,\"mode\":\"total\",\"candidatevotes\":38383,\"totalvotes\":2071543,\"unofficial\":false,\"version\":20210114,\"party_simplified\":\"REPUBLICAN\"},{\"year\":2020,\"state\":\"LOUISIANA\",\"state_po\":\"LA\",\"state_fips\":22,\"state_cen\":72,\"state_ic\":45,\"office\":\"US SENATE\",\"district\":\"statewide\",\"stage\":\"gen\",\"special\":false,\"candidate\":\"ADRIAN PERKINS\",\"party_detailed\":\"DEMOCRAT\",\"writein\":false,\"mode\":\"total\",\"candidatevotes\":394049,\"totalvotes\":2071543,\"unofficial\":false,\"version\":20210114,\"party_simplified\":\"DEMOCRAT\"},{\"year\":2020,\"state\":\"LOUISIANA\",\"state_po\":\"LA\",\"state_fips\":22,\"state_cen\":72,\"state_ic\":45,\"office\":\"US SENATE\",\"district\":\"statewide\",\"stage\":\"gen\",\"special\":false,\"candidate\":\"ANTOINE PIERCE\",\"party_detailed\":\"DEMOCRAT\",\"writein\":false,\"mode\":\"total\",\"candidatevotes\":55710,\"totalvotes\":2071543,\"unofficial\":false,\"version\":20210114,\"party_simplified\":\"DEMOCRAT\"},{\"year\":2020,\"state\":\"LOUISIANA\",\"state_po\":\"LA\",\"state_fips\":22,\"state_cen\":72,\"state_ic\":45,\"office\":\"US SENATE\",\"district\":\"statewide\",\"stage\":\"gen\",\"special\":false,\"candidate\":\"MELINDA MARY PRICE\",\"party_detailed\":\"OTHER\",\"writein\":false,\"mode\":\"total\",\"candidatevotes\":7680,\"totalvotes\":2071543,\"unofficial\":false,\"version\":20210114,\"party_simplified\":\"OTHER\"},{\"year\":2020,\"state\":\"LOUISIANA\",\"state_po\":\"LA\",\"state_fips\":22,\"state_cen\":72,\"state_ic\":45,\"office\":\"US SENATE\",\"district\":\"statewide\",\"stage\":\"gen\",\"special\":false,\"candidate\":\"AARON C. SIGLER\",\"party_detailed\":\"LIBERTARIAN\",\"writein\":false,\"mode\":\"total\",\"candidatevotes\":11321,\"totalvotes\":2071543,\"unofficial\":false,\"version\":20210114,\"party_simplified\":\"LIBERTARIAN\"},{\"year\":2020,\"state\":\"LOUISIANA\",\"state_po\":\"LA\",\"state_fips\":22,\"state_cen\":72,\"state_ic\":45,\"office\":\"US SENATE\",\"district\":\"statewide\",\"stage\":\"gen\",\"special\":false,\"candidate\":\"PETER WENSTRUP\",\"party_detailed\":\"DEMOCRAT\",\"writein\":false,\"mode\":\"total\",\"candidatevotes\":14454,\"totalvotes\":2071543,\"unofficial\":false,\"version\":20210114,\"party_simplified\":\"DEMOCRAT\"},{\"year\":2020,\"state\":\"MAINE\",\"state_po\":\"ME\",\"state_fips\":23,\"state_cen\":11,\"state_ic\":2,\"office\":\"US SENATE\",\"district\":\"statewide\",\"stage\":\"gen\",\"special\":false,\"candidate\":\"SUSAN MARGARET COLLINS\",\"party_detailed\":\"REPUBLICAN\",\"writein\":false,\"mode\":\"total\",\"candidatevotes\":417645,\"totalvotes\":828305,\"unofficial\":false,\"version\":20210114,\"party_simplified\":\"REPUBLICAN\"},{\"year\":2020,\"state\":\"MAINE\",\"state_po\":\"ME\",\"state_fips\":23,\"state_cen\":11,\"state_ic\":2,\"office\":\"US SENATE\",\"district\":\"statewide\",\"stage\":\"gen\",\"special\":false,\"candidate\":\"SARA I. GIDEON\",\"party_detailed\":\"DEMOCRAT\",\"writein\":false,\"mode\":\"total\",\"candidatevotes\":347223,\"totalvotes\":828305,\"unofficial\":false,\"version\":20210114,\"party_simplified\":\"DEMOCRAT\"},{\"year\":2020,\"state\":\"MAINE\",\"state_po\":\"ME\",\"state_fips\":23,\"state_cen\":11,\"state_ic\":2,\"office\":\"US SENATE\",\"district\":\"statewide\",\"stage\":\"gen\",\"special\":false,\"candidate\":\"MAX PATRICK LINN\",\"party_detailed\":\"INDEPENDENT\",\"writein\":false,\"mode\":\"total\",\"candidatevotes\":13508,\"totalvotes\":828305,\"unofficial\":false,\"version\":20210114,\"party_simplified\":\"OTHER\"},{\"year\":2020,\"state\":\"MAINE\",\"state_po\":\"ME\",\"state_fips\":23,\"state_cen\":11,\"state_ic\":2,\"office\":\"US SENATE\",\"district\":\"statewide\",\"stage\":\"gen\",\"special\":false,\"candidate\":\"LISA SAVAGE\",\"party_detailed\":\"INDEPENDENT\",\"writein\":false,\"mode\":\"total\",\"candidatevotes\":40579,\"totalvotes\":828305,\"unofficial\":false,\"version\":20210114,\"party_simplified\":\"OTHER\"},{\"year\":2020,\"state\":\"MAINE\",\"state_po\":\"ME\",\"state_fips\":23,\"state_cen\":11,\"state_ic\":2,\"office\":\"US SENATE\",\"district\":\"statewide\",\"stage\":\"gen\",\"special\":false,\"candidate\":null,\"party_detailed\":null,\"writein\":true,\"mode\":\"total\",\"candidatevotes\":228,\"totalvotes\":828305,\"unofficial\":false,\"version\":20210114,\"party_simplified\":\"OTHER\"},{\"year\":2020,\"state\":\"MAINE\",\"state_po\":\"ME\",\"state_fips\":23,\"state_cen\":11,\"state_ic\":2,\"office\":\"US SENATE\",\"district\":\"statewide\",\"stage\":\"gen\",\"special\":false,\"candidate\":\"BLANK VOTES\",\"party_detailed\":null,\"writein\":false,\"mode\":\"total\",\"candidatevotes\":9122,\"totalvotes\":828305,\"unofficial\":false,\"version\":20210114,\"party_simplified\":\"OTHER\"},{\"year\":2020,\"state\":\"MASSACHUSETTS\",\"state_po\":\"MA\",\"state_fips\":25,\"state_cen\":14,\"state_ic\":3,\"office\":\"US SENATE\",\"district\":\"statewide\",\"stage\":\"gen\",\"special\":false,\"candidate\":\"EDWARD J. MARKEY\",\"party_detailed\":\"DEMOCRAT\",\"writein\":false,\"mode\":\"total\",\"candidatevotes\":2357809,\"totalvotes\":3658005,\"unofficial\":false,\"version\":20210114,\"party_simplified\":\"DEMOCRAT\"},{\"year\":2020,\"state\":\"MASSACHUSETTS\",\"state_po\":\"MA\",\"state_fips\":25,\"state_cen\":14,\"state_ic\":3,\"office\":\"US SENATE\",\"district\":\"statewide\",\"stage\":\"gen\",\"special\":false,\"candidate\":\"KEVIN J. O\\'CONNER\",\"party_detailed\":\"REPUBLICAN\",\"writein\":false,\"mode\":\"total\",\"candidatevotes\":1177765,\"totalvotes\":3658005,\"unofficial\":false,\"version\":20210114,\"party_simplified\":\"REPUBLICAN\"},{\"year\":2020,\"state\":\"MASSACHUSETTS\",\"state_po\":\"MA\",\"state_fips\":25,\"state_cen\":14,\"state_ic\":3,\"office\":\"US SENATE\",\"district\":\"statewide\",\"stage\":\"gen\",\"special\":false,\"candidate\":\"SHIVA AYYADURAI\",\"party_detailed\":null,\"writein\":false,\"mode\":\"total\",\"candidatevotes\":21134,\"totalvotes\":3658005,\"unofficial\":false,\"version\":20210114,\"party_simplified\":\"OTHER\"},{\"year\":2020,\"state\":\"MASSACHUSETTS\",\"state_po\":\"MA\",\"state_fips\":25,\"state_cen\":14,\"state_ic\":3,\"office\":\"US SENATE\",\"district\":\"statewide\",\"stage\":\"gen\",\"special\":false,\"candidate\":null,\"party_detailed\":null,\"writein\":true,\"mode\":\"total\",\"candidatevotes\":7428,\"totalvotes\":3658005,\"unofficial\":false,\"version\":20210114,\"party_simplified\":\"OTHER\"},{\"year\":2020,\"state\":\"MASSACHUSETTS\",\"state_po\":\"MA\",\"state_fips\":25,\"state_cen\":14,\"state_ic\":3,\"office\":\"US SENATE\",\"district\":\"statewide\",\"stage\":\"gen\",\"special\":false,\"candidate\":\"BLANK VOTES\",\"party_detailed\":null,\"writein\":false,\"mode\":\"total\",\"candidatevotes\":93869,\"totalvotes\":3658005,\"unofficial\":false,\"version\":20210114,\"party_simplified\":\"OTHER\"},{\"year\":2020,\"state\":\"MICHIGAN\",\"state_po\":\"MI\",\"state_fips\":26,\"state_cen\":34,\"state_ic\":23,\"office\":\"US SENATE\",\"district\":\"statewide\",\"stage\":\"gen\",\"special\":false,\"candidate\":\"GARY PETERS\",\"party_detailed\":\"DEMOCRAT\",\"writein\":false,\"mode\":\"total\",\"candidatevotes\":2734568,\"totalvotes\":5479720,\"unofficial\":false,\"version\":20210114,\"party_simplified\":\"DEMOCRAT\"},{\"year\":2020,\"state\":\"MICHIGAN\",\"state_po\":\"MI\",\"state_fips\":26,\"state_cen\":34,\"state_ic\":23,\"office\":\"US SENATE\",\"district\":\"statewide\",\"stage\":\"gen\",\"special\":false,\"candidate\":\"JOHN JAMES\",\"party_detailed\":\"REPUBLICAN\",\"writein\":false,\"mode\":\"total\",\"candidatevotes\":2642233,\"totalvotes\":5479720,\"unofficial\":false,\"version\":20210114,\"party_simplified\":\"REPUBLICAN\"},{\"year\":2020,\"state\":\"MICHIGAN\",\"state_po\":\"MI\",\"state_fips\":26,\"state_cen\":34,\"state_ic\":23,\"office\":\"US SENATE\",\"district\":\"statewide\",\"stage\":\"gen\",\"special\":false,\"candidate\":\"VALERIE L. WILLIS\",\"party_detailed\":\"US TAXPAYERS\",\"writein\":false,\"mode\":\"total\",\"candidatevotes\":50597,\"totalvotes\":5479720,\"unofficial\":false,\"version\":20210114,\"party_simplified\":\"OTHER\"},{\"year\":2020,\"state\":\"MICHIGAN\",\"state_po\":\"MI\",\"state_fips\":26,\"state_cen\":34,\"state_ic\":23,\"office\":\"US SENATE\",\"district\":\"statewide\",\"stage\":\"gen\",\"special\":false,\"candidate\":\"MARCIA SQUIER\",\"party_detailed\":\"GREEN\",\"writein\":false,\"mode\":\"total\",\"candidatevotes\":39217,\"totalvotes\":5479720,\"unofficial\":false,\"version\":20210114,\"party_simplified\":\"OTHER\"},{\"year\":2020,\"state\":\"MICHIGAN\",\"state_po\":\"MI\",\"state_fips\":26,\"state_cen\":34,\"state_ic\":23,\"office\":\"US SENATE\",\"district\":\"statewide\",\"stage\":\"gen\",\"special\":false,\"candidate\":\"DOUG DERN\",\"party_detailed\":\"NATURAL LAW\",\"writein\":false,\"mode\":\"total\",\"candidatevotes\":13093,\"totalvotes\":5479720,\"unofficial\":false,\"version\":20210114,\"party_simplified\":\"OTHER\"},{\"year\":2020,\"state\":\"MICHIGAN\",\"state_po\":\"MI\",\"state_fips\":26,\"state_cen\":34,\"state_ic\":23,\"office\":\"US SENATE\",\"district\":\"statewide\",\"stage\":\"gen\",\"special\":false,\"candidate\":\"ROBERT WILLIAM CARR\",\"party_detailed\":null,\"writein\":true,\"mode\":\"total\",\"candidatevotes\":5,\"totalvotes\":5479720,\"unofficial\":false,\"version\":20210114,\"party_simplified\":\"OTHER\"},{\"year\":2020,\"state\":\"MICHIGAN\",\"state_po\":\"MI\",\"state_fips\":26,\"state_cen\":34,\"state_ic\":23,\"office\":\"US SENATE\",\"district\":\"statewide\",\"stage\":\"gen\",\"special\":false,\"candidate\":\"LEONARD PAUL GADZINSKI\",\"party_detailed\":null,\"writein\":true,\"mode\":\"total\",\"candidatevotes\":7,\"totalvotes\":5479720,\"unofficial\":false,\"version\":20210114,\"party_simplified\":\"OTHER\"},{\"year\":2020,\"state\":\"MINNESOTA\",\"state_po\":\"MN\",\"state_fips\":27,\"state_cen\":41,\"state_ic\":33,\"office\":\"US SENATE\",\"district\":\"statewide\",\"stage\":\"gen\",\"special\":false,\"candidate\":\"KEVIN O\\'CONNOR\",\"party_detailed\":\"LEGAL MARIJUANA NOW\",\"writein\":false,\"mode\":\"total\",\"candidatevotes\":190154,\"totalvotes\":3214256,\"unofficial\":false,\"version\":20210114,\"party_simplified\":\"OTHER\"},{\"year\":2020,\"state\":\"MINNESOTA\",\"state_po\":\"MN\",\"state_fips\":27,\"state_cen\":41,\"state_ic\":33,\"office\":\"US SENATE\",\"district\":\"statewide\",\"stage\":\"gen\",\"special\":false,\"candidate\":\"OLIVER STEINBERG\",\"party_detailed\":\"GRASSROOTS\",\"writein\":false,\"mode\":\"total\",\"candidatevotes\":57174,\"totalvotes\":3214256,\"unofficial\":false,\"version\":20210114,\"party_simplified\":\"OTHER\"},{\"year\":2020,\"state\":\"MINNESOTA\",\"state_po\":\"MN\",\"state_fips\":27,\"state_cen\":41,\"state_ic\":33,\"office\":\"US SENATE\",\"district\":\"statewide\",\"stage\":\"gen\",\"special\":false,\"candidate\":\"JASON LEWIS\",\"party_detailed\":\"REPUBLICAN\",\"writein\":false,\"mode\":\"total\",\"candidatevotes\":1398145,\"totalvotes\":3214256,\"unofficial\":false,\"version\":20210114,\"party_simplified\":\"REPUBLICAN\"},{\"year\":2020,\"state\":\"MINNESOTA\",\"state_po\":\"MN\",\"state_fips\":27,\"state_cen\":41,\"state_ic\":33,\"office\":\"US SENATE\",\"district\":\"statewide\",\"stage\":\"gen\",\"special\":false,\"candidate\":\"TINA SMITH\",\"party_detailed\":\"DEMOCRAT\",\"writein\":false,\"mode\":\"total\",\"candidatevotes\":1566522,\"totalvotes\":3214256,\"unofficial\":false,\"version\":20210114,\"party_simplified\":\"DEMOCRAT\"},{\"year\":2020,\"state\":\"MINNESOTA\",\"state_po\":\"MN\",\"state_fips\":27,\"state_cen\":41,\"state_ic\":33,\"office\":\"US SENATE\",\"district\":\"statewide\",\"stage\":\"gen\",\"special\":false,\"candidate\":null,\"party_detailed\":null,\"writein\":true,\"mode\":\"total\",\"candidatevotes\":2261,\"totalvotes\":3214256,\"unofficial\":false,\"version\":20210114,\"party_simplified\":\"OTHER\"},{\"year\":2020,\"state\":\"MISSISSIPPI\",\"state_po\":\"MS\",\"state_fips\":28,\"state_cen\":64,\"state_ic\":46,\"office\":\"US SENATE\",\"district\":\"statewide\",\"stage\":\"gen\",\"special\":false,\"candidate\":\"MIKE ESPY\",\"party_detailed\":\"DEMOCRAT\",\"writein\":false,\"mode\":\"total\",\"candidatevotes\":578691,\"totalvotes\":1311354,\"unofficial\":false,\"version\":20210114,\"party_simplified\":\"DEMOCRAT\"},{\"year\":2020,\"state\":\"MISSISSIPPI\",\"state_po\":\"MS\",\"state_fips\":28,\"state_cen\":64,\"state_ic\":46,\"office\":\"US SENATE\",\"district\":\"statewide\",\"stage\":\"gen\",\"special\":false,\"candidate\":\"CINDY HYDE-SMITH\",\"party_detailed\":\"REPUBLICAN\",\"writein\":false,\"mode\":\"total\",\"candidatevotes\":709511,\"totalvotes\":1311354,\"unofficial\":false,\"version\":20210114,\"party_simplified\":\"REPUBLICAN\"},{\"year\":2020,\"state\":\"MISSISSIPPI\",\"state_po\":\"MS\",\"state_fips\":28,\"state_cen\":64,\"state_ic\":46,\"office\":\"US SENATE\",\"district\":\"statewide\",\"stage\":\"gen\",\"special\":false,\"candidate\":\"JIMMY L. EDWARDS\",\"party_detailed\":\"LIBERTARIAN\",\"writein\":false,\"mode\":\"total\",\"candidatevotes\":23152,\"totalvotes\":1311354,\"unofficial\":false,\"version\":20210114,\"party_simplified\":\"LIBERTARIAN\"},{\"year\":2020,\"state\":\"MONTANA\",\"state_po\":\"MT\",\"state_fips\":30,\"state_cen\":81,\"state_ic\":64,\"office\":\"US SENATE\",\"district\":\"statewide\",\"stage\":\"gen\",\"special\":false,\"candidate\":\"STEVE BULLOCK\",\"party_detailed\":\"DEMOCRAT\",\"writein\":false,\"mode\":\"total\",\"candidatevotes\":272463,\"totalvotes\":605637,\"unofficial\":false,\"version\":20210114,\"party_simplified\":\"DEMOCRAT\"},{\"year\":2020,\"state\":\"MONTANA\",\"state_po\":\"MT\",\"state_fips\":30,\"state_cen\":81,\"state_ic\":64,\"office\":\"US SENATE\",\"district\":\"statewide\",\"stage\":\"gen\",\"special\":false,\"candidate\":\"STEVE DAINES\",\"party_detailed\":\"REPUBLICAN\",\"writein\":false,\"mode\":\"total\",\"candidatevotes\":333174,\"totalvotes\":605637,\"unofficial\":false,\"version\":20210114,\"party_simplified\":\"REPUBLICAN\"},{\"year\":2020,\"state\":\"NEBRASKA\",\"state_po\":\"NE\",\"state_fips\":31,\"state_cen\":46,\"state_ic\":35,\"office\":\"US SENATE\",\"district\":\"statewide\",\"stage\":\"gen\",\"special\":false,\"candidate\":\"BEN SASSE\",\"party_detailed\":\"REPUBLICAN\",\"writein\":false,\"mode\":\"total\",\"candidatevotes\":583507,\"totalvotes\":930012,\"unofficial\":false,\"version\":20210114,\"party_simplified\":\"REPUBLICAN\"},{\"year\":2020,\"state\":\"NEBRASKA\",\"state_po\":\"NE\",\"state_fips\":31,\"state_cen\":46,\"state_ic\":35,\"office\":\"US SENATE\",\"district\":\"statewide\",\"stage\":\"gen\",\"special\":false,\"candidate\":\"CHRIS JANICEK\",\"party_detailed\":\"DEMOCRAT\",\"writein\":false,\"mode\":\"total\",\"candidatevotes\":227191,\"totalvotes\":930012,\"unofficial\":false,\"version\":20210114,\"party_simplified\":\"DEMOCRAT\"},{\"year\":2020,\"state\":\"NEBRASKA\",\"state_po\":\"NE\",\"state_fips\":31,\"state_cen\":46,\"state_ic\":35,\"office\":\"US SENATE\",\"district\":\"statewide\",\"stage\":\"gen\",\"special\":false,\"candidate\":\"GENE SIADEK\",\"party_detailed\":\"LIBERTARIAN\",\"writein\":false,\"mode\":\"total\",\"candidatevotes\":55115,\"totalvotes\":930012,\"unofficial\":false,\"version\":20210114,\"party_simplified\":\"LIBERTARIAN\"},{\"year\":2020,\"state\":\"NEBRASKA\",\"state_po\":\"NE\",\"state_fips\":31,\"state_cen\":46,\"state_ic\":35,\"office\":\"US SENATE\",\"district\":\"statewide\",\"stage\":\"gen\",\"special\":false,\"candidate\":\"PRESTON LOVE JR.\",\"party_detailed\":null,\"writein\":true,\"mode\":\"total\",\"candidatevotes\":58411,\"totalvotes\":930012,\"unofficial\":false,\"version\":20210114,\"party_simplified\":\"OTHER\"},{\"year\":2020,\"state\":\"NEBRASKA\",\"state_po\":\"NE\",\"state_fips\":31,\"state_cen\":46,\"state_ic\":35,\"office\":\"US SENATE\",\"district\":\"statewide\",\"stage\":\"gen\",\"special\":false,\"candidate\":null,\"party_detailed\":null,\"writein\":true,\"mode\":\"total\",\"candidatevotes\":5788,\"totalvotes\":930012,\"unofficial\":false,\"version\":20210114,\"party_simplified\":\"OTHER\"},{\"year\":2020,\"state\":\"NEW HAMPSHIRE\",\"state_po\":\"NH\",\"state_fips\":33,\"state_cen\":12,\"state_ic\":4,\"office\":\"US SENATE\",\"district\":\"statewide\",\"stage\":\"gen\",\"special\":false,\"candidate\":\"CORKY MESSNER\",\"party_detailed\":\"REPUBLICAN\",\"writein\":false,\"mode\":\"total\",\"candidatevotes\":326229,\"totalvotes\":795914,\"unofficial\":false,\"version\":20210114,\"party_simplified\":\"REPUBLICAN\"},{\"year\":2020,\"state\":\"NEW HAMPSHIRE\",\"state_po\":\"NH\",\"state_fips\":33,\"state_cen\":12,\"state_ic\":4,\"office\":\"US SENATE\",\"district\":\"statewide\",\"stage\":\"gen\",\"special\":false,\"candidate\":\"JEANNE SHAHEEN\",\"party_detailed\":\"DEMOCRAT\",\"writein\":false,\"mode\":\"total\",\"candidatevotes\":450778,\"totalvotes\":795914,\"unofficial\":false,\"version\":20210114,\"party_simplified\":\"DEMOCRAT\"},{\"year\":2020,\"state\":\"NEW HAMPSHIRE\",\"state_po\":\"NH\",\"state_fips\":33,\"state_cen\":12,\"state_ic\":4,\"office\":\"US SENATE\",\"district\":\"statewide\",\"stage\":\"gen\",\"special\":false,\"candidate\":\"JUSTIN O\\'DONNELL\",\"party_detailed\":\"LIBERTARIAN\",\"writein\":false,\"mode\":\"total\",\"candidatevotes\":18421,\"totalvotes\":795914,\"unofficial\":false,\"version\":20210114,\"party_simplified\":\"LIBERTARIAN\"},{\"year\":2020,\"state\":\"NEW HAMPSHIRE\",\"state_po\":\"NH\",\"state_fips\":33,\"state_cen\":12,\"state_ic\":4,\"office\":\"US SENATE\",\"district\":\"statewide\",\"stage\":\"gen\",\"special\":false,\"candidate\":null,\"party_detailed\":null,\"writein\":true,\"mode\":\"total\",\"candidatevotes\":486,\"totalvotes\":795914,\"unofficial\":false,\"version\":20210114,\"party_simplified\":\"OTHER\"},{\"year\":2020,\"state\":\"NEW JERSEY\",\"state_po\":\"NJ\",\"state_fips\":34,\"state_cen\":22,\"state_ic\":12,\"office\":\"US SENATE\",\"district\":\"statewide\",\"stage\":\"gen\",\"special\":false,\"candidate\":\"CORY BOOKER\",\"party_detailed\":\"DEMOCRAT\",\"writein\":false,\"mode\":\"total\",\"candidatevotes\":2541178,\"totalvotes\":4440440,\"unofficial\":false,\"version\":20210114,\"party_simplified\":\"DEMOCRAT\"},{\"year\":2020,\"state\":\"NEW JERSEY\",\"state_po\":\"NJ\",\"state_fips\":34,\"state_cen\":22,\"state_ic\":12,\"office\":\"US SENATE\",\"district\":\"statewide\",\"stage\":\"gen\",\"special\":false,\"candidate\":\"RIKIN \\\\\"RIK\\\\\" MEHTA\",\"party_detailed\":\"REPUBLICAN\",\"writein\":false,\"mode\":\"total\",\"candidatevotes\":1817052,\"totalvotes\":4440440,\"unofficial\":false,\"version\":20210114,\"party_simplified\":\"REPUBLICAN\"},{\"year\":2020,\"state\":\"NEW JERSEY\",\"state_po\":\"NJ\",\"state_fips\":34,\"state_cen\":22,\"state_ic\":12,\"office\":\"US SENATE\",\"district\":\"statewide\",\"stage\":\"gen\",\"special\":false,\"candidate\":\"MADELYN R. HOFFMAN\",\"party_detailed\":\"GREEN\",\"writein\":false,\"mode\":\"total\",\"candidatevotes\":38288,\"totalvotes\":4440440,\"unofficial\":false,\"version\":20210114,\"party_simplified\":\"OTHER\"},{\"year\":2020,\"state\":\"NEW JERSEY\",\"state_po\":\"NJ\",\"state_fips\":34,\"state_cen\":22,\"state_ic\":12,\"office\":\"US SENATE\",\"district\":\"statewide\",\"stage\":\"gen\",\"special\":false,\"candidate\":\"VERONICA FERNANDEZ\",\"party_detailed\":\"OF, BY, FOR!\",\"writein\":false,\"mode\":\"total\",\"candidatevotes\":32290,\"totalvotes\":4440440,\"unofficial\":false,\"version\":20210114,\"party_simplified\":\"OTHER\"},{\"year\":2020,\"state\":\"NEW JERSEY\",\"state_po\":\"NJ\",\"state_fips\":34,\"state_cen\":22,\"state_ic\":12,\"office\":\"US SENATE\",\"district\":\"statewide\",\"stage\":\"gen\",\"special\":false,\"candidate\":\"DANIEL BURKE\",\"party_detailed\":\"LAROUCHE WAS RIGHT\",\"writein\":false,\"mode\":\"total\",\"candidatevotes\":11632,\"totalvotes\":4440440,\"unofficial\":false,\"version\":20210114,\"party_simplified\":\"OTHER\"},{\"year\":2020,\"state\":\"NEW MEXICO\",\"state_po\":\"NM\",\"state_fips\":35,\"state_cen\":85,\"state_ic\":66,\"office\":\"US SENATE\",\"district\":\"statewide\",\"stage\":\"gen\",\"special\":false,\"candidate\":\"BOB WALSH\",\"party_detailed\":\"LIBERTARIAN\",\"writein\":false,\"mode\":\"total\",\"candidatevotes\":24271,\"totalvotes\":917237,\"unofficial\":false,\"version\":20210114,\"party_simplified\":\"LIBERTARIAN\"},{\"year\":2020,\"state\":\"NEW MEXICO\",\"state_po\":\"NM\",\"state_fips\":35,\"state_cen\":85,\"state_ic\":66,\"office\":\"US SENATE\",\"district\":\"statewide\",\"stage\":\"gen\",\"special\":false,\"candidate\":\"MARK V. RONCHETTI\",\"party_detailed\":\"REPUBLICAN\",\"writein\":false,\"mode\":\"total\",\"candidatevotes\":418483,\"totalvotes\":917237,\"unofficial\":false,\"version\":20210114,\"party_simplified\":\"REPUBLICAN\"},{\"year\":2020,\"state\":\"NEW MEXICO\",\"state_po\":\"NM\",\"state_fips\":35,\"state_cen\":85,\"state_ic\":66,\"office\":\"US SENATE\",\"district\":\"statewide\",\"stage\":\"gen\",\"special\":false,\"candidate\":\"BEN R. LUJAN\",\"party_detailed\":\"DEMOCRAT\",\"writein\":false,\"mode\":\"total\",\"candidatevotes\":474483,\"totalvotes\":917237,\"unofficial\":false,\"version\":20210114,\"party_simplified\":\"DEMOCRAT\"},{\"year\":2020,\"state\":\"NORTH CAROLINA\",\"state_po\":\"NC\",\"state_fips\":37,\"state_cen\":56,\"state_ic\":47,\"office\":\"US SENATE\",\"district\":\"statewide\",\"stage\":\"gen\",\"special\":false,\"candidate\":\"THOM TILLIS\",\"party_detailed\":\"REPUBLICAN\",\"writein\":false,\"mode\":\"total\",\"candidatevotes\":2665598,\"totalvotes\":5474952,\"unofficial\":false,\"version\":20210114,\"party_simplified\":\"REPUBLICAN\"},{\"year\":2020,\"state\":\"NORTH CAROLINA\",\"state_po\":\"NC\",\"state_fips\":37,\"state_cen\":56,\"state_ic\":47,\"office\":\"US SENATE\",\"district\":\"statewide\",\"stage\":\"gen\",\"special\":false,\"candidate\":\"CAL CUNNINGHAM\",\"party_detailed\":\"DEMOCRAT\",\"writein\":false,\"mode\":\"total\",\"candidatevotes\":2569965,\"totalvotes\":5474952,\"unofficial\":false,\"version\":20210114,\"party_simplified\":\"DEMOCRAT\"},{\"year\":2020,\"state\":\"NORTH CAROLINA\",\"state_po\":\"NC\",\"state_fips\":37,\"state_cen\":56,\"state_ic\":47,\"office\":\"US SENATE\",\"district\":\"statewide\",\"stage\":\"gen\",\"special\":false,\"candidate\":\"SHANNON W. BRAY\",\"party_detailed\":\"LIBERTARIAN\",\"writein\":false,\"mode\":\"total\",\"candidatevotes\":171571,\"totalvotes\":5474952,\"unofficial\":false,\"version\":20210114,\"party_simplified\":\"LIBERTARIAN\"},{\"year\":2020,\"state\":\"NORTH CAROLINA\",\"state_po\":\"NC\",\"state_fips\":37,\"state_cen\":56,\"state_ic\":47,\"office\":\"US SENATE\",\"district\":\"statewide\",\"stage\":\"gen\",\"special\":false,\"candidate\":\"KEVIN E. HAYES\",\"party_detailed\":\"CONSTITUTION PARTY\",\"writein\":false,\"mode\":\"total\",\"candidatevotes\":67818,\"totalvotes\":5474952,\"unofficial\":false,\"version\":20210114,\"party_simplified\":\"OTHER\"},{\"year\":2020,\"state\":\"OKLAHOMA\",\"state_po\":\"OK\",\"state_fips\":40,\"state_cen\":73,\"state_ic\":53,\"office\":\"US SENATE\",\"district\":\"statewide\",\"stage\":\"gen\",\"special\":false,\"candidate\":\"JIM INHOFE \",\"party_detailed\":\"REPUBLICAN\",\"writein\":false,\"mode\":\"total\",\"candidatevotes\":979140,\"totalvotes\":1556361,\"unofficial\":false,\"version\":20210114,\"party_simplified\":\"REPUBLICAN\"},{\"year\":2020,\"state\":\"OKLAHOMA\",\"state_po\":\"OK\",\"state_fips\":40,\"state_cen\":73,\"state_ic\":53,\"office\":\"US SENATE\",\"district\":\"statewide\",\"stage\":\"gen\",\"special\":false,\"candidate\":\"ROBERT MURPHY\",\"party_detailed\":\"LIBERTARIAN\",\"writein\":false,\"mode\":\"total\",\"candidatevotes\":34435,\"totalvotes\":1556361,\"unofficial\":false,\"version\":20210114,\"party_simplified\":\"LIBERTARIAN\"},{\"year\":2020,\"state\":\"OKLAHOMA\",\"state_po\":\"OK\",\"state_fips\":40,\"state_cen\":73,\"state_ic\":53,\"office\":\"US SENATE\",\"district\":\"statewide\",\"stage\":\"gen\",\"special\":false,\"candidate\":\"ABBY BROYLES\",\"party_detailed\":\"DEMOCRAT\",\"writein\":false,\"mode\":\"total\",\"candidatevotes\":509763,\"totalvotes\":1556361,\"unofficial\":false,\"version\":20210114,\"party_simplified\":\"DEMOCRAT\"},{\"year\":2020,\"state\":\"OKLAHOMA\",\"state_po\":\"OK\",\"state_fips\":40,\"state_cen\":73,\"state_ic\":53,\"office\":\"US SENATE\",\"district\":\"statewide\",\"stage\":\"gen\",\"special\":false,\"candidate\":\"JOAN FARR\",\"party_detailed\":\"INDEPENDENT\",\"writein\":false,\"mode\":\"total\",\"candidatevotes\":21652,\"totalvotes\":1556361,\"unofficial\":false,\"version\":20210114,\"party_simplified\":\"OTHER\"},{\"year\":2020,\"state\":\"OKLAHOMA\",\"state_po\":\"OK\",\"state_fips\":40,\"state_cen\":73,\"state_ic\":53,\"office\":\"US SENATE\",\"district\":\"statewide\",\"stage\":\"gen\",\"special\":false,\"candidate\":\"A. D. NESBIT\",\"party_detailed\":\"INDEPENDENT\",\"writein\":false,\"mode\":\"total\",\"candidatevotes\":11371,\"totalvotes\":1556361,\"unofficial\":false,\"version\":20210114,\"party_simplified\":\"OTHER\"},{\"year\":2020,\"state\":\"OREGON\",\"state_po\":\"OR\",\"state_fips\":41,\"state_cen\":92,\"state_ic\":72,\"office\":\"US SENATE\",\"district\":\"statewide\",\"stage\":\"gen\",\"special\":false,\"candidate\":\"JO RAE PERKINS\",\"party_detailed\":\"REPUBLICAN\",\"writein\":false,\"mode\":\"total\",\"candidatevotes\":912814,\"totalvotes\":2321249,\"unofficial\":false,\"version\":20210114,\"party_simplified\":\"REPUBLICAN\"},{\"year\":2020,\"state\":\"OREGON\",\"state_po\":\"OR\",\"state_fips\":41,\"state_cen\":92,\"state_ic\":72,\"office\":\"US SENATE\",\"district\":\"statewide\",\"stage\":\"gen\",\"special\":false,\"candidate\":\"JEFF MERKLEY\",\"party_detailed\":\"DEMOCRAT\",\"writein\":false,\"mode\":\"total\",\"candidatevotes\":1321047,\"totalvotes\":2321249,\"unofficial\":false,\"version\":20210114,\"party_simplified\":\"DEMOCRAT\"},{\"year\":2020,\"state\":\"OREGON\",\"state_po\":\"OR\",\"state_fips\":41,\"state_cen\":92,\"state_ic\":72,\"office\":\"US SENATE\",\"district\":\"statewide\",\"stage\":\"gen\",\"special\":false,\"candidate\":\"IBRAHIM A TAHER\",\"party_detailed\":\"PACIFIC GREEN\",\"writein\":false,\"mode\":\"total\",\"candidatevotes\":42239,\"totalvotes\":2321249,\"unofficial\":false,\"version\":20210114,\"party_simplified\":\"OTHER\"},{\"year\":2020,\"state\":\"OREGON\",\"state_po\":\"OR\",\"state_fips\":41,\"state_cen\":92,\"state_ic\":72,\"office\":\"US SENATE\",\"district\":\"statewide\",\"stage\":\"gen\",\"special\":false,\"candidate\":\"GARY DYE\",\"party_detailed\":\"LIBERTARIAN\",\"writein\":false,\"mode\":\"total\",\"candidatevotes\":42747,\"totalvotes\":2321249,\"unofficial\":false,\"version\":20210114,\"party_simplified\":\"LIBERTARIAN\"},{\"year\":2020,\"state\":\"OREGON\",\"state_po\":\"OR\",\"state_fips\":41,\"state_cen\":92,\"state_ic\":72,\"office\":\"US SENATE\",\"district\":\"statewide\",\"stage\":\"gen\",\"special\":false,\"candidate\":null,\"party_detailed\":null,\"writein\":true,\"mode\":\"total\",\"candidatevotes\":2402,\"totalvotes\":2321249,\"unofficial\":false,\"version\":20210114,\"party_simplified\":\"OTHER\"},{\"year\":2020,\"state\":\"RHODE ISLAND\",\"state_po\":\"RI\",\"state_fips\":44,\"state_cen\":15,\"state_ic\":5,\"office\":\"US SENATE\",\"district\":\"statewide\",\"stage\":\"gen\",\"special\":false,\"candidate\":\"JOHN F. REED\",\"party_detailed\":\"DEMOCRAT\",\"writein\":false,\"mode\":\"total\",\"candidatevotes\":328574,\"totalvotes\":494262,\"unofficial\":false,\"version\":20210114,\"party_simplified\":\"DEMOCRAT\"},{\"year\":2020,\"state\":\"RHODE ISLAND\",\"state_po\":\"RI\",\"state_fips\":44,\"state_cen\":15,\"state_ic\":5,\"office\":\"US SENATE\",\"district\":\"statewide\",\"stage\":\"gen\",\"special\":false,\"candidate\":\"ALLEN R. WATERS\",\"party_detailed\":\"REPUBLICAN\",\"writein\":false,\"mode\":\"total\",\"candidatevotes\":164855,\"totalvotes\":494262,\"unofficial\":false,\"version\":20210114,\"party_simplified\":\"REPUBLICAN\"},{\"year\":2020,\"state\":\"RHODE ISLAND\",\"state_po\":\"RI\",\"state_fips\":44,\"state_cen\":15,\"state_ic\":5,\"office\":\"US SENATE\",\"district\":\"statewide\",\"stage\":\"gen\",\"special\":false,\"candidate\":null,\"party_detailed\":null,\"writein\":true,\"mode\":\"total\",\"candidatevotes\":833,\"totalvotes\":494262,\"unofficial\":false,\"version\":20210114,\"party_simplified\":\"OTHER\"},{\"year\":2020,\"state\":\"SOUTH CAROLINA\",\"state_po\":\"SC\",\"state_fips\":45,\"state_cen\":57,\"state_ic\":48,\"office\":\"US SENATE\",\"district\":\"statewide\",\"stage\":\"gen\",\"special\":false,\"candidate\":\"BILL BLEDSOE\",\"party_detailed\":\"CONSTITUTION PARTY\",\"writein\":false,\"mode\":\"total\",\"candidatevotes\":32845,\"totalvotes\":2515104,\"unofficial\":false,\"version\":20210114,\"party_simplified\":\"OTHER\"},{\"year\":2020,\"state\":\"SOUTH CAROLINA\",\"state_po\":\"SC\",\"state_fips\":45,\"state_cen\":57,\"state_ic\":48,\"office\":\"US SENATE\",\"district\":\"statewide\",\"stage\":\"gen\",\"special\":false,\"candidate\":\"LINDSEY GRAHAM\",\"party_detailed\":\"REPUBLICAN\",\"writein\":false,\"mode\":\"total\",\"candidatevotes\":1369137,\"totalvotes\":2515104,\"unofficial\":false,\"version\":20210114,\"party_simplified\":\"REPUBLICAN\"},{\"year\":2020,\"state\":\"SOUTH CAROLINA\",\"state_po\":\"SC\",\"state_fips\":45,\"state_cen\":57,\"state_ic\":48,\"office\":\"US SENATE\",\"district\":\"statewide\",\"stage\":\"gen\",\"special\":false,\"candidate\":\"JAIME HARRISON\",\"party_detailed\":\"DEMOCRAT\",\"writein\":false,\"mode\":\"total\",\"candidatevotes\":1110828,\"totalvotes\":2515104,\"unofficial\":false,\"version\":20210114,\"party_simplified\":\"DEMOCRAT\"},{\"year\":2020,\"state\":\"SOUTH CAROLINA\",\"state_po\":\"SC\",\"state_fips\":45,\"state_cen\":57,\"state_ic\":48,\"office\":\"US SENATE\",\"district\":\"statewide\",\"stage\":\"gen\",\"special\":false,\"candidate\":null,\"party_detailed\":null,\"writein\":true,\"mode\":\"total\",\"candidatevotes\":2294,\"totalvotes\":2515104,\"unofficial\":false,\"version\":20210114,\"party_simplified\":\"OTHER\"},{\"year\":2020,\"state\":\"SOUTH DAKOTA\",\"state_po\":\"SD\",\"state_fips\":46,\"state_cen\":45,\"state_ic\":37,\"office\":\"US SENATE\",\"district\":\"statewide\",\"stage\":\"gen\",\"special\":false,\"candidate\":\"MIKE ROUNDS\",\"party_detailed\":\"REPUBLICAN\",\"writein\":false,\"mode\":\"total\",\"candidatevotes\":276232,\"totalvotes\":420219,\"unofficial\":true,\"version\":20210114,\"party_simplified\":\"REPUBLICAN\"},{\"year\":2020,\"state\":\"SOUTH DAKOTA\",\"state_po\":\"SD\",\"state_fips\":46,\"state_cen\":45,\"state_ic\":37,\"office\":\"US SENATE\",\"district\":\"statewide\",\"stage\":\"gen\",\"special\":false,\"candidate\":\"DAN AHLERS\",\"party_detailed\":\"DEMOCRAT\",\"writein\":false,\"mode\":\"total\",\"candidatevotes\":143987,\"totalvotes\":420219,\"unofficial\":true,\"version\":20210114,\"party_simplified\":\"DEMOCRAT\"},{\"year\":2020,\"state\":\"TENNESSEE\",\"state_po\":\"TN\",\"state_fips\":47,\"state_cen\":62,\"state_ic\":54,\"office\":\"US SENATE\",\"district\":\"statewide\",\"stage\":\"gen\",\"special\":false,\"candidate\":\"BILL HAGERTY\",\"party_detailed\":\"REPUBLICAN\",\"writein\":false,\"mode\":\"total\",\"candidatevotes\":1840926,\"totalvotes\":2959761,\"unofficial\":false,\"version\":20210114,\"party_simplified\":\"REPUBLICAN\"},{\"year\":2020,\"state\":\"TENNESSEE\",\"state_po\":\"TN\",\"state_fips\":47,\"state_cen\":62,\"state_ic\":54,\"office\":\"US SENATE\",\"district\":\"statewide\",\"stage\":\"gen\",\"special\":false,\"candidate\":\"MARQUITA BRADSHAW\",\"party_detailed\":\"DEMOCRAT\",\"writein\":false,\"mode\":\"total\",\"candidatevotes\":1040691,\"totalvotes\":2959761,\"unofficial\":false,\"version\":20210114,\"party_simplified\":\"DEMOCRAT\"},{\"year\":2020,\"state\":\"TENNESSEE\",\"state_po\":\"TN\",\"state_fips\":47,\"state_cen\":62,\"state_ic\":54,\"office\":\"US SENATE\",\"district\":\"statewide\",\"stage\":\"gen\",\"special\":false,\"candidate\":\"YOMI \\\\\"FAPAS\\\\\" FAPARUSI SR.\",\"party_detailed\":\"INDEPENDENT\",\"writein\":false,\"mode\":\"total\",\"candidatevotes\":10727,\"totalvotes\":2959761,\"unofficial\":false,\"version\":20210114,\"party_simplified\":\"OTHER\"},{\"year\":2020,\"state\":\"TENNESSEE\",\"state_po\":\"TN\",\"state_fips\":47,\"state_cen\":62,\"state_ic\":54,\"office\":\"US SENATE\",\"district\":\"statewide\",\"stage\":\"gen\",\"special\":false,\"candidate\":\"JEFFREY ALAN GRUNAU\",\"party_detailed\":\"INDEPENDENT\",\"writein\":false,\"mode\":\"total\",\"candidatevotes\":4160,\"totalvotes\":2959761,\"unofficial\":false,\"version\":20210114,\"party_simplified\":\"OTHER\"},{\"year\":2020,\"state\":\"TENNESSEE\",\"state_po\":\"TN\",\"state_fips\":47,\"state_cen\":62,\"state_ic\":54,\"office\":\"US SENATE\",\"district\":\"statewide\",\"stage\":\"gen\",\"special\":false,\"candidate\":\"RONNIE HENLEY\",\"party_detailed\":\"INDEPENDENT\",\"writein\":false,\"mode\":\"total\",\"candidatevotes\":8478,\"totalvotes\":2959761,\"unofficial\":false,\"version\":20210114,\"party_simplified\":\"OTHER\"},{\"year\":2020,\"state\":\"TENNESSEE\",\"state_po\":\"TN\",\"state_fips\":47,\"state_cen\":62,\"state_ic\":54,\"office\":\"US SENATE\",\"district\":\"statewide\",\"stage\":\"gen\",\"special\":false,\"candidate\":\"G. DEAN HILL\",\"party_detailed\":\"INDEPENDENT\",\"writein\":false,\"mode\":\"total\",\"candidatevotes\":4872,\"totalvotes\":2959761,\"unofficial\":false,\"version\":20210114,\"party_simplified\":\"OTHER\"},{\"year\":2020,\"state\":\"TENNESSEE\",\"state_po\":\"TN\",\"state_fips\":47,\"state_cen\":62,\"state_ic\":54,\"office\":\"US SENATE\",\"district\":\"statewide\",\"stage\":\"gen\",\"special\":false,\"candidate\":\"STEVEN J. HOOPER\",\"party_detailed\":\"INDEPENDENT\",\"writein\":false,\"mode\":\"total\",\"candidatevotes\":9609,\"totalvotes\":2959761,\"unofficial\":false,\"version\":20210114,\"party_simplified\":\"OTHER\"},{\"year\":2020,\"state\":\"TENNESSEE\",\"state_po\":\"TN\",\"state_fips\":47,\"state_cen\":62,\"state_ic\":54,\"office\":\"US SENATE\",\"district\":\"statewide\",\"stage\":\"gen\",\"special\":false,\"candidate\":\"AARON JAMES\",\"party_detailed\":\"INDEPENDENT\",\"writein\":false,\"mode\":\"total\",\"candidatevotes\":7203,\"totalvotes\":2959761,\"unofficial\":false,\"version\":20210114,\"party_simplified\":\"OTHER\"},{\"year\":2020,\"state\":\"TENNESSEE\",\"state_po\":\"TN\",\"state_fips\":47,\"state_cen\":62,\"state_ic\":54,\"office\":\"US SENATE\",\"district\":\"statewide\",\"stage\":\"gen\",\"special\":false,\"candidate\":\"ELIZABETH MCLEOD\",\"party_detailed\":\"INDEPENDENT\",\"writein\":false,\"mode\":\"total\",\"candidatevotes\":16652,\"totalvotes\":2959761,\"unofficial\":false,\"version\":20210114,\"party_simplified\":\"OTHER\"},{\"year\":2020,\"state\":\"TENNESSEE\",\"state_po\":\"TN\",\"state_fips\":47,\"state_cen\":62,\"state_ic\":54,\"office\":\"US SENATE\",\"district\":\"statewide\",\"stage\":\"gen\",\"special\":false,\"candidate\":\"KACEY MORGAN\",\"party_detailed\":\"INDEPENDENT\",\"writein\":false,\"mode\":\"total\",\"candidatevotes\":9598,\"totalvotes\":2959761,\"unofficial\":false,\"version\":20210114,\"party_simplified\":\"OTHER\"},{\"year\":2020,\"state\":\"TENNESSEE\",\"state_po\":\"TN\",\"state_fips\":47,\"state_cen\":62,\"state_ic\":54,\"office\":\"US SENATE\",\"district\":\"statewide\",\"stage\":\"gen\",\"special\":false,\"candidate\":\"ERIC WILLIAM STANSBERRY\",\"party_detailed\":\"INDEPENDENT\",\"writein\":false,\"mode\":\"total\",\"candidatevotes\":6781,\"totalvotes\":2959761,\"unofficial\":false,\"version\":20210114,\"party_simplified\":\"OTHER\"},{\"year\":2020,\"state\":\"TENNESSEE\",\"state_po\":\"TN\",\"state_fips\":47,\"state_cen\":62,\"state_ic\":54,\"office\":\"US SENATE\",\"district\":\"statewide\",\"stage\":\"gen\",\"special\":false,\"candidate\":\"JOHN A. GENTRY\",\"party_detailed\":null,\"writein\":true,\"mode\":\"total\",\"candidatevotes\":64,\"totalvotes\":2959761,\"unofficial\":false,\"version\":20210114,\"party_simplified\":\"OTHER\"},{\"year\":2020,\"state\":\"TEXAS\",\"state_po\":\"TX\",\"state_fips\":48,\"state_cen\":74,\"state_ic\":49,\"office\":\"US SENATE\",\"district\":\"statewide\",\"stage\":\"gen\",\"special\":false,\"candidate\":\"JOHN CORNYN\",\"party_detailed\":\"REPUBLICAN\",\"writein\":false,\"mode\":\"total\",\"candidatevotes\":5962983,\"totalvotes\":11144040,\"unofficial\":false,\"version\":20210114,\"party_simplified\":\"REPUBLICAN\"},{\"year\":2020,\"state\":\"TEXAS\",\"state_po\":\"TX\",\"state_fips\":48,\"state_cen\":74,\"state_ic\":49,\"office\":\"US SENATE\",\"district\":\"statewide\",\"stage\":\"gen\",\"special\":false,\"candidate\":\"MARY \\\\\"MJ\\\\\" HEGAR\",\"party_detailed\":\"DEMOCRAT\",\"writein\":false,\"mode\":\"total\",\"candidatevotes\":4888764,\"totalvotes\":11144040,\"unofficial\":false,\"version\":20210114,\"party_simplified\":\"DEMOCRAT\"},{\"year\":2020,\"state\":\"TEXAS\",\"state_po\":\"TX\",\"state_fips\":48,\"state_cen\":74,\"state_ic\":49,\"office\":\"US SENATE\",\"district\":\"statewide\",\"stage\":\"gen\",\"special\":false,\"candidate\":\"KERRY DOUGLAS MCKENNON\",\"party_detailed\":\"LIBERTARIAN\",\"writein\":false,\"mode\":\"total\",\"candidatevotes\":209722,\"totalvotes\":11144040,\"unofficial\":false,\"version\":20210114,\"party_simplified\":\"LIBERTARIAN\"},{\"year\":2020,\"state\":\"TEXAS\",\"state_po\":\"TX\",\"state_fips\":48,\"state_cen\":74,\"state_ic\":49,\"office\":\"US SENATE\",\"district\":\"statewide\",\"stage\":\"gen\",\"special\":false,\"candidate\":\"DAVID B. COLLINS\",\"party_detailed\":\"GREEN\",\"writein\":false,\"mode\":\"total\",\"candidatevotes\":81893,\"totalvotes\":11144040,\"unofficial\":false,\"version\":20210114,\"party_simplified\":\"OTHER\"},{\"year\":2020,\"state\":\"TEXAS\",\"state_po\":\"TX\",\"state_fips\":48,\"state_cen\":74,\"state_ic\":49,\"office\":\"US SENATE\",\"district\":\"statewide\",\"stage\":\"gen\",\"special\":false,\"candidate\":\"RICARDO TURULLOLS-BONILLA\",\"party_detailed\":null,\"writein\":true,\"mode\":\"total\",\"candidatevotes\":678,\"totalvotes\":11144040,\"unofficial\":false,\"version\":20210114,\"party_simplified\":\"OTHER\"},{\"year\":2020,\"state\":\"VIRGINIA\",\"state_po\":\"VA\",\"state_fips\":51,\"state_cen\":54,\"state_ic\":40,\"office\":\"US SENATE\",\"district\":\"statewide\",\"stage\":\"gen\",\"special\":false,\"candidate\":\"MARK R. WARNER\",\"party_detailed\":\"DEMOCRAT\",\"writein\":false,\"mode\":\"total\",\"candidatevotes\":2466500,\"totalvotes\":4405087,\"unofficial\":false,\"version\":20210114,\"party_simplified\":\"DEMOCRAT\"},{\"year\":2020,\"state\":\"VIRGINIA\",\"state_po\":\"VA\",\"state_fips\":51,\"state_cen\":54,\"state_ic\":40,\"office\":\"US SENATE\",\"district\":\"statewide\",\"stage\":\"gen\",\"special\":false,\"candidate\":\"DANIEL M. GADE\",\"party_detailed\":\"REPUBLICAN\",\"writein\":false,\"mode\":\"total\",\"candidatevotes\":1934199,\"totalvotes\":4405087,\"unofficial\":false,\"version\":20210114,\"party_simplified\":\"REPUBLICAN\"},{\"year\":2020,\"state\":\"VIRGINIA\",\"state_po\":\"VA\",\"state_fips\":51,\"state_cen\":54,\"state_ic\":40,\"office\":\"US SENATE\",\"district\":\"statewide\",\"stage\":\"gen\",\"special\":false,\"candidate\":null,\"party_detailed\":null,\"writein\":true,\"mode\":\"total\",\"candidatevotes\":4388,\"totalvotes\":4405087,\"unofficial\":false,\"version\":20210114,\"party_simplified\":\"OTHER\"},{\"year\":2020,\"state\":\"WEST VIRGINIA\",\"state_po\":\"WV\",\"state_fips\":54,\"state_cen\":55,\"state_ic\":56,\"office\":\"US SENATE\",\"district\":\"statewide\",\"stage\":\"gen\",\"special\":false,\"candidate\":\"SHELLEY MOORE CAPITO\",\"party_detailed\":\"REPUBLICAN\",\"writein\":false,\"mode\":\"total\",\"candidatevotes\":547454,\"totalvotes\":778918,\"unofficial\":false,\"version\":20210114,\"party_simplified\":\"REPUBLICAN\"},{\"year\":2020,\"state\":\"WEST VIRGINIA\",\"state_po\":\"WV\",\"state_fips\":54,\"state_cen\":55,\"state_ic\":56,\"office\":\"US SENATE\",\"district\":\"statewide\",\"stage\":\"gen\",\"special\":false,\"candidate\":\"PAULA JEAN SWEARENGIN\",\"party_detailed\":\"DEMOCRAT\",\"writein\":false,\"mode\":\"total\",\"candidatevotes\":210309,\"totalvotes\":778918,\"unofficial\":false,\"version\":20210114,\"party_simplified\":\"DEMOCRAT\"},{\"year\":2020,\"state\":\"WEST VIRGINIA\",\"state_po\":\"WV\",\"state_fips\":54,\"state_cen\":55,\"state_ic\":56,\"office\":\"US SENATE\",\"district\":\"statewide\",\"stage\":\"gen\",\"special\":false,\"candidate\":\"DAVID MORAN\",\"party_detailed\":\"LIBERTARIAN\",\"writein\":false,\"mode\":\"total\",\"candidatevotes\":21155,\"totalvotes\":778918,\"unofficial\":false,\"version\":20210114,\"party_simplified\":\"LIBERTARIAN\"},{\"year\":2020,\"state\":\"WYOMING\",\"state_po\":\"WY\",\"state_fips\":56,\"state_cen\":83,\"state_ic\":68,\"office\":\"US SENATE\",\"district\":\"statewide\",\"stage\":\"gen\",\"special\":false,\"candidate\":\"CYNTHIA M. LUMMIS\",\"party_detailed\":null,\"writein\":false,\"mode\":\"total\",\"candidatevotes\":198100,\"totalvotes\":278503,\"unofficial\":false,\"version\":20210114,\"party_simplified\":\"OTHER\"},{\"year\":2020,\"state\":\"WYOMING\",\"state_po\":\"WY\",\"state_fips\":56,\"state_cen\":83,\"state_ic\":68,\"office\":\"US SENATE\",\"district\":\"statewide\",\"stage\":\"gen\",\"special\":false,\"candidate\":\"MERAV BEN DAVID\",\"party_detailed\":null,\"writein\":false,\"mode\":\"total\",\"candidatevotes\":72766,\"totalvotes\":278503,\"unofficial\":false,\"version\":20210114,\"party_simplified\":\"OTHER\"},{\"year\":2020,\"state\":\"WYOMING\",\"state_po\":\"WY\",\"state_fips\":56,\"state_cen\":83,\"state_ic\":68,\"office\":\"US SENATE\",\"district\":\"statewide\",\"stage\":\"gen\",\"special\":false,\"candidate\":null,\"party_detailed\":null,\"writein\":true,\"mode\":\"total\",\"candidatevotes\":1071,\"totalvotes\":278503,\"unofficial\":false,\"version\":20210114,\"party_simplified\":\"OTHER\"},{\"year\":2020,\"state\":\"WYOMING\",\"state_po\":\"WY\",\"state_fips\":56,\"state_cen\":83,\"state_ic\":68,\"office\":\"US SENATE\",\"district\":\"statewide\",\"stage\":\"gen\",\"special\":false,\"candidate\":\"OVER VOTES\",\"party_detailed\":null,\"writein\":false,\"mode\":\"total\",\"candidatevotes\":165,\"totalvotes\":278503,\"unofficial\":false,\"version\":20210114,\"party_simplified\":\"OTHER\"},{\"year\":2020,\"state\":\"WYOMING\",\"state_po\":\"WY\",\"state_fips\":56,\"state_cen\":83,\"state_ic\":68,\"office\":\"US SENATE\",\"district\":\"statewide\",\"stage\":\"gen\",\"special\":false,\"candidate\":\"UNDER VOTES\",\"party_detailed\":null,\"writein\":false,\"mode\":\"total\",\"candidatevotes\":6401,\"totalvotes\":278503,\"unofficial\":false,\"version\":20210114,\"party_simplified\":\"OTHER\"}]'"
      ]
     },
     "execution_count": 40,
     "metadata": {},
     "output_type": "execute_result"
    }
   ],
   "source": [
    "senate2020.to_json(orient='records')"
   ]
  },
  {
   "cell_type": "code",
   "execution_count": 42,
   "id": "34177871-cd74-49e9-8674-9aea9bd6f08b",
   "metadata": {},
   "outputs": [],
   "source": [
    "senate2020.to_json('./public/data/senate_results.json')"
   ]
  },
  {
   "cell_type": "code",
   "execution_count": 41,
   "id": "7a7aeffe-8c08-41f3-9225-039c89b172d5",
   "metadata": {},
   "outputs": [],
   "source": [
    "import geopandas as gpd\n",
    "\n",
    "# Point this to your local shapefile folder\n",
    "shp_path = 'tl_2024_us_state/tl_2024_us_state.shp'\n",
    "\n",
    "# Load\n",
    "gdf = gpd.read_file(shp_path)\n",
    "\n",
    "# Write out as GeoJSON\n",
    "gdf.to_file('us_states.geojson', driver='GeoJSON')\n"
   ]
  },
  {
   "cell_type": "code",
   "execution_count": 44,
   "id": "0694d25e-db70-4f5f-beda-325a66f26507",
   "metadata": {},
   "outputs": [],
   "source": [
    "import pandas as pd\n",
    "\n",
    "# Load the GeoJSON back in\n",
    "gdf = gpd.read_file('./public/data/us_states.geojson')\n",
    "\n",
    "# Load results\n",
    "results = pd.read_json('./public/data/senate_results.json')\n",
    "\n",
    "# Filter for general US Senate races\n",
    "senate = results[(results.office == 'US SENATE') & (results.stage == 'gen')]\n",
    "\n",
    "# Identify winners by state abbreviation\n",
    "winners = senate.loc[senate.groupby('state_po').candidatevotes.idxmax()]\n",
    "\n",
    "# Merge: match GeoJSON `STUSPS` field to results `state_po`\n",
    "gdf_merged = gdf.merge(\n",
    "    winners[['state_po', 'party_simplified', 'candidatevotes', 'totalvotes']],\n",
    "    left_on='STUSPS', right_on='state_po', how='left'\n",
    ")\n",
    "\n",
    "# Compute vote percentage\n",
    "gdf_merged['vote_pct'] = (\n",
    "    gdf_merged['candidatevotes'] / gdf_merged['totalvotes'] * 100\n",
    ")\n",
    "\n",
    "# Save a pre-merged GeoJSON if you like:\n",
    "gdf_merged.to_file('us_states_senate_merged.geojson', driver='GeoJSON')"
   ]
  },
  {
   "cell_type": "code",
   "execution_count": null,
   "id": "9113d829-b732-434e-bd70-330f858f0257",
   "metadata": {},
   "outputs": [],
   "source": []
  }
 ],
 "metadata": {
  "kernelspec": {
   "display_name": "Python 3 (ipykernel)",
   "language": "python",
   "name": "python3"
  },
  "language_info": {
   "codemirror_mode": {
    "name": "ipython",
    "version": 3
   },
   "file_extension": ".py",
   "mimetype": "text/x-python",
   "name": "python",
   "nbconvert_exporter": "python",
   "pygments_lexer": "ipython3",
   "version": "3.11.4"
  }
 },
 "nbformat": 4,
 "nbformat_minor": 5
}
