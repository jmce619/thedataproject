{
 "cells": [
  {
   "cell_type": "code",
   "execution_count": 37,
   "id": "9bcaa6ae-9892-4616-a688-b931e814fec5",
   "metadata": {},
   "outputs": [],
   "source": [
    "import nba_api"
   ]
  },
  {
   "cell_type": "code",
   "execution_count": null,
   "id": "7038e1bc-d50c-4b65-85b9-c335e614b755",
   "metadata": {},
   "outputs": [],
   "source": []
  },
  {
   "cell_type": "code",
   "execution_count": 19,
   "id": "b0615f57-9717-4168-8794-05d71509de4e",
   "metadata": {},
   "outputs": [
    {
     "name": "stdout",
     "output_type": "stream",
     "text": [
      "Fetching stats for Top 30 players...\n",
      "\n"
     ]
    },
    {
     "name": "stderr",
     "output_type": "stream",
     "text": [
      "Players:  30%|██████████████████████▏                                                   | 9/30 [00:34<03:25,  9.78s/it]"
     ]
    },
    {
     "name": "stdout",
     "output_type": "stream",
     "text": [
      "  → Profile error for Damian Lillard: HTTPSConnectionPool(host='stats.nba.com', port=443): Read timed out. (read timeout=30)\n"
     ]
    },
    {
     "name": "stderr",
     "output_type": "stream",
     "text": [
      "Players:  70%|███████████████████████████████████████████████████                      | 21/30 [00:39<00:04,  1.92it/s]"
     ]
    },
    {
     "name": "stdout",
     "output_type": "stream",
     "text": [
      "    → Timeout fetching careers for Karl-Anthony Towns, retry 1\n",
      "    → Timeout fetching careers for Karl-Anthony Towns, retry 2\n"
     ]
    },
    {
     "name": "stderr",
     "output_type": "stream",
     "text": [
      "Players:  73%|█████████████████████████████████████████████████████▌                   | 22/30 [02:10<03:40, 27.57s/it]"
     ]
    },
    {
     "name": "stdout",
     "output_type": "stream",
     "text": [
      "    → Timeout fetching careers for Karl-Anthony Towns, retry 3\n"
     ]
    },
    {
     "name": "stderr",
     "output_type": "stream",
     "text": [
      "Players:  77%|███████████████████████████████████████████████████████▉                 | 23/30 [02:40<03:18, 28.37s/it]"
     ]
    },
    {
     "name": "stdout",
     "output_type": "stream",
     "text": [
      "  → Profile error for Bradley Beal: HTTPSConnectionPool(host='stats.nba.com', port=443): Read timed out. (read timeout=30)\n"
     ]
    },
    {
     "name": "stderr",
     "output_type": "stream",
     "text": [
      "Players:  80%|██████████████████████████████████████████████████████████▍              | 24/30 [03:10<02:53, 28.93s/it]"
     ]
    },
    {
     "name": "stdout",
     "output_type": "stream",
     "text": [
      "  → Profile error for DeMar DeRozan: HTTPSConnectionPool(host='stats.nba.com', port=443): Read timed out. (read timeout=30)\n"
     ]
    },
    {
     "name": "stderr",
     "output_type": "stream",
     "text": [
      "Players:  83%|████████████████████████████████████████████████████████████▊            | 25/30 [03:41<02:26, 29.31s/it]"
     ]
    },
    {
     "name": "stdout",
     "output_type": "stream",
     "text": [
      "  → Profile error for Zach LaVine: HTTPSConnectionPool(host='stats.nba.com', port=443): Read timed out. (read timeout=30)\n"
     ]
    },
    {
     "name": "stderr",
     "output_type": "stream",
     "text": [
      "Players:  87%|███████████████████████████████████████████████████████████████▎         | 26/30 [04:11<01:58, 29.59s/it]"
     ]
    },
    {
     "name": "stdout",
     "output_type": "stream",
     "text": [
      "  → Profile error for Ja Morant: HTTPSConnectionPool(host='stats.nba.com', port=443): Read timed out. (read timeout=30)\n"
     ]
    },
    {
     "name": "stderr",
     "output_type": "stream",
     "text": [
      "Players:  90%|█████████████████████████████████████████████████████████████████▋       | 27/30 [04:41<01:29, 29.80s/it]"
     ]
    },
    {
     "name": "stdout",
     "output_type": "stream",
     "text": [
      "  → Profile error for Trae Young: HTTPSConnectionPool(host='stats.nba.com', port=443): Read timed out. (read timeout=30)\n"
     ]
    },
    {
     "name": "stderr",
     "output_type": "stream",
     "text": [
      "Players:  93%|████████████████████████████████████████████████████████████████████▏    | 28/30 [05:11<00:59, 29.93s/it]"
     ]
    },
    {
     "name": "stdout",
     "output_type": "stream",
     "text": [
      "  → Profile error for Donovan Mitchell: HTTPSConnectionPool(host='stats.nba.com', port=443): Read timed out. (read timeout=30)\n"
     ]
    },
    {
     "name": "stderr",
     "output_type": "stream",
     "text": [
      "Players:  97%|██████████████████████████████████████████████████████████████████████▌  | 29/30 [05:42<00:30, 30.03s/it]"
     ]
    },
    {
     "name": "stdout",
     "output_type": "stream",
     "text": [
      "  → Profile error for Jaylen Brown: HTTPSConnectionPool(host='stats.nba.com', port=443): Read timed out. (read timeout=30)\n"
     ]
    },
    {
     "name": "stderr",
     "output_type": "stream",
     "text": [
      "Players: 100%|█████████████████████████████████████████████████████████████████████████| 30/30 [06:12<00:00, 12.42s/it]"
     ]
    },
    {
     "name": "stdout",
     "output_type": "stream",
     "text": [
      "  → Profile error for Shai Gilgeous-Alexander: HTTPSConnectionPool(host='stats.nba.com', port=443): Read timed out. (read timeout=30)\n",
      "\n",
      "✅  Saved stats for 21 players to public\\data\\player_stats.json\n"
     ]
    },
    {
     "name": "stderr",
     "output_type": "stream",
     "text": [
      "\n"
     ]
    }
   ],
   "source": [
    "# scripts/fetch_top30_player_stats.py\n",
    "\n",
    "import json\n",
    "import os\n",
    "from tqdm import tqdm\n",
    "from nba_api.stats.static import players\n",
    "from nba_api.stats.endpoints import commonplayerinfo, playercareerstats\n",
    "from requests.exceptions import ReadTimeout\n",
    "\n",
    "# 1) Choose your Top-30 active stars\n",
    "TARGET_PLAYERS = [\n",
    "    \"LeBron James\",\"Stephen Curry\",\"Kevin Durant\",\"Giannis Antetokounmpo\",\n",
    "    \"Kawhi Leonard\",\"James Harden\",\"Nikola Jokic\",\"Luka Doncic\",\n",
    "    \"Damian Lillard\",\"Joel Embiid\",\"Anthony Davis\",\"Kyrie Irving\",\n",
    "    \"Chris Paul\",\"Russell Westbrook\",\"Paul George\",\"Klay Thompson\",\n",
    "    \"Jimmy Butler\",\"Draymond Green\",\"Devin Booker\",\"Jayson Tatum\",\n",
    "    \"Ben Simmons\",\"Karl-Anthony Towns\",\"Bradley Beal\",\"DeMar DeRozan\",\n",
    "    \"Zach LaVine\",\"Ja Morant\",\"Trae Young\",\"Donovan Mitchell\",\n",
    "    \"Jaylen Brown\",\"Shai Gilgeous-Alexander\"\n",
    "]\n",
    "\n",
    "# 2) Paths\n",
    "OUTPUT_STATS = os.path.join(\"public\", \"data\", \"player_stats.json\")\n",
    "os.makedirs(os.path.dirname(OUTPUT_STATS), exist_ok=True)\n",
    "\n",
    "all_stats = {}\n",
    "\n",
    "print(f\"Fetching stats for Top {len(TARGET_PLAYERS)} players...\\n\")\n",
    "\n",
    "for name in tqdm(TARGET_PLAYERS, desc=\"Players\"):\n",
    "    # 3) Lookup player ID\n",
    "    matches = players.find_players_by_full_name(name)\n",
    "    if not matches:\n",
    "        print(f\"⚠️  No match for '{name}', skipping.\")\n",
    "        continue\n",
    "    pid = matches[0][\"id\"]\n",
    "\n",
    "    # 4) Fetch profile info\n",
    "    try:\n",
    "        info_df = commonplayerinfo.CommonPlayerInfo(player_id=pid).get_data_frames()[0]\n",
    "        row = info_df.loc[0, [\n",
    "            \"DISPLAY_FIRST_LAST\",\"TEAM_ABBREVIATION\",\"POSITION\",\"HEIGHT\",\"WEIGHT\"\n",
    "        ]]\n",
    "        profile = {\n",
    "            \"DISPLAY_FIRST_LAST\": row[\"DISPLAY_FIRST_LAST\"],\n",
    "            \"TEAM_ABBREVIATION\": row[\"TEAM_ABBREVIATION\"],\n",
    "            \"POSITION\": row[\"POSITION\"],\n",
    "            \"HEIGHT\": row[\"HEIGHT\"],\n",
    "            \"WEIGHT\": row[\"WEIGHT\"],\n",
    "        }\n",
    "    except Exception as e:\n",
    "        print(f\"  → Profile error for {name}: {e}\")\n",
    "        continue\n",
    "\n",
    "    # 5) Fetch career stats via get_dict() with retry\n",
    "    season_stats = {\n",
    "        \"SEASON\": \"\", \"GP\": 0, \"PTS\": 0, \"REB\": 0,\n",
    "        \"AST\": 0, \"FG_PCT\": 0.0, \"FG3_PCT\": 0.0, \"FT_PCT\": 0.0\n",
    "    }\n",
    "    for attempt in range(1, 4):\n",
    "        try:\n",
    "            career = playercareerstats.PlayerCareerStats(player_id=pid)\n",
    "            career_dict = career.get_dict()\n",
    "            rs = career_dict[\"resultSets\"][0]\n",
    "            headers = rs[\"headers\"]\n",
    "            rows    = rs[\"rowSet\"]\n",
    "            if not rows:\n",
    "                raise ValueError(\"no career rows\")\n",
    "            latest = rows[-1]\n",
    "            data  = dict(zip(headers, latest))\n",
    "            season_stats = {\n",
    "                \"SEASON\": data.get(\"SEASON_ID\", \"\"),\n",
    "                \"GP\": int(data.get(\"GP\", 0)),\n",
    "                \"PTS\": int(data.get(\"PTS\", 0)),\n",
    "                \"REB\": int(data.get(\"REB\", 0)),\n",
    "                \"AST\": int(data.get(\"AST\", 0)),\n",
    "                \"FG_PCT\": float(data.get(\"FG_PCT\", 0.0) * 100),\n",
    "                \"FG3_PCT\": float(data.get(\"FG3_PCT\", 0.0) * 100),\n",
    "                \"FT_PCT\": float(data.get(\"FT_PCT\", 0.0) * 100),\n",
    "            }\n",
    "            break\n",
    "        except ReadTimeout:\n",
    "            print(f\"    → Timeout fetching careers for {name}, retry {attempt}\")\n",
    "        except Exception as e:\n",
    "            print(f\"    → Error fetching careers for {name}: {e}\")\n",
    "            break\n",
    "\n",
    "    # 6) Combine and record\n",
    "    all_stats[name] = { **profile, **season_stats }\n",
    "\n",
    "# 7) Write out JSON\n",
    "with open(OUTPUT_STATS, \"w\") as f:\n",
    "    json.dump(all_stats, f, indent=2)\n",
    "\n",
    "print(f\"\\n✅  Saved stats for {len(all_stats)} players to {OUTPUT_STATS}\")\n"
   ]
  },
  {
   "cell_type": "code",
   "execution_count": null,
   "id": "6db9c304-9adc-41c8-9ae4-731ddd9855f2",
   "metadata": {},
   "outputs": [],
   "source": []
  },
  {
   "cell_type": "code",
   "execution_count": 38,
   "id": "c5744b94-30ef-405d-b1b7-cd2a5df63473",
   "metadata": {},
   "outputs": [
    {
     "name": "stdout",
     "output_type": "stream",
     "text": [
      "Wrote 5 upcoming games to public\\data\\upcoming_games.json\n"
     ]
    }
   ],
   "source": [
    "# scripts/fetch_upcoming_games.py\n",
    "\n",
    "import os\n",
    "import json\n",
    "import time\n",
    "import datetime\n",
    "\n",
    "from nba_api.stats.endpoints import ScoreboardV2\n",
    "from nba_api.stats.static import teams\n",
    "from requests.exceptions import ConnectionError, ReadTimeout\n",
    "from http.client import RemoteDisconnected\n",
    "\n",
    "# Output path\n",
    "OUT_PATH = os.path.join(\"public\", \"data\", \"upcoming_games.json\")\n",
    "os.makedirs(os.path.dirname(OUT_PATH), exist_ok=True)\n",
    "\n",
    "# Build TEAM_ID → abbreviation map\n",
    "team_list = teams.get_teams()\n",
    "id_to_abbrev = {t[\"id\"]: t[\"abbreviation\"] for t in team_list}\n",
    "\n",
    "games_out = []\n",
    "today = datetime.date.today()\n",
    "\n",
    "# Try each of the next 3 days\n",
    "for offset in range(3):\n",
    "    date = today + datetime.timedelta(days=offset)\n",
    "    date_str = date.strftime(\"%m/%d/%Y\")\n",
    "\n",
    "    # retry up to 3 times\n",
    "    for attempt in range(1, 4):\n",
    "        try:\n",
    "            sb = ScoreboardV2(game_date=date_str)\n",
    "            df = sb.get_data_frames()[0]  # one row per game\n",
    "            break\n",
    "        except (ConnectionError, ReadTimeout, RemoteDisconnected) as e:\n",
    "            print(f\"[{date_str}] Attempt {attempt} failed: {e}\")\n",
    "            if attempt < 3:\n",
    "                time.sleep(1)\n",
    "            else:\n",
    "                print(f\"[{date_str}] Skipping after 3 failed attempts.\")\n",
    "                df = None\n",
    "    if df is None:\n",
    "        continue\n",
    "\n",
    "    # build output entries\n",
    "    for row in df.itertuples():\n",
    "        games_out.append({\n",
    "            \"game_id\":            row.GAME_ID,\n",
    "            \"date\":               row.GAME_DATE_EST,\n",
    "            \"time\":               row.GAME_STATUS_TEXT,\n",
    "            \"visitor_team\":       id_to_abbrev.get(row.VISITOR_TEAM_ID, \"\"),\n",
    "            \"home_team\":          id_to_abbrev.get(row.HOME_TEAM_ID, \"\"),\n",
    "            \"arena\":              row.ARENA_NAME,\n",
    "            \"broadcaster\":        row.NATL_TV_BROADCASTER_ABBREVIATION,\n",
    "            \"live_period\":        row.LIVE_PERIOD,\n",
    "            \"live_period_bcast\":  row.LIVE_PERIOD_TIME_BCAST,\n",
    "        })\n",
    "\n",
    "# Write JSON\n",
    "with open(OUT_PATH, \"w\") as f:\n",
    "    json.dump(games_out, f, indent=2)\n",
    "\n",
    "print(f\"Wrote {len(games_out)} upcoming games to {OUT_PATH}\")\n"
   ]
  },
  {
   "cell_type": "code",
   "execution_count": 34,
   "id": "9f5e86d6-723f-4bd6-85cd-f73f7a94583f",
   "metadata": {},
   "outputs": [
    {
     "data": {
      "text/plain": [
       "'[{\"GAME_DATE_EST\":\"2025-05-07T00:00:00\",\"GAME_SEQUENCE\":1,\"GAME_ID\":\"0042400212\",\"GAME_STATUS_ID\":1,\"GAME_STATUS_TEXT\":\"7:00 pm ET\",\"GAMECODE\":\"20250507\\\\/NYKBOS\",\"HOME_TEAM_ID\":1610612738,\"VISITOR_TEAM_ID\":1610612752,\"SEASON\":\"2024\",\"LIVE_PERIOD\":0,\"LIVE_PC_TIME\":\"     \",\"NATL_TV_BROADCASTER_ABBREVIATION\":\"TNT\\\\/truTV\\\\/Max\",\"HOME_TV_BROADCASTER_ABBREVIATION\":null,\"AWAY_TV_BROADCASTER_ABBREVIATION\":null,\"LIVE_PERIOD_TIME_BCAST\":\"Q0       - TNT\\\\/truTV\\\\/Max\",\"ARENA_NAME\":\"TD Garden\",\"WH_STATUS\":0,\"WNBA_COMMISSIONER_FLAG\":0},{\"GAME_DATE_EST\":\"2025-05-07T00:00:00\",\"GAME_SEQUENCE\":2,\"GAME_ID\":\"0042400222\",\"GAME_STATUS_ID\":1,\"GAME_STATUS_TEXT\":\"9:30 pm ET\",\"GAMECODE\":\"20250507\\\\/DENOKC\",\"HOME_TEAM_ID\":1610612760,\"VISITOR_TEAM_ID\":1610612743,\"SEASON\":\"2024\",\"LIVE_PERIOD\":0,\"LIVE_PC_TIME\":\"     \",\"NATL_TV_BROADCASTER_ABBREVIATION\":\"TNT\\\\/truTV\\\\/Max\",\"HOME_TV_BROADCASTER_ABBREVIATION\":null,\"AWAY_TV_BROADCASTER_ABBREVIATION\":null,\"LIVE_PERIOD_TIME_BCAST\":\"Q0       - TNT\\\\/truTV\\\\/Max\",\"ARENA_NAME\":\"Paycom Center\",\"WH_STATUS\":0,\"WNBA_COMMISSIONER_FLAG\":0}]'"
      ]
     },
     "execution_count": 34,
     "metadata": {},
     "output_type": "execute_result"
    }
   ],
   "source": [
    "df.to_json(orient='records')"
   ]
  },
  {
   "cell_type": "code",
   "execution_count": 17,
   "id": "2aeb69e8-91dc-4521-8215-42a2ce05f50a",
   "metadata": {},
   "outputs": [
    {
     "ename": "AttributeError",
     "evalue": "type object 'SeasonTypeAllStar' has no attribute 'regular_season'",
     "output_type": "error",
     "traceback": [
      "\u001b[1;31m---------------------------------------------------------------------------\u001b[0m",
      "\u001b[1;31mAttributeError\u001b[0m                            Traceback (most recent call last)",
      "Cell \u001b[1;32mIn[17], line 16\u001b[0m\n\u001b[0;32m     11\u001b[0m \u001b[38;5;66;03m# Current season (adjust as needed)\u001b[39;00m\n\u001b[0;32m     12\u001b[0m SEASON \u001b[38;5;241m=\u001b[39m \u001b[38;5;124m\"\u001b[39m\u001b[38;5;124m2024-25\u001b[39m\u001b[38;5;124m\"\u001b[39m\n\u001b[0;32m     13\u001b[0m standings \u001b[38;5;241m=\u001b[39m LeagueStandings(\n\u001b[0;32m     14\u001b[0m     league_id\u001b[38;5;241m=\u001b[39mLeagueID\u001b[38;5;241m.\u001b[39mdefault,\n\u001b[0;32m     15\u001b[0m     season\u001b[38;5;241m=\u001b[39mSEASON,\n\u001b[1;32m---> 16\u001b[0m     season_type_all_star\u001b[38;5;241m=\u001b[39m\u001b[43mSeasonTypeAllStar\u001b[49m\u001b[38;5;241;43m.\u001b[39;49m\u001b[43mregular_season\u001b[49m\n\u001b[0;32m     17\u001b[0m )\u001b[38;5;241m.\u001b[39mget_data_frames()[\u001b[38;5;241m0\u001b[39m]\n\u001b[0;32m     19\u001b[0m records \u001b[38;5;241m=\u001b[39m []\n\u001b[0;32m     20\u001b[0m \u001b[38;5;28;01mfor\u001b[39;00m _, row \u001b[38;5;129;01min\u001b[39;00m standings\u001b[38;5;241m.\u001b[39miterrows():\n",
      "\u001b[1;31mAttributeError\u001b[0m: type object 'SeasonTypeAllStar' has no attribute 'regular_season'"
     ]
    }
   ],
   "source": [
    "# scripts/fetch_team_records.py\n",
    "\n",
    "import os\n",
    "import json\n",
    "from nba_api.stats.endpoints import LeagueStandings\n",
    "from nba_api.stats.library.parameters import LeagueID, SeasonTypeAllStar\n",
    "\n",
    "OUT_PATH = os.path.join(\"public\", \"data\", \"team_records.json\")\n",
    "os.makedirs(os.path.dirname(OUT_PATH), exist_ok=True)\n",
    "\n",
    "# Current season (adjust as needed)\n",
    "SEASON = \"2024-25\"\n",
    "standings = LeagueStandings(\n",
    "    league_id=LeagueID.default,\n",
    "    season=SEASON,\n",
    "    season_type_all_star=SeasonTypeAllStar.regular_season\n",
    ").get_data_frames()[0]\n",
    "\n",
    "records = []\n",
    "for _, row in standings.iterrows():\n",
    "    records.append({\n",
    "        \"abbreviation\": row[\"TeamAbbreviation\"],\n",
    "        \"wins\": row[\"WINS\"],\n",
    "        \"losses\": row[\"LOSSES\"],\n",
    "        \"win_pct\": row[\"WIN_PCT\"],\n",
    "        \"conf_rank\": row[\"ConferenceRank\"],\n",
    "    })\n",
    "\n",
    "with open(OUT_PATH, \"w\") as f:\n",
    "    json.dump(records, f, indent=2)\n",
    "\n",
    "print(f\"Wrote {len(records)} team records to {OUT_PATH}\")\n"
   ]
  },
  {
   "cell_type": "code",
   "execution_count": null,
   "id": "8a359bab-e93b-4cb4-bd8b-8a7b1e645eaa",
   "metadata": {},
   "outputs": [],
   "source": []
  },
  {
   "cell_type": "code",
   "execution_count": 13,
   "id": "40df01cf-c06d-45e9-b61d-ea558ef23b97",
   "metadata": {},
   "outputs": [
    {
     "name": "stdout",
     "output_type": "stream",
     "text": [
      "=== Fetching team rosters ===\n",
      "Team ATL: roster attempt 1\n",
      "Team BOS: roster attempt 1\n",
      "Team CLE: roster attempt 1\n",
      "Team NOP: roster attempt 1\n",
      "Team CHI: roster attempt 1\n",
      "Team DAL: roster attempt 1\n",
      "Team DEN: roster attempt 1\n",
      "Team GSW: roster attempt 1\n",
      "Team HOU: roster attempt 1\n",
      "Team LAC: roster attempt 1\n",
      "Team LAL: roster attempt 1\n",
      "Team MIA: roster attempt 1\n",
      "Team MIL: roster attempt 1\n",
      "Team MIN: roster attempt 1\n",
      "Team BKN: roster attempt 1\n",
      "Team NYK: roster attempt 1\n",
      "  → Timeout fetching roster for NYK, retrying...\n",
      "Team NYK: roster attempt 2\n",
      "  → Timeout fetching roster for NYK, retrying...\n",
      "Team NYK: roster attempt 3\n",
      "  → Timeout fetching roster for NYK, retrying...\n",
      "  → Failed to fetch roster for NYK after 3 attempts\n",
      "Team ORL: roster attempt 1\n",
      "  → Timeout fetching roster for ORL, retrying...\n",
      "Team ORL: roster attempt 2\n",
      "  → Timeout fetching roster for ORL, retrying...\n",
      "Team ORL: roster attempt 3\n",
      "  → Timeout fetching roster for ORL, retrying...\n",
      "  → Failed to fetch roster for ORL after 3 attempts\n",
      "Team IND: roster attempt 1\n",
      "  → Timeout fetching roster for IND, retrying...\n",
      "Team IND: roster attempt 2\n",
      "  → Timeout fetching roster for IND, retrying...\n",
      "Team IND: roster attempt 3\n",
      "  → Timeout fetching roster for IND, retrying...\n",
      "  → Failed to fetch roster for IND after 3 attempts\n",
      "Team PHI: roster attempt 1\n",
      "  → Timeout fetching roster for PHI, retrying...\n",
      "Team PHI: roster attempt 2\n",
      "Team PHX: roster attempt 1\n",
      "Team POR: roster attempt 1\n",
      "Team SAC: roster attempt 1\n",
      "Team SAS: roster attempt 1\n",
      "Team OKC: roster attempt 1\n",
      "Team TOR: roster attempt 1\n",
      "Team UTA: roster attempt 1\n",
      "Team MEM: roster attempt 1\n",
      "Team WAS: roster attempt 1\n",
      "Team DET: roster attempt 1\n",
      "Team CHA: roster attempt 1\n",
      "Found 480 unique players on 2024-25 rosters.\n",
      "\n",
      "=== Fetching shot charts ===\n"
     ]
    },
    {
     "name": "stderr",
     "output_type": "stream",
     "text": [
      "Players:   0%|                                                                                 | 0/480 [00:00<?, ?it/s]"
     ]
    },
    {
     "name": "stdout",
     "output_type": "stream",
     "text": [
      "[Jacob Toppin (1631210)] attempt 1\n"
     ]
    },
    {
     "name": "stderr",
     "output_type": "stream",
     "text": [
      "Players:   0%|▏                                                                        | 1/480 [00:01<09:38,  1.21s/it]"
     ]
    },
    {
     "name": "stdout",
     "output_type": "stream",
     "text": [
      "[Jalen Johnson (1630552)] attempt 1\n"
     ]
    },
    {
     "name": "stderr",
     "output_type": "stream",
     "text": [
      "Players:   0%|▎                                                                        | 2/480 [00:02<07:46,  1.02it/s]"
     ]
    },
    {
     "name": "stdout",
     "output_type": "stream",
     "text": [
      "[Keaton Wallace (1630811)] attempt 1\n"
     ]
    },
    {
     "name": "stderr",
     "output_type": "stream",
     "text": [
      "Players:   1%|▍                                                                        | 3/480 [00:02<07:40,  1.04it/s]"
     ]
    },
    {
     "name": "stdout",
     "output_type": "stream",
     "text": [
      "[Caris LeVert (1627747)] attempt 1\n"
     ]
    },
    {
     "name": "stderr",
     "output_type": "stream",
     "text": [
      "Players:   1%|▌                                                                        | 4/480 [00:03<07:09,  1.11it/s]"
     ]
    },
    {
     "name": "stdout",
     "output_type": "stream",
     "text": [
      "[Kobe Bufkin (1641723)] attempt 1\n"
     ]
    },
    {
     "name": "stderr",
     "output_type": "stream",
     "text": [
      "Players:   1%|▊                                                                        | 5/480 [00:04<07:16,  1.09it/s]"
     ]
    },
    {
     "name": "stdout",
     "output_type": "stream",
     "text": [
      "[Dyson Daniels (1630700)] attempt 1\n"
     ]
    },
    {
     "name": "stderr",
     "output_type": "stream",
     "text": [
      "Players:   1%|▉                                                                        | 6/480 [00:05<07:59,  1.01s/it]"
     ]
    },
    {
     "name": "stdout",
     "output_type": "stream",
     "text": [
      "[Zaccharie Risacher (1642258)] attempt 1\n"
     ]
    },
    {
     "name": "stderr",
     "output_type": "stream",
     "text": [
      "Players:   1%|█                                                                        | 7/480 [00:07<08:16,  1.05s/it]"
     ]
    },
    {
     "name": "stdout",
     "output_type": "stream",
     "text": [
      "[Trae Young (1629027)] attempt 1\n"
     ]
    },
    {
     "name": "stderr",
     "output_type": "stream",
     "text": [
      "Players:   2%|█▏                                                                       | 8/480 [00:07<07:30,  1.05it/s]"
     ]
    },
    {
     "name": "stdout",
     "output_type": "stream",
     "text": [
      "[Terance Mann (1629611)] attempt 1\n"
     ]
    },
    {
     "name": "stderr",
     "output_type": "stream",
     "text": [
      "Players:   2%|█▎                                                                       | 9/480 [00:08<07:49,  1.00it/s]"
     ]
    },
    {
     "name": "stdout",
     "output_type": "stream",
     "text": [
      "[Clint Capela (203991)] attempt 1\n"
     ]
    },
    {
     "name": "stderr",
     "output_type": "stream",
     "text": [
      "Players:   2%|█▌                                                                      | 10/480 [00:09<06:58,  1.12it/s]"
     ]
    },
    {
     "name": "stdout",
     "output_type": "stream",
     "text": [
      "[Onyeka Okongwu (1630168)] attempt 1\n"
     ]
    },
    {
     "name": "stderr",
     "output_type": "stream",
     "text": [
      "Players:   2%|█▋                                                                      | 11/480 [00:10<07:55,  1.01s/it]"
     ]
    },
    {
     "name": "stdout",
     "output_type": "stream",
     "text": [
      "[Mouhamed Gueye (1631243)] attempt 1\n"
     ]
    },
    {
     "name": "stderr",
     "output_type": "stream",
     "text": [
      "Players:   2%|█▊                                                                      | 12/480 [00:11<07:21,  1.06it/s]"
     ]
    },
    {
     "name": "stdout",
     "output_type": "stream",
     "text": [
      "[Georges Niang (1627777)] attempt 1\n"
     ]
    },
    {
     "name": "stderr",
     "output_type": "stream",
     "text": [
      "Players:   3%|█▉                                                                      | 13/480 [00:12<07:08,  1.09it/s]"
     ]
    },
    {
     "name": "stdout",
     "output_type": "stream",
     "text": [
      "[Larry Nance Jr. (1626204)] attempt 1\n"
     ]
    },
    {
     "name": "stderr",
     "output_type": "stream",
     "text": [
      "Players:   3%|██                                                                      | 14/480 [00:13<06:59,  1.11it/s]"
     ]
    },
    {
     "name": "stdout",
     "output_type": "stream",
     "text": [
      "[Garrison Mathews (1629726)] attempt 1\n"
     ]
    },
    {
     "name": "stderr",
     "output_type": "stream",
     "text": [
      "Players:   3%|██▎                                                                     | 15/480 [00:14<07:06,  1.09it/s]"
     ]
    },
    {
     "name": "stdout",
     "output_type": "stream",
     "text": [
      "[Dominick Barlow (1631230)] attempt 1\n"
     ]
    },
    {
     "name": "stderr",
     "output_type": "stream",
     "text": [
      "Players:   3%|██▍                                                                     | 16/480 [00:15<06:55,  1.12it/s]"
     ]
    },
    {
     "name": "stdout",
     "output_type": "stream",
     "text": [
      "[Vít Krejčí (1630249)] attempt 1\n"
     ]
    },
    {
     "name": "stderr",
     "output_type": "stream",
     "text": [
      "Players:   4%|██▌                                                                     | 17/480 [00:15<06:43,  1.15it/s]"
     ]
    },
    {
     "name": "stdout",
     "output_type": "stream",
     "text": [
      "[Daeqwon Plowden (1631342)] attempt 1\n"
     ]
    },
    {
     "name": "stderr",
     "output_type": "stream",
     "text": [
      "Players:   4%|██▋                                                                     | 18/480 [00:16<06:21,  1.21it/s]"
     ]
    },
    {
     "name": "stdout",
     "output_type": "stream",
     "text": [
      "[Jayson Tatum (1628369)] attempt 1\n"
     ]
    },
    {
     "name": "stderr",
     "output_type": "stream",
     "text": [
      "Players:   4%|██▊                                                                     | 19/480 [00:18<07:30,  1.02it/s]"
     ]
    },
    {
     "name": "stdout",
     "output_type": "stream",
     "text": [
      "[Miles Norris (1641936)] attempt 1\n"
     ]
    },
    {
     "name": "stderr",
     "output_type": "stream",
     "text": [
      "Players:   4%|███                                                                     | 20/480 [00:19<07:35,  1.01it/s]"
     ]
    },
    {
     "name": "stdout",
     "output_type": "stream",
     "text": [
      "[Jrue Holiday (201950)] attempt 1\n"
     ]
    },
    {
     "name": "stderr",
     "output_type": "stream",
     "text": [
      "Players:   4%|███▏                                                                    | 21/480 [00:19<07:11,  1.06it/s]"
     ]
    },
    {
     "name": "stdout",
     "output_type": "stream",
     "text": [
      "[Jaylen Brown (1627759)] attempt 1\n"
     ]
    },
    {
     "name": "stderr",
     "output_type": "stream",
     "text": [
      "Players:   5%|███▎                                                                    | 22/480 [00:21<07:50,  1.03s/it]"
     ]
    },
    {
     "name": "stdout",
     "output_type": "stream",
     "text": [
      "[Kristaps Porziņģis (204001)] attempt 1\n"
     ]
    },
    {
     "name": "stderr",
     "output_type": "stream",
     "text": [
      "Players:   5%|███▍                                                                    | 23/480 [00:22<07:48,  1.03s/it]"
     ]
    },
    {
     "name": "stdout",
     "output_type": "stream",
     "text": [
      "[Derrick White (1628401)] attempt 1\n"
     ]
    },
    {
     "name": "stderr",
     "output_type": "stream",
     "text": [
      "Players:   5%|███▌                                                                    | 24/480 [00:23<08:15,  1.09s/it]"
     ]
    },
    {
     "name": "stdout",
     "output_type": "stream",
     "text": [
      "[Payton Pritchard (1630202)] attempt 1\n"
     ]
    },
    {
     "name": "stderr",
     "output_type": "stream",
     "text": [
      "Players:   5%|███▊                                                                    | 25/480 [00:24<07:42,  1.02s/it]"
     ]
    },
    {
     "name": "stdout",
     "output_type": "stream",
     "text": [
      "[Torrey Craig (1628470)] attempt 1\n"
     ]
    },
    {
     "name": "stderr",
     "output_type": "stream",
     "text": [
      "Players:   5%|███▉                                                                    | 26/480 [00:25<07:15,  1.04it/s]"
     ]
    },
    {
     "name": "stdout",
     "output_type": "stream",
     "text": [
      "[Drew Peterson (1641809)] attempt 1\n"
     ]
    },
    {
     "name": "stderr",
     "output_type": "stream",
     "text": [
      "Players:   6%|████                                                                    | 27/480 [00:26<07:31,  1.00it/s]"
     ]
    },
    {
     "name": "stdout",
     "output_type": "stream",
     "text": [
      "[JD Davison (1631120)] attempt 1\n"
     ]
    },
    {
     "name": "stderr",
     "output_type": "stream",
     "text": [
      "Players:   6%|████▏                                                                   | 28/480 [00:27<07:20,  1.03it/s]"
     ]
    },
    {
     "name": "stdout",
     "output_type": "stream",
     "text": [
      "[Xavier Tillman (1630214)] attempt 1\n"
     ]
    },
    {
     "name": "stderr",
     "output_type": "stream",
     "text": [
      "Players:   6%|████▎                                                                   | 29/480 [00:27<06:44,  1.11it/s]"
     ]
    },
    {
     "name": "stdout",
     "output_type": "stream",
     "text": [
      "[Jordan Walsh (1641775)] attempt 1\n"
     ]
    },
    {
     "name": "stderr",
     "output_type": "stream",
     "text": [
      "Players:   6%|████▌                                                                   | 30/480 [00:28<06:47,  1.11it/s]"
     ]
    },
    {
     "name": "stdout",
     "output_type": "stream",
     "text": [
      "[Sam Hauser (1630573)] attempt 1\n"
     ]
    },
    {
     "name": "stderr",
     "output_type": "stream",
     "text": [
      "Players:   6%|████▋                                                                   | 31/480 [00:29<06:18,  1.19it/s]"
     ]
    },
    {
     "name": "stdout",
     "output_type": "stream",
     "text": [
      "[Luke Kornet (1628436)] attempt 1\n"
     ]
    },
    {
     "name": "stderr",
     "output_type": "stream",
     "text": [
      "Players:   7%|████▊                                                                   | 32/480 [00:30<05:54,  1.26it/s]"
     ]
    },
    {
     "name": "stdout",
     "output_type": "stream",
     "text": [
      "[Al Horford (201143)] attempt 1\n"
     ]
    },
    {
     "name": "stderr",
     "output_type": "stream",
     "text": [
      "Players:   7%|████▉                                                                   | 33/480 [00:30<06:06,  1.22it/s]"
     ]
    },
    {
     "name": "stdout",
     "output_type": "stream",
     "text": [
      "[Baylor Scheierman (1631248)] attempt 1\n"
     ]
    },
    {
     "name": "stderr",
     "output_type": "stream",
     "text": [
      "Players:   7%|█████                                                                   | 34/480 [00:31<06:17,  1.18it/s]"
     ]
    },
    {
     "name": "stdout",
     "output_type": "stream",
     "text": [
      "[Neemias Queta (1629674)] attempt 1\n"
     ]
    },
    {
     "name": "stderr",
     "output_type": "stream",
     "text": [
      "Players:   7%|█████▎                                                                  | 35/480 [00:32<06:03,  1.22it/s]"
     ]
    },
    {
     "name": "stdout",
     "output_type": "stream",
     "text": [
      "[Max Strus (1629622)] attempt 1\n"
     ]
    },
    {
     "name": "stderr",
     "output_type": "stream",
     "text": [
      "Players:   8%|█████▍                                                                  | 36/480 [00:33<06:21,  1.16it/s]"
     ]
    },
    {
     "name": "stdout",
     "output_type": "stream",
     "text": [
      "[Ty Jerome (1629660)] attempt 1\n"
     ]
    },
    {
     "name": "stderr",
     "output_type": "stream",
     "text": [
      "Players:   8%|█████▌                                                                  | 37/480 [00:34<05:59,  1.23it/s]"
     ]
    },
    {
     "name": "stdout",
     "output_type": "stream",
     "text": [
      "[Evan Mobley (1630596)] attempt 1\n"
     ]
    },
    {
     "name": "stderr",
     "output_type": "stream",
     "text": [
      "Players:   8%|█████▊                                                                  | 39/480 [00:35<04:25,  1.66it/s]"
     ]
    },
    {
     "name": "stdout",
     "output_type": "stream",
     "text": [
      "[Sam Merrill (1630241)] attempt 1\n",
      "[Javonte Green (1629750)] attempt 1\n"
     ]
    },
    {
     "name": "stderr",
     "output_type": "stream",
     "text": [
      "Players:   8%|██████                                                                  | 40/480 [00:36<05:02,  1.46it/s]"
     ]
    },
    {
     "name": "stdout",
     "output_type": "stream",
     "text": [
      "[Craig Porter Jr. (1641854)] attempt 1\n"
     ]
    },
    {
     "name": "stderr",
     "output_type": "stream",
     "text": [
      "Players:   9%|██████▏                                                                 | 41/480 [00:36<04:52,  1.50it/s]"
     ]
    },
    {
     "name": "stdout",
     "output_type": "stream",
     "text": [
      "[Darius Garland (1629636)] attempt 1\n"
     ]
    },
    {
     "name": "stderr",
     "output_type": "stream",
     "text": [
      "Players:   9%|██████▎                                                                 | 42/480 [00:37<06:06,  1.20it/s]"
     ]
    },
    {
     "name": "stdout",
     "output_type": "stream",
     "text": [
      "[De'Andre Hunter (1629631)] attempt 1\n"
     ]
    },
    {
     "name": "stderr",
     "output_type": "stream",
     "text": [
      "Players:   9%|██████▍                                                                 | 43/480 [00:39<06:56,  1.05it/s]"
     ]
    },
    {
     "name": "stdout",
     "output_type": "stream",
     "text": [
      "[Tristan Thompson (202684)] attempt 1\n"
     ]
    },
    {
     "name": "stderr",
     "output_type": "stream",
     "text": [
      "Players:   9%|██████▌                                                                 | 44/480 [00:40<07:06,  1.02it/s]"
     ]
    },
    {
     "name": "stdout",
     "output_type": "stream",
     "text": [
      "[Chuma Okeke (1629643)] attempt 1\n"
     ]
    },
    {
     "name": "stderr",
     "output_type": "stream",
     "text": [
      "Players:   9%|██████▊                                                                 | 45/480 [00:40<06:42,  1.08it/s]"
     ]
    },
    {
     "name": "stdout",
     "output_type": "stream",
     "text": [
      "[Emoni Bates (1641734)] attempt 1\n"
     ]
    },
    {
     "name": "stderr",
     "output_type": "stream",
     "text": [
      "Players:  10%|██████▉                                                                 | 46/480 [00:41<06:27,  1.12it/s]"
     ]
    },
    {
     "name": "stdout",
     "output_type": "stream",
     "text": [
      "[Jaylon Tyson (1642281)] attempt 1\n"
     ]
    },
    {
     "name": "stderr",
     "output_type": "stream",
     "text": [
      "Players:  10%|███████                                                                 | 47/480 [00:42<06:44,  1.07it/s]"
     ]
    },
    {
     "name": "stdout",
     "output_type": "stream",
     "text": [
      "[Nae'Qwan Tomlin (1641772)] attempt 1\n"
     ]
    },
    {
     "name": "stderr",
     "output_type": "stream",
     "text": [
      "Players:  10%|███████▏                                                                | 48/480 [00:43<06:35,  1.09it/s]"
     ]
    },
    {
     "name": "stdout",
     "output_type": "stream",
     "text": [
      "[Jarrett Allen (1628386)] attempt 1\n"
     ]
    },
    {
     "name": "stderr",
     "output_type": "stream",
     "text": [
      "Players:  10%|███████▎                                                                | 49/480 [00:44<06:53,  1.04it/s]"
     ]
    },
    {
     "name": "stdout",
     "output_type": "stream",
     "text": [
      "[Dean Wade (1629731)] attempt 1\n"
     ]
    },
    {
     "name": "stderr",
     "output_type": "stream",
     "text": [
      "Players:  10%|███████▌                                                                | 50/480 [00:45<06:19,  1.13it/s]"
     ]
    },
    {
     "name": "stdout",
     "output_type": "stream",
     "text": [
      "[Luke Travers (1631247)] attempt 1\n"
     ]
    },
    {
     "name": "stderr",
     "output_type": "stream",
     "text": [
      "Players:  11%|███████▋                                                                | 51/480 [00:46<06:13,  1.15it/s]"
     ]
    },
    {
     "name": "stdout",
     "output_type": "stream",
     "text": [
      "[Isaac Okoro (1630171)] attempt 1\n"
     ]
    },
    {
     "name": "stderr",
     "output_type": "stream",
     "text": [
      "Players:  11%|███████▊                                                                | 52/480 [00:46<05:46,  1.24it/s]"
     ]
    },
    {
     "name": "stdout",
     "output_type": "stream",
     "text": [
      "[Donovan Mitchell (1628378)] attempt 1\n"
     ]
    },
    {
     "name": "stderr",
     "output_type": "stream",
     "text": [
      "Players:  11%|███████▉                                                                | 53/480 [00:47<05:36,  1.27it/s]"
     ]
    },
    {
     "name": "stdout",
     "output_type": "stream",
     "text": [
      "[Keion Brooks Jr. (1631232)] attempt 1\n"
     ]
    },
    {
     "name": "stderr",
     "output_type": "stream",
     "text": [
      "Players:  11%|████████                                                                | 54/480 [00:48<05:20,  1.33it/s]"
     ]
    },
    {
     "name": "stdout",
     "output_type": "stream",
     "text": [
      "[Bruce Brown (1628971)] attempt 1\n"
     ]
    },
    {
     "name": "stderr",
     "output_type": "stream",
     "text": [
      "Players:  11%|████████▎                                                               | 55/480 [00:49<05:47,  1.22it/s]"
     ]
    },
    {
     "name": "stdout",
     "output_type": "stream",
     "text": [
      "[Zion Williamson (1629627)] attempt 1\n"
     ]
    },
    {
     "name": "stderr",
     "output_type": "stream",
     "text": [
      "Players:  12%|████████▍                                                               | 56/480 [00:49<05:24,  1.31it/s]"
     ]
    },
    {
     "name": "stdout",
     "output_type": "stream",
     "text": [
      "[Herbert Jones (1630529)] attempt 1\n"
     ]
    },
    {
     "name": "stderr",
     "output_type": "stream",
     "text": [
      "Players:  12%|████████▌                                                               | 57/480 [00:50<05:25,  1.30it/s]"
     ]
    },
    {
     "name": "stdout",
     "output_type": "stream",
     "text": [
      "[CJ McCollum (203468)] attempt 1\n"
     ]
    },
    {
     "name": "stderr",
     "output_type": "stream",
     "text": [
      "Players:  12%|████████▋                                                               | 58/480 [00:51<06:18,  1.11it/s]"
     ]
    },
    {
     "name": "stdout",
     "output_type": "stream",
     "text": [
      "[Elfrid Payton (203901)] attempt 1\n"
     ]
    },
    {
     "name": "stderr",
     "output_type": "stream",
     "text": [
      "Players:  12%|████████▊                                                               | 59/480 [00:52<05:49,  1.20it/s]"
     ]
    },
    {
     "name": "stdout",
     "output_type": "stream",
     "text": [
      "[Dejounte Murray (1627749)] attempt 1\n"
     ]
    },
    {
     "name": "stderr",
     "output_type": "stream",
     "text": [
      "Players:  12%|█████████                                                               | 60/480 [00:53<05:47,  1.21it/s]"
     ]
    },
    {
     "name": "stdout",
     "output_type": "stream",
     "text": [
      "[Jamal Cain (1631288)] attempt 1\n"
     ]
    },
    {
     "name": "stderr",
     "output_type": "stream",
     "text": [
      "Players:  13%|█████████▏                                                              | 61/480 [00:54<05:30,  1.27it/s]"
     ]
    },
    {
     "name": "stdout",
     "output_type": "stream",
     "text": [
      "[Brandon Boston (1630527)] attempt 1\n"
     ]
    },
    {
     "name": "stderr",
     "output_type": "stream",
     "text": [
      "Players:  13%|█████████▎                                                              | 62/480 [00:55<06:11,  1.13it/s]"
     ]
    },
    {
     "name": "stdout",
     "output_type": "stream",
     "text": [
      "[Antonio Reeves (1641810)] attempt 1\n"
     ]
    },
    {
     "name": "stderr",
     "output_type": "stream",
     "text": [
      "Players:  13%|█████████▍                                                              | 63/480 [00:55<05:53,  1.18it/s]"
     ]
    },
    {
     "name": "stdout",
     "output_type": "stream",
     "text": [
      "[Kelly Olynyk (203482)] attempt 1\n"
     ]
    },
    {
     "name": "stderr",
     "output_type": "stream",
     "text": [
      "Players:  13%|█████████▌                                                              | 64/480 [00:56<06:00,  1.15it/s]"
     ]
    },
    {
     "name": "stdout",
     "output_type": "stream",
     "text": [
      "[Jose Alvarado (1630631)] attempt 1\n"
     ]
    },
    {
     "name": "stderr",
     "output_type": "stream",
     "text": [
      "Players:  14%|█████████▊                                                              | 65/480 [00:57<06:20,  1.09it/s]"
     ]
    },
    {
     "name": "stdout",
     "output_type": "stream",
     "text": [
      "[Karlo Matković (1631255)] attempt 1\n"
     ]
    },
    {
     "name": "stderr",
     "output_type": "stream",
     "text": [
      "Players:  14%|█████████▉                                                              | 66/480 [00:58<06:07,  1.13it/s]"
     ]
    },
    {
     "name": "stdout",
     "output_type": "stream",
     "text": [
      "[Yves Missi (1642274)] attempt 1\n"
     ]
    },
    {
     "name": "stderr",
     "output_type": "stream",
     "text": [
      "Players:  14%|██████████                                                              | 67/480 [00:59<05:36,  1.23it/s]"
     ]
    },
    {
     "name": "stdout",
     "output_type": "stream",
     "text": [
      "[Lester Quinones (1631311)] attempt 1\n"
     ]
    },
    {
     "name": "stderr",
     "output_type": "stream",
     "text": [
      "Players:  14%|██████████▏                                                             | 68/480 [01:00<05:19,  1.29it/s]"
     ]
    },
    {
     "name": "stdout",
     "output_type": "stream",
     "text": [
      "[Jordan Hawkins (1641722)] attempt 1\n"
     ]
    },
    {
     "name": "stderr",
     "output_type": "stream",
     "text": [
      "Players:  14%|██████████▎                                                             | 69/480 [01:01<05:37,  1.22it/s]"
     ]
    },
    {
     "name": "stdout",
     "output_type": "stream",
     "text": [
      "[Trey Murphy III (1630530)] attempt 1\n"
     ]
    },
    {
     "name": "stderr",
     "output_type": "stream",
     "text": [
      "Players:  15%|██████████▌                                                             | 70/480 [01:02<06:01,  1.13it/s]"
     ]
    },
    {
     "name": "stdout",
     "output_type": "stream",
     "text": [
      "[Jeremiah Robinson-Earl (1630526)] attempt 1\n"
     ]
    },
    {
     "name": "stderr",
     "output_type": "stream",
     "text": [
      "Players:  15%|██████████▋                                                             | 71/480 [01:02<05:52,  1.16it/s]"
     ]
    },
    {
     "name": "stdout",
     "output_type": "stream",
     "text": [
      "[Coby White (1629632)] attempt 1\n"
     ]
    },
    {
     "name": "stderr",
     "output_type": "stream",
     "text": [
      "Players:  15%|██████████▊                                                             | 72/480 [01:03<05:47,  1.17it/s]"
     ]
    },
    {
     "name": "stdout",
     "output_type": "stream",
     "text": [
      "[Lonzo Ball (1628366)] attempt 1\n"
     ]
    },
    {
     "name": "stderr",
     "output_type": "stream",
     "text": [
      "Players:  15%|██████████▉                                                             | 73/480 [01:04<05:54,  1.15it/s]"
     ]
    },
    {
     "name": "stdout",
     "output_type": "stream",
     "text": [
      "[Josh Giddey (1630581)] attempt 1\n"
     ]
    },
    {
     "name": "stderr",
     "output_type": "stream",
     "text": [
      "Players:  15%|███████████                                                             | 74/480 [01:05<06:00,  1.13it/s]"
     ]
    },
    {
     "name": "stdout",
     "output_type": "stream",
     "text": [
      "[Jevon Carter (1628975)] attempt 1\n"
     ]
    },
    {
     "name": "stderr",
     "output_type": "stream",
     "text": [
      "Players:  16%|███████████▎                                                            | 75/480 [01:06<06:15,  1.08it/s]"
     ]
    },
    {
     "name": "stdout",
     "output_type": "stream",
     "text": [
      "[Jalen Smith (1630188)] attempt 1\n"
     ]
    },
    {
     "name": "stderr",
     "output_type": "stream",
     "text": [
      "Players:  16%|███████████▍                                                            | 76/480 [01:07<06:26,  1.05it/s]"
     ]
    },
    {
     "name": "stdout",
     "output_type": "stream",
     "text": [
      "[Nikola Vučević (202696)] attempt 1\n"
     ]
    },
    {
     "name": "stderr",
     "output_type": "stream",
     "text": [
      "Players:  16%|███████████▌                                                            | 77/480 [01:08<06:16,  1.07it/s]"
     ]
    },
    {
     "name": "stdout",
     "output_type": "stream",
     "text": [
      "[Ayo Dosunmu (1630245)] attempt 1\n"
     ]
    },
    {
     "name": "stderr",
     "output_type": "stream",
     "text": [
      "Players:  16%|███████████▋                                                            | 78/480 [01:09<05:41,  1.18it/s]"
     ]
    },
    {
     "name": "stdout",
     "output_type": "stream",
     "text": [
      "[Jahmir Young (1642443)] attempt 1\n"
     ]
    },
    {
     "name": "stderr",
     "output_type": "stream",
     "text": [
      "Players:  16%|███████████▊                                                            | 79/480 [01:09<05:24,  1.24it/s]"
     ]
    },
    {
     "name": "stdout",
     "output_type": "stream",
     "text": [
      "[Zach Collins (1628380)] attempt 1\n"
     ]
    },
    {
     "name": "stderr",
     "output_type": "stream",
     "text": [
      "Players:  17%|████████████                                                            | 80/480 [01:10<05:50,  1.14it/s]"
     ]
    },
    {
     "name": "stdout",
     "output_type": "stream",
     "text": [
      "[Kevin Huerter (1628989)] attempt 1\n"
     ]
    },
    {
     "name": "stderr",
     "output_type": "stream",
     "text": [
      "Players:  17%|████████████▏                                                           | 81/480 [01:11<05:45,  1.16it/s]"
     ]
    },
    {
     "name": "stdout",
     "output_type": "stream",
     "text": [
      "[Matas Buzelis (1641824)] attempt 1\n"
     ]
    },
    {
     "name": "stderr",
     "output_type": "stream",
     "text": [
      "Players:  17%|████████████▎                                                           | 82/480 [01:12<05:36,  1.18it/s]"
     ]
    },
    {
     "name": "stdout",
     "output_type": "stream",
     "text": [
      "[Julian Phillips (1641763)] attempt 1\n"
     ]
    },
    {
     "name": "stderr",
     "output_type": "stream",
     "text": [
      "Players:  17%|████████████▍                                                           | 83/480 [01:13<05:11,  1.27it/s]"
     ]
    },
    {
     "name": "stdout",
     "output_type": "stream",
     "text": [
      "[Emanuel Miller (1641801)] attempt 1\n"
     ]
    },
    {
     "name": "stderr",
     "output_type": "stream",
     "text": [
      "Players:  18%|████████████▌                                                           | 84/480 [01:14<05:22,  1.23it/s]"
     ]
    },
    {
     "name": "stdout",
     "output_type": "stream",
     "text": [
      "[Talen Horton-Tucker (1629659)] attempt 1\n"
     ]
    },
    {
     "name": "stderr",
     "output_type": "stream",
     "text": [
      "Players:  18%|████████████▊                                                           | 85/480 [01:14<05:34,  1.18it/s]"
     ]
    },
    {
     "name": "stdout",
     "output_type": "stream",
     "text": [
      "[Dalen Terry (1631207)] attempt 1\n"
     ]
    },
    {
     "name": "stderr",
     "output_type": "stream",
     "text": [
      "Players:  18%|████████████▉                                                           | 86/480 [01:15<05:18,  1.24it/s]"
     ]
    },
    {
     "name": "stdout",
     "output_type": "stream",
     "text": [
      "[Tre Jones (1630200)] attempt 1\n"
     ]
    },
    {
     "name": "stderr",
     "output_type": "stream",
     "text": [
      "Players:  18%|█████████████                                                           | 87/480 [01:16<05:24,  1.21it/s]"
     ]
    },
    {
     "name": "stdout",
     "output_type": "stream",
     "text": [
      "[E.J. Liddell (1630604)] attempt 1\n"
     ]
    },
    {
     "name": "stderr",
     "output_type": "stream",
     "text": [
      "Players:  18%|█████████████▏                                                          | 88/480 [01:17<05:29,  1.19it/s]"
     ]
    },
    {
     "name": "stdout",
     "output_type": "stream",
     "text": [
      "[Patrick Williams (1630172)] attempt 1\n"
     ]
    },
    {
     "name": "stderr",
     "output_type": "stream",
     "text": [
      "Players:  19%|█████████████▎                                                          | 89/480 [01:18<06:02,  1.08it/s]"
     ]
    },
    {
     "name": "stdout",
     "output_type": "stream",
     "text": [
      "[Danté Exum (203957)] attempt 1\n"
     ]
    },
    {
     "name": "stderr",
     "output_type": "stream",
     "text": [
      "Players:  19%|█████████████▌                                                          | 90/480 [01:19<05:57,  1.09it/s]"
     ]
    },
    {
     "name": "stdout",
     "output_type": "stream",
     "text": [
      "[Max Christie (1631108)] attempt 1\n"
     ]
    },
    {
     "name": "stderr",
     "output_type": "stream",
     "text": [
      "Players:  19%|█████████████▋                                                          | 91/480 [01:20<05:36,  1.15it/s]"
     ]
    },
    {
     "name": "stdout",
     "output_type": "stream",
     "text": [
      "[Jaden Hardy (1630702)] attempt 1\n"
     ]
    },
    {
     "name": "stderr",
     "output_type": "stream",
     "text": [
      "Players:  19%|█████████████▊                                                          | 92/480 [01:20<05:12,  1.24it/s]"
     ]
    },
    {
     "name": "stdout",
     "output_type": "stream",
     "text": [
      "[Dereck Lively II (1641726)] attempt 1\n"
     ]
    },
    {
     "name": "stderr",
     "output_type": "stream",
     "text": [
      "Players:  19%|█████████████▉                                                          | 93/480 [01:21<05:19,  1.21it/s]"
     ]
    },
    {
     "name": "stdout",
     "output_type": "stream",
     "text": [
      "[Anthony Davis (203076)] attempt 1\n"
     ]
    },
    {
     "name": "stderr",
     "output_type": "stream",
     "text": [
      "Players:  20%|██████████████                                                          | 94/480 [01:22<05:15,  1.22it/s]"
     ]
    },
    {
     "name": "stdout",
     "output_type": "stream",
     "text": [
      "[Dwight Powell (203939)] attempt 1\n"
     ]
    },
    {
     "name": "stderr",
     "output_type": "stream",
     "text": [
      "Players:  20%|██████████████▎                                                         | 95/480 [01:23<06:03,  1.06it/s]"
     ]
    },
    {
     "name": "stdout",
     "output_type": "stream",
     "text": [
      "[Olivier-Maxence Prosper (1641765)] attempt 1\n"
     ]
    },
    {
     "name": "stderr",
     "output_type": "stream",
     "text": [
      "Players:  20%|██████████████▍                                                         | 96/480 [01:24<05:54,  1.08it/s]"
     ]
    },
    {
     "name": "stdout",
     "output_type": "stream",
     "text": [
      "[Brandon Williams (1630314)] attempt 1\n"
     ]
    },
    {
     "name": "stderr",
     "output_type": "stream",
     "text": [
      "Players:  20%|██████████████▌                                                         | 97/480 [01:25<05:59,  1.07it/s]"
     ]
    },
    {
     "name": "stdout",
     "output_type": "stream",
     "text": [
      "[Kyrie Irving (202681)] attempt 1\n"
     ]
    },
    {
     "name": "stderr",
     "output_type": "stream",
     "text": [
      "Players:  20%|██████████████▋                                                         | 98/480 [01:26<06:20,  1.00it/s]"
     ]
    },
    {
     "name": "stdout",
     "output_type": "stream",
     "text": [
      "[Naji Marshall (1630230)] attempt 1\n"
     ]
    },
    {
     "name": "stderr",
     "output_type": "stream",
     "text": [
      "Players:  21%|██████████████▊                                                         | 99/480 [01:27<05:53,  1.08it/s]"
     ]
    },
    {
     "name": "stdout",
     "output_type": "stream",
     "text": [
      "[Caleb Martin (1628997)] attempt 1\n"
     ]
    },
    {
     "name": "stderr",
     "output_type": "stream",
     "text": [
      "Players:  21%|██████████████▊                                                        | 100/480 [01:28<05:22,  1.18it/s]"
     ]
    },
    {
     "name": "stdout",
     "output_type": "stream",
     "text": [
      "[Kessler Edwards (1630556)] attempt 1\n"
     ]
    },
    {
     "name": "stderr",
     "output_type": "stream",
     "text": [
      "Players:  21%|██████████████▉                                                        | 101/480 [01:29<05:31,  1.14it/s]"
     ]
    },
    {
     "name": "stdout",
     "output_type": "stream",
     "text": [
      "[Daniel Gafford (1629655)] attempt 1\n"
     ]
    },
    {
     "name": "stderr",
     "output_type": "stream",
     "text": [
      "Players:  21%|███████████████                                                        | 102/480 [01:29<05:15,  1.20it/s]"
     ]
    },
    {
     "name": "stdout",
     "output_type": "stream",
     "text": [
      "[Kai Jones (1630539)] attempt 1\n"
     ]
    },
    {
     "name": "stderr",
     "output_type": "stream",
     "text": [
      "Players:  21%|███████████████▏                                                       | 103/480 [01:30<04:56,  1.27it/s]"
     ]
    },
    {
     "name": "stdout",
     "output_type": "stream",
     "text": [
      "[P.J. Washington (1629023)] attempt 1\n"
     ]
    },
    {
     "name": "stderr",
     "output_type": "stream",
     "text": [
      "Players:  22%|███████████████▍                                                       | 104/480 [01:31<04:54,  1.28it/s]"
     ]
    },
    {
     "name": "stdout",
     "output_type": "stream",
     "text": [
      "[Spencer Dinwiddie (203915)] attempt 1\n"
     ]
    },
    {
     "name": "stderr",
     "output_type": "stream",
     "text": [
      "Players:  22%|███████████████▌                                                       | 105/480 [01:32<05:02,  1.24it/s]"
     ]
    },
    {
     "name": "stdout",
     "output_type": "stream",
     "text": [
      "[Klay Thompson (202691)] attempt 1\n"
     ]
    },
    {
     "name": "stderr",
     "output_type": "stream",
     "text": [
      "Players:  22%|███████████████▋                                                       | 106/480 [01:33<05:49,  1.07it/s]"
     ]
    },
    {
     "name": "stdout",
     "output_type": "stream",
     "text": [
      "[Christian Braun (1631128)] attempt 1\n"
     ]
    },
    {
     "name": "stderr",
     "output_type": "stream",
     "text": [
      "Players:  22%|███████████████▊                                                       | 107/480 [01:34<06:21,  1.02s/it]"
     ]
    },
    {
     "name": "stdout",
     "output_type": "stream",
     "text": [
      "[Michael Porter Jr. (1629008)] attempt 1\n"
     ]
    },
    {
     "name": "stderr",
     "output_type": "stream",
     "text": [
      "Players:  22%|███████████████▉                                                       | 108/480 [01:35<06:20,  1.02s/it]"
     ]
    },
    {
     "name": "stdout",
     "output_type": "stream",
     "text": [
      "[Julian Strawther (1631124)] attempt 1\n"
     ]
    },
    {
     "name": "stderr",
     "output_type": "stream",
     "text": [
      "Players:  23%|████████████████                                                       | 109/480 [01:36<06:17,  1.02s/it]"
     ]
    },
    {
     "name": "stdout",
     "output_type": "stream",
     "text": [
      "[Russell Westbrook (201566)] attempt 1\n"
     ]
    },
    {
     "name": "stderr",
     "output_type": "stream",
     "text": [
      "Players:  23%|████████████████▎                                                      | 110/480 [01:36<04:57,  1.24it/s]"
     ]
    },
    {
     "name": "stdout",
     "output_type": "stream",
     "text": [
      "[Hunter Tyson (1641816)] attempt 1\n"
     ]
    },
    {
     "name": "stderr",
     "output_type": "stream",
     "text": [
      "Players:  23%|████████████████▍                                                      | 111/480 [01:37<04:37,  1.33it/s]"
     ]
    },
    {
     "name": "stdout",
     "output_type": "stream",
     "text": [
      "[DeAndre Jordan (201599)] attempt 1\n"
     ]
    },
    {
     "name": "stderr",
     "output_type": "stream",
     "text": [
      "Players:  23%|████████████████▌                                                      | 112/480 [01:38<04:55,  1.25it/s]"
     ]
    },
    {
     "name": "stdout",
     "output_type": "stream",
     "text": [
      "[Peyton Watson (1631212)] attempt 1\n"
     ]
    },
    {
     "name": "stderr",
     "output_type": "stream",
     "text": [
      "Players:  24%|████████████████▋                                                      | 113/480 [01:39<04:45,  1.29it/s]"
     ]
    },
    {
     "name": "stdout",
     "output_type": "stream",
     "text": [
      "[Dario Šarić (203967)] attempt 1\n"
     ]
    },
    {
     "name": "stderr",
     "output_type": "stream",
     "text": [
      "Players:  24%|████████████████▊                                                      | 114/480 [01:40<05:22,  1.13it/s]"
     ]
    },
    {
     "name": "stdout",
     "output_type": "stream",
     "text": [
      "[PJ Hall (1641790)] attempt 1\n"
     ]
    },
    {
     "name": "stderr",
     "output_type": "stream",
     "text": [
      "Players:  24%|█████████████████                                                      | 115/480 [01:41<05:21,  1.13it/s]"
     ]
    },
    {
     "name": "stdout",
     "output_type": "stream",
     "text": [
      "[DaRon Holmes II (1641747)] attempt 1\n"
     ]
    },
    {
     "name": "stderr",
     "output_type": "stream",
     "text": [
      "Players:  24%|█████████████████▏                                                     | 116/480 [01:41<04:53,  1.24it/s]"
     ]
    },
    {
     "name": "stdout",
     "output_type": "stream",
     "text": [
      "[Nikola Jokić (203999)] attempt 1\n"
     ]
    },
    {
     "name": "stderr",
     "output_type": "stream",
     "text": [
      "Players:  24%|█████████████████▎                                                     | 117/480 [01:42<03:56,  1.53it/s]"
     ]
    },
    {
     "name": "stdout",
     "output_type": "stream",
     "text": [
      "[Spencer Jones (1642461)] attempt 1\n"
     ]
    },
    {
     "name": "stderr",
     "output_type": "stream",
     "text": [
      "Players:  25%|█████████████████▍                                                     | 118/480 [01:42<04:17,  1.40it/s]"
     ]
    },
    {
     "name": "stdout",
     "output_type": "stream",
     "text": [
      "[Zeke Nnaji (1630192)] attempt 1\n"
     ]
    },
    {
     "name": "stderr",
     "output_type": "stream",
     "text": [
      "Players:  25%|█████████████████▌                                                     | 119/480 [01:43<04:30,  1.34it/s]"
     ]
    },
    {
     "name": "stdout",
     "output_type": "stream",
     "text": [
      "[Trey Alexander (1641725)] attempt 1\n"
     ]
    },
    {
     "name": "stderr",
     "output_type": "stream",
     "text": [
      "Players:  25%|█████████████████▊                                                     | 120/480 [01:44<04:13,  1.42it/s]"
     ]
    },
    {
     "name": "stdout",
     "output_type": "stream",
     "text": [
      "[Jalen Pickett (1629618)] attempt 1\n"
     ]
    },
    {
     "name": "stderr",
     "output_type": "stream",
     "text": [
      "Players:  25%|█████████████████▉                                                     | 121/480 [01:45<04:20,  1.38it/s]"
     ]
    },
    {
     "name": "stdout",
     "output_type": "stream",
     "text": [
      "[Jamal Murray (1627750)] attempt 1\n"
     ]
    },
    {
     "name": "stderr",
     "output_type": "stream",
     "text": [
      "Players:  25%|██████████████████                                                     | 122/480 [01:45<04:23,  1.36it/s]"
     ]
    },
    {
     "name": "stdout",
     "output_type": "stream",
     "text": [
      "[Vlatko Čančar (1628427)] attempt 1\n"
     ]
    },
    {
     "name": "stderr",
     "output_type": "stream",
     "text": [
      "Players:  26%|██████████████████▏                                                    | 123/480 [01:46<04:16,  1.39it/s]"
     ]
    },
    {
     "name": "stdout",
     "output_type": "stream",
     "text": [
      "[Aaron Gordon (203932)] attempt 1\n"
     ]
    },
    {
     "name": "stderr",
     "output_type": "stream",
     "text": [
      "Players:  26%|██████████████████▎                                                    | 124/480 [01:47<04:12,  1.41it/s]"
     ]
    },
    {
     "name": "stdout",
     "output_type": "stream",
     "text": [
      "[Gary Payton II (1627780)] attempt 1\n"
     ]
    },
    {
     "name": "stderr",
     "output_type": "stream",
     "text": [
      "Players:  26%|██████████████████▍                                                    | 125/480 [01:48<04:31,  1.31it/s]"
     ]
    },
    {
     "name": "stdout",
     "output_type": "stream",
     "text": [
      "[Jonathan Kuminga (1630228)] attempt 1\n"
     ]
    },
    {
     "name": "stderr",
     "output_type": "stream",
     "text": [
      "Players:  26%|██████████████████▋                                                    | 126/480 [01:49<05:09,  1.14it/s]"
     ]
    },
    {
     "name": "stdout",
     "output_type": "stream",
     "text": [
      "[Taran Armstrong (1642379)] attempt 1\n"
     ]
    },
    {
     "name": "stderr",
     "output_type": "stream",
     "text": [
      "Players:  26%|██████████████████▊                                                    | 127/480 [01:50<05:23,  1.09it/s]"
     ]
    },
    {
     "name": "stdout",
     "output_type": "stream",
     "text": [
      "[Brandin Podziemski (1641764)] attempt 1\n"
     ]
    },
    {
     "name": "stderr",
     "output_type": "stream",
     "text": [
      "Players:  27%|██████████████████▉                                                    | 128/480 [01:51<04:59,  1.18it/s]"
     ]
    },
    {
     "name": "stdout",
     "output_type": "stream",
     "text": [
      "[Moses Moody (1630541)] attempt 1\n"
     ]
    },
    {
     "name": "stderr",
     "output_type": "stream",
     "text": [
      "Players:  27%|███████████████████                                                    | 129/480 [01:51<04:47,  1.22it/s]"
     ]
    },
    {
     "name": "stdout",
     "output_type": "stream",
     "text": [
      "[Kevon Looney (1626172)] attempt 1\n"
     ]
    },
    {
     "name": "stderr",
     "output_type": "stream",
     "text": [
      "Players:  27%|███████████████████▏                                                   | 130/480 [01:52<04:55,  1.19it/s]"
     ]
    },
    {
     "name": "stdout",
     "output_type": "stream",
     "text": [
      "[Buddy Hield (1627741)] attempt 1\n"
     ]
    },
    {
     "name": "stderr",
     "output_type": "stream",
     "text": [
      "Players:  28%|███████████████████▌                                                   | 132/480 [01:53<03:01,  1.92it/s]"
     ]
    },
    {
     "name": "stdout",
     "output_type": "stream",
     "text": [
      "[Jimmy Butler III (202710)] attempt 1\n",
      "[Braxton Key (1630296)] attempt 1\n"
     ]
    },
    {
     "name": "stderr",
     "output_type": "stream",
     "text": [
      "Players:  28%|███████████████████▋                                                   | 133/480 [01:53<03:15,  1.78it/s]"
     ]
    },
    {
     "name": "stdout",
     "output_type": "stream",
     "text": [
      "[Gui Santos (1630611)] attempt 1\n"
     ]
    },
    {
     "name": "stderr",
     "output_type": "stream",
     "text": [
      "Players:  28%|███████████████████▊                                                   | 134/480 [01:54<03:25,  1.68it/s]"
     ]
    },
    {
     "name": "stdout",
     "output_type": "stream",
     "text": [
      "[Quinten Post (1642366)] attempt 1\n"
     ]
    },
    {
     "name": "stderr",
     "output_type": "stream",
     "text": [
      "Players:  28%|███████████████████▉                                                   | 135/480 [01:55<03:39,  1.57it/s]"
     ]
    },
    {
     "name": "stdout",
     "output_type": "stream",
     "text": [
      "[Draymond Green (203110)] attempt 1\n"
     ]
    },
    {
     "name": "stderr",
     "output_type": "stream",
     "text": [
      "Players:  28%|████████████████████                                                   | 136/480 [01:56<04:07,  1.39it/s]"
     ]
    },
    {
     "name": "stdout",
     "output_type": "stream",
     "text": [
      "[Stephen Curry (201939)] attempt 1\n"
     ]
    },
    {
     "name": "stderr",
     "output_type": "stream",
     "text": [
      "Players:  29%|████████████████████▎                                                  | 137/480 [01:57<04:59,  1.15it/s]"
     ]
    },
    {
     "name": "stdout",
     "output_type": "stream",
     "text": [
      "[Kevin Knox II (1628995)] attempt 1\n"
     ]
    },
    {
     "name": "stderr",
     "output_type": "stream",
     "text": [
      "Players:  29%|████████████████████▍                                                  | 138/480 [01:58<05:02,  1.13it/s]"
     ]
    },
    {
     "name": "stdout",
     "output_type": "stream",
     "text": [
      "[Trayce Jackson-Davis (1631218)] attempt 1\n"
     ]
    },
    {
     "name": "stderr",
     "output_type": "stream",
     "text": [
      "Players:  29%|████████████████████▌                                                  | 139/480 [01:59<05:05,  1.12it/s]"
     ]
    },
    {
     "name": "stdout",
     "output_type": "stream",
     "text": [
      "[Jackson Rowe (1642050)] attempt 1\n"
     ]
    },
    {
     "name": "stderr",
     "output_type": "stream",
     "text": [
      "Players:  29%|████████████████████▋                                                  | 140/480 [01:59<04:56,  1.15it/s]"
     ]
    },
    {
     "name": "stdout",
     "output_type": "stream",
     "text": [
      "[Pat Spencer (1630311)] attempt 1\n"
     ]
    },
    {
     "name": "stderr",
     "output_type": "stream",
     "text": [
      "Players:  29%|████████████████████▊                                                  | 141/480 [02:00<04:32,  1.24it/s]"
     ]
    },
    {
     "name": "stdout",
     "output_type": "stream",
     "text": [
      "[Aaron Holiday (1628988)] attempt 1\n"
     ]
    },
    {
     "name": "stderr",
     "output_type": "stream",
     "text": [
      "Players:  30%|█████████████████████                                                  | 142/480 [02:01<04:51,  1.16it/s]"
     ]
    },
    {
     "name": "stdout",
     "output_type": "stream",
     "text": [
      "[Amen Thompson (1641708)] attempt 1\n"
     ]
    },
    {
     "name": "stderr",
     "output_type": "stream",
     "text": [
      "Players:  30%|█████████████████████▏                                                 | 143/480 [02:01<03:54,  1.44it/s]"
     ]
    },
    {
     "name": "stdout",
     "output_type": "stream",
     "text": [
      "[Jock Landale (1629111)] attempt 1\n"
     ]
    },
    {
     "name": "stderr",
     "output_type": "stream",
     "text": [
      "Players:  30%|█████████████████████▎                                                 | 144/480 [02:02<04:16,  1.31it/s]"
     ]
    },
    {
     "name": "stdout",
     "output_type": "stream",
     "text": [
      "[N'Faly Dante (1642368)] attempt 1\n"
     ]
    },
    {
     "name": "stderr",
     "output_type": "stream",
     "text": [
      "Players:  30%|█████████████████████▍                                                 | 145/480 [02:03<04:21,  1.28it/s]"
     ]
    },
    {
     "name": "stdout",
     "output_type": "stream",
     "text": [
      "[Jalen Green (1630224)] attempt 1\n"
     ]
    },
    {
     "name": "stderr",
     "output_type": "stream",
     "text": [
      "Players:  30%|█████████████████████▌                                                 | 146/480 [02:04<04:24,  1.26it/s]"
     ]
    },
    {
     "name": "stdout",
     "output_type": "stream",
     "text": [
      "[Fred VanVleet (1627832)] attempt 1\n"
     ]
    },
    {
     "name": "stderr",
     "output_type": "stream",
     "text": [
      "Players:  31%|█████████████████████▋                                                 | 147/480 [02:07<07:30,  1.35s/it]"
     ]
    },
    {
     "name": "stdout",
     "output_type": "stream",
     "text": [
      "[Cam Whitmore (1641715)] attempt 1\n"
     ]
    },
    {
     "name": "stderr",
     "output_type": "stream",
     "text": [
      "Players:  31%|█████████████████████▉                                                 | 148/480 [02:07<06:20,  1.14s/it]"
     ]
    },
    {
     "name": "stdout",
     "output_type": "stream",
     "text": [
      "[Jae'Sean Tate (1630256)] attempt 1\n"
     ]
    },
    {
     "name": "stderr",
     "output_type": "stream",
     "text": [
      "Players:  31%|██████████████████████                                                 | 149/480 [02:08<05:54,  1.07s/it]"
     ]
    },
    {
     "name": "stdout",
     "output_type": "stream",
     "text": [
      "[Dillon Brooks (1628415)] attempt 1\n"
     ]
    },
    {
     "name": "stderr",
     "output_type": "stream",
     "text": [
      "Players:  31%|██████████████████████▏                                                | 150/480 [02:09<05:55,  1.08s/it]"
     ]
    },
    {
     "name": "stdout",
     "output_type": "stream",
     "text": [
      "[Jabari Smith Jr. (1631095)] attempt 1\n"
     ]
    },
    {
     "name": "stderr",
     "output_type": "stream",
     "text": [
      "Players:  31%|██████████████████████▎                                                | 151/480 [02:10<05:19,  1.03it/s]"
     ]
    },
    {
     "name": "stdout",
     "output_type": "stream",
     "text": [
      "[Steven Adams (203500)] attempt 1\n"
     ]
    },
    {
     "name": "stderr",
     "output_type": "stream",
     "text": [
      "Players:  32%|██████████████████████▍                                                | 152/480 [02:11<05:14,  1.04it/s]"
     ]
    },
    {
     "name": "stdout",
     "output_type": "stream",
     "text": [
      "[Reed Sheppard (1642263)] attempt 1\n"
     ]
    },
    {
     "name": "stderr",
     "output_type": "stream",
     "text": [
      "Players:  32%|██████████████████████▋                                                | 153/480 [02:12<05:19,  1.02it/s]"
     ]
    },
    {
     "name": "stdout",
     "output_type": "stream",
     "text": [
      "[Tari Eason (1631106)] attempt 1\n"
     ]
    },
    {
     "name": "stderr",
     "output_type": "stream",
     "text": [
      "Players:  32%|██████████████████████▊                                                | 154/480 [02:13<05:07,  1.06it/s]"
     ]
    },
    {
     "name": "stdout",
     "output_type": "stream",
     "text": [
      "[Nate Williams (1631466)] attempt 1\n"
     ]
    },
    {
     "name": "stderr",
     "output_type": "stream",
     "text": [
      "Players:  32%|██████████████████████▉                                                | 155/480 [02:14<05:05,  1.07it/s]"
     ]
    },
    {
     "name": "stdout",
     "output_type": "stream",
     "text": [
      "[Alperen Sengun (1630578)] attempt 1\n"
     ]
    },
    {
     "name": "stderr",
     "output_type": "stream",
     "text": [
      "Players:  32%|███████████████████████                                                | 156/480 [02:15<04:58,  1.09it/s]"
     ]
    },
    {
     "name": "stdout",
     "output_type": "stream",
     "text": [
      "[Jeff Green (201145)] attempt 1\n"
     ]
    },
    {
     "name": "stderr",
     "output_type": "stream",
     "text": [
      "Players:  33%|███████████████████████▏                                               | 157/480 [02:15<04:34,  1.18it/s]"
     ]
    },
    {
     "name": "stdout",
     "output_type": "stream",
     "text": [
      "[David Roddy (1631223)] attempt 1\n"
     ]
    },
    {
     "name": "stderr",
     "output_type": "stream",
     "text": [
      "Players:  33%|███████████████████████▎                                               | 158/480 [02:16<04:42,  1.14it/s]"
     ]
    },
    {
     "name": "stdout",
     "output_type": "stream",
     "text": [
      "[Jack McVeigh (1629098)] attempt 1\n"
     ]
    },
    {
     "name": "stderr",
     "output_type": "stream",
     "text": [
      "Players:  33%|███████████████████████▌                                               | 159/480 [02:17<04:36,  1.16it/s]"
     ]
    },
    {
     "name": "stdout",
     "output_type": "stream",
     "text": [
      "[James Harden (201935)] attempt 1\n"
     ]
    },
    {
     "name": "stderr",
     "output_type": "stream",
     "text": [
      "Players:  33%|███████████████████████▋                                               | 160/480 [02:18<04:22,  1.22it/s]"
     ]
    },
    {
     "name": "stdout",
     "output_type": "stream",
     "text": [
      "[Kawhi Leonard (202695)] attempt 1\n"
     ]
    },
    {
     "name": "stderr",
     "output_type": "stream",
     "text": [
      "Players:  34%|███████████████████████▊                                               | 161/480 [02:19<04:30,  1.18it/s]"
     ]
    },
    {
     "name": "stdout",
     "output_type": "stream",
     "text": [
      "[Seth Lundy (1641754)] attempt 1\n"
     ]
    },
    {
     "name": "stderr",
     "output_type": "stream",
     "text": [
      "Players:  34%|███████████████████████▉                                               | 162/480 [02:20<04:26,  1.19it/s]"
     ]
    },
    {
     "name": "stdout",
     "output_type": "stream",
     "text": [
      "[Amir Coffey (1629599)] attempt 1\n"
     ]
    },
    {
     "name": "stderr",
     "output_type": "stream",
     "text": [
      "Players:  34%|████████████████████████                                               | 163/480 [02:20<04:24,  1.20it/s]"
     ]
    },
    {
     "name": "stdout",
     "output_type": "stream",
     "text": [
      "[Kris Dunn (1627739)] attempt 1\n"
     ]
    },
    {
     "name": "stderr",
     "output_type": "stream",
     "text": [
      "Players:  34%|████████████████████████▎                                              | 164/480 [02:21<04:41,  1.12it/s]"
     ]
    },
    {
     "name": "stdout",
     "output_type": "stream",
     "text": [
      "[Trentyn Flowers (1642280)] attempt 1\n"
     ]
    },
    {
     "name": "stderr",
     "output_type": "stream",
     "text": [
      "Players:  34%|████████████████████████▍                                              | 165/480 [02:22<04:33,  1.15it/s]"
     ]
    },
    {
     "name": "stdout",
     "output_type": "stream",
     "text": [
      "[Bogdan Bogdanović (203992)] attempt 1\n"
     ]
    },
    {
     "name": "stderr",
     "output_type": "stream",
     "text": [
      "Players:  35%|████████████████████████▌                                              | 166/480 [02:23<04:21,  1.20it/s]"
     ]
    },
    {
     "name": "stdout",
     "output_type": "stream",
     "text": [
      "[Jordan Miller (1641757)] attempt 1\n"
     ]
    },
    {
     "name": "stderr",
     "output_type": "stream",
     "text": [
      "Players:  35%|████████████████████████▋                                              | 167/480 [02:24<04:06,  1.27it/s]"
     ]
    },
    {
     "name": "stdout",
     "output_type": "stream",
     "text": [
      "[Cam Christie (1642353)] attempt 1\n"
     ]
    },
    {
     "name": "stderr",
     "output_type": "stream",
     "text": [
      "Players:  35%|████████████████████████▊                                              | 168/480 [02:24<03:49,  1.36it/s]"
     ]
    },
    {
     "name": "stdout",
     "output_type": "stream",
     "text": [
      "[Drew Eubanks (1629234)] attempt 1\n"
     ]
    },
    {
     "name": "stderr",
     "output_type": "stream",
     "text": [
      "Players:  35%|████████████████████████▉                                              | 169/480 [02:25<03:56,  1.31it/s]"
     ]
    },
    {
     "name": "stdout",
     "output_type": "stream",
     "text": [
      "[Kobe Brown (1641738)] attempt 1\n"
     ]
    },
    {
     "name": "stderr",
     "output_type": "stream",
     "text": [
      "Players:  35%|█████████████████████████▏                                             | 170/480 [02:26<03:48,  1.36it/s]"
     ]
    },
    {
     "name": "stdout",
     "output_type": "stream",
     "text": [
      "[Patrick Baldwin Jr. (1631116)] attempt 1\n"
     ]
    },
    {
     "name": "stderr",
     "output_type": "stream",
     "text": [
      "Players:  36%|█████████████████████████▎                                             | 171/480 [02:27<03:49,  1.35it/s]"
     ]
    },
    {
     "name": "stdout",
     "output_type": "stream",
     "text": [
      "[Norman Powell (1626181)] attempt 1\n"
     ]
    },
    {
     "name": "stderr",
     "output_type": "stream",
     "text": [
      "Players:  36%|█████████████████████████▍                                             | 172/480 [02:28<04:24,  1.17it/s]"
     ]
    },
    {
     "name": "stdout",
     "output_type": "stream",
     "text": [
      "[Ben Simmons (1627732)] attempt 1\n"
     ]
    },
    {
     "name": "stderr",
     "output_type": "stream",
     "text": [
      "Players:  36%|█████████████████████████▌                                             | 173/480 [02:28<04:10,  1.23it/s]"
     ]
    },
    {
     "name": "stdout",
     "output_type": "stream",
     "text": [
      "[Nicolas Batum (201587)] attempt 1\n"
     ]
    },
    {
     "name": "stderr",
     "output_type": "stream",
     "text": [
      "Players:  36%|█████████████████████████▋                                             | 174/480 [02:30<04:47,  1.06it/s]"
     ]
    },
    {
     "name": "stdout",
     "output_type": "stream",
     "text": [
      "[Ivica Zubac (1627826)] attempt 1\n"
     ]
    },
    {
     "name": "stderr",
     "output_type": "stream",
     "text": [
      "Players:  36%|█████████████████████████▉                                             | 175/480 [02:30<04:27,  1.14it/s]"
     ]
    },
    {
     "name": "stdout",
     "output_type": "stream",
     "text": [
      "[Derrick Jones Jr. (1627884)] attempt 1\n"
     ]
    },
    {
     "name": "stderr",
     "output_type": "stream",
     "text": [
      "Players:  37%|██████████████████████████                                             | 176/480 [02:31<04:14,  1.20it/s]"
     ]
    },
    {
     "name": "stdout",
     "output_type": "stream",
     "text": [
      "[Patty Mills (201988)] attempt 1\n"
     ]
    },
    {
     "name": "stderr",
     "output_type": "stream",
     "text": [
      "Players:  37%|██████████████████████████▏                                            | 177/480 [02:32<04:26,  1.14it/s]"
     ]
    },
    {
     "name": "stdout",
     "output_type": "stream",
     "text": [
      "[Jarred Vanderbilt (1629020)] attempt 1\n"
     ]
    },
    {
     "name": "stderr",
     "output_type": "stream",
     "text": [
      "Players:  37%|██████████████████████████▎                                            | 178/480 [02:33<04:20,  1.16it/s]"
     ]
    },
    {
     "name": "stdout",
     "output_type": "stream",
     "text": [
      "[Dalton Knecht (1642261)] attempt 1\n"
     ]
    },
    {
     "name": "stderr",
     "output_type": "stream",
     "text": [
      "Players:  37%|██████████████████████████▍                                            | 179/480 [02:34<04:15,  1.18it/s]"
     ]
    },
    {
     "name": "stdout",
     "output_type": "stream",
     "text": [
      "[Gabe Vincent (1629216)] attempt 1\n"
     ]
    },
    {
     "name": "stderr",
     "output_type": "stream",
     "text": [
      "Players:  38%|██████████████████████████▋                                            | 180/480 [02:35<04:49,  1.04it/s]"
     ]
    },
    {
     "name": "stdout",
     "output_type": "stream",
     "text": [
      "[Bronny James (1642355)] attempt 1\n"
     ]
    },
    {
     "name": "stderr",
     "output_type": "stream",
     "text": [
      "Players:  38%|██████████████████████████▊                                            | 181/480 [02:38<07:32,  1.51s/it]"
     ]
    },
    {
     "name": "stdout",
     "output_type": "stream",
     "text": [
      "[Christian Koloko (1631132)] attempt 1\n"
     ]
    },
    {
     "name": "stderr",
     "output_type": "stream",
     "text": [
      "Players:  38%|██████████████████████████▉                                            | 182/480 [02:38<06:16,  1.26s/it]"
     ]
    },
    {
     "name": "stdout",
     "output_type": "stream",
     "text": [
      "[Jaxson Hayes (1629637)] attempt 1\n"
     ]
    },
    {
     "name": "stderr",
     "output_type": "stream",
     "text": [
      "Players:  38%|███████████████████████████                                            | 183/480 [02:39<05:42,  1.15s/it]"
     ]
    },
    {
     "name": "stdout",
     "output_type": "stream",
     "text": [
      "[Maxi Kleber (1628467)] attempt 1\n"
     ]
    },
    {
     "name": "stderr",
     "output_type": "stream",
     "text": [
      "Players:  38%|███████████████████████████▏                                           | 184/480 [02:40<05:22,  1.09s/it]"
     ]
    },
    {
     "name": "stdout",
     "output_type": "stream",
     "text": [
      "[Austin Reaves (1630559)] attempt 1\n"
     ]
    },
    {
     "name": "stderr",
     "output_type": "stream",
     "text": [
      "Players:  39%|███████████████████████████▎                                           | 185/480 [02:41<05:34,  1.14s/it]"
     ]
    },
    {
     "name": "stdout",
     "output_type": "stream",
     "text": [
      "[Dorian Finney-Smith (1627827)] attempt 1\n"
     ]
    },
    {
     "name": "stderr",
     "output_type": "stream",
     "text": [
      "Players:  39%|███████████████████████████▌                                           | 186/480 [02:43<05:23,  1.10s/it]"
     ]
    },
    {
     "name": "stdout",
     "output_type": "stream",
     "text": [
      "[Shake Milton (1629003)] attempt 1\n"
     ]
    },
    {
     "name": "stderr",
     "output_type": "stream",
     "text": [
      "Players:  39%|███████████████████████████▋                                           | 187/480 [02:43<04:55,  1.01s/it]"
     ]
    },
    {
     "name": "stdout",
     "output_type": "stream",
     "text": [
      "[LeBron James (2544)] attempt 1\n"
     ]
    },
    {
     "name": "stderr",
     "output_type": "stream",
     "text": [
      "Players:  39%|███████████████████████████▊                                           | 188/480 [02:44<04:40,  1.04it/s]"
     ]
    },
    {
     "name": "stdout",
     "output_type": "stream",
     "text": [
      "[Alex Len (203458)] attempt 1\n"
     ]
    },
    {
     "name": "stderr",
     "output_type": "stream",
     "text": [
      "Players:  39%|███████████████████████████▉                                           | 189/480 [02:45<04:31,  1.07it/s]"
     ]
    },
    {
     "name": "stdout",
     "output_type": "stream",
     "text": [
      "[Rui Hachimura (1629060)] attempt 1\n"
     ]
    },
    {
     "name": "stderr",
     "output_type": "stream",
     "text": [
      "Players:  40%|████████████████████████████                                           | 190/480 [02:46<04:14,  1.14it/s]"
     ]
    },
    {
     "name": "stdout",
     "output_type": "stream",
     "text": [
      "[Jordan Goodwin (1630692)] attempt 1\n"
     ]
    },
    {
     "name": "stderr",
     "output_type": "stream",
     "text": [
      "Players:  40%|████████████████████████████▎                                          | 191/480 [02:47<04:18,  1.12it/s]"
     ]
    },
    {
     "name": "stdout",
     "output_type": "stream",
     "text": [
      "[Trey Jemison III (1641998)] attempt 1\n"
     ]
    },
    {
     "name": "stderr",
     "output_type": "stream",
     "text": [
      "Players:  40%|████████████████████████████▍                                          | 192/480 [02:48<04:20,  1.11it/s]"
     ]
    },
    {
     "name": "stdout",
     "output_type": "stream",
     "text": [
      "[Luka Dončić (1629029)] attempt 1\n"
     ]
    },
    {
     "name": "stderr",
     "output_type": "stream",
     "text": [
      "Players:  40%|████████████████████████████▌                                          | 193/480 [02:48<03:28,  1.38it/s]"
     ]
    },
    {
     "name": "stdout",
     "output_type": "stream",
     "text": [
      "[Markieff Morris (202693)] attempt 1\n"
     ]
    },
    {
     "name": "stderr",
     "output_type": "stream",
     "text": [
      "Players:  40%|████████████████████████████▋                                          | 194/480 [02:49<03:33,  1.34it/s]"
     ]
    },
    {
     "name": "stdout",
     "output_type": "stream",
     "text": [
      "[Isaiah Stevens (1641815)] attempt 1\n"
     ]
    },
    {
     "name": "stderr",
     "output_type": "stream",
     "text": [
      "Players:  41%|████████████████████████████▊                                          | 195/480 [02:50<03:49,  1.24it/s]"
     ]
    },
    {
     "name": "stdout",
     "output_type": "stream",
     "text": [
      "[Terry Rozier (1626179)] attempt 1\n"
     ]
    },
    {
     "name": "stderr",
     "output_type": "stream",
     "text": [
      "Players:  41%|████████████████████████████▉                                          | 196/480 [02:50<03:50,  1.23it/s]"
     ]
    },
    {
     "name": "stdout",
     "output_type": "stream",
     "text": [
      "[Nikola Jović (1631107)] attempt 1\n"
     ]
    },
    {
     "name": "stderr",
     "output_type": "stream",
     "text": [
      "Players:  41%|█████████████████████████████▏                                         | 197/480 [02:52<04:07,  1.14it/s]"
     ]
    },
    {
     "name": "stdout",
     "output_type": "stream",
     "text": [
      "[Kel'el Ware (1642276)] attempt 1\n"
     ]
    },
    {
     "name": "stderr",
     "output_type": "stream",
     "text": [
      "Players:  41%|█████████████████████████████▎                                         | 198/480 [02:53<04:19,  1.09it/s]"
     ]
    },
    {
     "name": "stdout",
     "output_type": "stream",
     "text": [
      "[Josh Christopher (1630528)] attempt 1\n"
     ]
    },
    {
     "name": "stderr",
     "output_type": "stream",
     "text": [
      "Players:  41%|█████████████████████████████▍                                         | 199/480 [02:53<03:55,  1.19it/s]"
     ]
    },
    {
     "name": "stdout",
     "output_type": "stream",
     "text": [
      "[Pelle Larsson (1641796)] attempt 1\n"
     ]
    },
    {
     "name": "stderr",
     "output_type": "stream",
     "text": [
      "Players:  42%|█████████████████████████████▌                                         | 200/480 [02:54<03:36,  1.30it/s]"
     ]
    },
    {
     "name": "stdout",
     "output_type": "stream",
     "text": [
      "[Jaime Jaquez Jr. (1631170)] attempt 1\n"
     ]
    },
    {
     "name": "stderr",
     "output_type": "stream",
     "text": [
      "Players:  42%|█████████████████████████████▋                                         | 201/480 [02:55<03:51,  1.20it/s]"
     ]
    },
    {
     "name": "stdout",
     "output_type": "stream",
     "text": [
      "[Dru Smith (1630696)] attempt 1\n"
     ]
    },
    {
     "name": "stderr",
     "output_type": "stream",
     "text": [
      "Players:  42%|█████████████████████████████▉                                         | 202/480 [02:56<03:42,  1.25it/s]"
     ]
    },
    {
     "name": "stdout",
     "output_type": "stream",
     "text": [
      "[Bam Adebayo (1628389)] attempt 1\n"
     ]
    },
    {
     "name": "stderr",
     "output_type": "stream",
     "text": [
      "Players:  42%|██████████████████████████████                                         | 203/480 [02:57<03:59,  1.15it/s]"
     ]
    },
    {
     "name": "stdout",
     "output_type": "stream",
     "text": [
      "[Tyler Herro (1629639)] attempt 1\n"
     ]
    },
    {
     "name": "stderr",
     "output_type": "stream",
     "text": [
      "Players:  42%|██████████████████████████████▏                                        | 204/480 [02:57<03:52,  1.19it/s]"
     ]
    },
    {
     "name": "stdout",
     "output_type": "stream",
     "text": [
      "[Keshad Johnson (1642352)] attempt 1\n"
     ]
    },
    {
     "name": "stderr",
     "output_type": "stream",
     "text": [
      "Players:  43%|██████████████████████████████▎                                        | 205/480 [02:58<04:01,  1.14it/s]"
     ]
    },
    {
     "name": "stdout",
     "output_type": "stream",
     "text": [
      "[Alec Burks (202692)] attempt 1\n"
     ]
    },
    {
     "name": "stderr",
     "output_type": "stream",
     "text": [
      "Players:  43%|██████████████████████████████▍                                        | 206/480 [02:59<03:47,  1.20it/s]"
     ]
    },
    {
     "name": "stdout",
     "output_type": "stream",
     "text": [
      "[Kyle Anderson (203937)] attempt 1\n"
     ]
    },
    {
     "name": "stderr",
     "output_type": "stream",
     "text": [
      "Players:  43%|██████████████████████████████▌                                        | 207/480 [03:00<03:53,  1.17it/s]"
     ]
    },
    {
     "name": "stdout",
     "output_type": "stream",
     "text": [
      "[Andrew Wiggins (203952)] attempt 1\n"
     ]
    },
    {
     "name": "stderr",
     "output_type": "stream",
     "text": [
      "Players:  43%|██████████████████████████████▊                                        | 208/480 [03:01<03:49,  1.18it/s]"
     ]
    },
    {
     "name": "stdout",
     "output_type": "stream",
     "text": [
      "[Haywood Highsmith (1629312)] attempt 1\n"
     ]
    },
    {
     "name": "stderr",
     "output_type": "stream",
     "text": [
      "Players:  44%|██████████████████████████████▉                                        | 209/480 [03:02<04:20,  1.04it/s]"
     ]
    },
    {
     "name": "stdout",
     "output_type": "stream",
     "text": [
      "[Kevin Love (201567)] attempt 1\n"
     ]
    },
    {
     "name": "stderr",
     "output_type": "stream",
     "text": [
      "Players:  44%|███████████████████████████████                                        | 210/480 [03:03<04:07,  1.09it/s]"
     ]
    },
    {
     "name": "stdout",
     "output_type": "stream",
     "text": [
      "[Davion Mitchell (1630558)] attempt 1\n"
     ]
    },
    {
     "name": "stderr",
     "output_type": "stream",
     "text": [
      "Players:  44%|███████████████████████████████▏                                       | 211/480 [03:04<04:15,  1.05it/s]"
     ]
    },
    {
     "name": "stdout",
     "output_type": "stream",
     "text": [
      "[Duncan Robinson (1629130)] attempt 1\n"
     ]
    },
    {
     "name": "stderr",
     "output_type": "stream",
     "text": [
      "Players:  44%|███████████████████████████████▎                                       | 212/480 [03:05<04:20,  1.03it/s]"
     ]
    },
    {
     "name": "stdout",
     "output_type": "stream",
     "text": [
      "[Damian Lillard (203081)] attempt 1\n"
     ]
    },
    {
     "name": "stderr",
     "output_type": "stream",
     "text": [
      "Players:  44%|███████████████████████████████▌                                       | 213/480 [03:06<04:07,  1.08it/s]"
     ]
    },
    {
     "name": "stdout",
     "output_type": "stream",
     "text": [
      "[Jericho Sims (1630579)] attempt 1\n"
     ]
    },
    {
     "name": "stderr",
     "output_type": "stream",
     "text": [
      "Players:  45%|███████████████████████████████▋                                       | 214/480 [03:06<03:57,  1.12it/s]"
     ]
    },
    {
     "name": "stdout",
     "output_type": "stream",
     "text": [
      "[Kevin Porter Jr. (1629645)] attempt 1\n"
     ]
    },
    {
     "name": "stderr",
     "output_type": "stream",
     "text": [
      "Players:  45%|███████████████████████████████▊                                       | 215/480 [03:07<03:50,  1.15it/s]"
     ]
    },
    {
     "name": "stdout",
     "output_type": "stream",
     "text": [
      "[Gary Trent Jr. (1629018)] attempt 1\n"
     ]
    },
    {
     "name": "stderr",
     "output_type": "stream",
     "text": [
      "Players:  45%|███████████████████████████████▉                                       | 216/480 [03:08<03:41,  1.19it/s]"
     ]
    },
    {
     "name": "stdout",
     "output_type": "stream",
     "text": [
      "[Chris Livingston (1641753)] attempt 1\n"
     ]
    },
    {
     "name": "stderr",
     "output_type": "stream",
     "text": [
      "Players:  45%|████████████████████████████████                                       | 217/480 [03:09<03:27,  1.27it/s]"
     ]
    },
    {
     "name": "stdout",
     "output_type": "stream",
     "text": [
      "[Bobby Portis (1626171)] attempt 1\n"
     ]
    },
    {
     "name": "stderr",
     "output_type": "stream",
     "text": [
      "Players:  45%|████████████████████████████████▏                                      | 218/480 [03:10<03:28,  1.25it/s]"
     ]
    },
    {
     "name": "stdout",
     "output_type": "stream",
     "text": [
      "[Brook Lopez (201572)] attempt 1\n"
     ]
    },
    {
     "name": "stderr",
     "output_type": "stream",
     "text": [
      "Players:  46%|████████████████████████████████▍                                      | 219/480 [03:10<03:21,  1.29it/s]"
     ]
    },
    {
     "name": "stdout",
     "output_type": "stream",
     "text": [
      "[Taurean Prince (1627752)] attempt 1\n"
     ]
    },
    {
     "name": "stderr",
     "output_type": "stream",
     "text": [
      "Players:  46%|████████████████████████████████▌                                      | 220/480 [03:11<03:48,  1.14it/s]"
     ]
    },
    {
     "name": "stdout",
     "output_type": "stream",
     "text": [
      "[Ryan Rollins (1631157)] attempt 1\n"
     ]
    },
    {
     "name": "stderr",
     "output_type": "stream",
     "text": [
      "Players:  46%|████████████████████████████████▋                                      | 221/480 [03:12<03:50,  1.12it/s]"
     ]
    },
    {
     "name": "stdout",
     "output_type": "stream",
     "text": [
      "[Jamaree Bouyea (1631123)] attempt 1\n"
     ]
    },
    {
     "name": "stderr",
     "output_type": "stream",
     "text": [
      "Players:  46%|████████████████████████████████▊                                      | 222/480 [03:13<03:28,  1.24it/s]"
     ]
    },
    {
     "name": "stdout",
     "output_type": "stream",
     "text": [
      "[Stanley Umude (1630649)] attempt 1\n"
     ]
    },
    {
     "name": "stderr",
     "output_type": "stream",
     "text": [
      "Players:  46%|████████████████████████████████▉                                      | 223/480 [03:14<03:20,  1.28it/s]"
     ]
    },
    {
     "name": "stdout",
     "output_type": "stream",
     "text": [
      "[Kyle Kuzma (1628398)] attempt 1\n"
     ]
    },
    {
     "name": "stderr",
     "output_type": "stream",
     "text": [
      "Players:  47%|█████████████████████████████████▏                                     | 224/480 [03:14<03:14,  1.32it/s]"
     ]
    },
    {
     "name": "stdout",
     "output_type": "stream",
     "text": [
      "[AJ Green (1631260)] attempt 1\n"
     ]
    },
    {
     "name": "stderr",
     "output_type": "stream",
     "text": [
      "Players:  47%|█████████████████████████████████▎                                     | 225/480 [03:15<03:34,  1.19it/s]"
     ]
    },
    {
     "name": "stdout",
     "output_type": "stream",
     "text": [
      "[Tyler Smith (1641890)] attempt 1\n"
     ]
    },
    {
     "name": "stderr",
     "output_type": "stream",
     "text": [
      "Players:  47%|█████████████████████████████████▍                                     | 226/480 [03:16<03:20,  1.26it/s]"
     ]
    },
    {
     "name": "stdout",
     "output_type": "stream",
     "text": [
      "[Pat Connaughton (1626192)] attempt 1\n"
     ]
    },
    {
     "name": "stderr",
     "output_type": "stream",
     "text": [
      "Players:  47%|█████████████████████████████████▌                                     | 227/480 [03:17<03:25,  1.23it/s]"
     ]
    },
    {
     "name": "stdout",
     "output_type": "stream",
     "text": [
      "[Giannis Antetokounmpo (203507)] attempt 1\n"
     ]
    },
    {
     "name": "stderr",
     "output_type": "stream",
     "text": [
      "Players:  48%|█████████████████████████████████▋                                     | 228/480 [03:17<02:46,  1.51it/s]"
     ]
    },
    {
     "name": "stdout",
     "output_type": "stream",
     "text": [
      "[Pete Nance (1631250)] attempt 1\n"
     ]
    },
    {
     "name": "stderr",
     "output_type": "stream",
     "text": [
      "Players:  48%|█████████████████████████████████▊                                     | 229/480 [03:18<03:05,  1.35it/s]"
     ]
    },
    {
     "name": "stdout",
     "output_type": "stream",
     "text": [
      "[Andre Jackson Jr. (1641748)] attempt 1\n"
     ]
    },
    {
     "name": "stderr",
     "output_type": "stream",
     "text": [
      "Players:  48%|██████████████████████████████████                                     | 230/480 [03:19<03:15,  1.28it/s]"
     ]
    },
    {
     "name": "stdout",
     "output_type": "stream",
     "text": [
      "[Terrence Shannon Jr. (1630545)] attempt 1\n"
     ]
    },
    {
     "name": "stderr",
     "output_type": "stream",
     "text": [
      "Players:  48%|██████████████████████████████████▏                                    | 231/480 [03:20<03:20,  1.24it/s]"
     ]
    },
    {
     "name": "stdout",
     "output_type": "stream",
     "text": [
      "[Donte DiVincenzo (1628978)] attempt 1\n"
     ]
    },
    {
     "name": "stderr",
     "output_type": "stream",
     "text": [
      "Players:  48%|██████████████████████████████████▎                                    | 232/480 [03:21<03:28,  1.19it/s]"
     ]
    },
    {
     "name": "stdout",
     "output_type": "stream",
     "text": [
      "[Jaden McDaniels (1630183)] attempt 1\n"
     ]
    },
    {
     "name": "stderr",
     "output_type": "stream",
     "text": [
      "Players:  49%|██████████████████████████████████▍                                    | 233/480 [03:22<03:25,  1.20it/s]"
     ]
    },
    {
     "name": "stdout",
     "output_type": "stream",
     "text": [
      "[Rob Dillingham (1642265)] attempt 1\n"
     ]
    },
    {
     "name": "stderr",
     "output_type": "stream",
     "text": [
      "Players:  49%|██████████████████████████████████▌                                    | 234/480 [03:22<03:10,  1.29it/s]"
     ]
    },
    {
     "name": "stdout",
     "output_type": "stream",
     "text": [
      "[Anthony Edwards (1630162)] attempt 1\n"
     ]
    },
    {
     "name": "stderr",
     "output_type": "stream",
     "text": [
      "Players:  49%|██████████████████████████████████▊                                    | 235/480 [03:23<03:39,  1.12it/s]"
     ]
    },
    {
     "name": "stdout",
     "output_type": "stream",
     "text": [
      "[Joe Ingles (204060)] attempt 1\n"
     ]
    },
    {
     "name": "stderr",
     "output_type": "stream",
     "text": [
      "Players:  49%|██████████████████████████████████▉                                    | 236/480 [03:24<03:39,  1.11it/s]"
     ]
    },
    {
     "name": "stdout",
     "output_type": "stream",
     "text": [
      "[Josh Minott (1631169)] attempt 1\n"
     ]
    },
    {
     "name": "stderr",
     "output_type": "stream",
     "text": [
      "Players:  49%|███████████████████████████████████                                    | 237/480 [03:25<03:28,  1.17it/s]"
     ]
    },
    {
     "name": "stdout",
     "output_type": "stream",
     "text": [
      "[Nickeil Alexander-Walker (1629638)] attempt 1\n"
     ]
    },
    {
     "name": "stderr",
     "output_type": "stream",
     "text": [
      "Players:  50%|███████████████████████████████████▏                                   | 238/480 [03:26<03:23,  1.19it/s]"
     ]
    },
    {
     "name": "stdout",
     "output_type": "stream",
     "text": [
      "[Mike Conley (201144)] attempt 1\n"
     ]
    },
    {
     "name": "stderr",
     "output_type": "stream",
     "text": [
      "Players:  50%|███████████████████████████████████▎                                   | 239/480 [03:27<03:37,  1.11it/s]"
     ]
    },
    {
     "name": "stdout",
     "output_type": "stream",
     "text": [
      "[Naz Reid (1629675)] attempt 1\n"
     ]
    },
    {
     "name": "stderr",
     "output_type": "stream",
     "text": [
      "Players:  50%|███████████████████████████████████▌                                   | 240/480 [03:28<03:30,  1.14it/s]"
     ]
    },
    {
     "name": "stdout",
     "output_type": "stream",
     "text": [
      "[Tristen Newton (1641803)] attempt 1\n"
     ]
    },
    {
     "name": "stderr",
     "output_type": "stream",
     "text": [
      "Players:  50%|███████████████████████████████████▋                                   | 241/480 [03:29<03:25,  1.16it/s]"
     ]
    },
    {
     "name": "stdout",
     "output_type": "stream",
     "text": [
      "[Jesse Edwards (1642399)] attempt 1\n"
     ]
    },
    {
     "name": "stderr",
     "output_type": "stream",
     "text": [
      "Players:  50%|███████████████████████████████████▊                                   | 242/480 [03:29<03:07,  1.27it/s]"
     ]
    },
    {
     "name": "stdout",
     "output_type": "stream",
     "text": [
      "[Jaylen Clark (1641740)] attempt 1\n"
     ]
    },
    {
     "name": "stderr",
     "output_type": "stream",
     "text": [
      "Players:  51%|███████████████████████████████████▉                                   | 243/480 [03:30<03:23,  1.17it/s]"
     ]
    },
    {
     "name": "stdout",
     "output_type": "stream",
     "text": [
      "[Rudy Gobert (203497)] attempt 1\n"
     ]
    },
    {
     "name": "stderr",
     "output_type": "stream",
     "text": [
      "Players:  51%|████████████████████████████████████                                   | 244/480 [03:31<03:19,  1.18it/s]"
     ]
    },
    {
     "name": "stdout",
     "output_type": "stream",
     "text": [
      "[Julius Randle (203944)] attempt 1\n"
     ]
    },
    {
     "name": "stderr",
     "output_type": "stream",
     "text": [
      "Players:  51%|████████████████████████████████████▏                                  | 245/480 [03:32<03:44,  1.05it/s]"
     ]
    },
    {
     "name": "stdout",
     "output_type": "stream",
     "text": [
      "[Leonard Miller (1631159)] attempt 1\n"
     ]
    },
    {
     "name": "stderr",
     "output_type": "stream",
     "text": [
      "Players:  51%|████████████████████████████████████▍                                  | 246/480 [03:33<03:25,  1.14it/s]"
     ]
    },
    {
     "name": "stdout",
     "output_type": "stream",
     "text": [
      "[Luka Garza (1630568)] attempt 1\n"
     ]
    },
    {
     "name": "stderr",
     "output_type": "stream",
     "text": [
      "Players:  51%|████████████████████████████████████▌                                  | 247/480 [03:34<03:20,  1.16it/s]"
     ]
    },
    {
     "name": "stdout",
     "output_type": "stream",
     "text": [
      "[Bones Hyland (1630538)] attempt 1\n"
     ]
    },
    {
     "name": "stderr",
     "output_type": "stream",
     "text": [
      "Players:  52%|████████████████████████████████████▋                                  | 248/480 [03:35<03:26,  1.12it/s]"
     ]
    },
    {
     "name": "stdout",
     "output_type": "stream",
     "text": [
      "[Dariq Whitehead (1641727)] attempt 1\n"
     ]
    },
    {
     "name": "stderr",
     "output_type": "stream",
     "text": [
      "Players:  52%|████████████████████████████████████▊                                  | 249/480 [03:36<03:34,  1.08it/s]"
     ]
    },
    {
     "name": "stdout",
     "output_type": "stream",
     "text": [
      "[D'Angelo Russell (1626156)] attempt 1\n"
     ]
    },
    {
     "name": "stderr",
     "output_type": "stream",
     "text": [
      "Players:  52%|████████████████████████████████████▉                                  | 250/480 [03:37<03:47,  1.01it/s]"
     ]
    },
    {
     "name": "stdout",
     "output_type": "stream",
     "text": [
      "[Cameron Johnson (1629661)] attempt 1\n"
     ]
    },
    {
     "name": "stderr",
     "output_type": "stream",
     "text": [
      "Players:  52%|█████████████████████████████████████▏                                 | 251/480 [03:38<03:34,  1.07it/s]"
     ]
    },
    {
     "name": "stdout",
     "output_type": "stream",
     "text": [
      "[Reece Beekman (1641736)] attempt 1\n"
     ]
    },
    {
     "name": "stderr",
     "output_type": "stream",
     "text": [
      "Players:  52%|█████████████████████████████████████▎                                 | 252/480 [03:39<03:32,  1.07it/s]"
     ]
    },
    {
     "name": "stdout",
     "output_type": "stream",
     "text": [
      "[Ziaire Williams (1630533)] attempt 1\n"
     ]
    },
    {
     "name": "stderr",
     "output_type": "stream",
     "text": [
      "Players:  53%|█████████████████████████████████████▍                                 | 253/480 [03:39<03:24,  1.11it/s]"
     ]
    },
    {
     "name": "stdout",
     "output_type": "stream",
     "text": [
      "[Trendon Watford (1630570)] attempt 1\n"
     ]
    },
    {
     "name": "stderr",
     "output_type": "stream",
     "text": [
      "Players:  53%|█████████████████████████████████████▌                                 | 254/480 [03:40<03:05,  1.22it/s]"
     ]
    },
    {
     "name": "stdout",
     "output_type": "stream",
     "text": [
      "[Tyson Etienne (1630623)] attempt 1\n"
     ]
    },
    {
     "name": "stderr",
     "output_type": "stream",
     "text": [
      "Players:  53%|█████████████████████████████████████▋                                 | 255/480 [03:41<03:16,  1.14it/s]"
     ]
    },
    {
     "name": "stdout",
     "output_type": "stream",
     "text": [
      "[Tosan Evbuomwan (1641787)] attempt 1\n"
     ]
    },
    {
     "name": "stderr",
     "output_type": "stream",
     "text": [
      "Players:  53%|█████████████████████████████████████▊                                 | 256/480 [03:42<03:25,  1.09it/s]"
     ]
    },
    {
     "name": "stdout",
     "output_type": "stream",
     "text": [
      "[Tyrese Martin (1631213)] attempt 1\n"
     ]
    },
    {
     "name": "stderr",
     "output_type": "stream",
     "text": [
      "Players:  54%|██████████████████████████████████████                                 | 257/480 [03:43<03:11,  1.16it/s]"
     ]
    },
    {
     "name": "stdout",
     "output_type": "stream",
     "text": [
      "[De'Anthony Melton (1629001)] attempt 1\n"
     ]
    },
    {
     "name": "stderr",
     "output_type": "stream",
     "text": [
      "Players:  54%|██████████████████████████████████████▏                                | 258/480 [03:44<03:28,  1.07it/s]"
     ]
    },
    {
     "name": "stdout",
     "output_type": "stream",
     "text": [
      "[Day'Ron Sharpe (1630549)] attempt 1\n"
     ]
    },
    {
     "name": "stderr",
     "output_type": "stream",
     "text": [
      "Players:  54%|██████████████████████████████████████▎                                | 259/480 [03:45<03:19,  1.11it/s]"
     ]
    },
    {
     "name": "stdout",
     "output_type": "stream",
     "text": [
      "[Noah Clowney (1641730)] attempt 1\n"
     ]
    },
    {
     "name": "stderr",
     "output_type": "stream",
     "text": [
      "Players:  54%|██████████████████████████████████████▍                                | 260/480 [03:46<03:26,  1.06it/s]"
     ]
    },
    {
     "name": "stdout",
     "output_type": "stream",
     "text": [
      "[Jalen Wilson (1630592)] attempt 1\n"
     ]
    },
    {
     "name": "stderr",
     "output_type": "stream",
     "text": [
      "Players:  54%|██████████████████████████████████████▌                                | 261/480 [03:47<03:11,  1.15it/s]"
     ]
    },
    {
     "name": "stdout",
     "output_type": "stream",
     "text": [
      "[Cam Thomas (1630560)] attempt 1\n"
     ]
    },
    {
     "name": "stderr",
     "output_type": "stream",
     "text": [
      "Players:  55%|██████████████████████████████████████▊                                | 262/480 [03:48<03:48,  1.05s/it]"
     ]
    },
    {
     "name": "stdout",
     "output_type": "stream",
     "text": [
      "[Drew Timme (1631166)] attempt 1\n"
     ]
    },
    {
     "name": "stderr",
     "output_type": "stream",
     "text": [
      "Players:  55%|██████████████████████████████████████▉                                | 263/480 [03:49<03:24,  1.06it/s]"
     ]
    },
    {
     "name": "stdout",
     "output_type": "stream",
     "text": [
      "[Maxwell Lewis (1641721)] attempt 1\n"
     ]
    },
    {
     "name": "stderr",
     "output_type": "stream",
     "text": [
      "Players:  55%|███████████████████████████████████████                                | 264/480 [03:50<03:22,  1.07it/s]"
     ]
    },
    {
     "name": "stdout",
     "output_type": "stream",
     "text": [
      "[Nic Claxton (1629651)] attempt 1\n"
     ]
    },
    {
     "name": "stderr",
     "output_type": "stream",
     "text": [
      "Players:  55%|███████████████████████████████████████▏                               | 265/480 [03:51<03:26,  1.04it/s]"
     ]
    },
    {
     "name": "stdout",
     "output_type": "stream",
     "text": [
      "[Keon Johnson (1630553)] attempt 1\n"
     ]
    },
    {
     "name": "stderr",
     "output_type": "stream",
     "text": [
      "Players:  55%|███████████████████████████████████████▎                               | 266/480 [03:51<03:10,  1.12it/s]"
     ]
    },
    {
     "name": "stdout",
     "output_type": "stream",
     "text": [
      "[Tyrese Maxey (1630178)] attempt 1\n"
     ]
    },
    {
     "name": "stderr",
     "output_type": "stream",
     "text": [
      "Players:  56%|███████████████████████████████████████▍                               | 267/480 [03:52<03:11,  1.11it/s]"
     ]
    },
    {
     "name": "stdout",
     "output_type": "stream",
     "text": [
      "[Andre Drummond (203083)] attempt 1\n"
     ]
    },
    {
     "name": "stderr",
     "output_type": "stream",
     "text": [
      "Players:  56%|███████████████████████████████████████▋                               | 268/480 [03:53<02:58,  1.19it/s]"
     ]
    },
    {
     "name": "stdout",
     "output_type": "stream",
     "text": [
      "[Quentin Grimes (1629656)] attempt 1\n"
     ]
    },
    {
     "name": "stderr",
     "output_type": "stream",
     "text": [
      "Players:  56%|███████████████████████████████████████▊                               | 269/480 [03:54<03:16,  1.08it/s]"
     ]
    },
    {
     "name": "stdout",
     "output_type": "stream",
     "text": [
      "[Kyle Lowry (200768)] attempt 1\n"
     ]
    },
    {
     "name": "stderr",
     "output_type": "stream",
     "text": [
      "Players:  56%|███████████████████████████████████████▉                               | 270/480 [03:55<03:22,  1.04it/s]"
     ]
    },
    {
     "name": "stdout",
     "output_type": "stream",
     "text": [
      "[Paul George (202331)] attempt 1\n"
     ]
    },
    {
     "name": "stderr",
     "output_type": "stream",
     "text": [
      "Players:  56%|████████████████████████████████████████                               | 271/480 [03:56<03:06,  1.12it/s]"
     ]
    },
    {
     "name": "stdout",
     "output_type": "stream",
     "text": [
      "[Kelly Oubre Jr. (1626162)] attempt 1\n"
     ]
    },
    {
     "name": "stderr",
     "output_type": "stream",
     "text": [
      "Players:  57%|████████████████████████████████████████▏                              | 272/480 [03:57<02:59,  1.16it/s]"
     ]
    },
    {
     "name": "stdout",
     "output_type": "stream",
     "text": [
      "[Jeff Dowtin Jr. (1630288)] attempt 1\n"
     ]
    },
    {
     "name": "stderr",
     "output_type": "stream",
     "text": [
      "Players:  57%|████████████████████████████████████████▍                              | 273/480 [03:57<02:55,  1.18it/s]"
     ]
    },
    {
     "name": "stdout",
     "output_type": "stream",
     "text": [
      "[Jared Butler (1630215)] attempt 1\n"
     ]
    },
    {
     "name": "stderr",
     "output_type": "stream",
     "text": [
      "Players:  57%|████████████████████████████████████████▌                              | 274/480 [03:58<02:52,  1.19it/s]"
     ]
    },
    {
     "name": "stdout",
     "output_type": "stream",
     "text": [
      "[Ricky Council IV (1641741)] attempt 1\n"
     ]
    },
    {
     "name": "stderr",
     "output_type": "stream",
     "text": [
      "Players:  57%|████████████████████████████████████████▋                              | 275/480 [03:59<02:39,  1.28it/s]"
     ]
    },
    {
     "name": "stdout",
     "output_type": "stream",
     "text": [
      "[Lonnie Walker IV (1629022)] attempt 1\n"
     ]
    },
    {
     "name": "stderr",
     "output_type": "stream",
     "text": [
      "Players:  57%|████████████████████████████████████████▊                              | 276/480 [04:00<02:39,  1.28it/s]"
     ]
    },
    {
     "name": "stdout",
     "output_type": "stream",
     "text": [
      "[Jalen Hood-Schifino (1641720)] attempt 1\n"
     ]
    },
    {
     "name": "stderr",
     "output_type": "stream",
     "text": [
      "Players:  58%|████████████████████████████████████████▉                              | 277/480 [04:00<02:34,  1.31it/s]"
     ]
    },
    {
     "name": "stdout",
     "output_type": "stream",
     "text": [
      "[Justin Edwards (1642348)] attempt 1\n"
     ]
    },
    {
     "name": "stderr",
     "output_type": "stream",
     "text": [
      "Players:  58%|█████████████████████████████████████████                              | 278/480 [04:01<02:31,  1.33it/s]"
     ]
    },
    {
     "name": "stdout",
     "output_type": "stream",
     "text": [
      "[Jared McCain (1642272)] attempt 1\n"
     ]
    },
    {
     "name": "stderr",
     "output_type": "stream",
     "text": [
      "Players:  58%|█████████████████████████████████████████▎                             | 279/480 [04:02<02:36,  1.29it/s]"
     ]
    },
    {
     "name": "stdout",
     "output_type": "stream",
     "text": [
      "[Joel Embiid (203954)] attempt 1\n"
     ]
    },
    {
     "name": "stderr",
     "output_type": "stream",
     "text": [
      "Players:  58%|█████████████████████████████████████████▍                             | 280/480 [04:03<02:48,  1.18it/s]"
     ]
    },
    {
     "name": "stdout",
     "output_type": "stream",
     "text": [
      "[Eric Gordon (201569)] attempt 1\n"
     ]
    },
    {
     "name": "stderr",
     "output_type": "stream",
     "text": [
      "Players:  59%|█████████████████████████████████████████▌                             | 281/480 [04:04<02:58,  1.11it/s]"
     ]
    },
    {
     "name": "stdout",
     "output_type": "stream",
     "text": [
      "[Guerschon Yabusele (1627824)] attempt 1\n"
     ]
    },
    {
     "name": "stderr",
     "output_type": "stream",
     "text": [
      "Players:  59%|█████████████████████████████████████████▋                             | 282/480 [04:05<03:17,  1.00it/s]"
     ]
    },
    {
     "name": "stdout",
     "output_type": "stream",
     "text": [
      "[Adem Bona (1641737)] attempt 1\n"
     ]
    },
    {
     "name": "stderr",
     "output_type": "stream",
     "text": [
      "Players:  59%|█████████████████████████████████████████▊                             | 283/480 [04:06<03:14,  1.01it/s]"
     ]
    },
    {
     "name": "stdout",
     "output_type": "stream",
     "text": [
      "[Alex Reese (1642024)] attempt 1\n"
     ]
    },
    {
     "name": "stderr",
     "output_type": "stream",
     "text": [
      "Players:  59%|██████████████████████████████████████████                             | 284/480 [04:07<03:18,  1.02s/it]"
     ]
    },
    {
     "name": "stdout",
     "output_type": "stream",
     "text": [
      "[Royce O'Neale (1626220)] attempt 1\n"
     ]
    },
    {
     "name": "stderr",
     "output_type": "stream",
     "text": [
      "Players:  59%|██████████████████████████████████████████▏                            | 285/480 [04:08<03:06,  1.04it/s]"
     ]
    },
    {
     "name": "stdout",
     "output_type": "stream",
     "text": [
      "[Ryan Dunn (1642346)] attempt 1\n"
     ]
    },
    {
     "name": "stderr",
     "output_type": "stream",
     "text": [
      "Players:  60%|██████████████████████████████████████████▎                            | 286/480 [04:09<03:21,  1.04s/it]"
     ]
    },
    {
     "name": "stdout",
     "output_type": "stream",
     "text": [
      "[Devin Booker (1626164)] attempt 1\n"
     ]
    },
    {
     "name": "stderr",
     "output_type": "stream",
     "text": [
      "Players:  60%|██████████████████████████████████████████▍                            | 287/480 [04:10<03:07,  1.03it/s]"
     ]
    },
    {
     "name": "stdout",
     "output_type": "stream",
     "text": [
      "[Nick Richards (1630208)] attempt 1\n"
     ]
    },
    {
     "name": "stderr",
     "output_type": "stream",
     "text": [
      "Players:  60%|██████████████████████████████████████████▌                            | 288/480 [04:11<03:09,  1.01it/s]"
     ]
    },
    {
     "name": "stdout",
     "output_type": "stream",
     "text": [
      "[Bradley Beal (203078)] attempt 1\n"
     ]
    },
    {
     "name": "stderr",
     "output_type": "stream",
     "text": [
      "Players:  60%|██████████████████████████████████████████▋                            | 289/480 [04:12<03:15,  1.02s/it]"
     ]
    },
    {
     "name": "stdout",
     "output_type": "stream",
     "text": [
      "[Oso Ighodaro (1642345)] attempt 1\n"
     ]
    },
    {
     "name": "stderr",
     "output_type": "stream",
     "text": [
      "Players:  60%|██████████████████████████████████████████▉                            | 290/480 [04:13<03:09,  1.00it/s]"
     ]
    },
    {
     "name": "stdout",
     "output_type": "stream",
     "text": [
      "[Grayson Allen (1628960)] attempt 1\n"
     ]
    },
    {
     "name": "stderr",
     "output_type": "stream",
     "text": [
      "Players:  61%|███████████████████████████████████████████                            | 291/480 [04:14<03:10,  1.01s/it]"
     ]
    },
    {
     "name": "stdout",
     "output_type": "stream",
     "text": [
      "[Damion Lee (1627814)] attempt 1\n"
     ]
    },
    {
     "name": "stderr",
     "output_type": "stream",
     "text": [
      "Players:  61%|███████████████████████████████████████████▏                           | 292/480 [04:15<03:10,  1.01s/it]"
     ]
    },
    {
     "name": "stdout",
     "output_type": "stream",
     "text": [
      "[Bol Bol (1629626)] attempt 1\n"
     ]
    },
    {
     "name": "stderr",
     "output_type": "stream",
     "text": [
      "Players:  61%|███████████████████████████████████████████▎                           | 293/480 [04:16<03:09,  1.01s/it]"
     ]
    },
    {
     "name": "stdout",
     "output_type": "stream",
     "text": [
      "[Collin Gillespie (1631221)] attempt 1\n"
     ]
    },
    {
     "name": "stderr",
     "output_type": "stream",
     "text": [
      "Players:  61%|███████████████████████████████████████████▍                           | 294/480 [04:18<03:43,  1.20s/it]"
     ]
    },
    {
     "name": "stdout",
     "output_type": "stream",
     "text": [
      "[TyTy Washington Jr. (1631102)] attempt 1\n"
     ]
    },
    {
     "name": "stderr",
     "output_type": "stream",
     "text": [
      "Players:  61%|███████████████████████████████████████████▋                           | 295/480 [04:20<04:29,  1.46s/it]"
     ]
    },
    {
     "name": "stdout",
     "output_type": "stream",
     "text": [
      "[Jalen Bridges (1641779)] attempt 1\n"
     ]
    },
    {
     "name": "stderr",
     "output_type": "stream",
     "text": [
      "Players:  62%|███████████████████████████████████████████▊                           | 296/480 [04:21<03:52,  1.26s/it]"
     ]
    },
    {
     "name": "stdout",
     "output_type": "stream",
     "text": [
      "[Cody Martin (1628998)] attempt 1\n"
     ]
    },
    {
     "name": "stderr",
     "output_type": "stream",
     "text": [
      "Players:  62%|███████████████████████████████████████████▉                           | 297/480 [04:22<03:26,  1.13s/it]"
     ]
    },
    {
     "name": "stdout",
     "output_type": "stream",
     "text": [
      "[Vasilije Micić (203995)] attempt 1\n"
     ]
    },
    {
     "name": "stderr",
     "output_type": "stream",
     "text": [
      "Players:  62%|████████████████████████████████████████████                           | 298/480 [04:23<03:20,  1.10s/it]"
     ]
    },
    {
     "name": "stdout",
     "output_type": "stream",
     "text": [
      "[Tyus Jones (1626145)] attempt 1\n"
     ]
    },
    {
     "name": "stderr",
     "output_type": "stream",
     "text": [
      "Players:  62%|████████████████████████████████████████████▏                          | 299/480 [04:24<03:15,  1.08s/it]"
     ]
    },
    {
     "name": "stdout",
     "output_type": "stream",
     "text": [
      "[Mason Plumlee (203486)] attempt 1\n"
     ]
    },
    {
     "name": "stderr",
     "output_type": "stream",
     "text": [
      "Players:  62%|████████████████████████████████████████████▍                          | 300/480 [04:25<03:10,  1.06s/it]"
     ]
    },
    {
     "name": "stdout",
     "output_type": "stream",
     "text": [
      "[Monté Morris (1628420)] attempt 1\n"
     ]
    },
    {
     "name": "stderr",
     "output_type": "stream",
     "text": [
      "Players:  63%|████████████████████████████████████████████▌                          | 301/480 [04:26<03:07,  1.05s/it]"
     ]
    },
    {
     "name": "stdout",
     "output_type": "stream",
     "text": [
      "[Kevin Durant (201142)] attempt 1\n"
     ]
    },
    {
     "name": "stderr",
     "output_type": "stream",
     "text": [
      "Players:  63%|████████████████████████████████████████████▋                          | 302/480 [04:27<02:54,  1.02it/s]"
     ]
    },
    {
     "name": "stdout",
     "output_type": "stream",
     "text": [
      "[Scoot Henderson (1630703)] attempt 1\n"
     ]
    },
    {
     "name": "stderr",
     "output_type": "stream",
     "text": [
      "Players:  63%|████████████████████████████████████████████▊                          | 303/480 [04:27<02:51,  1.03it/s]"
     ]
    },
    {
     "name": "stdout",
     "output_type": "stream",
     "text": [
      "[Anfernee Simons (1629014)] attempt 1\n"
     ]
    },
    {
     "name": "stderr",
     "output_type": "stream",
     "text": [
      "Players:  63%|████████████████████████████████████████████▉                          | 304/480 [04:28<02:41,  1.09it/s]"
     ]
    },
    {
     "name": "stdout",
     "output_type": "stream",
     "text": [
      "[Deandre Ayton (1629028)] attempt 1\n"
     ]
    },
    {
     "name": "stderr",
     "output_type": "stream",
     "text": [
      "Players:  64%|█████████████████████████████████████████████                          | 305/480 [04:29<02:46,  1.05it/s]"
     ]
    },
    {
     "name": "stdout",
     "output_type": "stream",
     "text": [
      "[Matisse Thybulle (1629680)] attempt 1\n"
     ]
    },
    {
     "name": "stderr",
     "output_type": "stream",
     "text": [
      "Players:  64%|█████████████████████████████████████████████▎                         | 306/480 [04:30<02:32,  1.14it/s]"
     ]
    },
    {
     "name": "stdout",
     "output_type": "stream",
     "text": [
      "[Dalano Banton (1630625)] attempt 1\n"
     ]
    },
    {
     "name": "stderr",
     "output_type": "stream",
     "text": [
      "Players:  64%|█████████████████████████████████████████████▍                         | 307/480 [04:31<02:37,  1.10it/s]"
     ]
    },
    {
     "name": "stdout",
     "output_type": "stream",
     "text": [
      "[Deni Avdija (1630166)] attempt 1\n"
     ]
    },
    {
     "name": "stderr",
     "output_type": "stream",
     "text": [
      "Players:  64%|█████████████████████████████████████████████▌                         | 308/480 [04:32<02:34,  1.11it/s]"
     ]
    },
    {
     "name": "stdout",
     "output_type": "stream",
     "text": [
      "[Jerami Grant (203924)] attempt 1\n"
     ]
    },
    {
     "name": "stderr",
     "output_type": "stream",
     "text": [
      "Players:  64%|█████████████████████████████████████████████▋                         | 309/480 [04:33<02:29,  1.15it/s]"
     ]
    },
    {
     "name": "stdout",
     "output_type": "stream",
     "text": [
      "[Justin Minaya (1631303)] attempt 1\n"
     ]
    },
    {
     "name": "stderr",
     "output_type": "stream",
     "text": [
      "Players:  65%|█████████████████████████████████████████████▊                         | 310/480 [04:33<02:14,  1.26it/s]"
     ]
    },
    {
     "name": "stdout",
     "output_type": "stream",
     "text": [
      "[Bryce McGowens (1631121)] attempt 1\n"
     ]
    },
    {
     "name": "stderr",
     "output_type": "stream",
     "text": [
      "Players:  65%|██████████████████████████████████████████████                         | 311/480 [04:34<02:24,  1.17it/s]"
     ]
    },
    {
     "name": "stdout",
     "output_type": "stream",
     "text": [
      "[Shaedon Sharpe (1631101)] attempt 1\n"
     ]
    },
    {
     "name": "stderr",
     "output_type": "stream",
     "text": [
      "Players:  65%|██████████████████████████████████████████████▏                        | 312/480 [04:35<02:23,  1.17it/s]"
     ]
    },
    {
     "name": "stdout",
     "output_type": "stream",
     "text": [
      "[Rayan Rupert (1641712)] attempt 1\n"
     ]
    },
    {
     "name": "stderr",
     "output_type": "stream",
     "text": [
      "Players:  65%|██████████████████████████████████████████████▎                        | 313/480 [04:36<02:18,  1.20it/s]"
     ]
    },
    {
     "name": "stdout",
     "output_type": "stream",
     "text": [
      "[Donovan Clingan (1642270)] attempt 1\n"
     ]
    },
    {
     "name": "stderr",
     "output_type": "stream",
     "text": [
      "Players:  65%|██████████████████████████████████████████████▍                        | 314/480 [04:37<02:24,  1.15it/s]"
     ]
    },
    {
     "name": "stdout",
     "output_type": "stream",
     "text": [
      "[Kris Murray (1631200)] attempt 1\n"
     ]
    },
    {
     "name": "stderr",
     "output_type": "stream",
     "text": [
      "Players:  66%|██████████████████████████████████████████████▌                        | 315/480 [04:38<02:16,  1.21it/s]"
     ]
    },
    {
     "name": "stdout",
     "output_type": "stream",
     "text": [
      "[Sidy Cissoko (1631321)] attempt 1\n"
     ]
    },
    {
     "name": "stderr",
     "output_type": "stream",
     "text": [
      "Players:  66%|██████████████████████████████████████████████▋                        | 316/480 [04:38<02:17,  1.19it/s]"
     ]
    },
    {
     "name": "stdout",
     "output_type": "stream",
     "text": [
      "[Duop Reath (1641871)] attempt 1\n"
     ]
    },
    {
     "name": "stderr",
     "output_type": "stream",
     "text": [
      "Players:  66%|██████████████████████████████████████████████▉                        | 317/480 [04:39<02:18,  1.18it/s]"
     ]
    },
    {
     "name": "stdout",
     "output_type": "stream",
     "text": [
      "[Toumani Camara (1641739)] attempt 1\n"
     ]
    },
    {
     "name": "stderr",
     "output_type": "stream",
     "text": [
      "Players:  66%|███████████████████████████████████████████████                        | 318/480 [04:40<02:25,  1.12it/s]"
     ]
    },
    {
     "name": "stdout",
     "output_type": "stream",
     "text": [
      "[Jabari Walker (1631133)] attempt 1\n"
     ]
    },
    {
     "name": "stderr",
     "output_type": "stream",
     "text": [
      "Players:  66%|███████████████████████████████████████████████▏                       | 319/480 [04:41<02:25,  1.10it/s]"
     ]
    },
    {
     "name": "stdout",
     "output_type": "stream",
     "text": [
      "[Robert Williams III (1629057)] attempt 1\n"
     ]
    },
    {
     "name": "stderr",
     "output_type": "stream",
     "text": [
      "Players:  67%|███████████████████████████████████████████████▎                       | 320/480 [04:42<02:30,  1.06it/s]"
     ]
    },
    {
     "name": "stdout",
     "output_type": "stream",
     "text": [
      "[Malik Monk (1628370)] attempt 1\n"
     ]
    },
    {
     "name": "stderr",
     "output_type": "stream",
     "text": [
      "Players:  67%|███████████████████████████████████████████████▍                       | 321/480 [04:43<02:24,  1.10it/s]"
     ]
    },
    {
     "name": "stdout",
     "output_type": "stream",
     "text": [
      "[Isaac Jones (1642403)] attempt 1\n"
     ]
    },
    {
     "name": "stderr",
     "output_type": "stream",
     "text": [
      "Players:  67%|███████████████████████████████████████████████▋                       | 322/480 [04:44<02:28,  1.06it/s]"
     ]
    },
    {
     "name": "stdout",
     "output_type": "stream",
     "text": [
      "[Terence Davis (1629056)] attempt 1\n"
     ]
    },
    {
     "name": "stderr",
     "output_type": "stream",
     "text": [
      "Players:  67%|███████████████████████████████████████████████▊                       | 323/480 [04:45<02:20,  1.12it/s]"
     ]
    },
    {
     "name": "stdout",
     "output_type": "stream",
     "text": [
      "[Doug McDermott (203926)] attempt 1\n"
     ]
    },
    {
     "name": "stderr",
     "output_type": "stream",
     "text": [
      "Players:  68%|███████████████████████████████████████████████▉                       | 324/480 [04:46<02:31,  1.03it/s]"
     ]
    },
    {
     "name": "stdout",
     "output_type": "stream",
     "text": [
      "[Zach LaVine (203897)] attempt 1\n"
     ]
    },
    {
     "name": "stderr",
     "output_type": "stream",
     "text": [
      "Players:  68%|████████████████████████████████████████████████                       | 325/480 [04:47<02:44,  1.06s/it]"
     ]
    },
    {
     "name": "stdout",
     "output_type": "stream",
     "text": [
      "[DeMar DeRozan (201942)] attempt 1\n"
     ]
    },
    {
     "name": "stderr",
     "output_type": "stream",
     "text": [
      "Players:  68%|████████████████████████████████████████████████▏                      | 326/480 [04:48<02:40,  1.04s/it]"
     ]
    },
    {
     "name": "stdout",
     "output_type": "stream",
     "text": [
      "[Domantas Sabonis (1627734)] attempt 1\n"
     ]
    },
    {
     "name": "stderr",
     "output_type": "stream",
     "text": [
      "Players:  68%|████████████████████████████████████████████████▎                      | 327/480 [04:49<02:28,  1.03it/s]"
     ]
    },
    {
     "name": "stdout",
     "output_type": "stream",
     "text": [
      "[Keegan Murray (1631099)] attempt 1\n"
     ]
    },
    {
     "name": "stderr",
     "output_type": "stream",
     "text": [
      "Players:  68%|████████████████████████████████████████████████▌                      | 328/480 [04:50<02:21,  1.08it/s]"
     ]
    },
    {
     "name": "stdout",
     "output_type": "stream",
     "text": [
      "[Mason Jones (1630222)] attempt 1\n"
     ]
    },
    {
     "name": "stderr",
     "output_type": "stream",
     "text": [
      "Players:  69%|████████████████████████████████████████████████▋                      | 329/480 [04:51<02:10,  1.16it/s]"
     ]
    },
    {
     "name": "stdout",
     "output_type": "stream",
     "text": [
      "[Jonas Valančiūnas (202685)] attempt 1\n"
     ]
    },
    {
     "name": "stderr",
     "output_type": "stream",
     "text": [
      "Players:  69%|████████████████████████████████████████████████▊                      | 330/480 [04:52<02:07,  1.18it/s]"
     ]
    },
    {
     "name": "stdout",
     "output_type": "stream",
     "text": [
      "[Markelle Fultz (1628365)] attempt 1\n"
     ]
    },
    {
     "name": "stderr",
     "output_type": "stream",
     "text": [
      "Players:  69%|████████████████████████████████████████████████▉                      | 331/480 [04:53<02:14,  1.11it/s]"
     ]
    },
    {
     "name": "stdout",
     "output_type": "stream",
     "text": [
      "[Devin Carter (1642269)] attempt 1\n"
     ]
    },
    {
     "name": "stderr",
     "output_type": "stream",
     "text": [
      "Players:  69%|█████████████████████████████████████████████████                      | 332/480 [04:53<02:09,  1.14it/s]"
     ]
    },
    {
     "name": "stdout",
     "output_type": "stream",
     "text": [
      "[Keon Ellis (1631165)] attempt 1\n"
     ]
    },
    {
     "name": "stderr",
     "output_type": "stream",
     "text": [
      "Players:  69%|█████████████████████████████████████████████████▎                     | 333/480 [04:54<01:59,  1.23it/s]"
     ]
    },
    {
     "name": "stdout",
     "output_type": "stream",
     "text": [
      "[Isaiah Crawford (1642384)] attempt 1\n"
     ]
    },
    {
     "name": "stderr",
     "output_type": "stream",
     "text": [
      "Players:  70%|█████████████████████████████████████████████████▍                     | 334/480 [04:55<02:05,  1.17it/s]"
     ]
    },
    {
     "name": "stdout",
     "output_type": "stream",
     "text": [
      "[Jake LaRavia (1631222)] attempt 1\n"
     ]
    },
    {
     "name": "stderr",
     "output_type": "stream",
     "text": [
      "Players:  70%|█████████████████████████████████████████████████▌                     | 335/480 [04:56<01:55,  1.25it/s]"
     ]
    },
    {
     "name": "stdout",
     "output_type": "stream",
     "text": [
      "[Trey Lyles (1626168)] attempt 1\n"
     ]
    },
    {
     "name": "stderr",
     "output_type": "stream",
     "text": [
      "Players:  70%|█████████████████████████████████████████████████▋                     | 336/480 [04:56<01:49,  1.31it/s]"
     ]
    },
    {
     "name": "stdout",
     "output_type": "stream",
     "text": [
      "[Jae Crowder (203109)] attempt 1\n"
     ]
    },
    {
     "name": "stderr",
     "output_type": "stream",
     "text": [
      "Players:  70%|█████████████████████████████████████████████████▊                     | 337/480 [04:57<02:04,  1.14it/s]"
     ]
    },
    {
     "name": "stdout",
     "output_type": "stream",
     "text": [
      "[Keldon Johnson (1629640)] attempt 1\n"
     ]
    },
    {
     "name": "stderr",
     "output_type": "stream",
     "text": [
      "Players:  70%|█████████████████████████████████████████████████▉                     | 338/480 [04:58<02:07,  1.11it/s]"
     ]
    },
    {
     "name": "stdout",
     "output_type": "stream",
     "text": [
      "[Victor Wembanyama (1641705)] attempt 1\n"
     ]
    },
    {
     "name": "stderr",
     "output_type": "stream",
     "text": [
      "Players:  71%|██████████████████████████████████████████████████▏                    | 339/480 [04:59<02:01,  1.16it/s]"
     ]
    },
    {
     "name": "stdout",
     "output_type": "stream",
     "text": [
      "[Chris Paul (101108)] attempt 1\n"
     ]
    },
    {
     "name": "stderr",
     "output_type": "stream",
     "text": [
      "Players:  71%|██████████████████████████████████████████████████▎                    | 340/480 [05:00<01:54,  1.22it/s]"
     ]
    },
    {
     "name": "stdout",
     "output_type": "stream",
     "text": [
      "[De'Aaron Fox (1628368)] attempt 1\n"
     ]
    },
    {
     "name": "stderr",
     "output_type": "stream",
     "text": [
      "Players:  71%|██████████████████████████████████████████████████▍                    | 341/480 [05:01<02:11,  1.06it/s]"
     ]
    },
    {
     "name": "stdout",
     "output_type": "stream",
     "text": [
      "[Stephon Castle (1642264)] attempt 1\n"
     ]
    },
    {
     "name": "stderr",
     "output_type": "stream",
     "text": [
      "Players:  71%|██████████████████████████████████████████████████▌                    | 342/480 [05:02<02:22,  1.03s/it]"
     ]
    },
    {
     "name": "stdout",
     "output_type": "stream",
     "text": [
      "[David Duke Jr. (1630561)] attempt 1\n"
     ]
    },
    {
     "name": "stderr",
     "output_type": "stream",
     "text": [
      "Players:  71%|██████████████████████████████████████████████████▋                    | 343/480 [05:03<02:06,  1.08it/s]"
     ]
    },
    {
     "name": "stdout",
     "output_type": "stream",
     "text": [
      "[Jeremy Sochan (1631110)] attempt 1\n"
     ]
    },
    {
     "name": "stderr",
     "output_type": "stream",
     "text": [
      "Players:  72%|██████████████████████████████████████████████████▉                    | 344/480 [05:04<02:13,  1.02it/s]"
     ]
    },
    {
     "name": "stdout",
     "output_type": "stream",
     "text": [
      "[Jordan McLaughlin (1629162)] attempt 1\n"
     ]
    },
    {
     "name": "stderr",
     "output_type": "stream",
     "text": [
      "Players:  72%|███████████████████████████████████████████████████                    | 345/480 [05:05<01:58,  1.13it/s]"
     ]
    },
    {
     "name": "stdout",
     "output_type": "stream",
     "text": [
      "[Blake Wesley (1631104)] attempt 1\n"
     ]
    },
    {
     "name": "stderr",
     "output_type": "stream",
     "text": [
      "Players:  72%|███████████████████████████████████████████████████▏                   | 346/480 [05:06<02:00,  1.11it/s]"
     ]
    },
    {
     "name": "stdout",
     "output_type": "stream",
     "text": [
      "[Bismack Biyombo (202687)] attempt 1\n"
     ]
    },
    {
     "name": "stderr",
     "output_type": "stream",
     "text": [
      "Players:  72%|███████████████████████████████████████████████████▎                   | 347/480 [05:06<01:52,  1.19it/s]"
     ]
    },
    {
     "name": "stdout",
     "output_type": "stream",
     "text": [
      "[Malaki Branham (1631103)] attempt 1\n"
     ]
    },
    {
     "name": "stderr",
     "output_type": "stream",
     "text": [
      "Players:  72%|███████████████████████████████████████████████████▍                   | 348/480 [05:07<01:46,  1.24it/s]"
     ]
    },
    {
     "name": "stdout",
     "output_type": "stream",
     "text": [
      "[Devin Vassell (1630170)] attempt 1\n"
     ]
    },
    {
     "name": "stderr",
     "output_type": "stream",
     "text": [
      "Players:  73%|███████████████████████████████████████████████████▌                   | 349/480 [05:08<01:49,  1.20it/s]"
     ]
    },
    {
     "name": "stdout",
     "output_type": "stream",
     "text": [
      "[Riley Minix (1642434)] attempt 1\n"
     ]
    },
    {
     "name": "stderr",
     "output_type": "stream",
     "text": [
      "Players:  73%|███████████████████████████████████████████████████▊                   | 350/480 [05:09<01:40,  1.29it/s]"
     ]
    },
    {
     "name": "stdout",
     "output_type": "stream",
     "text": [
      "[Charles Bassey (1629646)] attempt 1\n"
     ]
    },
    {
     "name": "stderr",
     "output_type": "stream",
     "text": [
      "Players:  73%|███████████████████████████████████████████████████▉                   | 351/480 [05:10<01:41,  1.27it/s]"
     ]
    },
    {
     "name": "stdout",
     "output_type": "stream",
     "text": [
      "[Julian Champagnie (1630577)] attempt 1\n"
     ]
    },
    {
     "name": "stderr",
     "output_type": "stream",
     "text": [
      "Players:  73%|████████████████████████████████████████████████████                   | 352/480 [05:10<01:42,  1.24it/s]"
     ]
    },
    {
     "name": "stdout",
     "output_type": "stream",
     "text": [
      "[Harrison Barnes (203084)] attempt 1\n"
     ]
    },
    {
     "name": "stderr",
     "output_type": "stream",
     "text": [
      "Players:  74%|████████████████████████████████████████████████████▏                  | 353/480 [05:11<01:41,  1.25it/s]"
     ]
    },
    {
     "name": "stdout",
     "output_type": "stream",
     "text": [
      "[Sandro Mamukelashvili (1630572)] attempt 1\n"
     ]
    },
    {
     "name": "stderr",
     "output_type": "stream",
     "text": [
      "Players:  74%|████████████████████████████████████████████████████▎                  | 354/480 [05:12<01:37,  1.29it/s]"
     ]
    },
    {
     "name": "stdout",
     "output_type": "stream",
     "text": [
      "[Harrison Ingram (1631127)] attempt 1\n"
     ]
    },
    {
     "name": "stderr",
     "output_type": "stream",
     "text": [
      "Players:  74%|████████████████████████████████████████████████████▌                  | 355/480 [05:13<01:38,  1.27it/s]"
     ]
    },
    {
     "name": "stdout",
     "output_type": "stream",
     "text": [
      "[Shai Gilgeous-Alexander (1628983)] attempt 1\n"
     ]
    },
    {
     "name": "stderr",
     "output_type": "stream",
     "text": [
      "Players:  74%|████████████████████████████████████████████████████▋                  | 356/480 [05:13<01:20,  1.55it/s]"
     ]
    },
    {
     "name": "stdout",
     "output_type": "stream",
     "text": [
      "[Dillon Jones (1641794)] attempt 1\n"
     ]
    },
    {
     "name": "stderr",
     "output_type": "stream",
     "text": [
      "Players:  74%|████████████████████████████████████████████████████▊                  | 357/480 [05:15<02:00,  1.02it/s]"
     ]
    },
    {
     "name": "stdout",
     "output_type": "stream",
     "text": [
      "[Luguentz Dort (1629652)] attempt 1\n"
     ]
    },
    {
     "name": "stderr",
     "output_type": "stream",
     "text": [
      "Players:  75%|████████████████████████████████████████████████████▉                  | 358/480 [05:16<02:04,  1.02s/it]"
     ]
    },
    {
     "name": "stdout",
     "output_type": "stream",
     "text": [
      "[Jaylin Williams (1631119)] attempt 1\n"
     ]
    },
    {
     "name": "stderr",
     "output_type": "stream",
     "text": [
      "Players:  75%|█████████████████████████████████████████████████████                  | 359/480 [05:17<01:52,  1.08it/s]"
     ]
    },
    {
     "name": "stdout",
     "output_type": "stream",
     "text": [
      "[Chet Holmgren (1631096)] attempt 1\n"
     ]
    },
    {
     "name": "stderr",
     "output_type": "stream",
     "text": [
      "Players:  75%|█████████████████████████████████████████████████████▎                 | 360/480 [05:18<01:54,  1.04it/s]"
     ]
    },
    {
     "name": "stdout",
     "output_type": "stream",
     "text": [
      "[Jalen Williams (1631114)] attempt 1\n"
     ]
    },
    {
     "name": "stderr",
     "output_type": "stream",
     "text": [
      "Players:  75%|█████████████████████████████████████████████████████▍                 | 361/480 [05:18<01:45,  1.13it/s]"
     ]
    },
    {
     "name": "stdout",
     "output_type": "stream",
     "text": [
      "[Alex Caruso (1627936)] attempt 1\n"
     ]
    },
    {
     "name": "stderr",
     "output_type": "stream",
     "text": [
      "Players:  75%|█████████████████████████████████████████████████████▌                 | 362/480 [05:19<01:37,  1.21it/s]"
     ]
    },
    {
     "name": "stdout",
     "output_type": "stream",
     "text": [
      "[Isaiah Joe (1630198)] attempt 1\n"
     ]
    },
    {
     "name": "stderr",
     "output_type": "stream",
     "text": [
      "Players:  76%|█████████████████████████████████████████████████████▋                 | 363/480 [05:20<01:45,  1.11it/s]"
     ]
    },
    {
     "name": "stdout",
     "output_type": "stream",
     "text": [
      "[Ousmane Dieng (1631172)] attempt 1\n"
     ]
    },
    {
     "name": "stderr",
     "output_type": "stream",
     "text": [
      "Players:  76%|█████████████████████████████████████████████████████▊                 | 364/480 [05:21<01:40,  1.15it/s]"
     ]
    },
    {
     "name": "stdout",
     "output_type": "stream",
     "text": [
      "[Adam Flagler (1641745)] attempt 1\n"
     ]
    },
    {
     "name": "stderr",
     "output_type": "stream",
     "text": [
      "Players:  76%|█████████████████████████████████████████████████████▉                 | 365/480 [05:22<01:41,  1.13it/s]"
     ]
    },
    {
     "name": "stdout",
     "output_type": "stream",
     "text": [
      "[Branden Carlson (1642382)] attempt 1\n"
     ]
    },
    {
     "name": "stderr",
     "output_type": "stream",
     "text": [
      "Players:  76%|██████████████████████████████████████████████████████▏                | 366/480 [05:23<01:35,  1.20it/s]"
     ]
    },
    {
     "name": "stdout",
     "output_type": "stream",
     "text": [
      "[Aaron Wiggins (1630598)] attempt 1\n"
     ]
    },
    {
     "name": "stderr",
     "output_type": "stream",
     "text": [
      "Players:  76%|██████████████████████████████████████████████████████▎                | 367/480 [05:24<02:01,  1.08s/it]"
     ]
    },
    {
     "name": "stdout",
     "output_type": "stream",
     "text": [
      "[Cason Wallace (1641717)] attempt 1\n"
     ]
    },
    {
     "name": "stderr",
     "output_type": "stream",
     "text": [
      "Players:  77%|██████████████████████████████████████████████████████▍                | 368/480 [05:25<01:48,  1.03it/s]"
     ]
    },
    {
     "name": "stdout",
     "output_type": "stream",
     "text": [
      "[Ajay Mitchell (1642349)] attempt 1\n"
     ]
    },
    {
     "name": "stderr",
     "output_type": "stream",
     "text": [
      "Players:  77%|██████████████████████████████████████████████████████▌                | 369/480 [05:26<01:35,  1.16it/s]"
     ]
    },
    {
     "name": "stdout",
     "output_type": "stream",
     "text": [
      "[Kenrich Williams (1629026)] attempt 1\n"
     ]
    },
    {
     "name": "stderr",
     "output_type": "stream",
     "text": [
      "Players:  77%|██████████████████████████████████████████████████████▋                | 370/480 [05:26<01:33,  1.18it/s]"
     ]
    },
    {
     "name": "stdout",
     "output_type": "stream",
     "text": [
      "[Nikola Topić (1642260)] attempt 1\n"
     ]
    },
    {
     "name": "stderr",
     "output_type": "stream",
     "text": [
      "Players:  77%|██████████████████████████████████████████████████████▉                | 371/480 [05:27<01:31,  1.19it/s]"
     ]
    },
    {
     "name": "stdout",
     "output_type": "stream",
     "text": [
      "[Isaiah Hartenstein (1628392)] attempt 1\n"
     ]
    },
    {
     "name": "stderr",
     "output_type": "stream",
     "text": [
      "Players:  78%|███████████████████████████████████████████████████████                | 372/480 [05:28<01:36,  1.12it/s]"
     ]
    },
    {
     "name": "stdout",
     "output_type": "stream",
     "text": [
      "[Alex Ducas (1642505)] attempt 1\n"
     ]
    },
    {
     "name": "stderr",
     "output_type": "stream",
     "text": [
      "Players:  78%|███████████████████████████████████████████████████████▏               | 373/480 [05:29<01:31,  1.17it/s]"
     ]
    },
    {
     "name": "stdout",
     "output_type": "stream",
     "text": [
      "[A.J. Lawson (1630639)] attempt 1\n"
     ]
    },
    {
     "name": "stderr",
     "output_type": "stream",
     "text": [
      "Players:  78%|███████████████████████████████████████████████████████▎               | 374/480 [05:30<01:38,  1.08it/s]"
     ]
    },
    {
     "name": "stdout",
     "output_type": "stream",
     "text": [
      "[Gradey Dick (1641711)] attempt 1\n"
     ]
    },
    {
     "name": "stderr",
     "output_type": "stream",
     "text": [
      "Players:  78%|███████████████████████████████████████████████████████▍               | 375/480 [05:31<01:42,  1.02it/s]"
     ]
    },
    {
     "name": "stdout",
     "output_type": "stream",
     "text": [
      "[Jonathan Mogbo (1642367)] attempt 1\n"
     ]
    },
    {
     "name": "stderr",
     "output_type": "stream",
     "text": [
      "Players:  78%|███████████████████████████████████████████████████████▌               | 376/480 [05:32<01:43,  1.00it/s]"
     ]
    },
    {
     "name": "stdout",
     "output_type": "stream",
     "text": [
      "[Brandon Ingram (1627742)] attempt 1\n"
     ]
    },
    {
     "name": "stderr",
     "output_type": "stream",
     "text": [
      "Players:  79%|███████████████████████████████████████████████████████▊               | 377/480 [05:33<01:34,  1.09it/s]"
     ]
    },
    {
     "name": "stdout",
     "output_type": "stream",
     "text": [
      "[Scottie Barnes (1630567)] attempt 1\n"
     ]
    },
    {
     "name": "stderr",
     "output_type": "stream",
     "text": [
      "Players:  79%|███████████████████████████████████████████████████████▉               | 378/480 [05:34<01:30,  1.13it/s]"
     ]
    },
    {
     "name": "stdout",
     "output_type": "stream",
     "text": [
      "[Immanuel Quickley (1630193)] attempt 1\n"
     ]
    },
    {
     "name": "stderr",
     "output_type": "stream",
     "text": [
      "Players:  79%|████████████████████████████████████████████████████████               | 379/480 [05:35<01:31,  1.10it/s]"
     ]
    },
    {
     "name": "stdout",
     "output_type": "stream",
     "text": [
      "[Jared Rhoden (1631197)] attempt 1\n"
     ]
    },
    {
     "name": "stderr",
     "output_type": "stream",
     "text": [
      "Players:  79%|████████████████████████████████████████████████████████▏              | 380/480 [05:36<01:30,  1.11it/s]"
     ]
    },
    {
     "name": "stdout",
     "output_type": "stream",
     "text": [
      "[RJ Barrett (1629628)] attempt 1\n"
     ]
    },
    {
     "name": "stderr",
     "output_type": "stream",
     "text": [
      "Players:  79%|████████████████████████████████████████████████████████▎              | 381/480 [05:36<01:26,  1.14it/s]"
     ]
    },
    {
     "name": "stdout",
     "output_type": "stream",
     "text": [
      "[Colin Castleton (1630658)] attempt 1\n"
     ]
    },
    {
     "name": "stderr",
     "output_type": "stream",
     "text": [
      "Players:  80%|████████████████████████████████████████████████████████▌              | 382/480 [05:37<01:30,  1.09it/s]"
     ]
    },
    {
     "name": "stdout",
     "output_type": "stream",
     "text": [
      "[Ja'Kobe Walter (1642266)] attempt 1\n"
     ]
    },
    {
     "name": "stderr",
     "output_type": "stream",
     "text": [
      "Players:  80%|████████████████████████████████████████████████████████▋              | 383/480 [05:38<01:23,  1.16it/s]"
     ]
    },
    {
     "name": "stdout",
     "output_type": "stream",
     "text": [
      "[Garrett Temple (202066)] attempt 1\n"
     ]
    },
    {
     "name": "stderr",
     "output_type": "stream",
     "text": [
      "Players:  80%|████████████████████████████████████████████████████████▊              | 384/480 [05:39<01:18,  1.23it/s]"
     ]
    },
    {
     "name": "stdout",
     "output_type": "stream",
     "text": [
      "[Jakob Poeltl (1627751)] attempt 1\n"
     ]
    },
    {
     "name": "stderr",
     "output_type": "stream",
     "text": [
      "Players:  80%|████████████████████████████████████████████████████████▉              | 385/480 [05:40<01:15,  1.26it/s]"
     ]
    },
    {
     "name": "stdout",
     "output_type": "stream",
     "text": [
      "[Ulrich Chomche (1642279)] attempt 1\n"
     ]
    },
    {
     "name": "stderr",
     "output_type": "stream",
     "text": [
      "Players:  80%|█████████████████████████████████████████████████████████              | 386/480 [05:40<01:11,  1.31it/s]"
     ]
    },
    {
     "name": "stdout",
     "output_type": "stream",
     "text": [
      "[Jamal Shead (1642347)] attempt 1\n"
     ]
    },
    {
     "name": "stderr",
     "output_type": "stream",
     "text": [
      "Players:  81%|█████████████████████████████████████████████████████████▏             | 387/480 [05:41<01:18,  1.19it/s]"
     ]
    },
    {
     "name": "stdout",
     "output_type": "stream",
     "text": [
      "[Chris Boucher (1628449)] attempt 1\n"
     ]
    },
    {
     "name": "stderr",
     "output_type": "stream",
     "text": [
      "Players:  81%|█████████████████████████████████████████████████████████▍             | 388/480 [05:42<01:16,  1.20it/s]"
     ]
    },
    {
     "name": "stdout",
     "output_type": "stream",
     "text": [
      "[Ochai Agbaji (1630534)] attempt 1\n"
     ]
    },
    {
     "name": "stderr",
     "output_type": "stream",
     "text": [
      "Players:  81%|█████████████████████████████████████████████████████████▌             | 389/480 [05:43<01:10,  1.28it/s]"
     ]
    },
    {
     "name": "stdout",
     "output_type": "stream",
     "text": [
      "[Jamison Battle (1642419)] attempt 1\n"
     ]
    },
    {
     "name": "stderr",
     "output_type": "stream",
     "text": [
      "Players:  81%|█████████████████████████████████████████████████████████▋             | 390/480 [05:43<01:06,  1.36it/s]"
     ]
    },
    {
     "name": "stdout",
     "output_type": "stream",
     "text": [
      "[Jordan Clarkson (203903)] attempt 1\n"
     ]
    },
    {
     "name": "stderr",
     "output_type": "stream",
     "text": [
      "Players:  81%|█████████████████████████████████████████████████████████▊             | 391/480 [05:44<01:03,  1.40it/s]"
     ]
    },
    {
     "name": "stdout",
     "output_type": "stream",
     "text": [
      "[Taylor Hendricks (1641707)] attempt 1\n"
     ]
    },
    {
     "name": "stderr",
     "output_type": "stream",
     "text": [
      "Players:  82%|█████████████████████████████████████████████████████████▉             | 392/480 [05:45<01:08,  1.29it/s]"
     ]
    },
    {
     "name": "stdout",
     "output_type": "stream",
     "text": [
      "[Collin Sexton (1629012)] attempt 1\n"
     ]
    },
    {
     "name": "stderr",
     "output_type": "stream",
     "text": [
      "Players:  82%|██████████████████████████████████████████████████████████▏            | 393/480 [05:46<01:17,  1.13it/s]"
     ]
    },
    {
     "name": "stdout",
     "output_type": "stream",
     "text": [
      "[Keyonte George (1641718)] attempt 1\n"
     ]
    },
    {
     "name": "stderr",
     "output_type": "stream",
     "text": [
      "Players:  82%|██████████████████████████████████████████████████████████▎            | 394/480 [05:47<01:14,  1.16it/s]"
     ]
    },
    {
     "name": "stdout",
     "output_type": "stream",
     "text": [
      "[Cody Williams (1642262)] attempt 1\n"
     ]
    },
    {
     "name": "stderr",
     "output_type": "stream",
     "text": [
      "Players:  82%|██████████████████████████████████████████████████████████▍            | 395/480 [05:48<01:09,  1.22it/s]"
     ]
    },
    {
     "name": "stdout",
     "output_type": "stream",
     "text": [
      "[Jaden Springer (1630531)] attempt 1\n"
     ]
    },
    {
     "name": "stderr",
     "output_type": "stream",
     "text": [
      "Players:  82%|██████████████████████████████████████████████████████████▌            | 396/480 [05:49<01:11,  1.18it/s]"
     ]
    },
    {
     "name": "stdout",
     "output_type": "stream",
     "text": [
      "[Isaiah Collier (1642268)] attempt 1\n"
     ]
    },
    {
     "name": "stderr",
     "output_type": "stream",
     "text": [
      "Players:  83%|██████████████████████████████████████████████████████████▋            | 397/480 [05:50<01:17,  1.07it/s]"
     ]
    },
    {
     "name": "stdout",
     "output_type": "stream",
     "text": [
      "[Elijah Harkless (1641989)] attempt 1\n"
     ]
    },
    {
     "name": "stderr",
     "output_type": "stream",
     "text": [
      "Players:  83%|██████████████████████████████████████████████████████████▊            | 398/480 [05:50<01:09,  1.18it/s]"
     ]
    },
    {
     "name": "stdout",
     "output_type": "stream",
     "text": [
      "[Svi Mykhailiuk (1629004)] attempt 1\n"
     ]
    },
    {
     "name": "stderr",
     "output_type": "stream",
     "text": [
      "Players:  83%|███████████████████████████████████████████████████████████            | 399/480 [05:51<01:04,  1.26it/s]"
     ]
    },
    {
     "name": "stdout",
     "output_type": "stream",
     "text": [
      "[John Collins (1628381)] attempt 1\n"
     ]
    },
    {
     "name": "stderr",
     "output_type": "stream",
     "text": [
      "Players:  83%|███████████████████████████████████████████████████████████▏           | 400/480 [05:52<01:02,  1.29it/s]"
     ]
    },
    {
     "name": "stdout",
     "output_type": "stream",
     "text": [
      "[Kyle Filipowski (1642271)] attempt 1\n"
     ]
    },
    {
     "name": "stderr",
     "output_type": "stream",
     "text": [
      "Players:  84%|███████████████████████████████████████████████████████████▎           | 401/480 [05:52<00:57,  1.36it/s]"
     ]
    },
    {
     "name": "stdout",
     "output_type": "stream",
     "text": [
      "[Lauri Markkanen (1628374)] attempt 1\n"
     ]
    },
    {
     "name": "stderr",
     "output_type": "stream",
     "text": [
      "Players:  84%|███████████████████████████████████████████████████████████▍           | 402/480 [05:54<01:08,  1.14it/s]"
     ]
    },
    {
     "name": "stdout",
     "output_type": "stream",
     "text": [
      "[Walker Kessler (1631117)] attempt 1\n"
     ]
    },
    {
     "name": "stderr",
     "output_type": "stream",
     "text": [
      "Players:  84%|███████████████████████████████████████████████████████████▌           | 403/480 [05:54<01:02,  1.24it/s]"
     ]
    },
    {
     "name": "stdout",
     "output_type": "stream",
     "text": [
      "[Micah Potter (1630695)] attempt 1\n"
     ]
    },
    {
     "name": "stderr",
     "output_type": "stream",
     "text": [
      "Players:  84%|███████████████████████████████████████████████████████████▊           | 404/480 [05:55<01:02,  1.21it/s]"
     ]
    },
    {
     "name": "stdout",
     "output_type": "stream",
     "text": [
      "[Brice Sensabaugh (1641729)] attempt 1\n"
     ]
    },
    {
     "name": "stderr",
     "output_type": "stream",
     "text": [
      "Players:  84%|███████████████████████████████████████████████████████████▉           | 405/480 [05:56<01:09,  1.09it/s]"
     ]
    },
    {
     "name": "stdout",
     "output_type": "stream",
     "text": [
      "[Johnny Juzang (1630548)] attempt 1\n"
     ]
    },
    {
     "name": "stderr",
     "output_type": "stream",
     "text": [
      "Players:  85%|████████████████████████████████████████████████████████████           | 406/480 [05:57<01:10,  1.05it/s]"
     ]
    },
    {
     "name": "stdout",
     "output_type": "stream",
     "text": [
      "[Oscar Tshiebwe (1631131)] attempt 1\n"
     ]
    },
    {
     "name": "stderr",
     "output_type": "stream",
     "text": [
      "Players:  85%|████████████████████████████████████████████████████████████▏          | 407/480 [05:58<01:07,  1.08it/s]"
     ]
    },
    {
     "name": "stdout",
     "output_type": "stream",
     "text": [
      "[KJ Martin (1630231)] attempt 1\n"
     ]
    },
    {
     "name": "stderr",
     "output_type": "stream",
     "text": [
      "Players:  85%|████████████████████████████████████████████████████████████▎          | 408/480 [05:59<01:05,  1.11it/s]"
     ]
    },
    {
     "name": "stdout",
     "output_type": "stream",
     "text": [
      "[Zyon Pullin (1642389)] attempt 1\n"
     ]
    },
    {
     "name": "stderr",
     "output_type": "stream",
     "text": [
      "Players:  85%|████████████████████████████████████████████████████████████▍          | 409/480 [06:00<01:00,  1.17it/s]"
     ]
    },
    {
     "name": "stdout",
     "output_type": "stream",
     "text": [
      "[Jaylen Wells (1642377)] attempt 1\n"
     ]
    },
    {
     "name": "stderr",
     "output_type": "stream",
     "text": [
      "Players:  85%|████████████████████████████████████████████████████████████▋          | 410/480 [06:01<01:07,  1.03it/s]"
     ]
    },
    {
     "name": "stdout",
     "output_type": "stream",
     "text": [
      "[Scotty Pippen Jr. (1630590)] attempt 1\n"
     ]
    },
    {
     "name": "stderr",
     "output_type": "stream",
     "text": [
      "Players:  86%|████████████████████████████████████████████████████████████▊          | 411/480 [06:03<01:29,  1.29s/it]"
     ]
    },
    {
     "name": "stdout",
     "output_type": "stream",
     "text": [
      "[Vince Williams Jr. (1631246)] attempt 1\n"
     ]
    },
    {
     "name": "stderr",
     "output_type": "stream",
     "text": [
      "Players:  86%|████████████████████████████████████████████████████████████▉          | 412/480 [06:04<01:22,  1.21s/it]"
     ]
    },
    {
     "name": "stdout",
     "output_type": "stream",
     "text": [
      "[Santi Aldama (1630583)] attempt 1\n"
     ]
    },
    {
     "name": "stderr",
     "output_type": "stream",
     "text": [
      "Players:  86%|█████████████████████████████████████████████████████████████          | 413/480 [06:05<01:12,  1.08s/it]"
     ]
    },
    {
     "name": "stdout",
     "output_type": "stream",
     "text": [
      "[Lamar Stevens (1630205)] attempt 1\n"
     ]
    },
    {
     "name": "stderr",
     "output_type": "stream",
     "text": [
      "Players:  86%|█████████████████████████████████████████████████████████████▏         | 414/480 [06:06<01:04,  1.02it/s]"
     ]
    },
    {
     "name": "stdout",
     "output_type": "stream",
     "text": [
      "[Luke Kennard (1628379)] attempt 1\n"
     ]
    },
    {
     "name": "stderr",
     "output_type": "stream",
     "text": [
      "Players:  86%|█████████████████████████████████████████████████████████████▍         | 415/480 [06:07<01:04,  1.00it/s]"
     ]
    },
    {
     "name": "stdout",
     "output_type": "stream",
     "text": [
      "[Ja Morant (1629630)] attempt 1\n"
     ]
    },
    {
     "name": "stderr",
     "output_type": "stream",
     "text": [
      "Players:  87%|█████████████████████████████████████████████████████████████▌         | 416/480 [06:08<01:02,  1.03it/s]"
     ]
    },
    {
     "name": "stdout",
     "output_type": "stream",
     "text": [
      "[Jaren Jackson Jr. (1628991)] attempt 1\n"
     ]
    },
    {
     "name": "stderr",
     "output_type": "stream",
     "text": [
      "Players:  87%|█████████████████████████████████████████████████████████████▋         | 417/480 [06:09<01:02,  1.01it/s]"
     ]
    },
    {
     "name": "stdout",
     "output_type": "stream",
     "text": [
      "[Zach Edey (1641744)] attempt 1\n"
     ]
    },
    {
     "name": "stderr",
     "output_type": "stream",
     "text": [
      "Players:  87%|█████████████████████████████████████████████████████████████▊         | 418/480 [06:10<01:01,  1.00it/s]"
     ]
    },
    {
     "name": "stdout",
     "output_type": "stream",
     "text": [
      "[Brandon Clarke (1629634)] attempt 1\n"
     ]
    },
    {
     "name": "stderr",
     "output_type": "stream",
     "text": [
      "Players:  87%|█████████████████████████████████████████████████████████████▉         | 419/480 [06:10<00:55,  1.10it/s]"
     ]
    },
    {
     "name": "stdout",
     "output_type": "stream",
     "text": [
      "[Yuki Kawamura (1642530)] attempt 1\n"
     ]
    },
    {
     "name": "stderr",
     "output_type": "stream",
     "text": [
      "Players:  88%|██████████████████████████████████████████████████████████████▏        | 420/480 [06:11<00:55,  1.09it/s]"
     ]
    },
    {
     "name": "stdout",
     "output_type": "stream",
     "text": [
      "[Desmond Bane (1630217)] attempt 1\n"
     ]
    },
    {
     "name": "stderr",
     "output_type": "stream",
     "text": [
      "Players:  88%|██████████████████████████████████████████████████████████████▎        | 421/480 [06:12<00:52,  1.12it/s]"
     ]
    },
    {
     "name": "stdout",
     "output_type": "stream",
     "text": [
      "[Cam Spencer (1642285)] attempt 1\n"
     ]
    },
    {
     "name": "stderr",
     "output_type": "stream",
     "text": [
      "Players:  88%|██████████████████████████████████████████████████████████████▍        | 422/480 [06:13<00:47,  1.22it/s]"
     ]
    },
    {
     "name": "stdout",
     "output_type": "stream",
     "text": [
      "[Jay Huff (1630643)] attempt 1\n"
     ]
    },
    {
     "name": "stderr",
     "output_type": "stream",
     "text": [
      "Players:  88%|██████████████████████████████████████████████████████████████▌        | 423/480 [06:14<00:47,  1.19it/s]"
     ]
    },
    {
     "name": "stdout",
     "output_type": "stream",
     "text": [
      "[Marvin Bagley III (1628963)] attempt 1\n"
     ]
    },
    {
     "name": "stderr",
     "output_type": "stream",
     "text": [
      "Players:  88%|██████████████████████████████████████████████████████████████▋        | 424/480 [06:14<00:48,  1.16it/s]"
     ]
    },
    {
     "name": "stdout",
     "output_type": "stream",
     "text": [
      "[GG Jackson (1641713)] attempt 1\n"
     ]
    },
    {
     "name": "stderr",
     "output_type": "stream",
     "text": [
      "Players:  89%|██████████████████████████████████████████████████████████████▊        | 425/480 [06:15<00:46,  1.18it/s]"
     ]
    },
    {
     "name": "stdout",
     "output_type": "stream",
     "text": [
      "[John Konchar (1629723)] attempt 1\n"
     ]
    },
    {
     "name": "stderr",
     "output_type": "stream",
     "text": [
      "Players:  89%|███████████████████████████████████████████████████████████████        | 426/480 [06:16<00:42,  1.27it/s]"
     ]
    },
    {
     "name": "stdout",
     "output_type": "stream",
     "text": [
      "[Bilal Coulibaly (1641731)] attempt 1\n"
     ]
    },
    {
     "name": "stderr",
     "output_type": "stream",
     "text": [
      "Players:  89%|███████████████████████████████████████████████████████████████▏       | 427/480 [06:17<00:41,  1.27it/s]"
     ]
    },
    {
     "name": "stdout",
     "output_type": "stream",
     "text": [
      "[Tristan Vukcevic (1641774)] attempt 1\n"
     ]
    },
    {
     "name": "stderr",
     "output_type": "stream",
     "text": [
      "Players:  89%|███████████████████████████████████████████████████████████████▎       | 428/480 [06:18<00:41,  1.25it/s]"
     ]
    },
    {
     "name": "stdout",
     "output_type": "stream",
     "text": [
      "[Colby Jones (1641732)] attempt 1\n"
     ]
    },
    {
     "name": "stderr",
     "output_type": "stream",
     "text": [
      "Players:  89%|███████████████████████████████████████████████████████████████▍       | 429/480 [06:18<00:39,  1.29it/s]"
     ]
    },
    {
     "name": "stdout",
     "output_type": "stream",
     "text": [
      "[Jaylen Martin (1641798)] attempt 1\n"
     ]
    },
    {
     "name": "stderr",
     "output_type": "stream",
     "text": [
      "Players:  90%|███████████████████████████████████████████████████████████████▌       | 430/480 [06:19<00:40,  1.22it/s]"
     ]
    },
    {
     "name": "stdout",
     "output_type": "stream",
     "text": [
      "[AJ Johnson (1642358)] attempt 1\n"
     ]
    },
    {
     "name": "stderr",
     "output_type": "stream",
     "text": [
      "Players:  90%|███████████████████████████████████████████████████████████████▊       | 431/480 [06:20<00:41,  1.18it/s]"
     ]
    },
    {
     "name": "stdout",
     "output_type": "stream",
     "text": [
      "[Bub Carrington (1642267)] attempt 1\n"
     ]
    },
    {
     "name": "stderr",
     "output_type": "stream",
     "text": [
      "Players:  90%|███████████████████████████████████████████████████████████████▉       | 432/480 [06:21<00:39,  1.22it/s]"
     ]
    },
    {
     "name": "stdout",
     "output_type": "stream",
     "text": [
      "[Justin Champagnie (1630551)] attempt 1\n"
     ]
    },
    {
     "name": "stderr",
     "output_type": "stream",
     "text": [
      "Players:  90%|████████████████████████████████████████████████████████████████       | 433/480 [06:22<00:36,  1.31it/s]"
     ]
    },
    {
     "name": "stdout",
     "output_type": "stream",
     "text": [
      "[Jordan Poole (1629673)] attempt 1\n"
     ]
    },
    {
     "name": "stderr",
     "output_type": "stream",
     "text": [
      "Players:  90%|████████████████████████████████████████████████████████████████▏      | 434/480 [06:22<00:36,  1.26it/s]"
     ]
    },
    {
     "name": "stdout",
     "output_type": "stream",
     "text": [
      "[Saddiq Bey (1630180)] attempt 1\n"
     ]
    },
    {
     "name": "stderr",
     "output_type": "stream",
     "text": [
      "Players:  91%|████████████████████████████████████████████████████████████████▎      | 435/480 [06:23<00:34,  1.30it/s]"
     ]
    },
    {
     "name": "stdout",
     "output_type": "stream",
     "text": [
      "[Malcolm Brogdon (1627763)] attempt 1\n"
     ]
    },
    {
     "name": "stderr",
     "output_type": "stream",
     "text": [
      "Players:  91%|████████████████████████████████████████████████████████████████▍      | 436/480 [06:24<00:37,  1.18it/s]"
     ]
    },
    {
     "name": "stdout",
     "output_type": "stream",
     "text": [
      "[Anthony Gill (1630264)] attempt 1\n"
     ]
    },
    {
     "name": "stderr",
     "output_type": "stream",
     "text": [
      "Players:  91%|████████████████████████████████████████████████████████████████▋      | 437/480 [06:25<00:33,  1.28it/s]"
     ]
    },
    {
     "name": "stdout",
     "output_type": "stream",
     "text": [
      "[Kyshawn George (1642273)] attempt 1\n"
     ]
    },
    {
     "name": "stderr",
     "output_type": "stream",
     "text": [
      "Players:  91%|████████████████████████████████████████████████████████████████▊      | 438/480 [06:25<00:32,  1.31it/s]"
     ]
    },
    {
     "name": "stdout",
     "output_type": "stream",
     "text": [
      "[Alex Sarr (1642259)] attempt 1\n"
     ]
    },
    {
     "name": "stderr",
     "output_type": "stream",
     "text": [
      "Players:  91%|████████████████████████████████████████████████████████████████▉      | 439/480 [06:26<00:33,  1.24it/s]"
     ]
    },
    {
     "name": "stdout",
     "output_type": "stream",
     "text": [
      "[JT Thor (1630550)] attempt 1\n"
     ]
    },
    {
     "name": "stderr",
     "output_type": "stream",
     "text": [
      "Players:  92%|█████████████████████████████████████████████████████████████████      | 440/480 [06:27<00:32,  1.24it/s]"
     ]
    },
    {
     "name": "stdout",
     "output_type": "stream",
     "text": [
      "[Richaun Holmes (1626158)] attempt 1\n"
     ]
    },
    {
     "name": "stderr",
     "output_type": "stream",
     "text": [
      "Players:  92%|█████████████████████████████████████████████████████████████████▏     | 441/480 [06:28<00:30,  1.28it/s]"
     ]
    },
    {
     "name": "stdout",
     "output_type": "stream",
     "text": [
      "[Corey Kispert (1630557)] attempt 1\n"
     ]
    },
    {
     "name": "stderr",
     "output_type": "stream",
     "text": [
      "Players:  92%|█████████████████████████████████████████████████████████████████▍     | 442/480 [06:29<00:32,  1.16it/s]"
     ]
    },
    {
     "name": "stdout",
     "output_type": "stream",
     "text": [
      "[Khris Middleton (203114)] attempt 1\n"
     ]
    },
    {
     "name": "stderr",
     "output_type": "stream",
     "text": [
      "Players:  92%|█████████████████████████████████████████████████████████████████▌     | 443/480 [06:30<00:33,  1.11it/s]"
     ]
    },
    {
     "name": "stdout",
     "output_type": "stream",
     "text": [
      "[Marcus Smart (203935)] attempt 1\n"
     ]
    },
    {
     "name": "stderr",
     "output_type": "stream",
     "text": [
      "Players:  92%|█████████████████████████████████████████████████████████████████▋     | 444/480 [06:31<00:31,  1.13it/s]"
     ]
    },
    {
     "name": "stdout",
     "output_type": "stream",
     "text": [
      "[Jalen Duren (1631105)] attempt 1\n"
     ]
    },
    {
     "name": "stderr",
     "output_type": "stream",
     "text": [
      "Players:  93%|█████████████████████████████████████████████████████████████████▊     | 445/480 [06:32<00:29,  1.18it/s]"
     ]
    },
    {
     "name": "stdout",
     "output_type": "stream",
     "text": [
      "[Ronald Holland II (1641842)] attempt 1\n"
     ]
    },
    {
     "name": "stderr",
     "output_type": "stream",
     "text": [
      "Players:  93%|█████████████████████████████████████████████████████████████████▉     | 446/480 [06:32<00:28,  1.21it/s]"
     ]
    },
    {
     "name": "stdout",
     "output_type": "stream",
     "text": [
      "[Cade Cunningham (1630595)] attempt 1\n"
     ]
    },
    {
     "name": "stderr",
     "output_type": "stream",
     "text": [
      "Players:  93%|██████████████████████████████████████████████████████████████████     | 447/480 [06:33<00:27,  1.21it/s]"
     ]
    },
    {
     "name": "stdout",
     "output_type": "stream",
     "text": [
      "[Malik Beasley (1627736)] attempt 1\n"
     ]
    },
    {
     "name": "stderr",
     "output_type": "stream",
     "text": [
      "Players:  93%|██████████████████████████████████████████████████████████████████▎    | 448/480 [06:34<00:30,  1.07it/s]"
     ]
    },
    {
     "name": "stdout",
     "output_type": "stream",
     "text": [
      "[Paul Reed (1630194)] attempt 1\n"
     ]
    },
    {
     "name": "stderr",
     "output_type": "stream",
     "text": [
      "Players:  94%|██████████████████████████████████████████████████████████████████▍    | 449/480 [06:35<00:27,  1.11it/s]"
     ]
    },
    {
     "name": "stdout",
     "output_type": "stream",
     "text": [
      "[Tim Hardaway Jr. (203501)] attempt 1\n"
     ]
    },
    {
     "name": "stderr",
     "output_type": "stream",
     "text": [
      "Players:  94%|██████████████████████████████████████████████████████████████████▌    | 450/480 [06:37<00:39,  1.31s/it]"
     ]
    },
    {
     "name": "stdout",
     "output_type": "stream",
     "text": [
      "[Ausar Thompson (1641709)] attempt 1\n"
     ]
    },
    {
     "name": "stderr",
     "output_type": "stream",
     "text": [
      "Players:  94%|██████████████████████████████████████████████████████████████████▋    | 451/480 [06:38<00:33,  1.16s/it]"
     ]
    },
    {
     "name": "stdout",
     "output_type": "stream",
     "text": [
      "[Tobias Harris (202699)] attempt 1\n"
     ]
    },
    {
     "name": "stderr",
     "output_type": "stream",
     "text": [
      "Players:  94%|██████████████████████████████████████████████████████████████████▊    | 452/480 [06:39<00:29,  1.04s/it]"
     ]
    },
    {
     "name": "stdout",
     "output_type": "stream",
     "text": [
      "[Ron Harper Jr. (1631199)] attempt 1\n"
     ]
    },
    {
     "name": "stderr",
     "output_type": "stream",
     "text": [
      "Players:  94%|███████████████████████████████████████████████████████████████████    | 453/480 [06:41<00:33,  1.24s/it]"
     ]
    },
    {
     "name": "stdout",
     "output_type": "stream",
     "text": [
      "[Dennis Schröder (203471)] attempt 1\n"
     ]
    },
    {
     "name": "stderr",
     "output_type": "stream",
     "text": [
      "Players:  95%|███████████████████████████████████████████████████████████████████▏   | 454/480 [06:42<00:29,  1.14s/it]"
     ]
    },
    {
     "name": "stdout",
     "output_type": "stream",
     "text": [
      "[Simone Fontecchio (1631323)] attempt 1\n"
     ]
    },
    {
     "name": "stderr",
     "output_type": "stream",
     "text": [
      "Players:  95%|███████████████████████████████████████████████████████████████████▎   | 455/480 [06:43<00:33,  1.35s/it]"
     ]
    },
    {
     "name": "stdout",
     "output_type": "stream",
     "text": [
      "[Jaden Ivey (1631093)] attempt 1\n"
     ]
    },
    {
     "name": "stderr",
     "output_type": "stream",
     "text": [
      "Players:  95%|███████████████████████████████████████████████████████████████████▍   | 456/480 [06:44<00:29,  1.22s/it]"
     ]
    },
    {
     "name": "stdout",
     "output_type": "stream",
     "text": [
      "[Daniss Jenkins (1642450)] attempt 1\n"
     ]
    },
    {
     "name": "stderr",
     "output_type": "stream",
     "text": [
      "Players:  95%|███████████████████████████████████████████████████████████████████▌   | 457/480 [06:45<00:25,  1.10s/it]"
     ]
    },
    {
     "name": "stdout",
     "output_type": "stream",
     "text": [
      "[Marcus Sasser (1631204)] attempt 1\n"
     ]
    },
    {
     "name": "stderr",
     "output_type": "stream",
     "text": [
      "Players:  95%|███████████████████████████████████████████████████████████████████▋   | 458/480 [06:46<00:24,  1.12s/it]"
     ]
    },
    {
     "name": "stdout",
     "output_type": "stream",
     "text": [
      "[Isaiah Stewart (1630191)] attempt 1\n"
     ]
    },
    {
     "name": "stderr",
     "output_type": "stream",
     "text": [
      "Players:  96%|███████████████████████████████████████████████████████████████████▉   | 459/480 [06:47<00:22,  1.05s/it]"
     ]
    },
    {
     "name": "stdout",
     "output_type": "stream",
     "text": [
      "[Bobi Klintman (1641752)] attempt 1\n"
     ]
    },
    {
     "name": "stderr",
     "output_type": "stream",
     "text": [
      "Players:  96%|████████████████████████████████████████████████████████████████████   | 460/480 [06:48<00:20,  1.04s/it]"
     ]
    },
    {
     "name": "stdout",
     "output_type": "stream",
     "text": [
      "[Tolu Smith (1642449)] attempt 1\n"
     ]
    },
    {
     "name": "stderr",
     "output_type": "stream",
     "text": [
      "Players:  96%|████████████████████████████████████████████████████████████████████▏  | 461/480 [06:49<00:17,  1.07it/s]"
     ]
    },
    {
     "name": "stdout",
     "output_type": "stream",
     "text": [
      "[Lindy Waters III (1630322)] attempt 1\n"
     ]
    },
    {
     "name": "stderr",
     "output_type": "stream",
     "text": [
      "Players:  96%|████████████████████████████████████████████████████████████████████▎  | 462/480 [06:50<00:18,  1.00s/it]"
     ]
    },
    {
     "name": "stdout",
     "output_type": "stream",
     "text": [
      "[Miles Bridges (1628970)] attempt 1\n"
     ]
    },
    {
     "name": "stderr",
     "output_type": "stream",
     "text": [
      "Players:  96%|████████████████████████████████████████████████████████████████████▍  | 463/480 [06:51<00:17,  1.01s/it]"
     ]
    },
    {
     "name": "stdout",
     "output_type": "stream",
     "text": [
      "[LaMelo Ball (1630163)] attempt 1\n"
     ]
    },
    {
     "name": "stderr",
     "output_type": "stream",
     "text": [
      "Players:  97%|████████████████████████████████████████████████████████████████████▋  | 464/480 [06:52<00:17,  1.10s/it]"
     ]
    },
    {
     "name": "stdout",
     "output_type": "stream",
     "text": [
      "[Grant Williams (1629684)] attempt 1\n"
     ]
    },
    {
     "name": "stderr",
     "output_type": "stream",
     "text": [
      "Players:  97%|████████████████████████████████████████████████████████████████████▊  | 465/480 [06:53<00:15,  1.05s/it]"
     ]
    },
    {
     "name": "stdout",
     "output_type": "stream",
     "text": [
      "[DaQuan Jeffries (1629610)] attempt 1\n"
     ]
    },
    {
     "name": "stderr",
     "output_type": "stream",
     "text": [
      "Players:  97%|████████████████████████████████████████████████████████████████████▉  | 466/480 [06:54<00:13,  1.02it/s]"
     ]
    },
    {
     "name": "stdout",
     "output_type": "stream",
     "text": [
      "[Mark Williams (1631109)] attempt 1\n"
     ]
    },
    {
     "name": "stderr",
     "output_type": "stream",
     "text": [
      "Players:  97%|█████████████████████████████████████████████████████████████████████  | 467/480 [06:55<00:12,  1.07it/s]"
     ]
    },
    {
     "name": "stdout",
     "output_type": "stream",
     "text": [
      "[Damion Baugh (1641878)] attempt 1\n"
     ]
    },
    {
     "name": "stderr",
     "output_type": "stream",
     "text": [
      "Players:  98%|█████████████████████████████████████████████████████████████████████▏ | 468/480 [06:56<00:10,  1.15it/s]"
     ]
    },
    {
     "name": "stdout",
     "output_type": "stream",
     "text": [
      "[Nick Smith Jr. (1641733)] attempt 1\n"
     ]
    },
    {
     "name": "stderr",
     "output_type": "stream",
     "text": [
      "Players:  98%|█████████████████████████████████████████████████████████████████████▎ | 469/480 [06:56<00:09,  1.20it/s]"
     ]
    },
    {
     "name": "stdout",
     "output_type": "stream",
     "text": [
      "[Wendell Moore Jr. (1631111)] attempt 1\n"
     ]
    },
    {
     "name": "stderr",
     "output_type": "stream",
     "text": [
      "Players:  98%|█████████████████████████████████████████████████████████████████████▌ | 470/480 [06:57<00:08,  1.22it/s]"
     ]
    },
    {
     "name": "stdout",
     "output_type": "stream",
     "text": [
      "[Josh Green (1630182)] attempt 1\n"
     ]
    },
    {
     "name": "stderr",
     "output_type": "stream",
     "text": [
      "Players:  98%|█████████████████████████████████████████████████████████████████████▋ | 471/480 [06:58<00:06,  1.29it/s]"
     ]
    },
    {
     "name": "stdout",
     "output_type": "stream",
     "text": [
      "[Jusuf Nurkić (203994)] attempt 1\n"
     ]
    },
    {
     "name": "stderr",
     "output_type": "stream",
     "text": [
      "Players:  98%|█████████████████████████████████████████████████████████████████████▊ | 472/480 [06:59<00:06,  1.21it/s]"
     ]
    },
    {
     "name": "stdout",
     "output_type": "stream",
     "text": [
      "[Josh Okogie (1629006)] attempt 1\n"
     ]
    },
    {
     "name": "stderr",
     "output_type": "stream",
     "text": [
      "Players:  99%|█████████████████████████████████████████████████████████████████████▉ | 473/480 [07:00<00:05,  1.20it/s]"
     ]
    },
    {
     "name": "stdout",
     "output_type": "stream",
     "text": [
      "[Moussa Diabaté (1631217)] attempt 1\n"
     ]
    },
    {
     "name": "stderr",
     "output_type": "stream",
     "text": [
      "Players:  99%|██████████████████████████████████████████████████████████████████████ | 474/480 [07:01<00:05,  1.15it/s]"
     ]
    },
    {
     "name": "stdout",
     "output_type": "stream",
     "text": [
      "[Tre Mann (1630544)] attempt 1\n"
     ]
    },
    {
     "name": "stderr",
     "output_type": "stream",
     "text": [
      "Players:  99%|██████████████████████████████████████████████████████████████████████▎| 475/480 [07:02<00:04,  1.14it/s]"
     ]
    },
    {
     "name": "stdout",
     "output_type": "stream",
     "text": [
      "[Brandon Miller (1641706)] attempt 1\n"
     ]
    },
    {
     "name": "stderr",
     "output_type": "stream",
     "text": [
      "Players:  99%|██████████████████████████████████████████████████████████████████████▍| 476/480 [07:03<00:03,  1.08it/s]"
     ]
    },
    {
     "name": "stdout",
     "output_type": "stream",
     "text": [
      "[KJ Simpson (1642354)] attempt 1\n"
     ]
    },
    {
     "name": "stderr",
     "output_type": "stream",
     "text": [
      "Players:  99%|██████████████████████████████████████████████████████████████████████▌| 477/480 [07:04<00:03,  1.01s/it]"
     ]
    },
    {
     "name": "stdout",
     "output_type": "stream",
     "text": [
      "[Seth Curry (203552)] attempt 1\n"
     ]
    },
    {
     "name": "stderr",
     "output_type": "stream",
     "text": [
      "Players: 100%|██████████████████████████████████████████████████████████████████████▋| 478/480 [07:05<00:01,  1.02it/s]"
     ]
    },
    {
     "name": "stdout",
     "output_type": "stream",
     "text": [
      "[Tidjane Salaün (1642275)] attempt 1\n"
     ]
    },
    {
     "name": "stderr",
     "output_type": "stream",
     "text": [
      "Players: 100%|██████████████████████████████████████████████████████████████████████▊| 479/480 [07:06<00:00,  1.04it/s]"
     ]
    },
    {
     "name": "stdout",
     "output_type": "stream",
     "text": [
      "[Taj Gibson (201959)] attempt 1\n"
     ]
    },
    {
     "name": "stderr",
     "output_type": "stream",
     "text": [
      "Players: 100%|███████████████████████████████████████████████████████████████████████| 480/480 [07:06<00:00,  1.12it/s]\n"
     ]
    },
    {
     "name": "stdout",
     "output_type": "stream",
     "text": [
      "\n",
      "Wrote 196189 shots to public\\data\\all_shot_data.json\n"
     ]
    }
   ],
   "source": [
    "# scripts/fetch_shot_logs.py\n",
    "\n",
    "import os\n",
    "import time\n",
    "from tqdm import tqdm\n",
    "import pandas as pd\n",
    "\n",
    "from nba_api.stats.endpoints import ShotChartDetail, CommonTeamRoster\n",
    "from nba_api.stats.static import teams\n",
    "from requests.exceptions import ReadTimeout\n",
    "\n",
    "# 1) Build TEAM_ID → abbreviation map\n",
    "team_list = teams.get_teams()\n",
    "id_to_abbrev = {t[\"id\"]: t[\"abbreviation\"] for t in team_list}\n",
    "\n",
    "SEASON = \"2024-25\"  # NBA Stats format\n",
    "\n",
    "# 2) Fetch rosters for each team, with retry logic\n",
    "all_players = []\n",
    "print(\"=== Fetching team rosters ===\")\n",
    "for t in team_list:\n",
    "    tid = t[\"id\"]\n",
    "    abbrev = t[\"abbreviation\"]\n",
    "    for attempt in range(1, 4):\n",
    "        try:\n",
    "            print(f\"Team {abbrev}: roster attempt {attempt}\")\n",
    "            roster_df = CommonTeamRoster(\n",
    "                team_id=tid,\n",
    "                season=SEASON,\n",
    "                timeout=30\n",
    "            ).get_data_frames()[0]\n",
    "            break\n",
    "        except ReadTimeout:\n",
    "            print(f\"  → Timeout fetching roster for {abbrev}, retrying...\")\n",
    "            time.sleep(1)\n",
    "        except Exception as e:\n",
    "            print(f\"  → Error fetching roster for {abbrev}: {e}\")\n",
    "            roster_df = pd.DataFrame()\n",
    "            break\n",
    "    else:\n",
    "        print(f\"  → Failed to fetch roster for {abbrev} after 3 attempts\")\n",
    "        roster_df = pd.DataFrame()\n",
    "\n",
    "    if not roster_df.empty:\n",
    "        for _, row in roster_df.iterrows():\n",
    "            all_players.append({\n",
    "                \"id\": int(row[\"PLAYER_ID\"]),\n",
    "                \"name\": row[\"PLAYER\"]\n",
    "            })\n",
    "\n",
    "# 3) De-duplicate players by ID\n",
    "unique_players = list({p[\"id\"]: p for p in all_players}.values())\n",
    "print(f\"Found {len(unique_players)} unique players on 2024-25 rosters.\\n\")\n",
    "\n",
    "# 4) Fetch shot chart for each player\n",
    "all_dfs = []\n",
    "print(\"=== Fetching shot charts ===\")\n",
    "for p in tqdm(unique_players, desc=\"Players\"):\n",
    "    pid = p[\"id\"]\n",
    "    name = p[\"name\"]\n",
    "    success = False\n",
    "\n",
    "    for attempt in range(1, 4):\n",
    "        try:\n",
    "            print(f\"[{name} ({pid})] attempt {attempt}\")\n",
    "            resp = ShotChartDetail(\n",
    "                team_id=0,\n",
    "                player_id=pid,\n",
    "                season_nullable=SEASON,            # <-- use season_nullable here\n",
    "                season_type_all_star=\"Regular Season\",\n",
    "                context_measure_simple=\"FGA\",\n",
    "                timeout=30\n",
    "            )\n",
    "            df = resp.get_data_frames()[0]\n",
    "            success = True\n",
    "            break\n",
    "        except ReadTimeout:\n",
    "            print(f\"  → Timeout for {name}, retrying...\")\n",
    "            time.sleep(1)\n",
    "        except Exception as e:\n",
    "            print(f\"  → Error fetching data for {name}: {e}\")\n",
    "            break\n",
    "\n",
    "    if not success:\n",
    "        print(f\"  → Skipping {name} after 3 failed attempts\\n\")\n",
    "        continue\n",
    "\n",
    "    # inject team abbreviation\n",
    "    df[\"abbreviation\"] = df[\"TEAM_ID\"].map(id_to_abbrev)\n",
    "\n",
    "    df_sel = df[[\n",
    "        \"PLAYER_NAME\",\n",
    "        \"PLAYER_ID\",\n",
    "        \"abbreviation\",\n",
    "        \"LOC_X\",\n",
    "        \"LOC_Y\",\n",
    "        \"SHOT_ATTEMPTED_FLAG\",\n",
    "        \"SHOT_MADE_FLAG\",\n",
    "    ]].copy()\n",
    "\n",
    "    df_sel.columns = [\n",
    "        \"player_name\",\n",
    "        \"player_id\",\n",
    "        \"abbreviation\",\n",
    "        \"x\",\n",
    "        \"y\",\n",
    "        \"shot_attempted\",\n",
    "        \"shot_made\",\n",
    "    ]\n",
    "\n",
    "    all_dfs.append(df_sel)\n",
    "\n",
    "# 5) Concatenate and write JSON\n",
    "if all_dfs:\n",
    "    shots_df = pd.concat(all_dfs, ignore_index=True)\n",
    "    out_path = os.path.join(\"public\", \"data\", \"all_shot_data.json\")\n",
    "    os.makedirs(os.path.dirname(out_path), exist_ok=True)\n",
    "    shots_df.to_json(out_path, orient=\"records\")\n",
    "    print(f\"\\nWrote {len(shots_df)} shots to {out_path}\")\n",
    "else:\n",
    "    print(\"\\nNo shot data to write.\")\n"
   ]
  },
  {
   "cell_type": "code",
   "execution_count": null,
   "id": "126be441-195c-48e0-9c76-aae0007eb491",
   "metadata": {},
   "outputs": [],
   "source": []
  }
 ],
 "metadata": {
  "kernelspec": {
   "display_name": "Python 3 (ipykernel)",
   "language": "python",
   "name": "python3"
  },
  "language_info": {
   "codemirror_mode": {
    "name": "ipython",
    "version": 3
   },
   "file_extension": ".py",
   "mimetype": "text/x-python",
   "name": "python",
   "nbconvert_exporter": "python",
   "pygments_lexer": "ipython3",
   "version": "3.11.4"
  }
 },
 "nbformat": 4,
 "nbformat_minor": 5
}
